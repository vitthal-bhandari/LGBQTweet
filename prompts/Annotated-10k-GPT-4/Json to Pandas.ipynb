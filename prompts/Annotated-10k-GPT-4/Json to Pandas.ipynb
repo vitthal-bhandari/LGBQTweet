{
 "cells": [
  {
   "cell_type": "code",
   "execution_count": 1,
   "id": "e92fa700",
   "metadata": {},
   "outputs": [],
   "source": [
    "import pandas as pd\n",
    "import json\n",
    "\n",
    "# Read the JSON data from a file\n",
    "with open('10k.json', 'r') as file:\n",
    "    json_data = json.load(file)\n",
    "\n",
    "# Extract the text sentences\n",
    "text_sentences = [item['text'] for item in json_data]\n",
    "\n",
    "# Create a DataFrame with a single column named 'text'\n",
    "data_frame = pd.DataFrame(text_sentences, columns=['text'])\n",
    "\n",
    "# Save the DataFrame as a CSV file\n",
    "data_frame.to_csv('10k.csv', index=False)"
   ]
  },
  {
   "cell_type": "code",
   "execution_count": null,
   "id": "98750999",
   "metadata": {},
   "outputs": [],
   "source": []
  }
 ],
 "metadata": {
  "kernelspec": {
   "display_name": "Python 3 (ipykernel)",
   "language": "python",
   "name": "python3"
  },
  "language_info": {
   "codemirror_mode": {
    "name": "ipython",
    "version": 3
   },
   "file_extension": ".py",
   "mimetype": "text/x-python",
   "name": "python",
   "nbconvert_exporter": "python",
   "pygments_lexer": "ipython3",
   "version": "3.10.9"
  }
 },
 "nbformat": 4,
 "nbformat_minor": 5
}
