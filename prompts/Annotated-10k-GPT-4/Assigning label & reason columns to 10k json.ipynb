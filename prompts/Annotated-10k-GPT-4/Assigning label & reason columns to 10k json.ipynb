{
 "cells": [
  {
   "cell_type": "code",
   "execution_count": 1,
   "id": "6c93e7d7",
   "metadata": {},
   "outputs": [
    {
     "name": "stderr",
     "output_type": "stream",
     "text": [
      "IOPub data rate exceeded.\n",
      "The notebook server will temporarily stop sending output\n",
      "to the client in order to avoid crashing it.\n",
      "To change this limit, set the config variable\n",
      "`--NotebookApp.iopub_data_rate_limit`.\n",
      "\n",
      "Current values:\n",
      "NotebookApp.iopub_data_rate_limit=1000000.0 (bytes/sec)\n",
      "NotebookApp.rate_limit_window=3.0 (secs)\n",
      "\n"
     ]
    }
   ],
   "source": [
    "import json\n",
    "import pandas as pd\n",
    "import warnings\n",
    "warnings.filterwarnings(\"ignore\")\n",
    "\n",
    "# Read the JSON file\n",
    "with open(\"10k.json\", \"r\") as f:\n",
    "    data = json.load(f)\n",
    "\n",
    "# Read the CSV file\n",
    "csv_data = pd.read_csv(\"labeled_sentences.csv\")\n",
    "\n",
    "# Remove the periods from the label column\n",
    "csv_data['label'] = csv_data['label'].str.replace('.', '')\n",
    "\n",
    "# Iterate through the JSON data\n",
    "for item in data:\n",
    "    # Find the matching text in the CSV data\n",
    "    match = csv_data[csv_data['text'] == item['text']]\n",
    "    \n",
    "    # If a match is found, add the label and reason to the JSON item\n",
    "    if not match.empty:\n",
    "        item['label'] = match.iloc[0]['label']\n",
    "        item['reason'] = match.iloc[0]['reason']\n",
    "\n",
    "# Save the updated JSON data to a new file\n",
    "with open(\"updated_10k.json\", \"w\") as f:\n",
    "    json.dump(data, f, indent=4)\n",
    "\n",
    "# Print the updated JSON data\n",
    "print(json.dumps(data, indent=4))"
   ]
  },
  {
   "cell_type": "code",
   "execution_count": null,
   "id": "6f720bd8",
   "metadata": {},
   "outputs": [],
   "source": []
  }
 ],
 "metadata": {
  "kernelspec": {
   "display_name": "Python 3 (ipykernel)",
   "language": "python",
   "name": "python3"
  },
  "language_info": {
   "codemirror_mode": {
    "name": "ipython",
    "version": 3
   },
   "file_extension": ".py",
   "mimetype": "text/x-python",
   "name": "python",
   "nbconvert_exporter": "python",
   "pygments_lexer": "ipython3",
   "version": "3.10.9"
  }
 },
 "nbformat": 4,
 "nbformat_minor": 5
}
