{
 "cells": [
  {
   "cell_type": "markdown",
   "id": "241a19c6-7e33-4a0a-9be4-cf778c92c707",
   "metadata": {},
   "source": [
    "## Set up the Environment"
   ]
  },
  {
   "cell_type": "raw",
   "id": "45948f33-e55b-46ec-b39f-f8f6435f6089",
   "metadata": {},
   "source": [
    "Note: Before start the notebook pls execute below two coomand on terminal \n",
    "export CUDA_VISIBLE_DEVICES=0\n",
    "export CUDA_LAUNCH_BLOCKING=1\"export CUDA_VISIBLE_DEVICES=0\""
   ]
  },
  {
   "cell_type": "code",
   "execution_count": 1,
   "id": "8b8c9abd-4056-4ae9-ae4a-27a78ee87393",
   "metadata": {},
   "outputs": [],
   "source": [
    "import os\n",
    "os.environ['WANDB_NOTEBOOK_NAME'] = 'HSP_Multi_Class_Classifier_Using_Llama2_Fine_Tuned_Model_on_data_3.0-copy1.ipynb'\n",
    "os.environ['CUDA_VISIBLE_DEVICES'] = '0'"
   ]
  },
  {
   "cell_type": "code",
   "execution_count": 2,
   "id": "f78a4afa-e56b-424e-b648-3b7aab20d177",
   "metadata": {},
   "outputs": [
    {
     "name": "stdout",
     "output_type": "stream",
     "text": [
      "Sat May 25 05:19:26 2024       \n",
      "+---------------------------------------------------------------------------------------+\n",
      "| NVIDIA-SMI 535.171.04             Driver Version: 535.171.04   CUDA Version: 12.2     |\n",
      "|-----------------------------------------+----------------------+----------------------+\n",
      "| GPU  Name                 Persistence-M | Bus-Id        Disp.A | Volatile Uncorr. ECC |\n",
      "| Fan  Temp   Perf          Pwr:Usage/Cap |         Memory-Usage | GPU-Util  Compute M. |\n",
      "|                                         |                      |               MIG M. |\n",
      "|=========================================+======================+======================|\n",
      "|   0  NVIDIA A100 80GB PCIe          Off | 00000000:21:00.0 Off |                    0 |\n",
      "| N/A   30C    P0              45W / 300W |      0MiB / 81920MiB |      0%      Default |\n",
      "|                                         |                      |             Disabled |\n",
      "+-----------------------------------------+----------------------+----------------------+\n",
      "|   1  NVIDIA A100 80GB PCIe          Off | 00000000:81:00.0 Off |                    0 |\n",
      "| N/A   64C    P0             299W / 300W |  60428MiB / 81920MiB |    100%      Default |\n",
      "|                                         |                      |             Disabled |\n",
      "+-----------------------------------------+----------------------+----------------------+\n",
      "                                                                                         \n",
      "+---------------------------------------------------------------------------------------+\n",
      "| Processes:                                                                            |\n",
      "|  GPU   GI   CI        PID   Type   Process name                            GPU Memory |\n",
      "|        ID   ID                                                             Usage      |\n",
      "|=======================================================================================|\n",
      "|    1   N/A  N/A   1862690      C   python                                    30204MiB |\n",
      "|    1   N/A  N/A   4181436      C   python                                    30210MiB |\n",
      "+---------------------------------------------------------------------------------------+\n"
     ]
    }
   ],
   "source": [
    "!nvidia-smi"
   ]
  },
  {
   "cell_type": "raw",
   "id": "4e94f8ab-b261-46ed-a7f9-39cb06bb1ce4",
   "metadata": {},
   "source": [
    "Gewnerate the API Key from Website \"https://wandb.ai/authorize\""
   ]
  },
  {
   "cell_type": "code",
   "execution_count": 3,
   "id": "bc483140-e2d8-4274-b25a-74ce426b156c",
   "metadata": {},
   "outputs": [
    {
     "name": "stderr",
     "output_type": "stream",
     "text": [
      "\u001b[34m\u001b[1mwandb\u001b[0m: \u001b[33mWARNING\u001b[0m WANDB_NOTEBOOK_NAME should be a path to a notebook file, couldn't find HSP_Multi_Class_Classifier_Using_Llama2_Fine_Tuned_Model_on_data_3.0-copy1.ipynb.\n",
      "\u001b[34m\u001b[1mwandb\u001b[0m: Currently logged in as: \u001b[33myadav-sunil531984\u001b[0m (\u001b[33mhsp_bits\u001b[0m). Use \u001b[1m`wandb login --relogin`\u001b[0m to force relogin\n"
     ]
    },
    {
     "data": {
      "text/html": [
       "wandb version 0.17.0 is available!  To upgrade, please run:\n",
       " $ pip install wandb --upgrade"
      ],
      "text/plain": [
       "<IPython.core.display.HTML object>"
      ]
     },
     "metadata": {},
     "output_type": "display_data"
    },
    {
     "data": {
      "text/html": [
       "Tracking run with wandb version 0.15.12"
      ],
      "text/plain": [
       "<IPython.core.display.HTML object>"
      ]
     },
     "metadata": {},
     "output_type": "display_data"
    },
    {
     "data": {
      "text/html": [
       "Run data is saved locally in <code>/home/sunil/Hate_Speech_Project/LLAMA2_Model/wandb/run-20240525_051932-ew528io3</code>"
      ],
      "text/plain": [
       "<IPython.core.display.HTML object>"
      ]
     },
     "metadata": {},
     "output_type": "display_data"
    },
    {
     "data": {
      "text/html": [
       "Syncing run <strong><a href='https://wandb.ai/hsp_bits/uncategorized/runs/ew528io3' target=\"_blank\">curious-darkness-144</a></strong> to <a href='https://wandb.ai/hsp_bits/uncategorized' target=\"_blank\">Weights & Biases</a> (<a href='https://wandb.me/run' target=\"_blank\">docs</a>)<br/>"
      ],
      "text/plain": [
       "<IPython.core.display.HTML object>"
      ]
     },
     "metadata": {},
     "output_type": "display_data"
    },
    {
     "data": {
      "text/html": [
       " View project at <a href='https://wandb.ai/hsp_bits/uncategorized' target=\"_blank\">https://wandb.ai/hsp_bits/uncategorized</a>"
      ],
      "text/plain": [
       "<IPython.core.display.HTML object>"
      ]
     },
     "metadata": {},
     "output_type": "display_data"
    },
    {
     "data": {
      "text/html": [
       " View run at <a href='https://wandb.ai/hsp_bits/uncategorized/runs/ew528io3' target=\"_blank\">https://wandb.ai/hsp_bits/uncategorized/runs/ew528io3</a>"
      ],
      "text/plain": [
       "<IPython.core.display.HTML object>"
      ]
     },
     "metadata": {},
     "output_type": "display_data"
    },
    {
     "name": "stderr",
     "output_type": "stream",
     "text": [
      "\u001b[34m\u001b[1mwandb\u001b[0m: \u001b[33mWARNING\u001b[0m Calling wandb.login() after wandb.init() has no effect.\n"
     ]
    },
    {
     "data": {
      "text/plain": [
       "True"
      ]
     },
     "execution_count": 3,
     "metadata": {},
     "output_type": "execute_result"
    }
   ],
   "source": [
    "import wandb\n",
    "wandb.init('19010c4e439d59bec411f7f9075c6e73ac7f5e13')    # Initialize wandb with your API key\n",
    "wandb.login()   # Authenticate with wandb.ai"
   ]
  },
  {
   "cell_type": "markdown",
   "id": "ffd37b7c-ef5e-4e5b-bfda-138edcfbb024",
   "metadata": {},
   "source": [
    "## Import Libraries"
   ]
  },
  {
   "cell_type": "raw",
   "id": "d01d8e55-60d3-4f55-af89-99ab03bc48eb",
   "metadata": {},
   "source": [
    "!pip install wandb --upgrade\n",
    "!pip install evaluate"
   ]
  },
  {
   "cell_type": "code",
   "execution_count": 4,
   "id": "4445ff17-a1e3-415d-a41b-149c84f6d279",
   "metadata": {},
   "outputs": [
    {
     "name": "stderr",
     "output_type": "stream",
     "text": [
      "2024-05-25 05:19:40.066699: I tensorflow/core/platform/cpu_feature_guard.cc:182] This TensorFlow binary is optimized to use available CPU instructions in performance-critical operations.\n",
      "To enable the following instructions: AVX2 FMA, in other operations, rebuild TensorFlow with the appropriate compiler flags.\n",
      "2024-05-25 05:19:40.840455: W tensorflow/compiler/tf2tensorrt/utils/py_utils.cc:38] TF-TRT Warning: Could not find TensorRT\n"
     ]
    }
   ],
   "source": [
    "import pandas as pd\n",
    "import os\n",
    "import torch\n",
    "from transformers import AutoTokenizer\n",
    "from datasets import load_dataset\n",
    "from transformers import DataCollatorWithPadding\n",
    "from transformers import AutoModelForSequenceClassification \n",
    "import evaluate\n",
    "import numpy as np\n",
    "from transformers import Trainer\n",
    "from transformers import TrainingArguments\n",
    "from peft import get_peft_model, LoraConfig, TaskType\n",
    "from transformers import AutoModelForSequenceClassification, AutoTokenizer\n",
    "import matplotlib.pyplot as plt"
   ]
  },
  {
   "cell_type": "markdown",
   "id": "24ce9d66-fd2e-4cac-abde-854c35a44a55",
   "metadata": {},
   "source": [
    "## Load Data sets"
   ]
  },
  {
   "cell_type": "code",
   "execution_count": 5,
   "id": "4e0940a5-355b-4cdb-8aa8-f17798ef223e",
   "metadata": {},
   "outputs": [
    {
     "name": "stdout",
     "output_type": "stream",
     "text": [
      "Total Count of Samples =  4374\n"
     ]
    },
    {
     "data": {
      "image/png": "[encoded data removed]",
      "text/plain": [
       "<Figure size 600x400 with 1 Axes>"
      ]
     },
     "metadata": {},
     "output_type": "display_data"
    }
   ],
   "source": [
    "# Visualization of Class Labels Taining data\n",
    "train_df=pd.read_csv('HSP_Train_Data_with_Encoded_Label_Multi_3.0.csv')\n",
    "\n",
    "print(\"Total Count of Samples = \", len(train_df))\n",
    "label_counts = train_df['Label'].value_counts()\n",
    "\n",
    "# Updated colors list to include 6 colors for 6 classes\n",
    "colors = ['red', 'maroon', 'blue', 'green', 'orange', 'purple']\n",
    "\n",
    "plt.figure(figsize=(6, 4))\n",
    "ax = label_counts.plot(kind='bar', color=colors)\n",
    "for p in ax.patches:\n",
    "    ax.annotate(str(p.get_height()), (p.get_x() + p.get_width() / 2., p.get_height()),\n",
    "                ha='center', va='center', xytext=(0, 5), textcoords='offset points')\n",
    "\n",
    "plt.title('Distribution of Train set Label Categories')\n",
    "plt.xlabel('Labels')\n",
    "plt.ylabel('Count')\n",
    "plt.show()"
   ]
  },
  {
   "cell_type": "code",
   "execution_count": 6,
   "id": "90751705-1c98-41ee-a411-9647ed8d4040",
   "metadata": {},
   "outputs": [
    {
     "name": "stdout",
     "output_type": "stream",
     "text": [
      "Total Count of Samples =  938\n"
     ]
    },
    {
     "data": {
      "image/png": "[encoded data removed]",
      "text/plain": [
       "<Figure size 600x400 with 1 Axes>"
      ]
     },
     "metadata": {},
     "output_type": "display_data"
    }
   ],
   "source": [
    "# Visualization of Class Labels Validation data\n",
    "val_df = pd.read_csv('HSP_Val_Data_with_Encoded_Label_Multi_3.0.csv')\n",
    "\n",
    "print(\"Total Count of Samples = \", len(val_df))\n",
    "label_counts = val_df['Label'].value_counts()\n",
    "\n",
    "# Updated colors list to include 6 colors for 6 classes\n",
    "colors = ['red', 'maroon', 'blue', 'green', 'orange', 'purple']\n",
    "\n",
    "plt.figure(figsize=(6, 4))\n",
    "ax = label_counts.plot(kind='bar', color=colors)\n",
    "for p in ax.patches:\n",
    "    ax.annotate(str(p.get_height()), (p.get_x() + p.get_width() / 2., p.get_height()),\n",
    "                ha='center', va='center', xytext=(0, 5), textcoords='offset points')\n",
    "\n",
    "plt.title('Distribution of Validation set Label Categories')\n",
    "plt.xlabel('Labels')\n",
    "plt.ylabel('Count')\n",
    "plt.show()"
   ]
  },
  {
   "cell_type": "code",
   "execution_count": 7,
   "id": "93b65bc4-905b-4e8b-a09b-cd9d91dc7f66",
   "metadata": {},
   "outputs": [
    {
     "name": "stdout",
     "output_type": "stream",
     "text": [
      "Total Count of Samples =  938\n"
     ]
    },
    {
     "data": {
      "image/png": "[encoded data removed]",
      "text/plain": [
       "<Figure size 600x400 with 1 Axes>"
      ]
     },
     "metadata": {},
     "output_type": "display_data"
    }
   ],
   "source": [
    "# Visualization of Class Labels Taining data\n",
    "test_df=pd.read_csv('HSP_Test_Data_with_Encoded_Label_Multi_3.0.csv')\n",
    "\n",
    "print(\"Total Count of Samples = \", len(test_df))\n",
    "label_counts = test_df['Label'].value_counts()\n",
    "\n",
    "# Updated colors list to include 6 colors for 6 classes\n",
    "colors = ['red', 'maroon', 'blue', 'green', 'orange', 'purple']\n",
    "\n",
    "plt.figure(figsize=(6, 4))\n",
    "ax = label_counts.plot(kind='bar', color=colors)\n",
    "for p in ax.patches:\n",
    "    ax.annotate(str(p.get_height()), (p.get_x() + p.get_width() / 2., p.get_height()),\n",
    "                ha='center', va='center', xytext=(0, 5), textcoords='offset points')\n",
    "\n",
    "plt.title('Distribution of Test set Label Categories')\n",
    "plt.xlabel('Labels')\n",
    "plt.ylabel('Count')\n",
    "plt.show()"
   ]
  },
  {
   "cell_type": "code",
   "execution_count": 8,
   "id": "edbf439c-f39e-4580-a89c-98f1c62f80d5",
   "metadata": {},
   "outputs": [
    {
     "name": "stdout",
     "output_type": "stream",
     "text": [
      "<class 'pandas.core.frame.DataFrame'>\n",
      "RangeIndex: 4374 entries, 0 to 4373\n",
      "Data columns (total 5 columns):\n",
      " #   Column     Non-Null Count  Dtype \n",
      "---  ------     --------------  ----- \n",
      " 0   id         4374 non-null   int64 \n",
      " 1   Text       4374 non-null   object\n",
      " 2   Label_Id   4374 non-null   int64 \n",
      " 3   Label      4374 non-null   object\n",
      " 4   Label_Rev  4374 non-null   int64 \n",
      "dtypes: int64(3), object(2)\n",
      "memory usage: 171.0+ KB\n"
     ]
    }
   ],
   "source": [
    "train_df=pd.read_csv('HSP_Train_Data_with_Encoded_Label_Multi_3.0.csv')\n",
    "train_df.info()"
   ]
  },
  {
   "cell_type": "code",
   "execution_count": 9,
   "id": "ff1be3e2-6c3f-49b5-8cd6-b707ed89b68d",
   "metadata": {},
   "outputs": [
    {
     "data": {
      "text/plain": [
       "array([0, 2, 1, 3, 4])"
      ]
     },
     "execution_count": 9,
     "metadata": {},
     "output_type": "execute_result"
    }
   ],
   "source": [
    "unique_values = train_df['Label_Rev'].unique()\n",
    "unique_values "
   ]
  },
  {
   "cell_type": "markdown",
   "id": "3fc0e5b1-4f4f-44b6-966e-56bb7cf81652",
   "metadata": {},
   "source": [
    "## Number of Characters"
   ]
  },
  {
   "cell_type": "code",
   "execution_count": 10,
   "id": "124a8011-f821-4772-ae7f-5fd6e53dbf74",
   "metadata": {},
   "outputs": [
    {
     "name": "stdout",
     "output_type": "stream",
     "text": [
      "Maximum number of characters: 1116\n",
      "Maximum number of words: 97\n"
     ]
    }
   ],
   "source": [
    "# Number of Characters\n",
    "import pandas as pd\n",
    "\n",
    "# Load the training data from the CSV file\n",
    "train_df = pd.read_csv('HSP_Train_Data_with_Encoded_Label_Multi_3.0.csv')\n",
    "\n",
    "# Calculate the maximum number of characters in the 'text' column\n",
    "max_char = train_df['Text'].str.len().max()\n",
    "\n",
    "# Calculate the maximum number of words in the 'text' column\n",
    "max_words = train_df['Text'].str.split().str.len().max()\n",
    "\n",
    "print(f\"Maximum number of characters: {max_char}\")\n",
    "print(f\"Maximum number of words: {max_words}\")"
   ]
  },
  {
   "cell_type": "markdown",
   "id": "dcdd6e70-eea3-4bef-9dcc-13da935db6c2",
   "metadata": {},
   "source": [
    "## Data Preprocessing"
   ]
  },
  {
   "cell_type": "code",
   "execution_count": 11,
   "id": "d1ba46d8-baf4-465d-a0f0-af29b259d338",
   "metadata": {},
   "outputs": [],
   "source": [
    "MAX_LEN = 512 \n",
    "llama_checkpoint = \"meta-llama/Llama-2-7b-hf\""
   ]
  },
  {
   "cell_type": "code",
   "execution_count": 12,
   "id": "9b74b212-61e9-46da-b97d-941e8a36e0c6",
   "metadata": {},
   "outputs": [
    {
     "name": "stderr",
     "output_type": "stream",
     "text": [
      "You set `add_prefix_space`. The tokenizer needs to be converted from the slow tokenizers\n"
     ]
    }
   ],
   "source": [
    "# Load Llama 2 Tokenizer\n",
    "from transformers import AutoTokenizer, DataCollatorWithPadding\n",
    "llama_tokenizer = AutoTokenizer.from_pretrained(llama_checkpoint, add_prefix_space=True)\n",
    "llama_tokenizer.pad_token_id = llama_tokenizer.eos_token_id\n",
    "llama_tokenizer.pad_token = llama_tokenizer.eos_token"
   ]
  },
  {
   "cell_type": "code",
   "execution_count": 13,
   "id": "b4452df6-cef4-4bd2-851a-61cbb8cc6fae",
   "metadata": {},
   "outputs": [
    {
     "data": {
      "text/plain": [
       "{'label': tensor(0),\n",
       " 'input_ids': tensor([    1,   306,  2304,   278,   712,   261,  7881, 29889]),\n",
       " 'attention_mask': tensor([1, 1, 1, 1, 1, 1, 1, 1])}"
      ]
     },
     "execution_count": 13,
     "metadata": {},
     "output_type": "execute_result"
    }
   ],
   "source": [
    "from datasets import load_dataset\n",
    "from transformers import DataCollatorWithPadding\n",
    "\n",
    "# Define the preprocessing function using the llama tokenizer\n",
    "def llama_preprocessing_function(examples):\n",
    "    return llama_tokenizer(examples['Text'], truncation=True, max_length=MAX_LEN)\n",
    "\n",
    "# Load the datasets from CSV files\n",
    "train_dataset = load_dataset('csv', data_files='HSP_Train_Data_with_Encoded_Label_Multi_3.0.csv')['train']\n",
    "val_dataset = load_dataset('csv', data_files='HSP_Val_Data_with_Encoded_Label_Multi_3.0.csv')['train']  # Assuming this is for validation\n",
    "test_dataset = load_dataset('csv', data_files='HSP_Test_Data_with_Encoded_Label_Multi_3.0.csv')['train']\n",
    "\n",
    "# Specify columns to remove\n",
    "col_to_delete = ['id', 'Text', 'Label_Id', 'Label']\n",
    "\n",
    "# Apply preprocessing to each dataset individually\n",
    "llama_tokenized_train_dataset = train_dataset.map(llama_preprocessing_function, batched=True, remove_columns=col_to_delete)\n",
    "llama_tokenized_val_dataset = val_dataset.map(llama_preprocessing_function, batched=True, remove_columns=col_to_delete)\n",
    "llama_tokenized_test_dataset = test_dataset.map(llama_preprocessing_function, batched=True, remove_columns=col_to_delete)\n",
    "\n",
    "# Rename the 'target' column to 'label' in each dataset\n",
    "llama_tokenized_train_dataset = llama_tokenized_train_dataset.rename_column(\"Label_Rev\", \"label\")\n",
    "llama_tokenized_val_dataset = llama_tokenized_val_dataset.rename_column(\"Label_Rev\", \"label\")\n",
    "llama_tokenized_test_dataset = llama_tokenized_test_dataset.rename_column(\"Label_Rev\", \"label\")\n",
    "\n",
    "# Set the datasets to use PyTorch tensors\n",
    "llama_tokenized_train_dataset.set_format(\"torch\")\n",
    "llama_tokenized_val_dataset.set_format(\"torch\")\n",
    "llama_tokenized_test_dataset.set_format(\"torch\")\n",
    "\n",
    "# Prepare the data collator for padding\n",
    "llama_data_collator = DataCollatorWithPadding(tokenizer=llama_tokenizer)\n",
    "llama_tokenized_train_dataset[0]"
   ]
  },
  {
   "cell_type": "markdown",
   "id": "9db8fe61-f064-4144-9c24-e7a2147077b0",
   "metadata": {},
   "source": [
    "## Load Pretrain Model"
   ]
  },
  {
   "cell_type": "code",
   "execution_count": 14,
   "id": "4e2f5204-b9ac-41eb-b254-c8ab904d1b0d",
   "metadata": {},
   "outputs": [
    {
     "data": {
      "application/vnd.jupyter.widget-view+json": {
       "model_id": "fa78d9000ed24503b918d0b4db449355",
       "version_major": 2,
       "version_minor": 0
      },
      "text/plain": [
       "Loading checkpoint shards:   0%|          | 0/2 [00:00<?, ?it/s]"
      ]
     },
     "metadata": {},
     "output_type": "display_data"
    },
    {
     "name": "stderr",
     "output_type": "stream",
     "text": [
      "Some weights of LlamaForSequenceClassification were not initialized from the model checkpoint at meta-llama/Llama-2-7b-hf and are newly initialized: ['score.weight']\n",
      "You should probably TRAIN this model on a down-stream task to be able to use it for predictions and inference.\n"
     ]
    }
   ],
   "source": [
    "from transformers import AutoModelForSequenceClassification\n",
    "import torch\n",
    "llama_model =  AutoModelForSequenceClassification.from_pretrained(\n",
    "  pretrained_model_name_or_path=llama_checkpoint,\n",
    "  num_labels=5,\n",
    "  device_map=\"auto\",\n",
    "  offload_folder=\"offload\",\n",
    "  trust_remote_code=True\n",
    ")"
   ]
  },
  {
   "cell_type": "code",
   "execution_count": 15,
   "id": "b27f7e3f-2111-4840-91b7-7e9a21040b76",
   "metadata": {},
   "outputs": [],
   "source": [
    "# For Llama 2, we have to add the padding token id as it is not defined by default.\n",
    "llama_model.config.pad_token_id = llama_model.config.eos_token_id"
   ]
  },
  {
   "cell_type": "markdown",
   "id": "00330d47-a088-41e2-9787-2adde58d75ba",
   "metadata": {},
   "source": [
    "## LoRa setup for Llama 2 classifier"
   ]
  },
  {
   "cell_type": "code",
   "execution_count": 16,
   "id": "fcbac765-b8aa-4dfd-b7f8-2e7c377bd907",
   "metadata": {},
   "outputs": [
    {
     "name": "stdout",
     "output_type": "stream",
     "text": [
      "trainable params: 2,138,112 || all params: 6,609,481,728 || trainable%: 0.032349162733020874\n"
     ]
    }
   ],
   "source": [
    "# LoRa setup for Llama 2 classifier\n",
    "# We define LoRa for Llama 2 with the same parameters as for Mistral:\n",
    "\n",
    "from peft import get_peft_model, LoraConfig, TaskType\n",
    "llama_peft_config = LoraConfig(\n",
    "    task_type=TaskType.SEQ_CLS, r=4, lora_alpha=16, lora_dropout=0.05, bias=\"none\", \n",
    "    target_modules=[\n",
    "        \"q_proj\",\n",
    "        \"v_proj\",  \n",
    "    ],\n",
    ")\n",
    "\n",
    "llama_model = get_peft_model(llama_model, llama_peft_config)\n",
    "llama_model.print_trainable_parameters()"
   ]
  },
  {
   "cell_type": "markdown",
   "id": "af477280-10fd-4f5a-bbe4-9b4a9da7aadf",
   "metadata": {},
   "source": [
    "## Setup the trainer"
   ]
  },
  {
   "cell_type": "markdown",
   "id": "56d9f4d2-1554-4092-bb31-25a68f1fa003",
   "metadata": {},
   "source": [
    "### Evaluation Metric"
   ]
  },
  {
   "cell_type": "code",
   "execution_count": 17,
   "id": "6abd4b26-d65a-4904-9bf1-974f01e8ee39",
   "metadata": {},
   "outputs": [],
   "source": [
    "from sklearn.metrics import precision_score, recall_score, f1_score, accuracy_score\n",
    "def compute_metrics(eval_pred):\n",
    "    logits, labels = eval_pred\n",
    "    predictions = np.argmax(logits, axis=-1)\n",
    "    \n",
    "    # Calculate metrics using 'weighted' average for multi-class classification\n",
    "    precision = precision_score(labels, predictions, average='weighted')\n",
    "    recall = recall_score(labels, predictions, average='weighted')\n",
    "    f1 = f1_score(labels, predictions, average='weighted')\n",
    "    accuracy = accuracy_score(labels, predictions)\n",
    "    \n",
    "    return {\n",
    "        \"precision\": precision,\n",
    "        \"recall\": recall,\n",
    "        \"f1-score\": f1,\n",
    "        \"accuracy\": accuracy\n",
    "    }"
   ]
  },
  {
   "cell_type": "markdown",
   "id": "db63934c-36af-4403-8f36-4c548303b1fc",
   "metadata": {},
   "source": [
    "### Custom Trainer for Weighted Loss"
   ]
  },
  {
   "cell_type": "code",
   "execution_count": 18,
   "id": "f0e5b827-b7e2-4428-a138-4aa8d23327c1",
   "metadata": {},
   "outputs": [],
   "source": [
    "class CELossTrainer(Trainer):\n",
    "    def compute_loss(self, model, inputs, return_outputs=False):\n",
    "        labels = inputs.pop(\"labels\")\n",
    "        # Get model's predictions\n",
    "        outputs = model(**inputs)\n",
    "        logits = outputs.get(\"logits\")\n",
    "        # Compute custom loss\n",
    "        loss_fct = torch.nn.CrossEntropyLoss()\n",
    "        loss = loss_fct(logits.view(-1, self.model.config.num_labels), labels.view(-1))\n",
    "        return (loss, outputs) if return_outputs else loss"
   ]
  },
  {
   "cell_type": "markdown",
   "id": "6d4b11c7-2607-4034-9072-55f758ca260f",
   "metadata": {},
   "source": [
    "### Custom Callback to Store Losses Once per Epoch"
   ]
  },
  {
   "cell_type": "code",
   "execution_count": 19,
   "id": "d8c98a47-93c9-456c-807a-1a43b4bb359d",
   "metadata": {},
   "outputs": [],
   "source": [
    "from transformers import TrainerCallback, TrainerState, TrainerControl\n",
    "\n",
    "class LossTrackerCallback(TrainerCallback):\n",
    "    def __init__(self):\n",
    "        self.training_losses = []\n",
    "        self.validation_losses = []\n",
    "        self.epoch = 0\n",
    "\n",
    "    def on_epoch_end(self, args, state: TrainerState, control: TrainerControl, **kwargs):\n",
    "        # Append the most recent training loss to the list\n",
    "        for log in reversed(state.log_history):\n",
    "            if 'loss' in log:\n",
    "                self.training_losses.append(log['loss'])\n",
    "                break  # Ensure we only add one training loss per epoch\n",
    "\n",
    "    def on_evaluate(self, args, state: TrainerState, control: TrainerControl, **kwargs):\n",
    "        if len(self.training_losses) > len(self.validation_losses):\n",
    "            # Append the most recent validation loss to the list\n",
    "            for log in reversed(state.log_history):\n",
    "                if 'eval_loss' in log:\n",
    "                    self.validation_losses.append(log['eval_loss'])\n",
    "                    break  # Ensure we only add one validation loss per epoch"
   ]
  },
  {
   "cell_type": "code",
   "execution_count": 20,
   "id": "bd8a482e-3278-4a31-a6ce-dd4a6b46ad6a",
   "metadata": {},
   "outputs": [],
   "source": [
    "loss_tracker_callback = LossTrackerCallback()"
   ]
  },
  {
   "cell_type": "markdown",
   "id": "b32a45b3-4e8c-477e-9d77-48c5108db659",
   "metadata": {},
   "source": [
    "### Early Stopping Criteria"
   ]
  },
  {
   "cell_type": "code",
   "execution_count": 21,
   "id": "39c8c055-9f19-4c9d-bdbe-cc50b32863f0",
   "metadata": {},
   "outputs": [],
   "source": [
    "from transformers import EarlyStoppingCallback\n",
    "early_stopping_callback = EarlyStoppingCallback(early_stopping_patience=3)"
   ]
  },
  {
   "cell_type": "markdown",
   "id": "f23c3655-16d3-4981-80a7-3dc161767802",
   "metadata": {},
   "source": [
    "### Trainer setup"
   ]
  },
  {
   "cell_type": "code",
   "execution_count": 23,
   "id": "d7c4f47c-e37a-42ce-b157-811f04f14c75",
   "metadata": {},
   "outputs": [],
   "source": [
    "from transformers import TrainingArguments, Trainer\n",
    "\n",
    "llama_model = llama_model.cuda()\n",
    "lr = 1e-4\n",
    "batch_size = 8\n",
    "num_epochs = 20\n",
    "training_args = TrainingArguments(\n",
    "    output_dir=\"llama-lora-token-classification\",\n",
    "    learning_rate=lr,\n",
    "    lr_scheduler_type= \"constant\",\n",
    "    warmup_ratio= 0.1,\n",
    "    max_grad_norm= 0.3,\n",
    "    per_device_train_batch_size=batch_size,\n",
    "    per_device_eval_batch_size=batch_size,\n",
    "    num_train_epochs=num_epochs,\n",
    "    weight_decay=0.001,\n",
    "    evaluation_strategy=\"epoch\",\n",
    "    save_strategy=\"epoch\",\n",
    "    load_best_model_at_end=True,\n",
    "    report_to=\"wandb\",\n",
    "    fp16=True,\n",
    "    gradient_checkpointing=True,\n",
    ")"
   ]
  },
  {
   "cell_type": "code",
   "execution_count": 24,
   "id": "c3d20aad-0ab5-469c-b5cb-d8a1055a1235",
   "metadata": {},
   "outputs": [
    {
     "name": "stderr",
     "output_type": "stream",
     "text": [
      "Detected kernel version 5.4.0, which is below the recommended minimum of 5.5.0; this can cause the process to hang. It is recommended to upgrade the kernel to the minimum version or higher.\n"
     ]
    }
   ],
   "source": [
    "llama_trainer = CELossTrainer(\n",
    "    model=llama_model,\n",
    "    args=training_args,\n",
    "    train_dataset=llama_tokenized_train_dataset,\n",
    "    eval_dataset=llama_tokenized_val_dataset,\n",
    "    data_collator=llama_data_collator,\n",
    "    compute_metrics=compute_metrics,\n",
    "    callbacks=[loss_tracker_callback, early_stopping_callback]\n",
    ")"
   ]
  },
  {
   "cell_type": "markdown",
   "id": "c1004686-4397-4a44-81d4-5179ec448a17",
   "metadata": {},
   "source": [
    "### Training"
   ]
  },
  {
   "cell_type": "code",
   "execution_count": 25,
   "id": "5c9071de-1617-4357-9f59-55073826521d",
   "metadata": {},
   "outputs": [],
   "source": [
    "#!wandb login --relogin"
   ]
  },
  {
   "cell_type": "code",
   "execution_count": 26,
   "id": "007ec32c-b673-450f-b0a6-1ad8f3a54a5c",
   "metadata": {},
   "outputs": [
    {
     "name": "stderr",
     "output_type": "stream",
     "text": [
      "`use_cache=True` is incompatible with gradient checkpointing. Setting `use_cache=False`.\n",
      "/home/sunil/.local/lib/python3.8/site-packages/torch/utils/checkpoint.py:429: UserWarning: torch.utils.checkpoint: please pass in use_reentrant=True or use_reentrant=False explicitly. The default value of use_reentrant will be updated to be False in the future. To maintain current behavior, pass use_reentrant=True. It is recommended that you use use_reentrant=False. Refer to docs for more details on the differences between the two variants.\n",
      "  warnings.warn(\n",
      "/home/sunil/.local/lib/python3.8/site-packages/torch/utils/checkpoint.py:61: UserWarning: None of the inputs have requires_grad=True. Gradients will be None\n",
      "  warnings.warn(\n"
     ]
    },
    {
     "data": {
      "text/html": [
       "\n",
       "    <div>\n",
       "      \n",
       "      <progress value='4376' max='10940' style='width:300px; height:20px; vertical-align: middle;'></progress>\n",
       "      [ 4376/10940 11:21 < 17:02, 6.42 it/s, Epoch 8/20]\n",
       "    </div>\n",
       "    <table border=\"1\" class=\"dataframe\">\n",
       "  <thead>\n",
       " <tr style=\"text-align: left;\">\n",
       "      <th>Epoch</th>\n",
       "      <th>Training Loss</th>\n",
       "      <th>Validation Loss</th>\n",
       "      <th>Precision</th>\n",
       "      <th>Recall</th>\n",
       "      <th>F1-score</th>\n",
       "      <th>Accuracy</th>\n",
       "    </tr>\n",
       "  </thead>\n",
       "  <tbody>\n",
       "    <tr>\n",
       "      <td>1</td>\n",
       "      <td>1.472400</td>\n",
       "      <td>1.239723</td>\n",
       "      <td>0.467700</td>\n",
       "      <td>0.497868</td>\n",
       "      <td>0.468684</td>\n",
       "      <td>0.497868</td>\n",
       "    </tr>\n",
       "    <tr>\n",
       "      <td>2</td>\n",
       "      <td>1.175700</td>\n",
       "      <td>1.158434</td>\n",
       "      <td>0.495801</td>\n",
       "      <td>0.522388</td>\n",
       "      <td>0.499817</td>\n",
       "      <td>0.522388</td>\n",
       "    </tr>\n",
       "    <tr>\n",
       "      <td>3</td>\n",
       "      <td>1.074700</td>\n",
       "      <td>1.170431</td>\n",
       "      <td>0.519644</td>\n",
       "      <td>0.541578</td>\n",
       "      <td>0.511192</td>\n",
       "      <td>0.541578</td>\n",
       "    </tr>\n",
       "    <tr>\n",
       "      <td>4</td>\n",
       "      <td>0.991900</td>\n",
       "      <td>1.169415</td>\n",
       "      <td>0.509770</td>\n",
       "      <td>0.537313</td>\n",
       "      <td>0.512142</td>\n",
       "      <td>0.537313</td>\n",
       "    </tr>\n",
       "    <tr>\n",
       "      <td>5</td>\n",
       "      <td>0.940500</td>\n",
       "      <td>1.107084</td>\n",
       "      <td>0.523955</td>\n",
       "      <td>0.542644</td>\n",
       "      <td>0.526624</td>\n",
       "      <td>0.542644</td>\n",
       "    </tr>\n",
       "    <tr>\n",
       "      <td>6</td>\n",
       "      <td>0.876600</td>\n",
       "      <td>1.140850</td>\n",
       "      <td>0.518849</td>\n",
       "      <td>0.537313</td>\n",
       "      <td>0.513032</td>\n",
       "      <td>0.537313</td>\n",
       "    </tr>\n",
       "    <tr>\n",
       "      <td>7</td>\n",
       "      <td>0.834700</td>\n",
       "      <td>1.120126</td>\n",
       "      <td>0.524374</td>\n",
       "      <td>0.540512</td>\n",
       "      <td>0.519098</td>\n",
       "      <td>0.540512</td>\n",
       "    </tr>\n",
       "    <tr>\n",
       "      <td>8</td>\n",
       "      <td>0.800900</td>\n",
       "      <td>1.122761</td>\n",
       "      <td>0.522857</td>\n",
       "      <td>0.545842</td>\n",
       "      <td>0.519873</td>\n",
       "      <td>0.545842</td>\n",
       "    </tr>\n",
       "  </tbody>\n",
       "</table><p>"
      ],
      "text/plain": [
       "<IPython.core.display.HTML object>"
      ]
     },
     "metadata": {},
     "output_type": "display_data"
    },
    {
     "name": "stderr",
     "output_type": "stream",
     "text": [
      "/home/sunil/.local/lib/python3.8/site-packages/torch/utils/checkpoint.py:429: UserWarning: torch.utils.checkpoint: please pass in use_reentrant=True or use_reentrant=False explicitly. The default value of use_reentrant will be updated to be False in the future. To maintain current behavior, pass use_reentrant=True. It is recommended that you use use_reentrant=False. Refer to docs for more details on the differences between the two variants.\n",
      "  warnings.warn(\n",
      "/home/sunil/.local/lib/python3.8/site-packages/torch/utils/checkpoint.py:61: UserWarning: None of the inputs have requires_grad=True. Gradients will be None\n",
      "  warnings.warn(\n",
      "/home/sunil/.local/lib/python3.8/site-packages/torch/utils/checkpoint.py:429: UserWarning: torch.utils.checkpoint: please pass in use_reentrant=True or use_reentrant=False explicitly. The default value of use_reentrant will be updated to be False in the future. To maintain current behavior, pass use_reentrant=True. It is recommended that you use use_reentrant=False. Refer to docs for more details on the differences between the two variants.\n",
      "  warnings.warn(\n",
      "/home/sunil/.local/lib/python3.8/site-packages/torch/utils/checkpoint.py:61: UserWarning: None of the inputs have requires_grad=True. Gradients will be None\n",
      "  warnings.warn(\n",
      "/home/sunil/.local/lib/python3.8/site-packages/torch/utils/checkpoint.py:429: UserWarning: torch.utils.checkpoint: please pass in use_reentrant=True or use_reentrant=False explicitly. The default value of use_reentrant will be updated to be False in the future. To maintain current behavior, pass use_reentrant=True. It is recommended that you use use_reentrant=False. Refer to docs for more details on the differences between the two variants.\n",
      "  warnings.warn(\n",
      "/home/sunil/.local/lib/python3.8/site-packages/torch/utils/checkpoint.py:61: UserWarning: None of the inputs have requires_grad=True. Gradients will be None\n",
      "  warnings.warn(\n",
      "/home/sunil/.local/lib/python3.8/site-packages/torch/utils/checkpoint.py:429: UserWarning: torch.utils.checkpoint: please pass in use_reentrant=True or use_reentrant=False explicitly. The default value of use_reentrant will be updated to be False in the future. To maintain current behavior, pass use_reentrant=True. It is recommended that you use use_reentrant=False. Refer to docs for more details on the differences between the two variants.\n",
      "  warnings.warn(\n",
      "/home/sunil/.local/lib/python3.8/site-packages/torch/utils/checkpoint.py:61: UserWarning: None of the inputs have requires_grad=True. Gradients will be None\n",
      "  warnings.warn(\n",
      "/home/sunil/.local/lib/python3.8/site-packages/torch/utils/checkpoint.py:429: UserWarning: torch.utils.checkpoint: please pass in use_reentrant=True or use_reentrant=False explicitly. The default value of use_reentrant will be updated to be False in the future. To maintain current behavior, pass use_reentrant=True. It is recommended that you use use_reentrant=False. Refer to docs for more details on the differences between the two variants.\n",
      "  warnings.warn(\n",
      "/home/sunil/.local/lib/python3.8/site-packages/torch/utils/checkpoint.py:61: UserWarning: None of the inputs have requires_grad=True. Gradients will be None\n",
      "  warnings.warn(\n",
      "/home/sunil/.local/lib/python3.8/site-packages/torch/utils/checkpoint.py:429: UserWarning: torch.utils.checkpoint: please pass in use_reentrant=True or use_reentrant=False explicitly. The default value of use_reentrant will be updated to be False in the future. To maintain current behavior, pass use_reentrant=True. It is recommended that you use use_reentrant=False. Refer to docs for more details on the differences between the two variants.\n",
      "  warnings.warn(\n",
      "/home/sunil/.local/lib/python3.8/site-packages/torch/utils/checkpoint.py:61: UserWarning: None of the inputs have requires_grad=True. Gradients will be None\n",
      "  warnings.warn(\n",
      "/home/sunil/.local/lib/python3.8/site-packages/torch/utils/checkpoint.py:429: UserWarning: torch.utils.checkpoint: please pass in use_reentrant=True or use_reentrant=False explicitly. The default value of use_reentrant will be updated to be False in the future. To maintain current behavior, pass use_reentrant=True. It is recommended that you use use_reentrant=False. Refer to docs for more details on the differences between the two variants.\n",
      "  warnings.warn(\n",
      "/home/sunil/.local/lib/python3.8/site-packages/torch/utils/checkpoint.py:61: UserWarning: None of the inputs have requires_grad=True. Gradients will be None\n",
      "  warnings.warn(\n"
     ]
    },
    {
     "name": "stdout",
     "output_type": "stream",
     "text": [
      "CPU times: user 10min 18s, sys: 1min 3s, total: 11min 22s\n",
      "Wall time: 11min 22s\n"
     ]
    }
   ],
   "source": [
    "%%time\n",
    "# Start the training\n",
    "train_result = llama_trainer.train()"
   ]
  },
  {
   "cell_type": "code",
   "execution_count": 27,
   "id": "b0911839-39e9-42f0-bf08-c3255d9b8267",
   "metadata": {},
   "outputs": [
    {
     "name": "stdout",
     "output_type": "stream",
     "text": [
      "TrainOutput(global_step=4376, training_loss=1.0002428783577146, metrics={'train_runtime': 682.026, 'train_samples_per_second': 128.265, 'train_steps_per_second': 16.04, 'total_flos': 9.828900714307584e+16, 'train_loss': 1.0002428783577146, 'epoch': 8.0})\n"
     ]
    }
   ],
   "source": [
    "print(train_result)"
   ]
  },
  {
   "cell_type": "code",
   "execution_count": 29,
   "id": "f25892c7-f275-4876-9fa3-579d993a35b1",
   "metadata": {},
   "outputs": [
    {
     "data": {
      "text/html": [
       "\n",
       "    <div>\n",
       "      \n",
       "      <progress value='118' max='118' style='width:300px; height:20px; vertical-align: middle;'></progress>\n",
       "      [118/118 00:29]\n",
       "    </div>\n",
       "    "
      ],
      "text/plain": [
       "<IPython.core.display.HTML object>"
      ]
     },
     "metadata": {},
     "output_type": "display_data"
    },
    {
     "name": "stdout",
     "output_type": "stream",
     "text": [
      "{'eval_loss': 1.1070841550827026, 'eval_precision': 0.5239547887911528, 'eval_recall': 0.5426439232409381, 'eval_f1-score': 0.5266241383719918, 'eval_accuracy': 0.5426439232409381, 'eval_runtime': 29.6133, 'eval_samples_per_second': 31.675, 'eval_steps_per_second': 3.985, 'epoch': 8.0}\n"
     ]
    }
   ],
   "source": [
    "eval_result = llama_trainer.evaluate()\n",
    "print(eval_result)"
   ]
  },
  {
   "cell_type": "markdown",
   "id": "793faedb-163b-4f31-89d0-646591f856d1",
   "metadata": {},
   "source": [
    "### Analysis of Loss function and Evaluation of Trained Model"
   ]
  },
  {
   "cell_type": "code",
   "execution_count": 30,
   "id": "1fc5874b-56e7-4f71-9fca-b15dfe9fc4fb",
   "metadata": {},
   "outputs": [
    {
     "name": "stdout",
     "output_type": "stream",
     "text": [
      "Training Losses:  [1.4724, 1.1757, 1.0747, 0.9919, 0.9405, 0.8766, 0.8347, 0.8009]\n",
      "Validation Losses:  [1.2397229671478271, 1.1584341526031494, 1.1704312562942505, 1.1694151163101196, 1.1070841550827026, 1.1408498287200928, 1.120126485824585, 1.1227613687515259]\n"
     ]
    }
   ],
   "source": [
    "# Access the losses\n",
    "training_losses = loss_tracker_callback.training_losses\n",
    "validation_losses = loss_tracker_callback.validation_losses\n",
    "\n",
    "print(\"Training Losses: \", training_losses)\n",
    "print(\"Validation Losses: \", validation_losses)"
   ]
  },
  {
   "cell_type": "code",
   "execution_count": 31,
   "id": "865b069b-9fc2-4c66-ae62-f6415cb15bc5",
   "metadata": {},
   "outputs": [
    {
     "name": "stdout",
     "output_type": "stream",
     "text": [
      "8\n",
      "8\n"
     ]
    }
   ],
   "source": [
    "print(len(training_losses ))\n",
    "print(len(validation_losses ))"
   ]
  },
  {
   "cell_type": "code",
   "execution_count": 32,
   "id": "bf3004ac-ffd9-453a-b7d9-1d27c12d8094",
   "metadata": {},
   "outputs": [
    {
     "data": {
      "image/png": "[encoded data removed]",
      "text/plain": [
       "<Figure size 1000x600 with 1 Axes>"
      ]
     },
     "metadata": {},
     "output_type": "display_data"
    }
   ],
   "source": [
    "import matplotlib.pyplot as plt\n",
    "epochs = range(1, len(training_losses) + 1)\n",
    "plt.figure(figsize=(10, 6))\n",
    "plt.plot(epochs, training_losses, label='Training Loss')\n",
    "plt.plot(epochs, validation_losses, label='Validation Loss')\n",
    "plt.xlabel('Epochs')\n",
    "plt.ylabel('Loss')\n",
    "plt.title('Training and Validation Losses')\n",
    "plt.legend()\n",
    "plt.grid(True)\n",
    "plt.show()"
   ]
  },
  {
   "cell_type": "markdown",
   "id": "675e991f-32e6-4478-903c-585de55ec9cf",
   "metadata": {},
   "source": [
    "## Saving the Model"
   ]
  },
  {
   "cell_type": "code",
   "execution_count": 25,
   "id": "dbbdfbda-4d68-40a0-bcdd-7526c65779f1",
   "metadata": {},
   "outputs": [
    {
     "name": "stdout",
     "output_type": "stream",
     "text": [
      "/home/sunil/Hate_Speech_Project/LLAMA2_Model\n"
     ]
    },
    {
     "name": "stderr",
     "output_type": "stream",
     "text": [
      "huggingface/tokenizers: The current process just got forked, after parallelism has already been used. Disabling parallelism to avoid deadlocks...\n",
      "To disable this warning, you can either:\n",
      "\t- Avoid using `tokenizers` before the fork if possible\n",
      "\t- Explicitly set the environment variable TOKENIZERS_PARALLELISM=(true | false)\n"
     ]
    }
   ],
   "source": [
    "!pwd"
   ]
  },
  {
   "cell_type": "code",
   "execution_count": 33,
   "id": "eb2fc8ba-3152-455e-bb91-675363786b6f",
   "metadata": {},
   "outputs": [
    {
     "name": "stdout",
     "output_type": "stream",
     "text": [
      "Model, tokenizer, and configuration saved to /home/sunil/Hate_Speech_Project/LLAMA2_Model/llama_binary_finetuned_model\n"
     ]
    }
   ],
   "source": [
    "# Assuming `model_directory` is defined and points to where you want to save your model, tokenizer, and config\n",
    "from transformers import AutoConfig\n",
    "import os\n",
    "\n",
    "# Define the directory where you want to save your model and tokenizer\n",
    "model_directory = \"/home/sunil/Hate_Speech_Project/LLAMA2_Model/llama_binary_finetuned_model\"\n",
    "\n",
    "if not os.path.exists(model_directory):\n",
    "    os.makedirs(model_directory)\n",
    "\n",
    "# First, save your trained model and tokenizer\n",
    "llama_model.save_pretrained(model_directory)\n",
    "llama_tokenizer.save_pretrained(model_directory)\n",
    "\n",
    "# Then, save the configuration\n",
    "config = AutoConfig.from_pretrained(\"meta-llama/Llama-2-7b-hf\", num_labels=5) # Adjust as necessary\n",
    "config.save_pretrained(model_directory)\n",
    "\n",
    "print(f\"Model, tokenizer, and configuration saved to {model_directory}\")"
   ]
  },
  {
   "cell_type": "markdown",
   "id": "9c5a57d2-07e1-4556-9183-36658283bded",
   "metadata": {},
   "source": [
    "## Loading the Model"
   ]
  },
  {
   "cell_type": "code",
   "execution_count": 34,
   "id": "095eebff-b7d0-43d4-99bd-2943460ec999",
   "metadata": {},
   "outputs": [
    {
     "data": {
      "application/vnd.jupyter.widget-view+json": {
       "model_id": "76bebef91c7c4312b30f3e3da026c8b7",
       "version_major": 2,
       "version_minor": 0
      },
      "text/plain": [
       "Loading checkpoint shards:   0%|          | 0/2 [00:00<?, ?it/s]"
      ]
     },
     "metadata": {},
     "output_type": "display_data"
    },
    {
     "name": "stderr",
     "output_type": "stream",
     "text": [
      "Some weights of LlamaForSequenceClassification were not initialized from the model checkpoint at meta-llama/Llama-2-7b-hf and are newly initialized: ['score.weight']\n",
      "You should probably TRAIN this model on a down-stream task to be able to use it for predictions and inference.\n"
     ]
    }
   ],
   "source": [
    "from transformers import AutoConfig, AutoModelForSequenceClassification\n",
    "from transformers import AutoModelForSequenceClassification, AutoTokenizer\n",
    "\n",
    "# Define the directory where your saved model and tokenizer are\n",
    "model_directory = \"/home/sunil/Hate_Speech_Project/LLAMA2_Model/llama_binary_finetuned_model\"\n",
    "\n",
    "# Load the configuration and set the number of labels\n",
    "config = AutoConfig.from_pretrained(model_directory, num_labels=5)\n",
    "\n",
    "# Now, load the model with the updated configuration\n",
    "model = AutoModelForSequenceClassification.from_pretrained(model_directory, config=config)\n",
    "\n",
    "# Load the tokenizer as usual\n",
    "#mistral_tokenizer = AutoTokenizer.from_pretrained(mistral_checkpoint, add_prefix_space=True)\n",
    "tokenizer = AutoTokenizer.from_pretrained(model_directory,add_prefix_space=True)\n"
   ]
  },
  {
   "cell_type": "markdown",
   "id": "edac25a9-ebdb-47d8-891f-de61a1c9c080",
   "metadata": {},
   "source": [
    "## Model Evaluation on Validation datasets"
   ]
  },
  {
   "cell_type": "code",
   "execution_count": 35,
   "id": "e0eb40b5-5e3e-435f-b0ee-b71cb734da2f",
   "metadata": {},
   "outputs": [
    {
     "name": "stdout",
     "output_type": "stream",
     "text": [
      "Predictions stored in new file: HSP_Val_Data_with_Encoded_Label_Multi_3.0_with_predictions.csv\n",
      "CPU times: user 2d 15h 33min 32s, sys: 52min 31s, total: 2d 16h 26min 4s\n",
      "Wall time: 1h 9min 44s\n"
     ]
    }
   ],
   "source": [
    "%%time\n",
    "import pandas as pd\n",
    "import torch\n",
    "from torch.nn.functional import softmax\n",
    "\n",
    "# Assuming tokenizer and model are already defined and loaded\n",
    "\n",
    "def prepare_input(text):\n",
    "    inputs = tokenizer(text, return_tensors=\"pt\", padding=True, truncation=True, max_length=512)\n",
    "    return inputs\n",
    "\n",
    "def predict(text):\n",
    "    model.eval()  # Ensure the model is in evaluation mode\n",
    "    inputs = prepare_input(text)\n",
    "    with torch.no_grad():  # No need to track gradients for inference\n",
    "        outputs = model(**inputs)\n",
    "        predictions = softmax(outputs.logits, dim=-1)\n",
    "    return predictions\n",
    "\n",
    "# Function to predict and store results in a new CSV\n",
    "def predict_and_store(csv_file_path):\n",
    "    # Load the CSV file\n",
    "    df = pd.read_csv(csv_file_path)\n",
    "    \n",
    "    # Ensure there's a column for predicted labels\n",
    "    df['Predicted_Label'] = None\n",
    "    \n",
    "    # Iterate over each row in the DataFrame and make predictions\n",
    "    for index, row in df.iterrows():\n",
    "        text = row['Text']\n",
    "        predictions = predict(text)\n",
    "        predicted_class_index = predictions.argmax(dim=1).item()\n",
    "        # Store the predicted class index in the DataFrame\n",
    "        df.at[index, 'Predicted_Label'] = predicted_class_index\n",
    "    \n",
    "    # Define the name for the new CSV file that will contain the predictions\n",
    "    predicted_csv_file_path = csv_file_path.replace('.csv', '_with_predictions.csv')\n",
    "    \n",
    "    # Save the modified DataFrame to the new CSV file\n",
    "    df.to_csv(predicted_csv_file_path, index=False)\n",
    "    \n",
    "    # Log the creation of the new file with predictions\n",
    "    print(f\"Predictions stored in new file: {predicted_csv_file_path}\")\n",
    "\n",
    "# Example usage with your specific CSV file\n",
    "csv_file_path = 'HSP_Val_Data_with_Encoded_Label_Multi_3.0.csv'\n",
    "predict_and_store(csv_file_path)"
   ]
  },
  {
   "cell_type": "code",
   "execution_count": 36,
   "id": "722111fd-dee0-4d8f-9b85-cd97b2a1d660",
   "metadata": {},
   "outputs": [
    {
     "data": {
      "text/html": [
       "<div>\n",
       "<style scoped>\n",
       "    .dataframe tbody tr th:only-of-type {\n",
       "        vertical-align: middle;\n",
       "    }\n",
       "\n",
       "    .dataframe tbody tr th {\n",
       "        vertical-align: top;\n",
       "    }\n",
       "\n",
       "    .dataframe thead th {\n",
       "        text-align: right;\n",
       "    }\n",
       "</style>\n",
       "<table border=\"1\" class=\"dataframe\">\n",
       "  <thead>\n",
       "    <tr style=\"text-align: right;\">\n",
       "      <th></th>\n",
       "      <th>id</th>\n",
       "      <th>Text</th>\n",
       "      <th>Label_Id</th>\n",
       "      <th>Label</th>\n",
       "      <th>Label_Rev</th>\n",
       "      <th>Predicted_Label</th>\n",
       "    </tr>\n",
       "  </thead>\n",
       "  <tbody>\n",
       "    <tr>\n",
       "      <th>0</th>\n",
       "      <td>3370</td>\n",
       "      <td>Zakhme dill dikhaye gey\\nHaal e gham sunaye ge...</td>\n",
       "      <td>3</td>\n",
       "      <td>Neutral</td>\n",
       "      <td>2</td>\n",
       "      <td>2</td>\n",
       "    </tr>\n",
       "    <tr>\n",
       "      <th>1</th>\n",
       "      <td>4731</td>\n",
       "      <td>Always reassuring to know that as an ace perso...</td>\n",
       "      <td>3</td>\n",
       "      <td>Neutral</td>\n",
       "      <td>2</td>\n",
       "      <td>1</td>\n",
       "    </tr>\n",
       "    <tr>\n",
       "      <th>2</th>\n",
       "      <td>3283</td>\n",
       "      <td>happy birthday to Rin Natsume, she’s a trans l...</td>\n",
       "      <td>1</td>\n",
       "      <td>Very_Positive</td>\n",
       "      <td>0</td>\n",
       "      <td>1</td>\n",
       "    </tr>\n",
       "    <tr>\n",
       "      <th>3</th>\n",
       "      <td>4991</td>\n",
       "      <td>William Gay in at free safety with the first-t...</td>\n",
       "      <td>3</td>\n",
       "      <td>Neutral</td>\n",
       "      <td>2</td>\n",
       "      <td>2</td>\n",
       "    </tr>\n",
       "    <tr>\n",
       "      <th>4</th>\n",
       "      <td>2146</td>\n",
       "      <td>seeing people say that being bi isn't real/doe...</td>\n",
       "      <td>3</td>\n",
       "      <td>Neutral</td>\n",
       "      <td>2</td>\n",
       "      <td>1</td>\n",
       "    </tr>\n",
       "  </tbody>\n",
       "</table>\n",
       "</div>"
      ],
      "text/plain": [
       "     id                                               Text  Label_Id  \\\n",
       "0  3370  Zakhme dill dikhaye gey\\nHaal e gham sunaye ge...         3   \n",
       "1  4731  Always reassuring to know that as an ace perso...         3   \n",
       "2  3283  happy birthday to Rin Natsume, she’s a trans l...         1   \n",
       "3  4991  William Gay in at free safety with the first-t...         3   \n",
       "4  2146  seeing people say that being bi isn't real/doe...         3   \n",
       "\n",
       "           Label  Label_Rev  Predicted_Label  \n",
       "0        Neutral          2                2  \n",
       "1        Neutral          2                1  \n",
       "2  Very_Positive          0                1  \n",
       "3        Neutral          2                2  \n",
       "4        Neutral          2                1  "
      ]
     },
     "execution_count": 36,
     "metadata": {},
     "output_type": "execute_result"
    }
   ],
   "source": [
    "df = pd.read_csv(\"HSP_Val_Data_with_Encoded_Label_Multi_3.0_with_predictions.csv\")\n",
    "df.head()"
   ]
  },
  {
   "cell_type": "code",
   "execution_count": 37,
   "id": "c1697d0f-2696-471e-b6d7-24b25c939313",
   "metadata": {},
   "outputs": [
    {
     "data": {
      "image/png": "[encoded data removed]",
      "text/plain": [
       "<Figure size 600x400 with 2 Axes>"
      ]
     },
     "metadata": {},
     "output_type": "display_data"
    }
   ],
   "source": [
    "import pandas as pd\n",
    "import numpy as np\n",
    "import matplotlib.pyplot as plt\n",
    "import seaborn as sns\n",
    "from sklearn.metrics import confusion_matrix\n",
    "from sklearn.metrics import accuracy_score, classification_report\n",
    "\n",
    "# Load the CSV file containing text data\n",
    "df = pd.read_csv(\"HSP_Val_Data_with_Encoded_Label_Multi_3.0_with_predictions.csv\")\n",
    "\n",
    "label_mapping = {0: \"Very_Positive\", 1: \"Positive\", 2: \"Neutral\", 3: \"Negative\", 4: \"Very_Negative\"}\n",
    "\n",
    "# Generate the confusion matrix\n",
    "confusion = confusion_matrix(df[\"Label_Rev\"], df[\"Predicted_Label\"])\n",
    "\n",
    "# Create a heatmap of the confusion matrix with class labels\n",
    "plt.figure(figsize=(6, 4))\n",
    "sns.set(font_scale=1.2)\n",
    "ax = sns.heatmap(confusion, annot=True, fmt=\"d\", cmap=\"Blues\", xticklabels=label_mapping.values(), yticklabels=label_mapping.values(),\n",
    "                 linewidths=.5, linecolor='black', cbar_kws={'drawedges': True})  # Add cbar_kws parameter\n",
    "\n",
    "# Add explicit border lines\n",
    "ax.add_artist(plt.Line2D([0, len(label_mapping)], [len(label_mapping), len(label_mapping)], color='black', linewidth=2))\n",
    "ax.add_artist(plt.Line2D([len(label_mapping), len(label_mapping)], [0, len(label_mapping)], color='black', linewidth=2))\n",
    "\n",
    "plt.xlabel('Predicted Labels')\n",
    "plt.ylabel('True Labels')\n",
    "plt.title('Confusion Matrix')\n",
    "plt.show()"
   ]
  },
  {
   "cell_type": "code",
   "execution_count": 38,
   "id": "498a599e-dba0-4a6a-b20a-013033ad3f39",
   "metadata": {},
   "outputs": [
    {
     "name": "stdout",
     "output_type": "stream",
     "text": [
      "Classification Report:\n",
      "                precision    recall  f1-score   support\n",
      "\n",
      "Very_Positive       0.31      0.19      0.23        43\n",
      "     Positive       0.50      0.52      0.51       297\n",
      "      Neutral       0.60      0.69      0.64       462\n",
      "     Negative       0.41      0.21      0.28       123\n",
      "Very_Negative       0.14      0.08      0.10        13\n",
      "\n",
      "     accuracy                           0.54       938\n",
      "    macro avg       0.39      0.34      0.35       938\n",
      " weighted avg       0.52      0.54      0.53       938\n",
      "\n"
     ]
    }
   ],
   "source": [
    "# Generate the classification report\n",
    "classification_rep = classification_report(df[\"Label_Rev\"], df[\"Predicted_Label\"], target_names=list(label_mapping.values()))\n",
    "print(\"Classification Report:\\n\", classification_rep)"
   ]
  },
  {
   "cell_type": "markdown",
   "id": "365af68c-717a-478d-b066-98563d35a2d6",
   "metadata": {},
   "source": [
    "## Model Evaluation on Test Datasets"
   ]
  },
  {
   "cell_type": "code",
   "execution_count": 39,
   "id": "fcdfd68d-118e-404e-b365-4188917fc5a2",
   "metadata": {},
   "outputs": [
    {
     "name": "stdout",
     "output_type": "stream",
     "text": [
      "Predictions stored in new file: HSP_Test_Data_with_Encoded_Label_Multi_3.0_with_predictions.csv\n",
      "CPU times: user 3d 14h 28min 37s, sys: 20min 37s, total: 3d 14h 49min 14s\n",
      "Wall time: 1h 32min 13s\n"
     ]
    }
   ],
   "source": [
    "%%time\n",
    "import pandas as pd\n",
    "import torch\n",
    "from torch.nn.functional import softmax\n",
    "\n",
    "# Assuming tokenizer and model are already defined and loaded\n",
    "def prepare_input(text):\n",
    "    inputs = tokenizer(text, return_tensors=\"pt\", padding=True, truncation=True, max_length=512)\n",
    "    return inputs\n",
    "\n",
    "def predict(text):\n",
    "    model.eval()  # Ensure the model is in evaluation mode\n",
    "    inputs = prepare_input(text)\n",
    "    with torch.no_grad():  # No need to track gradients for inference\n",
    "        outputs = model(**inputs)\n",
    "        predictions = softmax(outputs.logits, dim=-1)\n",
    "    return predictions\n",
    "\n",
    "# Function to predict and store results in a new CSV\n",
    "def predict_and_store(csv_file_path):\n",
    "    # Load the CSV file\n",
    "    df = pd.read_csv(csv_file_path)\n",
    "    \n",
    "    # Ensure there's a column for predicted labels\n",
    "    df['Predicted_Label'] = None\n",
    "    \n",
    "    # Iterate over each row in the DataFrame and make predictions\n",
    "    for index, row in df.iterrows():\n",
    "        text = row['Text']\n",
    "        predictions = predict(text)\n",
    "        predicted_class_index = predictions.argmax(dim=1).item()\n",
    "        # Store the predicted class index in the DataFrame\n",
    "        df.at[index, 'Predicted_Label'] = predicted_class_index\n",
    "    \n",
    "    # Define the name for the new CSV file that will contain the predictions\n",
    "    predicted_csv_file_path = csv_file_path.replace('.csv', '_with_predictions.csv')\n",
    "    \n",
    "    # Save the modified DataFrame to the new CSV file\n",
    "    df.to_csv(predicted_csv_file_path, index=False)\n",
    "    \n",
    "    # Log the creation of the new file with predictions\n",
    "    print(f\"Predictions stored in new file: {predicted_csv_file_path}\")\n",
    "\n",
    "# Example usage with your specific CSV file\n",
    "csv_file_path = 'HSP_Test_Data_with_Encoded_Label_Multi_3.0.csv'\n",
    "predict_and_store(csv_file_path)"
   ]
  },
  {
   "cell_type": "code",
   "execution_count": 40,
   "id": "8bc9dc0b-fa40-4ada-a183-0f8f98915c1a",
   "metadata": {},
   "outputs": [
    {
     "data": {
      "text/html": [
       "<div>\n",
       "<style scoped>\n",
       "    .dataframe tbody tr th:only-of-type {\n",
       "        vertical-align: middle;\n",
       "    }\n",
       "\n",
       "    .dataframe tbody tr th {\n",
       "        vertical-align: top;\n",
       "    }\n",
       "\n",
       "    .dataframe thead th {\n",
       "        text-align: right;\n",
       "    }\n",
       "</style>\n",
       "<table border=\"1\" class=\"dataframe\">\n",
       "  <thead>\n",
       "    <tr style=\"text-align: right;\">\n",
       "      <th></th>\n",
       "      <th>id</th>\n",
       "      <th>Text</th>\n",
       "      <th>Label_Id</th>\n",
       "      <th>Label</th>\n",
       "      <th>Label_Rev</th>\n",
       "      <th>Predicted_Label</th>\n",
       "    </tr>\n",
       "  </thead>\n",
       "  <tbody>\n",
       "    <tr>\n",
       "      <th>0</th>\n",
       "      <td>4298</td>\n",
       "      <td>Being asexual in the month of june is very har...</td>\n",
       "      <td>2</td>\n",
       "      <td>Positive</td>\n",
       "      <td>1</td>\n",
       "      <td>2</td>\n",
       "    </tr>\n",
       "    <tr>\n",
       "      <th>1</th>\n",
       "      <td>2329</td>\n",
       "      <td>full fucking offense but cis people have no ri...</td>\n",
       "      <td>3</td>\n",
       "      <td>Neutral</td>\n",
       "      <td>2</td>\n",
       "      <td>2</td>\n",
       "    </tr>\n",
       "    <tr>\n",
       "      <th>2</th>\n",
       "      <td>537</td>\n",
       "      <td>“if you're black, if you're white, if you're g...</td>\n",
       "      <td>1</td>\n",
       "      <td>Very_Positive</td>\n",
       "      <td>0</td>\n",
       "      <td>0</td>\n",
       "    </tr>\n",
       "    <tr>\n",
       "      <th>3</th>\n",
       "      <td>3218</td>\n",
       "      <td>It's a serious issue that i have to look for l...</td>\n",
       "      <td>2</td>\n",
       "      <td>Positive</td>\n",
       "      <td>1</td>\n",
       "      <td>2</td>\n",
       "    </tr>\n",
       "    <tr>\n",
       "      <th>4</th>\n",
       "      <td>644</td>\n",
       "      <td>Have come out (again, still, constantly) to pe...</td>\n",
       "      <td>2</td>\n",
       "      <td>Positive</td>\n",
       "      <td>1</td>\n",
       "      <td>1</td>\n",
       "    </tr>\n",
       "  </tbody>\n",
       "</table>\n",
       "</div>"
      ],
      "text/plain": [
       "     id                                               Text  Label_Id  \\\n",
       "0  4298  Being asexual in the month of june is very har...         2   \n",
       "1  2329  full fucking offense but cis people have no ri...         3   \n",
       "2   537  “if you're black, if you're white, if you're g...         1   \n",
       "3  3218  It's a serious issue that i have to look for l...         2   \n",
       "4   644  Have come out (again, still, constantly) to pe...         2   \n",
       "\n",
       "           Label  Label_Rev  Predicted_Label  \n",
       "0       Positive          1                2  \n",
       "1        Neutral          2                2  \n",
       "2  Very_Positive          0                0  \n",
       "3       Positive          1                2  \n",
       "4       Positive          1                1  "
      ]
     },
     "execution_count": 40,
     "metadata": {},
     "output_type": "execute_result"
    }
   ],
   "source": [
    "output_df = pd.read_csv('HSP_Test_Data_with_Encoded_Label_Multi_3.0_with_predictions.csv')\n",
    "output_df.head()"
   ]
  },
  {
   "cell_type": "code",
   "execution_count": 41,
   "id": "ce983580-aeea-402c-9f47-bad0e403a885",
   "metadata": {},
   "outputs": [
    {
     "data": {
      "image/png": "[encoded data removed]",
      "text/plain": [
       "<Figure size 600x400 with 2 Axes>"
      ]
     },
     "metadata": {},
     "output_type": "display_data"
    }
   ],
   "source": [
    "import pandas as pd\n",
    "import numpy as np\n",
    "import matplotlib.pyplot as plt\n",
    "import seaborn as sns\n",
    "from sklearn.metrics import confusion_matrix\n",
    "from sklearn.metrics import accuracy_score, classification_report\n",
    "\n",
    "# Load the CSV file containing text data\n",
    "df = pd.read_csv(\"HSP_Test_Data_with_Encoded_Label_Multi_3.0_with_predictions.csv\")\n",
    "#df = pd.read_csv(\"HSP_Val_Data_with_Encoded_Label_2.0_with_predictions.csv\")\n",
    "\n",
    "label_mapping = {0: \"Very_Positive\", 1: \"Positive\", 2: \"Neutral\", 3: \"Negative\", 4: \"Very_Negative\"}\n",
    "\n",
    "# Generate the confusion matrix\n",
    "confusion = confusion_matrix(df[\"Label_Rev\"], df[\"Predicted_Label\"])\n",
    "\n",
    "# Create a heatmap of the confusion matrix with class labels\n",
    "plt.figure(figsize=(6, 4))\n",
    "sns.set(font_scale=1.2)\n",
    "ax = sns.heatmap(confusion, annot=True, fmt=\"d\", cmap=\"Blues\", xticklabels=label_mapping.values(), yticklabels=label_mapping.values(),\n",
    "                 linewidths=.5, linecolor='black', cbar_kws={'drawedges': True})  # Add cbar_kws parameter\n",
    "\n",
    "# Add explicit border lines\n",
    "ax.add_artist(plt.Line2D([0, len(label_mapping)], [len(label_mapping), len(label_mapping)], color='black', linewidth=2))\n",
    "ax.add_artist(plt.Line2D([len(label_mapping), len(label_mapping)], [0, len(label_mapping)], color='black', linewidth=2))\n",
    "\n",
    "plt.xlabel('Predicted Labels')\n",
    "plt.ylabel('True Labels')\n",
    "plt.title('Confusion Matrix')\n",
    "plt.show()"
   ]
  },
  {
   "cell_type": "code",
   "execution_count": 42,
   "id": "983a23ac-56c0-4282-9343-a863b602915e",
   "metadata": {},
   "outputs": [
    {
     "name": "stdout",
     "output_type": "stream",
     "text": [
      "Classification Report:\n",
      "                precision    recall  f1-score   support\n",
      "\n",
      "Very_Positive       0.32      0.14      0.19        43\n",
      "     Positive       0.48      0.57      0.52       297\n",
      "      Neutral       0.59      0.63      0.61       462\n",
      "     Negative       0.45      0.26      0.33       122\n",
      "Very_Negative       0.25      0.07      0.11        14\n",
      "\n",
      "     accuracy                           0.53       938\n",
      "    macro avg       0.42      0.33      0.35       938\n",
      " weighted avg       0.52      0.53      0.52       938\n",
      "\n"
     ]
    }
   ],
   "source": [
    "# Generate the classification report\n",
    "classification_rep = classification_report(df[\"Label_Rev\"], df[\"Predicted_Label\"], target_names=list(label_mapping.values()))\n",
    "print(\"Classification Report:\\n\", classification_rep)"
   ]
  },
  {
   "cell_type": "markdown",
   "id": "5212a58f-348e-47c9-a5a6-25daea12e32d",
   "metadata": {},
   "source": [
    "## General Inferencing"
   ]
  },
  {
   "cell_type": "code",
   "execution_count": 43,
   "id": "a8e1a9be-49bd-4fdf-94e7-2ff375c55556",
   "metadata": {},
   "outputs": [
    {
     "name": "stdout",
     "output_type": "stream",
     "text": [
      "Predicted Class: 2\n"
     ]
    }
   ],
   "source": [
    "import torch\n",
    "\n",
    "# Tokenize the input sentence\n",
    "sentence = \"Gay are bad people, and they don't deserve place in society.\"\n",
    "tokenized_input = llama_tokenizer(sentence, truncation=True, max_length=MAX_LEN, return_tensors=\"pt\")\n",
    "\n",
    "# Ensure the input tensors are on the correct device\n",
    "device = torch.device(\"cuda\" if torch.cuda.is_available() else \"cpu\")\n",
    "tokenized_input = tokenized_input.to(device)\n",
    "\n",
    "# Perform inference\n",
    "with torch.no_grad():\n",
    "    outputs = llama_model(**tokenized_input)\n",
    "\n",
    "# Get predicted probabilities and class\n",
    "probabilities = torch.softmax(outputs.logits, dim=1)\n",
    "predicted_class = torch.argmax(probabilities, dim=1).item()\n",
    "\n",
    "print(\"Predicted Class:\", predicted_class)"
   ]
  },
  {
   "cell_type": "code",
   "execution_count": 44,
   "id": "35225dfd-aef6-42f9-b1a1-51029e750da8",
   "metadata": {},
   "outputs": [
    {
     "name": "stdout",
     "output_type": "stream",
     "text": [
      "Predicted Class: 2\n"
     ]
    }
   ],
   "source": [
    "import torch\n",
    "\n",
    "# Tokenize the input sentence\n",
    "sentence = \"I hate you, You are worst gay.\"\n",
    "tokenized_input = llama_tokenizer(sentence, truncation=True, max_length=MAX_LEN, return_tensors=\"pt\")\n",
    "\n",
    "# Ensure the input tensors are on the correct device\n",
    "device = torch.device(\"cuda\" if torch.cuda.is_available() else \"cpu\")\n",
    "tokenized_input = tokenized_input.to(device)\n",
    "\n",
    "# Perform inference\n",
    "with torch.no_grad():\n",
    "    outputs = llama_model(**tokenized_input)\n",
    "\n",
    "# Get predicted probabilities and class\n",
    "probabilities = torch.softmax(outputs.logits, dim=1)\n",
    "predicted_class = torch.argmax(probabilities, dim=1).item()\n",
    "\n",
    "print(\"Predicted Class:\", predicted_class)"
   ]
  },
  {
   "cell_type": "code",
   "execution_count": 45,
   "id": "3258aa5e-832c-41db-901d-28ae9768e4be",
   "metadata": {},
   "outputs": [
    {
     "name": "stdout",
     "output_type": "stream",
     "text": [
      "Predicted Class: 1\n"
     ]
    }
   ],
   "source": [
    "import torch\n",
    "\n",
    "# Tokenize the input sentence\n",
    "sentence = \"LGBTQ+ people are also human, Give respect to save humanity.\"\n",
    "tokenized_input = llama_tokenizer(sentence, truncation=True, max_length=MAX_LEN, return_tensors=\"pt\")\n",
    "\n",
    "# Ensure the input tensors are on the correct device\n",
    "device = torch.device(\"cuda\" if torch.cuda.is_available() else \"cpu\")\n",
    "tokenized_input = tokenized_input.to(device)\n",
    "\n",
    "# Perform inference\n",
    "with torch.no_grad():\n",
    "    outputs = llama_model(**tokenized_input)\n",
    "\n",
    "# Get predicted probabilities and class\n",
    "probabilities = torch.softmax(outputs.logits, dim=1)\n",
    "predicted_class = torch.argmax(probabilities, dim=1).item()\n",
    "\n",
    "print(\"Predicted Class:\", predicted_class)"
   ]
  },
  {
   "cell_type": "code",
   "execution_count": 46,
   "id": "2fd331cb-722c-4a98-8350-c8ea17a2a29a",
   "metadata": {},
   "outputs": [
    {
     "name": "stdout",
     "output_type": "stream",
     "text": [
      "Predicted Class: 2\n"
     ]
    }
   ],
   "source": [
    "import torch\n",
    "\n",
    "# Tokenize the input sentence\n",
    "sentence = \"India is My Country\"\n",
    "tokenized_input = llama_tokenizer(sentence, truncation=True, max_length=MAX_LEN, return_tensors=\"pt\")\n",
    "\n",
    "# Ensure the input tensors are on the correct device\n",
    "device = torch.device(\"cuda\" if torch.cuda.is_available() else \"cpu\")\n",
    "tokenized_input = tokenized_input.to(device)\n",
    "\n",
    "# Perform inference\n",
    "with torch.no_grad():\n",
    "    outputs = llama_model(**tokenized_input)\n",
    "\n",
    "# Get predicted probabilities and class\n",
    "probabilities = torch.softmax(outputs.logits, dim=1)\n",
    "predicted_class = torch.argmax(probabilities, dim=1).item()\n",
    "\n",
    "print(\"Predicted Class:\", predicted_class)"
   ]
  },
  {
   "cell_type": "code",
   "execution_count": null,
   "id": "a37d5857-239e-4e82-a8a4-40720dc263ef",
   "metadata": {},
   "outputs": [],
   "source": []
  }
 ],
 "metadata": {
  "kernelspec": {
   "display_name": "Python 3 (ipykernel)",
   "language": "python",
   "name": "python3"
  },
  "language_info": {
   "codemirror_mode": {
    "name": "ipython",
    "version": 3
   },
   "file_extension": ".py",
   "mimetype": "text/x-python",
   "name": "python",
   "nbconvert_exporter": "python",
   "pygments_lexer": "ipython3",
   "version": "3.8.10"
  },
  "widgets": {
   "application/vnd.jupyter.widget-state+json": {
    "state": {
     "003d5c14e2a440b7b719b1edac7a4209": {
      "model_module": "@jupyter-widgets/controls",
      "model_module_version": "2.0.0",
      "model_name": "VBoxModel",
      "state": {
       "children": [
        "IPY_MODEL_d776b95494664508a0d087d5d60e67a7",
        "IPY_MODEL_c65ad04d91334b2894238491ccb551e5"
       ],
       "layout": "IPY_MODEL_d6cf5c61c6b54800afd0681a845eafb0"
      }
     },
     "02be00a86bbb4cd693878fff7b374fcb": {
      "model_module": "@jupyter-widgets/controls",
      "model_module_version": "2.0.0",
      "model_name": "ProgressStyleModel",
      "state": {
       "description_width": ""
      }
     },
     "039733d453f5428e905ba3bcd7f31ab0": {
      "model_module": "@jupyter-widgets/base",
      "model_module_version": "2.0.0",
      "model_name": "LayoutModel",
      "state": {}
     },
     "042f46cc6abf4fcfb46f2edd39b20374": {
      "model_module": "@jupyter-widgets/controls",
      "model_module_version": "2.0.0",
      "model_name": "HTMLModel",
      "state": {
       "layout": "IPY_MODEL_f9b44973a0de4488a354bf1e4f3ea305",
       "style": "IPY_MODEL_491d52acd0724ba4911ae4b368153076",
       "value": "Loading checkpoint shards: 100%"
      }
     },
     "0795264e58824c3698952d90afbdcf4c": {
      "model_module": "@jupyter-widgets/controls",
      "model_module_version": "2.0.0",
      "model_name": "FloatProgressModel",
      "state": {
       "layout": "IPY_MODEL_15a35e92fa964b1c8885ce6d5db7e975",
       "max": 1,
       "style": "IPY_MODEL_ea82c736107d4133b81f4d175f43804c"
      }
     },
     "07c650d09c764fb29d840a27c6981252": {
      "model_module": "@jupyter-widgets/controls",
      "model_module_version": "2.0.0",
      "model_name": "HTMLModel",
      "state": {
       "layout": "IPY_MODEL_f20d79ec2a5a45b5a99aa9f2e614e3ed",
       "style": "IPY_MODEL_0f3eaf286d6d4e65bcce0b584dcec857",
       "value": "Loading checkpoint shards: 100%"
      }
     },
     "095df7cda9f942e6accfc113f9a608f4": {
      "model_module": "@jupyter-widgets/controls",
      "model_module_version": "2.0.0",
      "model_name": "FloatProgressModel",
      "state": {
       "layout": "IPY_MODEL_493e17caf756436d9fb0c6b2ebe61c64",
       "max": 1,
       "style": "IPY_MODEL_fd3ff2e6f63147bf99366fe146d73be6"
      }
     },
     "0a1c315049b24d7cbfde0f28c1ea92d3": {
      "model_module": "@jupyter-widgets/controls",
      "model_module_version": "2.0.0",
      "model_name": "HBoxModel",
      "state": {
       "children": [
        "IPY_MODEL_042f46cc6abf4fcfb46f2edd39b20374",
        "IPY_MODEL_a027765f61214ce6937eaedb6e014a25",
        "IPY_MODEL_779688b9398244d1898ebc455a1dc753"
       ],
       "layout": "IPY_MODEL_2902b213cbce4a86bdb6c39772329758"
      }
     },
     "0a48cc5be35944e99e67634d64561b88": {
      "model_module": "@jupyter-widgets/base",
      "model_module_version": "2.0.0",
      "model_name": "LayoutModel",
      "state": {}
     },
     "0bfd5dff25994802ae346098cd5c141e": {
      "model_module": "@jupyter-widgets/controls",
      "model_module_version": "2.0.0",
      "model_name": "LabelModel",
      "state": {
       "layout": "IPY_MODEL_cb8b907a69204175811260324e961e33",
       "style": "IPY_MODEL_f10f6ec76e91475aad8efb5afe9e4db4"
      }
     },
     "0c84057a4f9145bfba9441c0a867b54f": {
      "model_module": "@jupyter-widgets/controls",
      "model_module_version": "2.0.0",
      "model_name": "FloatProgressModel",
      "state": {
       "layout": "IPY_MODEL_9d9a63d0caa949c2b76bfb001253775c",
       "max": 1,
       "style": "IPY_MODEL_0ea3f9a1f326459b95d3760e244601dc"
      }
     },
     "0cbe5f8d713840f88e80c2143791be5b": {
      "model_module": "@jupyter-widgets/controls",
      "model_module_version": "2.0.0",
      "model_name": "FloatProgressModel",
      "state": {
       "layout": "IPY_MODEL_7f6b4f96d07946ce8d33bff5d40dcd8c",
       "max": 1,
       "style": "IPY_MODEL_bf5c59844720466298c193ff4308dbc2"
      }
     },
     "0d42a32ce7b04a69a61fa3a19ef5322d": {
      "model_module": "@jupyter-widgets/controls",
      "model_module_version": "2.0.0",
      "model_name": "ProgressStyleModel",
      "state": {
       "description_width": ""
      }
     },
     "0e704465cd7642bc84f4345a44ce333f": {
      "model_module": "@jupyter-widgets/base",
      "model_module_version": "2.0.0",
      "model_name": "LayoutModel",
      "state": {}
     },
     "0ea3f9a1f326459b95d3760e244601dc": {
      "model_module": "@jupyter-widgets/controls",
      "model_module_version": "2.0.0",
      "model_name": "ProgressStyleModel",
      "state": {
       "description_width": ""
      }
     },
     "0f3eaf286d6d4e65bcce0b584dcec857": {
      "model_module": "@jupyter-widgets/controls",
      "model_module_version": "2.0.0",
      "model_name": "HTMLStyleModel",
      "state": {
       "description_width": "",
       "font_size": null,
       "text_color": null
      }
     },
     "0fb9931b7b354230bd28a48152219a7b": {
      "model_module": "@jupyter-widgets/controls",
      "model_module_version": "2.0.0",
      "model_name": "VBoxModel",
      "state": {
       "children": [
        "IPY_MODEL_2d81285ffff9403aad25c036a57b36cf",
        "IPY_MODEL_662a3c90f23d45e9ab0cd4fac9d0f25d"
       ],
       "layout": "IPY_MODEL_0a48cc5be35944e99e67634d64561b88"
      }
     },
     "1009b27088a6447d921516cf6a919db7": {
      "model_module": "@jupyter-widgets/base",
      "model_module_version": "2.0.0",
      "model_name": "LayoutModel",
      "state": {}
     },
     "10c25dbc3aff45d9bc9e8c3fd35352e6": {
      "model_module": "@jupyter-widgets/controls",
      "model_module_version": "2.0.0",
      "model_name": "FloatProgressModel",
      "state": {
       "bar_style": "success",
       "layout": "IPY_MODEL_613d2bc3aaa5470ebf6a7369e08e55df",
       "max": 2,
       "style": "IPY_MODEL_72e854f9003a4de686a5d2b9ef21c3f7",
       "value": 2
      }
     },
     "12c58c90551a4737ab22b44603a56b78": {
      "model_module": "@jupyter-widgets/controls",
      "model_module_version": "2.0.0",
      "model_name": "FloatProgressModel",
      "state": {
       "layout": "IPY_MODEL_fd0c42ffe27e4075966ac46d1d670772",
       "max": 1,
       "style": "IPY_MODEL_30640a80383d4fd3a8d9e85886039b5d"
      }
     },
     "130f744a456f479ebd9b29417c4e92f6": {
      "model_module": "@jupyter-widgets/controls",
      "model_module_version": "2.0.0",
      "model_name": "HTMLModel",
      "state": {
       "layout": "IPY_MODEL_a1a8ba0dce154be9b3164f66e4cf473b",
       "style": "IPY_MODEL_bcb5b306ed704ecbaaac1100cbc02310",
       "value": "Loading checkpoint shards: 100%"
      }
     },
     "13192e72ccc242f0b9cc235c7586e77e": {
      "model_module": "@jupyter-widgets/base",
      "model_module_version": "2.0.0",
      "model_name": "LayoutModel",
      "state": {}
     },
     "13d632c7095f42af92c58873e8c14ba2": {
      "model_module": "@jupyter-widgets/base",
      "model_module_version": "2.0.0",
      "model_name": "LayoutModel",
      "state": {}
     },
     "13f1eaf98bbb46679a32d3d880598d16": {
      "model_module": "@jupyter-widgets/controls",
      "model_module_version": "2.0.0",
      "model_name": "LabelStyleModel",
      "state": {
       "description_width": "",
       "font_family": null,
       "font_size": null,
       "font_style": null,
       "font_variant": null,
       "font_weight": null,
       "text_color": null,
       "text_decoration": null
      }
     },
     "15a35e92fa964b1c8885ce6d5db7e975": {
      "model_module": "@jupyter-widgets/base",
      "model_module_version": "2.0.0",
      "model_name": "LayoutModel",
      "state": {}
     },
     "176b8d5034d148ce8188f16e70cbe507": {
      "model_module": "@jupyter-widgets/controls",
      "model_module_version": "2.0.0",
      "model_name": "ProgressStyleModel",
      "state": {
       "description_width": ""
      }
     },
     "17e0f90741ff49839c7203e357f3322c": {
      "model_module": "@jupyter-widgets/controls",
      "model_module_version": "2.0.0",
      "model_name": "ProgressStyleModel",
      "state": {
       "description_width": ""
      }
     },
     "1886741b4e79401dad2af00ba89abeba": {
      "model_module": "@jupyter-widgets/base",
      "model_module_version": "2.0.0",
      "model_name": "LayoutModel",
      "state": {}
     },
     "18ece0ec98cd45088f7fc7d86eaacb62": {
      "model_module": "@jupyter-widgets/controls",
      "model_module_version": "2.0.0",
      "model_name": "HBoxModel",
      "state": {
       "children": [
        "IPY_MODEL_9be00fa7ad554ec781c70429962f20fb",
        "IPY_MODEL_c707eeae2c924928864ad24c61c15bff",
        "IPY_MODEL_36f4a02cebd34ca98b488711d6f92393"
       ],
       "layout": "IPY_MODEL_9c8cf8b79f7b4aa9b4373922afaffed5"
      }
     },
     "1a8630a8c0d34a7f9880d4508679303a": {
      "model_module": "@jupyter-widgets/controls",
      "model_module_version": "2.0.0",
      "model_name": "FloatProgressModel",
      "state": {
       "layout": "IPY_MODEL_baeca8398ad34330b9b7081ff34770d3",
       "max": 1,
       "style": "IPY_MODEL_63ae9435705840dd9a8df8c2c23dc6f6"
      }
     },
     "1ff97fb3efda40a58dadee7cc50e23dc": {
      "model_module": "@jupyter-widgets/controls",
      "model_module_version": "2.0.0",
      "model_name": "LabelStyleModel",
      "state": {
       "description_width": "",
       "font_family": null,
       "font_size": null,
       "font_style": null,
       "font_variant": null,
       "font_weight": null,
       "text_color": null,
       "text_decoration": null
      }
     },
     "2125ac77e37f44bf822c248b5743e7a7": {
      "model_module": "@jupyter-widgets/controls",
      "model_module_version": "2.0.0",
      "model_name": "VBoxModel",
      "state": {
       "children": [
        "IPY_MODEL_89bc79e5b63642169e202c7f5fb21e8b",
        "IPY_MODEL_ad06e1f50f684244b4c061295548e66d"
       ],
       "layout": "IPY_MODEL_6a4f461ced824a2fa43638e598356b01"
      }
     },
     "2266d28baa874f26bfe50e46687ad143": {
      "model_module": "@jupyter-widgets/controls",
      "model_module_version": "2.0.0",
      "model_name": "FloatProgressModel",
      "state": {
       "layout": "IPY_MODEL_9817c66ac4d745e9bdbda7758aef331b",
       "max": 1,
       "style": "IPY_MODEL_af1b9a66f44f45e6878decc6570d1f2a"
      }
     },
     "228a1fb550324ac1b22f0794bcf985b9": {
      "model_module": "@jupyter-widgets/base",
      "model_module_version": "2.0.0",
      "model_name": "LayoutModel",
      "state": {}
     },
     "22a9fae31def44dc82ca8b8ca6aa4ba6": {
      "model_module": "@jupyter-widgets/controls",
      "model_module_version": "2.0.0",
      "model_name": "ProgressStyleModel",
      "state": {
       "description_width": ""
      }
     },
     "22e6915a201944148a86bea7cbbf40d7": {
      "model_module": "@jupyter-widgets/controls",
      "model_module_version": "2.0.0",
      "model_name": "HTMLModel",
      "state": {
       "layout": "IPY_MODEL_f6d55e596ff9435e914eee7eae9268f5",
       "style": "IPY_MODEL_5fc49d529ea645e2b677248273835cbe",
       "value": " 2/2 [00:06&lt;00:00,  2.94s/it]"
      }
     },
     "24b87418940040e1aebf4c4c22d2b40a": {
      "model_module": "@jupyter-widgets/base",
      "model_module_version": "2.0.0",
      "model_name": "LayoutModel",
      "state": {}
     },
     "26e3a08bfe2140fab1537c779620eafc": {
      "model_module": "@jupyter-widgets/base",
      "model_module_version": "2.0.0",
      "model_name": "LayoutModel",
      "state": {}
     },
     "28d96fd8d4da4b239bf199433d9b41fe": {
      "model_module": "@jupyter-widgets/controls",
      "model_module_version": "2.0.0",
      "model_name": "FloatProgressModel",
      "state": {
       "bar_style": "success",
       "layout": "IPY_MODEL_ed54d6f5cc4d45b483317c6ce59b92f4",
       "max": 2,
       "style": "IPY_MODEL_176b8d5034d148ce8188f16e70cbe507",
       "value": 2
      }
     },
     "2902b213cbce4a86bdb6c39772329758": {
      "model_module": "@jupyter-widgets/base",
      "model_module_version": "2.0.0",
      "model_name": "LayoutModel",
      "state": {}
     },
     "2a33b01c020148119bcb45cc221912f2": {
      "model_module": "@jupyter-widgets/base",
      "model_module_version": "2.0.0",
      "model_name": "LayoutModel",
      "state": {}
     },
     "2ad3e5a56ff94cf3bf0cb887c18c8177": {
      "model_module": "@jupyter-widgets/controls",
      "model_module_version": "2.0.0",
      "model_name": "LabelModel",
      "state": {
       "layout": "IPY_MODEL_b0fa4fa1f5304904865b151a28669934",
       "style": "IPY_MODEL_1ff97fb3efda40a58dadee7cc50e23dc"
      }
     },
     "2adb41d78e0b4237ada2c304e89507db": {
      "model_module": "@jupyter-widgets/controls",
      "model_module_version": "2.0.0",
      "model_name": "HTMLModel",
      "state": {
       "layout": "IPY_MODEL_e1a75450390f4866b21c7c5d84e559e4",
       "style": "IPY_MODEL_a651675d568d479d9b9208412cf38d53",
       "value": " 2/2 [00:07&lt;00:00,  3.31s/it]"
      }
     },
     "2d45a399836941c68a208abbb2943302": {
      "model_module": "@jupyter-widgets/base",
      "model_module_version": "2.0.0",
      "model_name": "LayoutModel",
      "state": {}
     },
     "2d81285ffff9403aad25c036a57b36cf": {
      "model_module": "@jupyter-widgets/controls",
      "model_module_version": "2.0.0",
      "model_name": "LabelModel",
      "state": {
       "layout": "IPY_MODEL_718194bf66f742c6a42b6ea18265b7bd",
       "style": "IPY_MODEL_e29962187e4542f489567ebcb16c6cb2",
       "value": "Waiting for wandb.init()...\r"
      }
     },
     "2e0765d5b8604c0a9aef383395862e51": {
      "model_module": "@jupyter-widgets/controls",
      "model_module_version": "2.0.0",
      "model_name": "VBoxModel",
      "state": {
       "children": [
        "IPY_MODEL_932eda29f52e465ea3b08fba85d145d8",
        "IPY_MODEL_d9247bf723574a209baf0ae426c6bbfe"
       ],
       "layout": "IPY_MODEL_13192e72ccc242f0b9cc235c7586e77e"
      }
     },
     "2fef6f583e924f7f98eb1f2147c6692f": {
      "model_module": "@jupyter-widgets/controls",
      "model_module_version": "2.0.0",
      "model_name": "LabelStyleModel",
      "state": {
       "description_width": "",
       "font_family": null,
       "font_size": null,
       "font_style": null,
       "font_variant": null,
       "font_weight": null,
       "text_color": null,
       "text_decoration": null
      }
     },
     "30640a80383d4fd3a8d9e85886039b5d": {
      "model_module": "@jupyter-widgets/controls",
      "model_module_version": "2.0.0",
      "model_name": "ProgressStyleModel",
      "state": {
       "description_width": ""
      }
     },
     "3066a15999f34df3b7415e86c78e8560": {
      "model_module": "@jupyter-widgets/controls",
      "model_module_version": "2.0.0",
      "model_name": "HTMLStyleModel",
      "state": {
       "description_width": "",
       "font_size": null,
       "text_color": null
      }
     },
     "30c5ccd2f29d4ff089608cf5c100c68f": {
      "model_module": "@jupyter-widgets/base",
      "model_module_version": "2.0.0",
      "model_name": "LayoutModel",
      "state": {}
     },
     "30f48431f3374f21803bab90deafb598": {
      "model_module": "@jupyter-widgets/controls",
      "model_module_version": "2.0.0",
      "model_name": "HTMLStyleModel",
      "state": {
       "description_width": "",
       "font_size": null,
       "text_color": null
      }
     },
     "3137876a7f8440f6abc540731db12afc": {
      "model_module": "@jupyter-widgets/base",
      "model_module_version": "2.0.0",
      "model_name": "LayoutModel",
      "state": {}
     },
     "31e5658222694d6a9b21d3b2fc433660": {
      "model_module": "@jupyter-widgets/controls",
      "model_module_version": "2.0.0",
      "model_name": "FloatProgressModel",
      "state": {
       "layout": "IPY_MODEL_8eb6b9bf074d48d3b7cb4bc9fe8f1e95",
       "max": 1,
       "style": "IPY_MODEL_bb39d60e65c64c9eb44759e96673ad48"
      }
     },
     "335f49770187483bb5a4f56a72a5dbad": {
      "model_module": "@jupyter-widgets/base",
      "model_module_version": "2.0.0",
      "model_name": "LayoutModel",
      "state": {}
     },
     "34781be8ab864dc4ad97b63f3347d81c": {
      "model_module": "@jupyter-widgets/base",
      "model_module_version": "2.0.0",
      "model_name": "LayoutModel",
      "state": {}
     },
     "36a076eb861544d9a5013943a21779f7": {
      "model_module": "@jupyter-widgets/controls",
      "model_module_version": "2.0.0",
      "model_name": "FloatProgressModel",
      "state": {
       "layout": "IPY_MODEL_24b87418940040e1aebf4c4c22d2b40a",
       "max": 1,
       "style": "IPY_MODEL_b2fe0c3f80c84d449d1acccaf3d8c98c"
      }
     },
     "36f4a02cebd34ca98b488711d6f92393": {
      "model_module": "@jupyter-widgets/controls",
      "model_module_version": "2.0.0",
      "model_name": "HTMLModel",
      "state": {
       "layout": "IPY_MODEL_8fd1d8dc6de342d1b6f91ae607fcd86c",
       "style": "IPY_MODEL_eb2224220e7044ffa99570e217dd5f55",
       "value": " 2/2 [00:07&lt;00:00,  3.32s/it]"
      }
     },
     "3844bae8a07c4a31a8fcde942e2d673c": {
      "model_module": "@jupyter-widgets/controls",
      "model_module_version": "2.0.0",
      "model_name": "ProgressStyleModel",
      "state": {
       "description_width": ""
      }
     },
     "38b7f01d2c6f43b2bff77df8a674ddb6": {
      "model_module": "@jupyter-widgets/controls",
      "model_module_version": "2.0.0",
      "model_name": "FloatProgressModel",
      "state": {
       "layout": "IPY_MODEL_7b53eb0855214b218fa6d6f8040680ef",
       "max": 1,
       "style": "IPY_MODEL_3d8a5a1f7963484e80093758a09d5cef"
      }
     },
     "397fb4a2541f4527a4d99b619d828d03": {
      "model_module": "@jupyter-widgets/controls",
      "model_module_version": "2.0.0",
      "model_name": "LabelModel",
      "state": {
       "layout": "IPY_MODEL_737c4c7e3b9d4e4792d1680414f394ae",
       "style": "IPY_MODEL_7e5e8e6cd61d42f2bb3a73f4b180e995"
      }
     },
     "3d3a568f91444684bedf7c5a3cb10dc2": {
      "model_module": "@jupyter-widgets/base",
      "model_module_version": "2.0.0",
      "model_name": "LayoutModel",
      "state": {}
     },
     "3d8a5a1f7963484e80093758a09d5cef": {
      "model_module": "@jupyter-widgets/controls",
      "model_module_version": "2.0.0",
      "model_name": "ProgressStyleModel",
      "state": {
       "description_width": ""
      }
     },
     "3e74027adf514dc086a9f8015a0dc4ae": {
      "model_module": "@jupyter-widgets/controls",
      "model_module_version": "2.0.0",
      "model_name": "LabelModel",
      "state": {
       "layout": "IPY_MODEL_13d632c7095f42af92c58873e8c14ba2",
       "style": "IPY_MODEL_13f1eaf98bbb46679a32d3d880598d16"
      }
     },
     "3e94f231eeff46a99433466155b50592": {
      "model_module": "@jupyter-widgets/controls",
      "model_module_version": "2.0.0",
      "model_name": "VBoxModel",
      "state": {
       "children": [
        "IPY_MODEL_397fb4a2541f4527a4d99b619d828d03",
        "IPY_MODEL_2266d28baa874f26bfe50e46687ad143"
       ],
       "layout": "IPY_MODEL_9ba1c8b681dd40faa83ca2260d4a0861"
      }
     },
     "3fdd0c627faf40ac84250e7741c66815": {
      "model_module": "@jupyter-widgets/controls",
      "model_module_version": "2.0.0",
      "model_name": "HTMLModel",
      "state": {
       "layout": "IPY_MODEL_95fc19140517488faaaafb87d8707f67",
       "style": "IPY_MODEL_c6ec2810164c465fa35c549756f3e48d",
       "value": " 2/2 [00:06&lt;00:00,  2.80s/it]"
      }
     },
     "3fef59af65154df29eb782fae4bbc2a4": {
      "model_module": "@jupyter-widgets/controls",
      "model_module_version": "2.0.0",
      "model_name": "FloatProgressModel",
      "state": {
       "layout": "IPY_MODEL_0e704465cd7642bc84f4345a44ce333f",
       "max": 1,
       "style": "IPY_MODEL_95e46fbf551e475786851248dbcff474"
      }
     },
     "484034bcd6e6458384e78228c4a40155": {
      "model_module": "@jupyter-widgets/base",
      "model_module_version": "2.0.0",
      "model_name": "LayoutModel",
      "state": {}
     },
     "491d52acd0724ba4911ae4b368153076": {
      "model_module": "@jupyter-widgets/controls",
      "model_module_version": "2.0.0",
      "model_name": "HTMLStyleModel",
      "state": {
       "description_width": "",
       "font_size": null,
       "text_color": null
      }
     },
     "493e17caf756436d9fb0c6b2ebe61c64": {
      "model_module": "@jupyter-widgets/base",
      "model_module_version": "2.0.0",
      "model_name": "LayoutModel",
      "state": {}
     },
     "4aa2b859d58849eea020bdecd6bfeede": {
      "model_module": "@jupyter-widgets/base",
      "model_module_version": "2.0.0",
      "model_name": "LayoutModel",
      "state": {}
     },
     "4f1e3fd9648b4d64b51ce02c766f1190": {
      "model_module": "@jupyter-widgets/controls",
      "model_module_version": "2.0.0",
      "model_name": "LabelModel",
      "state": {
       "layout": "IPY_MODEL_4aa2b859d58849eea020bdecd6bfeede",
       "style": "IPY_MODEL_b0f3c2de25294e88b794bc621c6e5997"
      }
     },
     "51b8ad5c5d8c41798ab7243b199832f3": {
      "model_module": "@jupyter-widgets/base",
      "model_module_version": "2.0.0",
      "model_name": "LayoutModel",
      "state": {}
     },
     "5265c9d33889450bb077c5fcea82897e": {
      "model_module": "@jupyter-widgets/controls",
      "model_module_version": "2.0.0",
      "model_name": "HBoxModel",
      "state": {
       "children": [
        "IPY_MODEL_07c650d09c764fb29d840a27c6981252",
        "IPY_MODEL_a67df92e8f6e46f9a356682a6ce7a3a9",
        "IPY_MODEL_d0c1faf35b424dd29e66629bf6685f40"
       ],
       "layout": "IPY_MODEL_484034bcd6e6458384e78228c4a40155"
      }
     },
     "5901c1e1833540df979db05a14bb1165": {
      "model_module": "@jupyter-widgets/controls",
      "model_module_version": "2.0.0",
      "model_name": "LabelModel",
      "state": {
       "layout": "IPY_MODEL_51b8ad5c5d8c41798ab7243b199832f3",
       "style": "IPY_MODEL_7bba43a0769d46c28970b010df3b7fd7"
      }
     },
     "5d15ba055f63476d9b1d4f7733ce1d21": {
      "model_module": "@jupyter-widgets/controls",
      "model_module_version": "2.0.0",
      "model_name": "HTMLStyleModel",
      "state": {
       "description_width": "",
       "font_size": null,
       "text_color": null
      }
     },
     "5fc49d529ea645e2b677248273835cbe": {
      "model_module": "@jupyter-widgets/controls",
      "model_module_version": "2.0.0",
      "model_name": "HTMLStyleModel",
      "state": {
       "description_width": "",
       "font_size": null,
       "text_color": null
      }
     },
     "605ee6e64d7142abadf38c7948ee4d41": {
      "model_module": "@jupyter-widgets/base",
      "model_module_version": "2.0.0",
      "model_name": "LayoutModel",
      "state": {}
     },
     "60c7395a1eb84ce9af4d13a503550b1d": {
      "model_module": "@jupyter-widgets/controls",
      "model_module_version": "2.0.0",
      "model_name": "HTMLStyleModel",
      "state": {
       "description_width": "",
       "font_size": null,
       "text_color": null
      }
     },
     "613d2bc3aaa5470ebf6a7369e08e55df": {
      "model_module": "@jupyter-widgets/base",
      "model_module_version": "2.0.0",
      "model_name": "LayoutModel",
      "state": {}
     },
     "615524208c5b4442b8ef577724f521e3": {
      "model_module": "@jupyter-widgets/controls",
      "model_module_version": "2.0.0",
      "model_name": "ProgressStyleModel",
      "state": {
       "description_width": ""
      }
     },
     "61c6a7fdf49c4ab890b4192c0adca817": {
      "model_module": "@jupyter-widgets/base",
      "model_module_version": "2.0.0",
      "model_name": "LayoutModel",
      "state": {}
     },
     "636f842fff214c25a29e86471f155778": {
      "model_module": "@jupyter-widgets/controls",
      "model_module_version": "2.0.0",
      "model_name": "FloatProgressModel",
      "state": {
       "bar_style": "success",
       "layout": "IPY_MODEL_87cdd97c53c4401aadc696cef6f9afd0",
       "max": 2,
       "style": "IPY_MODEL_0d42a32ce7b04a69a61fa3a19ef5322d",
       "value": 2
      }
     },
     "63ae9435705840dd9a8df8c2c23dc6f6": {
      "model_module": "@jupyter-widgets/controls",
      "model_module_version": "2.0.0",
      "model_name": "ProgressStyleModel",
      "state": {
       "description_width": ""
      }
     },
     "6499e875349d44af90501d8837a013f9": {
      "model_module": "@jupyter-widgets/base",
      "model_module_version": "2.0.0",
      "model_name": "LayoutModel",
      "state": {}
     },
     "65db373dadee4fc3a84ba2490ef535bc": {
      "model_module": "@jupyter-widgets/controls",
      "model_module_version": "2.0.0",
      "model_name": "LabelModel",
      "state": {
       "layout": "IPY_MODEL_34781be8ab864dc4ad97b63f3347d81c",
       "style": "IPY_MODEL_b77e1e9023fb4ce49e669643af483999"
      }
     },
     "662a3c90f23d45e9ab0cd4fac9d0f25d": {
      "model_module": "@jupyter-widgets/controls",
      "model_module_version": "2.0.0",
      "model_name": "FloatProgressModel",
      "state": {
       "layout": "IPY_MODEL_8a9f8bc2af5542bbb37e31b4bc891014",
       "max": 1,
       "style": "IPY_MODEL_ccb3bda29e1345df85d2851d11e941e7",
       "value": 1
      }
     },
     "665f59dce51e41e7bc5045c986577d41": {
      "model_module": "@jupyter-widgets/controls",
      "model_module_version": "2.0.0",
      "model_name": "VBoxModel",
      "state": {
       "children": [
        "IPY_MODEL_0bfd5dff25994802ae346098cd5c141e",
        "IPY_MODEL_1a8630a8c0d34a7f9880d4508679303a"
       ],
       "layout": "IPY_MODEL_b55bc4800ca8472f81ab987fa3035546"
      }
     },
     "6820db9708d141029547900b0251ec66": {
      "model_module": "@jupyter-widgets/controls",
      "model_module_version": "2.0.0",
      "model_name": "HTMLStyleModel",
      "state": {
       "description_width": "",
       "font_size": null,
       "text_color": null
      }
     },
     "68cb43395b514cb18f7db86db82482d6": {
      "model_module": "@jupyter-widgets/controls",
      "model_module_version": "2.0.0",
      "model_name": "HTMLModel",
      "state": {
       "layout": "IPY_MODEL_039733d453f5428e905ba3bcd7f31ab0",
       "style": "IPY_MODEL_7aa7a9fba727402eb3bb523d6d77d43b",
       "value": "Loading checkpoint shards: 100%"
      }
     },
     "69b887fe1e934440b9c9a7904396c50a": {
      "model_module": "@jupyter-widgets/controls",
      "model_module_version": "2.0.0",
      "model_name": "LabelStyleModel",
      "state": {
       "description_width": "",
       "font_family": null,
       "font_size": null,
       "font_style": null,
       "font_variant": null,
       "font_weight": null,
       "text_color": null,
       "text_decoration": null
      }
     },
     "6a234fd3e32e4771909abf34e2ca6977": {
      "model_module": "@jupyter-widgets/base",
      "model_module_version": "2.0.0",
      "model_name": "LayoutModel",
      "state": {}
     },
     "6a4310028a30438b881c349c134e19bb": {
      "model_module": "@jupyter-widgets/controls",
      "model_module_version": "2.0.0",
      "model_name": "LabelStyleModel",
      "state": {
       "description_width": "",
       "font_family": null,
       "font_size": null,
       "font_style": null,
       "font_variant": null,
       "font_weight": null,
       "text_color": null,
       "text_decoration": null
      }
     },
     "6a4f461ced824a2fa43638e598356b01": {
      "model_module": "@jupyter-widgets/base",
      "model_module_version": "2.0.0",
      "model_name": "LayoutModel",
      "state": {}
     },
     "6b860ef6219e40d991662ea8ce8f19ec": {
      "model_module": "@jupyter-widgets/controls",
      "model_module_version": "2.0.0",
      "model_name": "LabelModel",
      "state": {
       "layout": "IPY_MODEL_7c89f2cbc10b42b09168535f6b9c4eba",
       "style": "IPY_MODEL_6a4310028a30438b881c349c134e19bb"
      }
     },
     "6ddc13a602854991a30e000b6793fc18": {
      "model_module": "@jupyter-widgets/controls",
      "model_module_version": "2.0.0",
      "model_name": "LabelStyleModel",
      "state": {
       "description_width": "",
       "font_family": null,
       "font_size": null,
       "font_style": null,
       "font_variant": null,
       "font_weight": null,
       "text_color": null,
       "text_decoration": null
      }
     },
     "7069aa47b8b748d78c53f09e8f3f3163": {
      "model_module": "@jupyter-widgets/controls",
      "model_module_version": "2.0.0",
      "model_name": "VBoxModel",
      "state": {
       "children": [
        "IPY_MODEL_8ebe00cea01043b2beb55371d83746c6",
        "IPY_MODEL_12c58c90551a4737ab22b44603a56b78"
       ],
       "layout": "IPY_MODEL_f7e29c460efd49a4bfabe8f3d503e76c"
      }
     },
     "718194bf66f742c6a42b6ea18265b7bd": {
      "model_module": "@jupyter-widgets/base",
      "model_module_version": "2.0.0",
      "model_name": "LayoutModel",
      "state": {}
     },
     "724a9f2b57f247e58650fd6ad6255322": {
      "model_module": "@jupyter-widgets/base",
      "model_module_version": "2.0.0",
      "model_name": "LayoutModel",
      "state": {}
     },
     "72e854f9003a4de686a5d2b9ef21c3f7": {
      "model_module": "@jupyter-widgets/controls",
      "model_module_version": "2.0.0",
      "model_name": "ProgressStyleModel",
      "state": {
       "description_width": ""
      }
     },
     "731c9d0bdf094a7ea3db5bcba42be2df": {
      "model_module": "@jupyter-widgets/base",
      "model_module_version": "2.0.0",
      "model_name": "LayoutModel",
      "state": {}
     },
     "733d4b8d4ae647839fc7ddee1b12813f": {
      "model_module": "@jupyter-widgets/controls",
      "model_module_version": "2.0.0",
      "model_name": "LabelModel",
      "state": {
       "layout": "IPY_MODEL_30c5ccd2f29d4ff089608cf5c100c68f",
       "style": "IPY_MODEL_2fef6f583e924f7f98eb1f2147c6692f"
      }
     },
     "737c4c7e3b9d4e4792d1680414f394ae": {
      "model_module": "@jupyter-widgets/base",
      "model_module_version": "2.0.0",
      "model_name": "LayoutModel",
      "state": {}
     },
     "752f2eb46986475a935bb2daaedb95da": {
      "model_module": "@jupyter-widgets/controls",
      "model_module_version": "2.0.0",
      "model_name": "VBoxModel",
      "state": {
       "children": [
        "IPY_MODEL_4f1e3fd9648b4d64b51ce02c766f1190",
        "IPY_MODEL_38b7f01d2c6f43b2bff77df8a674ddb6"
       ],
       "layout": "IPY_MODEL_dfe9b3c2266d432dbda1c7ddd8e76ab9"
      }
     },
     "76ab32da24a04f6c9b65cf1ff134d2d9": {
      "model_module": "@jupyter-widgets/base",
      "model_module_version": "2.0.0",
      "model_name": "LayoutModel",
      "state": {}
     },
     "7700803384a24805bd3778f8925a60ff": {
      "model_module": "@jupyter-widgets/controls",
      "model_module_version": "2.0.0",
      "model_name": "HTMLStyleModel",
      "state": {
       "description_width": "",
       "font_size": null,
       "text_color": null
      }
     },
     "779688b9398244d1898ebc455a1dc753": {
      "model_module": "@jupyter-widgets/controls",
      "model_module_version": "2.0.0",
      "model_name": "HTMLModel",
      "state": {
       "layout": "IPY_MODEL_82fb1be44b2e45cfbd9df20914f125e2",
       "style": "IPY_MODEL_c8fa6fd3c6e04b91bd4effbd56a69794",
       "value": " 2/2 [00:05&lt;00:00,  2.73s/it]"
      }
     },
     "79e39bece7a84768b3b98203a56d812e": {
      "model_module": "@jupyter-widgets/base",
      "model_module_version": "2.0.0",
      "model_name": "LayoutModel",
      "state": {}
     },
     "7a0426a2019a4151b4a22a5374a9f149": {
      "model_module": "@jupyter-widgets/controls",
      "model_module_version": "2.0.0",
      "model_name": "FloatProgressModel",
      "state": {
       "layout": "IPY_MODEL_2d45a399836941c68a208abbb2943302",
       "max": 1,
       "style": "IPY_MODEL_aad33465185040f99f55d12cf97eae7b"
      }
     },
     "7a438504ee484b20bd5fb99a4f3d3cd4": {
      "model_module": "@jupyter-widgets/base",
      "model_module_version": "2.0.0",
      "model_name": "LayoutModel",
      "state": {}
     },
     "7aa7a9fba727402eb3bb523d6d77d43b": {
      "model_module": "@jupyter-widgets/controls",
      "model_module_version": "2.0.0",
      "model_name": "HTMLStyleModel",
      "state": {
       "description_width": "",
       "font_size": null,
       "text_color": null
      }
     },
     "7b53eb0855214b218fa6d6f8040680ef": {
      "model_module": "@jupyter-widgets/base",
      "model_module_version": "2.0.0",
      "model_name": "LayoutModel",
      "state": {}
     },
     "7bba43a0769d46c28970b010df3b7fd7": {
      "model_module": "@jupyter-widgets/controls",
      "model_module_version": "2.0.0",
      "model_name": "LabelStyleModel",
      "state": {
       "description_width": "",
       "font_family": null,
       "font_size": null,
       "font_style": null,
       "font_variant": null,
       "font_weight": null,
       "text_color": null,
       "text_decoration": null
      }
     },
     "7be10702c4b043c293691a5abdc20fff": {
      "model_module": "@jupyter-widgets/controls",
      "model_module_version": "2.0.0",
      "model_name": "LabelStyleModel",
      "state": {
       "description_width": "",
       "font_family": null,
       "font_size": null,
       "font_style": null,
       "font_variant": null,
       "font_weight": null,
       "text_color": null,
       "text_decoration": null
      }
     },
     "7c89f2cbc10b42b09168535f6b9c4eba": {
      "model_module": "@jupyter-widgets/base",
      "model_module_version": "2.0.0",
      "model_name": "LayoutModel",
      "state": {}
     },
     "7d604b10612c445ea1fedad8d8e87a4f": {
      "model_module": "@jupyter-widgets/controls",
      "model_module_version": "2.0.0",
      "model_name": "HTMLModel",
      "state": {
       "layout": "IPY_MODEL_ca95232e7bd04ce18942fa62837ffa50",
       "style": "IPY_MODEL_f92d56c71ed249ebbb3f7966dc1186b5",
       "value": "Loading checkpoint shards: 100%"
      }
     },
     "7e5e8e6cd61d42f2bb3a73f4b180e995": {
      "model_module": "@jupyter-widgets/controls",
      "model_module_version": "2.0.0",
      "model_name": "LabelStyleModel",
      "state": {
       "description_width": "",
       "font_family": null,
       "font_size": null,
       "font_style": null,
       "font_variant": null,
       "font_weight": null,
       "text_color": null,
       "text_decoration": null
      }
     },
     "7f6b4f96d07946ce8d33bff5d40dcd8c": {
      "model_module": "@jupyter-widgets/base",
      "model_module_version": "2.0.0",
      "model_name": "LayoutModel",
      "state": {}
     },
     "82fb1be44b2e45cfbd9df20914f125e2": {
      "model_module": "@jupyter-widgets/base",
      "model_module_version": "2.0.0",
      "model_name": "LayoutModel",
      "state": {}
     },
     "8553583f54794d4a99aca3b878cd700b": {
      "model_module": "@jupyter-widgets/controls",
      "model_module_version": "2.0.0",
      "model_name": "VBoxModel",
      "state": {
       "children": [
        "IPY_MODEL_65db373dadee4fc3a84ba2490ef535bc",
        "IPY_MODEL_3fef59af65154df29eb782fae4bbc2a4"
       ],
       "layout": "IPY_MODEL_3137876a7f8440f6abc540731db12afc"
      }
     },
     "87cdd97c53c4401aadc696cef6f9afd0": {
      "model_module": "@jupyter-widgets/base",
      "model_module_version": "2.0.0",
      "model_name": "LayoutModel",
      "state": {}
     },
     "89bc79e5b63642169e202c7f5fb21e8b": {
      "model_module": "@jupyter-widgets/controls",
      "model_module_version": "2.0.0",
      "model_name": "LabelModel",
      "state": {
       "layout": "IPY_MODEL_b59e3ebced724f009936949cef7eb0ea",
       "style": "IPY_MODEL_7be10702c4b043c293691a5abdc20fff"
      }
     },
     "89dd2d78263d4a8d859cd459d41e37b7": {
      "model_module": "@jupyter-widgets/base",
      "model_module_version": "2.0.0",
      "model_name": "LayoutModel",
      "state": {}
     },
     "8a9f8bc2af5542bbb37e31b4bc891014": {
      "model_module": "@jupyter-widgets/base",
      "model_module_version": "2.0.0",
      "model_name": "LayoutModel",
      "state": {}
     },
     "8c9cf154364f4ef585922a216436b939": {
      "model_module": "@jupyter-widgets/controls",
      "model_module_version": "2.0.0",
      "model_name": "LabelModel",
      "state": {
       "layout": "IPY_MODEL_731c9d0bdf094a7ea3db5bcba42be2df",
       "style": "IPY_MODEL_69b887fe1e934440b9c9a7904396c50a"
      }
     },
     "8e1d0888ec2141c0a3a918c31b58b9e6": {
      "model_module": "@jupyter-widgets/controls",
      "model_module_version": "2.0.0",
      "model_name": "FloatProgressModel",
      "state": {
       "bar_style": "success",
       "layout": "IPY_MODEL_89dd2d78263d4a8d859cd459d41e37b7",
       "max": 2,
       "style": "IPY_MODEL_17e0f90741ff49839c7203e357f3322c",
       "value": 2
      }
     },
     "8eb6b9bf074d48d3b7cb4bc9fe8f1e95": {
      "model_module": "@jupyter-widgets/base",
      "model_module_version": "2.0.0",
      "model_name": "LayoutModel",
      "state": {}
     },
     "8ebe00cea01043b2beb55371d83746c6": {
      "model_module": "@jupyter-widgets/controls",
      "model_module_version": "2.0.0",
      "model_name": "LabelModel",
      "state": {
       "layout": "IPY_MODEL_d80b5bf691a1461fbd80530a8901a02f",
       "style": "IPY_MODEL_97f460767d3246b9b7450bea2e99f0e0"
      }
     },
     "8f42168843894c438ac7e4c31fbb5cdf": {
      "model_module": "@jupyter-widgets/controls",
      "model_module_version": "2.0.0",
      "model_name": "ProgressStyleModel",
      "state": {
       "description_width": ""
      }
     },
     "8f801dab61c74d3a90b979743de1245c": {
      "model_module": "@jupyter-widgets/base",
      "model_module_version": "2.0.0",
      "model_name": "LayoutModel",
      "state": {}
     },
     "8fd1d8dc6de342d1b6f91ae607fcd86c": {
      "model_module": "@jupyter-widgets/base",
      "model_module_version": "2.0.0",
      "model_name": "LayoutModel",
      "state": {}
     },
     "932eda29f52e465ea3b08fba85d145d8": {
      "model_module": "@jupyter-widgets/controls",
      "model_module_version": "2.0.0",
      "model_name": "LabelModel",
      "state": {
       "layout": "IPY_MODEL_6499e875349d44af90501d8837a013f9",
       "style": "IPY_MODEL_9969983d23ea466d911f7a16a65d23bc"
      }
     },
     "93cee3ed6fee439da61a6ffc03f16cb9": {
      "model_module": "@jupyter-widgets/controls",
      "model_module_version": "2.0.0",
      "model_name": "VBoxModel",
      "state": {
       "children": [
        "IPY_MODEL_8c9cf154364f4ef585922a216436b939",
        "IPY_MODEL_31e5658222694d6a9b21d3b2fc433660"
       ],
       "layout": "IPY_MODEL_a9fcda971ee7470a9a4e47ee86eb62e8"
      }
     },
     "95e46fbf551e475786851248dbcff474": {
      "model_module": "@jupyter-widgets/controls",
      "model_module_version": "2.0.0",
      "model_name": "ProgressStyleModel",
      "state": {
       "description_width": ""
      }
     },
     "95fc19140517488faaaafb87d8707f67": {
      "model_module": "@jupyter-widgets/base",
      "model_module_version": "2.0.0",
      "model_name": "LayoutModel",
      "state": {}
     },
     "97c786e3e4124a7a9dea6eb78bdfa96a": {
      "model_module": "@jupyter-widgets/controls",
      "model_module_version": "2.0.0",
      "model_name": "HTMLStyleModel",
      "state": {
       "description_width": "",
       "font_size": null,
       "text_color": null
      }
     },
     "97f460767d3246b9b7450bea2e99f0e0": {
      "model_module": "@jupyter-widgets/controls",
      "model_module_version": "2.0.0",
      "model_name": "LabelStyleModel",
      "state": {
       "description_width": "",
       "font_family": null,
       "font_size": null,
       "font_style": null,
       "font_variant": null,
       "font_weight": null,
       "text_color": null,
       "text_decoration": null
      }
     },
     "9817c66ac4d745e9bdbda7758aef331b": {
      "model_module": "@jupyter-widgets/base",
      "model_module_version": "2.0.0",
      "model_name": "LayoutModel",
      "state": {}
     },
     "9969983d23ea466d911f7a16a65d23bc": {
      "model_module": "@jupyter-widgets/controls",
      "model_module_version": "2.0.0",
      "model_name": "LabelStyleModel",
      "state": {
       "description_width": "",
       "font_family": null,
       "font_size": null,
       "font_style": null,
       "font_variant": null,
       "font_weight": null,
       "text_color": null,
       "text_decoration": null
      }
     },
     "9ba1c8b681dd40faa83ca2260d4a0861": {
      "model_module": "@jupyter-widgets/base",
      "model_module_version": "2.0.0",
      "model_name": "LayoutModel",
      "state": {}
     },
     "9be00fa7ad554ec781c70429962f20fb": {
      "model_module": "@jupyter-widgets/controls",
      "model_module_version": "2.0.0",
      "model_name": "HTMLModel",
      "state": {
       "layout": "IPY_MODEL_f318998ed37d47a6a2d86bac43cbc8f9",
       "style": "IPY_MODEL_f83e48502bf242ceb13e40171767a2f1",
       "value": "Loading checkpoint shards: 100%"
      }
     },
     "9c8cf8b79f7b4aa9b4373922afaffed5": {
      "model_module": "@jupyter-widgets/base",
      "model_module_version": "2.0.0",
      "model_name": "LayoutModel",
      "state": {}
     },
     "9d7b67cc49c94b448ab031c98dfa9376": {
      "model_module": "@jupyter-widgets/controls",
      "model_module_version": "2.0.0",
      "model_name": "HTMLModel",
      "state": {
       "layout": "IPY_MODEL_335f49770187483bb5a4f56a72a5dbad",
       "style": "IPY_MODEL_3066a15999f34df3b7415e86c78e8560",
       "value": "Loading checkpoint shards: 100%"
      }
     },
     "9d9a63d0caa949c2b76bfb001253775c": {
      "model_module": "@jupyter-widgets/base",
      "model_module_version": "2.0.0",
      "model_name": "LayoutModel",
      "state": {}
     },
     "9ffcdd0dd21a427fa9ddc845ff531cad": {
      "model_module": "@jupyter-widgets/base",
      "model_module_version": "2.0.0",
      "model_name": "LayoutModel",
      "state": {}
     },
     "a027765f61214ce6937eaedb6e014a25": {
      "model_module": "@jupyter-widgets/controls",
      "model_module_version": "2.0.0",
      "model_name": "FloatProgressModel",
      "state": {
       "bar_style": "success",
       "layout": "IPY_MODEL_605ee6e64d7142abadf38c7948ee4d41",
       "max": 2,
       "style": "IPY_MODEL_8f42168843894c438ac7e4c31fbb5cdf",
       "value": 2
      }
     },
     "a1a8ba0dce154be9b3164f66e4cf473b": {
      "model_module": "@jupyter-widgets/base",
      "model_module_version": "2.0.0",
      "model_name": "LayoutModel",
      "state": {}
     },
     "a2bc8d6118b449fdb2e282d97f46a3d6": {
      "model_module": "@jupyter-widgets/controls",
      "model_module_version": "2.0.0",
      "model_name": "HTMLModel",
      "state": {
       "layout": "IPY_MODEL_cbab9924b2dd45d2bcb74bb69b02dd30",
       "style": "IPY_MODEL_7700803384a24805bd3778f8925a60ff",
       "value": "Loading checkpoint shards: 100%"
      }
     },
     "a4dc5c27e3984818b2f1c57af453ea15": {
      "model_module": "@jupyter-widgets/controls",
      "model_module_version": "2.0.0",
      "model_name": "FloatProgressModel",
      "state": {
       "bar_style": "success",
       "layout": "IPY_MODEL_c66d160aa0cf4b8d94403ae1bd79572d",
       "max": 2,
       "style": "IPY_MODEL_615524208c5b4442b8ef577724f521e3",
       "value": 2
      }
     },
     "a651675d568d479d9b9208412cf38d53": {
      "model_module": "@jupyter-widgets/controls",
      "model_module_version": "2.0.0",
      "model_name": "HTMLStyleModel",
      "state": {
       "description_width": "",
       "font_size": null,
       "text_color": null
      }
     },
     "a67df92e8f6e46f9a356682a6ce7a3a9": {
      "model_module": "@jupyter-widgets/controls",
      "model_module_version": "2.0.0",
      "model_name": "FloatProgressModel",
      "state": {
       "bar_style": "success",
       "layout": "IPY_MODEL_6a234fd3e32e4771909abf34e2ca6977",
       "max": 2,
       "style": "IPY_MODEL_baa7c87a80fb4a648caa9f158817e052",
       "value": 2
      }
     },
     "a9fcda971ee7470a9a4e47ee86eb62e8": {
      "model_module": "@jupyter-widgets/base",
      "model_module_version": "2.0.0",
      "model_name": "LayoutModel",
      "state": {}
     },
     "aa22b021ab7d450e8e8722b4d3a53673": {
      "model_module": "@jupyter-widgets/controls",
      "model_module_version": "2.0.0",
      "model_name": "HBoxModel",
      "state": {
       "children": [
        "IPY_MODEL_baaef3070801463aac5ceb69e3091d89",
        "IPY_MODEL_28d96fd8d4da4b239bf199433d9b41fe",
        "IPY_MODEL_f67192875af94957aa3591133a62b94d"
       ],
       "layout": "IPY_MODEL_7a438504ee484b20bd5fb99a4f3d3cd4"
      }
     },
     "aa5de78b3d0845ec814797cc6de268ed": {
      "model_module": "@jupyter-widgets/base",
      "model_module_version": "2.0.0",
      "model_name": "LayoutModel",
      "state": {}
     },
     "aad33465185040f99f55d12cf97eae7b": {
      "model_module": "@jupyter-widgets/controls",
      "model_module_version": "2.0.0",
      "model_name": "ProgressStyleModel",
      "state": {
       "description_width": ""
      }
     },
     "ad06e1f50f684244b4c061295548e66d": {
      "model_module": "@jupyter-widgets/controls",
      "model_module_version": "2.0.0",
      "model_name": "FloatProgressModel",
      "state": {
       "layout": "IPY_MODEL_cfa219dbbe66448ea4002a00494660b3",
       "max": 1,
       "style": "IPY_MODEL_3844bae8a07c4a31a8fcde942e2d673c"
      }
     },
     "af1b9a66f44f45e6878decc6570d1f2a": {
      "model_module": "@jupyter-widgets/controls",
      "model_module_version": "2.0.0",
      "model_name": "ProgressStyleModel",
      "state": {
       "description_width": ""
      }
     },
     "b029bbc37a204c588b68b5e254d62e07": {
      "model_module": "@jupyter-widgets/base",
      "model_module_version": "2.0.0",
      "model_name": "LayoutModel",
      "state": {}
     },
     "b0e74559eea741efa40e80bab7c8aa1f": {
      "model_module": "@jupyter-widgets/controls",
      "model_module_version": "2.0.0",
      "model_name": "HTMLModel",
      "state": {
       "layout": "IPY_MODEL_c90590eb33d646fd932ecbd9a9368bcf",
       "style": "IPY_MODEL_97c786e3e4124a7a9dea6eb78bdfa96a",
       "value": " 2/2 [00:05&lt;00:00,  2.67s/it]"
      }
     },
     "b0f3c2de25294e88b794bc621c6e5997": {
      "model_module": "@jupyter-widgets/controls",
      "model_module_version": "2.0.0",
      "model_name": "LabelStyleModel",
      "state": {
       "description_width": "",
       "font_family": null,
       "font_size": null,
       "font_style": null,
       "font_variant": null,
       "font_weight": null,
       "text_color": null,
       "text_decoration": null
      }
     },
     "b0fa4fa1f5304904865b151a28669934": {
      "model_module": "@jupyter-widgets/base",
      "model_module_version": "2.0.0",
      "model_name": "LayoutModel",
      "state": {}
     },
     "b10aff981173439589c7962808043715": {
      "model_module": "@jupyter-widgets/base",
      "model_module_version": "2.0.0",
      "model_name": "LayoutModel",
      "state": {}
     },
     "b2fe0c3f80c84d449d1acccaf3d8c98c": {
      "model_module": "@jupyter-widgets/controls",
      "model_module_version": "2.0.0",
      "model_name": "ProgressStyleModel",
      "state": {
       "description_width": ""
      }
     },
     "b47dcb6f5b034b4085808f1dde08000b": {
      "model_module": "@jupyter-widgets/base",
      "model_module_version": "2.0.0",
      "model_name": "LayoutModel",
      "state": {}
     },
     "b55bc4800ca8472f81ab987fa3035546": {
      "model_module": "@jupyter-widgets/base",
      "model_module_version": "2.0.0",
      "model_name": "LayoutModel",
      "state": {}
     },
     "b57b5fbc600c487392f0e3770872e7f9": {
      "model_module": "@jupyter-widgets/controls",
      "model_module_version": "2.0.0",
      "model_name": "HBoxModel",
      "state": {
       "children": [
        "IPY_MODEL_cf06de1b0880452fb849488670b6c188",
        "IPY_MODEL_bd70abd4dab34739a44cbeaf72600a91",
        "IPY_MODEL_e80c78692ac94ea2a5af46e2aa43473a"
       ],
       "layout": "IPY_MODEL_1009b27088a6447d921516cf6a919db7"
      }
     },
     "b59e3ebced724f009936949cef7eb0ea": {
      "model_module": "@jupyter-widgets/base",
      "model_module_version": "2.0.0",
      "model_name": "LayoutModel",
      "state": {}
     },
     "b77e1e9023fb4ce49e669643af483999": {
      "model_module": "@jupyter-widgets/controls",
      "model_module_version": "2.0.0",
      "model_name": "LabelStyleModel",
      "state": {
       "description_width": "",
       "font_family": null,
       "font_size": null,
       "font_style": null,
       "font_variant": null,
       "font_weight": null,
       "text_color": null,
       "text_decoration": null
      }
     },
     "b8ae3a5447a74017a3659b0281b1b2e0": {
      "model_module": "@jupyter-widgets/controls",
      "model_module_version": "2.0.0",
      "model_name": "VBoxModel",
      "state": {
       "children": [
        "IPY_MODEL_3e74027adf514dc086a9f8015a0dc4ae",
        "IPY_MODEL_095df7cda9f942e6accfc113f9a608f4"
       ],
       "layout": "IPY_MODEL_79e39bece7a84768b3b98203a56d812e"
      }
     },
     "baa7c87a80fb4a648caa9f158817e052": {
      "model_module": "@jupyter-widgets/controls",
      "model_module_version": "2.0.0",
      "model_name": "ProgressStyleModel",
      "state": {
       "description_width": ""
      }
     },
     "baaef3070801463aac5ceb69e3091d89": {
      "model_module": "@jupyter-widgets/controls",
      "model_module_version": "2.0.0",
      "model_name": "HTMLModel",
      "state": {
       "layout": "IPY_MODEL_2a33b01c020148119bcb45cc221912f2",
       "style": "IPY_MODEL_6820db9708d141029547900b0251ec66",
       "value": "Loading checkpoint shards: 100%"
      }
     },
     "baeca8398ad34330b9b7081ff34770d3": {
      "model_module": "@jupyter-widgets/base",
      "model_module_version": "2.0.0",
      "model_name": "LayoutModel",
      "state": {}
     },
     "bb39d60e65c64c9eb44759e96673ad48": {
      "model_module": "@jupyter-widgets/controls",
      "model_module_version": "2.0.0",
      "model_name": "ProgressStyleModel",
      "state": {
       "description_width": ""
      }
     },
     "bcb5b306ed704ecbaaac1100cbc02310": {
      "model_module": "@jupyter-widgets/controls",
      "model_module_version": "2.0.0",
      "model_name": "HTMLStyleModel",
      "state": {
       "description_width": "",
       "font_size": null,
       "text_color": null
      }
     },
     "bcf70582733f4d9caaf7c587e551f822": {
      "model_module": "@jupyter-widgets/controls",
      "model_module_version": "2.0.0",
      "model_name": "HBoxModel",
      "state": {
       "children": [
        "IPY_MODEL_7d604b10612c445ea1fedad8d8e87a4f",
        "IPY_MODEL_636f842fff214c25a29e86471f155778",
        "IPY_MODEL_e7b0bf01151f4b8783c30782bfc46631"
       ],
       "layout": "IPY_MODEL_3d3a568f91444684bedf7c5a3cb10dc2"
      }
     },
     "bd70abd4dab34739a44cbeaf72600a91": {
      "model_module": "@jupyter-widgets/controls",
      "model_module_version": "2.0.0",
      "model_name": "FloatProgressModel",
      "state": {
       "bar_style": "success",
       "layout": "IPY_MODEL_ccc2e12b573846bf9f5cc6ebf6860b70",
       "max": 2,
       "style": "IPY_MODEL_22a9fae31def44dc82ca8b8ca6aa4ba6",
       "value": 2
      }
     },
     "be68d1fa8cb644408ec46721c984dabf": {
      "model_module": "@jupyter-widgets/controls",
      "model_module_version": "2.0.0",
      "model_name": "VBoxModel",
      "state": {
       "children": [
        "IPY_MODEL_2ad3e5a56ff94cf3bf0cb887c18c8177",
        "IPY_MODEL_7a0426a2019a4151b4a22a5374a9f149"
       ],
       "layout": "IPY_MODEL_c70da7ea8b434a6781951d4fd016e802"
      }
     },
     "bf5c59844720466298c193ff4308dbc2": {
      "model_module": "@jupyter-widgets/controls",
      "model_module_version": "2.0.0",
      "model_name": "ProgressStyleModel",
      "state": {
       "description_width": ""
      }
     },
     "c65ad04d91334b2894238491ccb551e5": {
      "model_module": "@jupyter-widgets/controls",
      "model_module_version": "2.0.0",
      "model_name": "FloatProgressModel",
      "state": {
       "layout": "IPY_MODEL_61c6a7fdf49c4ab890b4192c0adca817",
       "max": 1,
       "style": "IPY_MODEL_cc99fbbaaa804bd28f19940b7d6d0537"
      }
     },
     "c66d160aa0cf4b8d94403ae1bd79572d": {
      "model_module": "@jupyter-widgets/base",
      "model_module_version": "2.0.0",
      "model_name": "LayoutModel",
      "state": {}
     },
     "c6ec2810164c465fa35c549756f3e48d": {
      "model_module": "@jupyter-widgets/controls",
      "model_module_version": "2.0.0",
      "model_name": "HTMLStyleModel",
      "state": {
       "description_width": "",
       "font_size": null,
       "text_color": null
      }
     },
     "c707eeae2c924928864ad24c61c15bff": {
      "model_module": "@jupyter-widgets/controls",
      "model_module_version": "2.0.0",
      "model_name": "FloatProgressModel",
      "state": {
       "bar_style": "success",
       "layout": "IPY_MODEL_aa5de78b3d0845ec814797cc6de268ed",
       "max": 2,
       "style": "IPY_MODEL_e37a91222cc645df867f04367ab075fa",
       "value": 2
      }
     },
     "c70da7ea8b434a6781951d4fd016e802": {
      "model_module": "@jupyter-widgets/base",
      "model_module_version": "2.0.0",
      "model_name": "LayoutModel",
      "state": {}
     },
     "c8fa6fd3c6e04b91bd4effbd56a69794": {
      "model_module": "@jupyter-widgets/controls",
      "model_module_version": "2.0.0",
      "model_name": "HTMLStyleModel",
      "state": {
       "description_width": "",
       "font_size": null,
       "text_color": null
      }
     },
     "c90590eb33d646fd932ecbd9a9368bcf": {
      "model_module": "@jupyter-widgets/base",
      "model_module_version": "2.0.0",
      "model_name": "LayoutModel",
      "state": {}
     },
     "ca95232e7bd04ce18942fa62837ffa50": {
      "model_module": "@jupyter-widgets/base",
      "model_module_version": "2.0.0",
      "model_name": "LayoutModel",
      "state": {}
     },
     "cb8b907a69204175811260324e961e33": {
      "model_module": "@jupyter-widgets/base",
      "model_module_version": "2.0.0",
      "model_name": "LayoutModel",
      "state": {}
     },
     "cbab9924b2dd45d2bcb74bb69b02dd30": {
      "model_module": "@jupyter-widgets/base",
      "model_module_version": "2.0.0",
      "model_name": "LayoutModel",
      "state": {}
     },
     "cc99fbbaaa804bd28f19940b7d6d0537": {
      "model_module": "@jupyter-widgets/controls",
      "model_module_version": "2.0.0",
      "model_name": "ProgressStyleModel",
      "state": {
       "description_width": ""
      }
     },
     "ccb3bda29e1345df85d2851d11e941e7": {
      "model_module": "@jupyter-widgets/controls",
      "model_module_version": "2.0.0",
      "model_name": "ProgressStyleModel",
      "state": {
       "description_width": ""
      }
     },
     "ccc2e12b573846bf9f5cc6ebf6860b70": {
      "model_module": "@jupyter-widgets/base",
      "model_module_version": "2.0.0",
      "model_name": "LayoutModel",
      "state": {}
     },
     "cdb758cf51fd4fc4aa891b7220c3fffd": {
      "model_module": "@jupyter-widgets/base",
      "model_module_version": "2.0.0",
      "model_name": "LayoutModel",
      "state": {}
     },
     "cf06de1b0880452fb849488670b6c188": {
      "model_module": "@jupyter-widgets/controls",
      "model_module_version": "2.0.0",
      "model_name": "HTMLModel",
      "state": {
       "layout": "IPY_MODEL_1886741b4e79401dad2af00ba89abeba",
       "style": "IPY_MODEL_60c7395a1eb84ce9af4d13a503550b1d",
       "value": "Loading checkpoint shards: 100%"
      }
     },
     "cfa219dbbe66448ea4002a00494660b3": {
      "model_module": "@jupyter-widgets/base",
      "model_module_version": "2.0.0",
      "model_name": "LayoutModel",
      "state": {}
     },
     "d0c1faf35b424dd29e66629bf6685f40": {
      "model_module": "@jupyter-widgets/controls",
      "model_module_version": "2.0.0",
      "model_name": "HTMLModel",
      "state": {
       "layout": "IPY_MODEL_76ab32da24a04f6c9b65cf1ff134d2d9",
       "style": "IPY_MODEL_5d15ba055f63476d9b1d4f7733ce1d21",
       "value": " 2/2 [00:07&lt;00:00,  3.31s/it]"
      }
     },
     "d3858a5e2fb94c0d85af8b094cb9243a": {
      "model_module": "@jupyter-widgets/controls",
      "model_module_version": "2.0.0",
      "model_name": "VBoxModel",
      "state": {
       "children": [
        "IPY_MODEL_5901c1e1833540df979db05a14bb1165",
        "IPY_MODEL_36a076eb861544d9a5013943a21779f7"
       ],
       "layout": "IPY_MODEL_eafa333c38dd4623a4f841aca1c54456"
      }
     },
     "d45a0f6281004c5fbdd5fbfd2eb2e7c3": {
      "model_module": "@jupyter-widgets/controls",
      "model_module_version": "2.0.0",
      "model_name": "FloatProgressModel",
      "state": {
       "bar_style": "success",
       "layout": "IPY_MODEL_e325354ce6514f58bc72564f466b001a",
       "max": 2,
       "style": "IPY_MODEL_d55737cec12e4732bdb49888f5f5b3d6",
       "value": 2
      }
     },
     "d4b3b8781eb448c4967262562566f726": {
      "model_module": "@jupyter-widgets/controls",
      "model_module_version": "2.0.0",
      "model_name": "VBoxModel",
      "state": {
       "children": [
        "IPY_MODEL_733d4b8d4ae647839fc7ddee1b12813f",
        "IPY_MODEL_0cbe5f8d713840f88e80c2143791be5b"
       ],
       "layout": "IPY_MODEL_8f801dab61c74d3a90b979743de1245c"
      }
     },
     "d55737cec12e4732bdb49888f5f5b3d6": {
      "model_module": "@jupyter-widgets/controls",
      "model_module_version": "2.0.0",
      "model_name": "ProgressStyleModel",
      "state": {
       "description_width": ""
      }
     },
     "d6cf5c61c6b54800afd0681a845eafb0": {
      "model_module": "@jupyter-widgets/base",
      "model_module_version": "2.0.0",
      "model_name": "LayoutModel",
      "state": {}
     },
     "d776b95494664508a0d087d5d60e67a7": {
      "model_module": "@jupyter-widgets/controls",
      "model_module_version": "2.0.0",
      "model_name": "LabelModel",
      "state": {
       "layout": "IPY_MODEL_cdb758cf51fd4fc4aa891b7220c3fffd",
       "style": "IPY_MODEL_6ddc13a602854991a30e000b6793fc18"
      }
     },
     "d7b641318afd41b09eb7ea25dc34729a": {
      "model_module": "@jupyter-widgets/controls",
      "model_module_version": "2.0.0",
      "model_name": "LabelStyleModel",
      "state": {
       "description_width": "",
       "font_family": null,
       "font_size": null,
       "font_style": null,
       "font_variant": null,
       "font_weight": null,
       "text_color": null,
       "text_decoration": null
      }
     },
     "d80b5bf691a1461fbd80530a8901a02f": {
      "model_module": "@jupyter-widgets/base",
      "model_module_version": "2.0.0",
      "model_name": "LayoutModel",
      "state": {}
     },
     "d9247bf723574a209baf0ae426c6bbfe": {
      "model_module": "@jupyter-widgets/controls",
      "model_module_version": "2.0.0",
      "model_name": "FloatProgressModel",
      "state": {
       "layout": "IPY_MODEL_e80474ffcb01475fb2c5e1088c6348af",
       "max": 1,
       "style": "IPY_MODEL_02be00a86bbb4cd693878fff7b374fcb"
      }
     },
     "dad020c9a6ab437985ba02f591b43510": {
      "model_module": "@jupyter-widgets/controls",
      "model_module_version": "2.0.0",
      "model_name": "HBoxModel",
      "state": {
       "children": [
        "IPY_MODEL_68cb43395b514cb18f7db86db82482d6",
        "IPY_MODEL_d45a0f6281004c5fbdd5fbfd2eb2e7c3",
        "IPY_MODEL_2adb41d78e0b4237ada2c304e89507db"
       ],
       "layout": "IPY_MODEL_724a9f2b57f247e58650fd6ad6255322"
      }
     },
     "dd1115bdb35e43e99075990b7b1aa03b": {
      "model_module": "@jupyter-widgets/controls",
      "model_module_version": "2.0.0",
      "model_name": "LabelModel",
      "state": {
       "layout": "IPY_MODEL_e6f2bce91c21455bb26d4623d166f998",
       "style": "IPY_MODEL_d7b641318afd41b09eb7ea25dc34729a"
      }
     },
     "dfe9b3c2266d432dbda1c7ddd8e76ab9": {
      "model_module": "@jupyter-widgets/base",
      "model_module_version": "2.0.0",
      "model_name": "LayoutModel",
      "state": {}
     },
     "e1a75450390f4866b21c7c5d84e559e4": {
      "model_module": "@jupyter-widgets/base",
      "model_module_version": "2.0.0",
      "model_name": "LayoutModel",
      "state": {}
     },
     "e2494b662e4142f39390a8e8608a6117": {
      "model_module": "@jupyter-widgets/controls",
      "model_module_version": "2.0.0",
      "model_name": "HTMLStyleModel",
      "state": {
       "description_width": "",
       "font_size": null,
       "text_color": null
      }
     },
     "e29962187e4542f489567ebcb16c6cb2": {
      "model_module": "@jupyter-widgets/controls",
      "model_module_version": "2.0.0",
      "model_name": "LabelStyleModel",
      "state": {
       "description_width": "",
       "font_family": null,
       "font_size": null,
       "font_style": null,
       "font_variant": null,
       "font_weight": null,
       "text_color": null,
       "text_decoration": null
      }
     },
     "e325354ce6514f58bc72564f466b001a": {
      "model_module": "@jupyter-widgets/base",
      "model_module_version": "2.0.0",
      "model_name": "LayoutModel",
      "state": {}
     },
     "e37a91222cc645df867f04367ab075fa": {
      "model_module": "@jupyter-widgets/controls",
      "model_module_version": "2.0.0",
      "model_name": "ProgressStyleModel",
      "state": {
       "description_width": ""
      }
     },
     "e6f2bce91c21455bb26d4623d166f998": {
      "model_module": "@jupyter-widgets/base",
      "model_module_version": "2.0.0",
      "model_name": "LayoutModel",
      "state": {}
     },
     "e7b0bf01151f4b8783c30782bfc46631": {
      "model_module": "@jupyter-widgets/controls",
      "model_module_version": "2.0.0",
      "model_name": "HTMLModel",
      "state": {
       "layout": "IPY_MODEL_9ffcdd0dd21a427fa9ddc845ff531cad",
       "style": "IPY_MODEL_30f48431f3374f21803bab90deafb598",
       "value": " 2/2 [00:07&lt;00:00,  3.35s/it]"
      }
     },
     "e80474ffcb01475fb2c5e1088c6348af": {
      "model_module": "@jupyter-widgets/base",
      "model_module_version": "2.0.0",
      "model_name": "LayoutModel",
      "state": {}
     },
     "e80c78692ac94ea2a5af46e2aa43473a": {
      "model_module": "@jupyter-widgets/controls",
      "model_module_version": "2.0.0",
      "model_name": "HTMLModel",
      "state": {
       "layout": "IPY_MODEL_26e3a08bfe2140fab1537c779620eafc",
       "style": "IPY_MODEL_e2494b662e4142f39390a8e8608a6117",
       "value": " 2/2 [00:06&lt;00:00,  3.20s/it]"
      }
     },
     "e9438da55dc846c5a38581de6583919a": {
      "model_module": "@jupyter-widgets/controls",
      "model_module_version": "2.0.0",
      "model_name": "HTMLStyleModel",
      "state": {
       "description_width": "",
       "font_size": null,
       "text_color": null
      }
     },
     "e953b3089ca3492db67e553771d924e1": {
      "model_module": "@jupyter-widgets/controls",
      "model_module_version": "2.0.0",
      "model_name": "HBoxModel",
      "state": {
       "children": [
        "IPY_MODEL_9d7b67cc49c94b448ab031c98dfa9376",
        "IPY_MODEL_a4dc5c27e3984818b2f1c57af453ea15",
        "IPY_MODEL_22e6915a201944148a86bea7cbbf40d7"
       ],
       "layout": "IPY_MODEL_228a1fb550324ac1b22f0794bcf985b9"
      }
     },
     "e9ad3fcab9254a51a121681cb63ee121": {
      "model_module": "@jupyter-widgets/controls",
      "model_module_version": "2.0.0",
      "model_name": "VBoxModel",
      "state": {
       "children": [
        "IPY_MODEL_dd1115bdb35e43e99075990b7b1aa03b",
        "IPY_MODEL_0c84057a4f9145bfba9441c0a867b54f"
       ],
       "layout": "IPY_MODEL_b029bbc37a204c588b68b5e254d62e07"
      }
     },
     "ea82c736107d4133b81f4d175f43804c": {
      "model_module": "@jupyter-widgets/controls",
      "model_module_version": "2.0.0",
      "model_name": "ProgressStyleModel",
      "state": {
       "description_width": ""
      }
     },
     "eafa333c38dd4623a4f841aca1c54456": {
      "model_module": "@jupyter-widgets/base",
      "model_module_version": "2.0.0",
      "model_name": "LayoutModel",
      "state": {}
     },
     "eb2224220e7044ffa99570e217dd5f55": {
      "model_module": "@jupyter-widgets/controls",
      "model_module_version": "2.0.0",
      "model_name": "HTMLStyleModel",
      "state": {
       "description_width": "",
       "font_size": null,
       "text_color": null
      }
     },
     "ed54d6f5cc4d45b483317c6ce59b92f4": {
      "model_module": "@jupyter-widgets/base",
      "model_module_version": "2.0.0",
      "model_name": "LayoutModel",
      "state": {}
     },
     "ef2241ca53e94bfdaa7a5f46a7250521": {
      "model_module": "@jupyter-widgets/base",
      "model_module_version": "2.0.0",
      "model_name": "LayoutModel",
      "state": {}
     },
     "f01dec1eba8d4526b5e3469668c15919": {
      "model_module": "@jupyter-widgets/controls",
      "model_module_version": "2.0.0",
      "model_name": "HBoxModel",
      "state": {
       "children": [
        "IPY_MODEL_130f744a456f479ebd9b29417c4e92f6",
        "IPY_MODEL_10c25dbc3aff45d9bc9e8c3fd35352e6",
        "IPY_MODEL_b0e74559eea741efa40e80bab7c8aa1f"
       ],
       "layout": "IPY_MODEL_b10aff981173439589c7962808043715"
      }
     },
     "f10f6ec76e91475aad8efb5afe9e4db4": {
      "model_module": "@jupyter-widgets/controls",
      "model_module_version": "2.0.0",
      "model_name": "LabelStyleModel",
      "state": {
       "description_width": "",
       "font_family": null,
       "font_size": null,
       "font_style": null,
       "font_variant": null,
       "font_weight": null,
       "text_color": null,
       "text_decoration": null
      }
     },
     "f20d79ec2a5a45b5a99aa9f2e614e3ed": {
      "model_module": "@jupyter-widgets/base",
      "model_module_version": "2.0.0",
      "model_name": "LayoutModel",
      "state": {}
     },
     "f318998ed37d47a6a2d86bac43cbc8f9": {
      "model_module": "@jupyter-widgets/base",
      "model_module_version": "2.0.0",
      "model_name": "LayoutModel",
      "state": {}
     },
     "f4136e21d79c437594f70a28b8657c26": {
      "model_module": "@jupyter-widgets/controls",
      "model_module_version": "2.0.0",
      "model_name": "HBoxModel",
      "state": {
       "children": [
        "IPY_MODEL_a2bc8d6118b449fdb2e282d97f46a3d6",
        "IPY_MODEL_8e1d0888ec2141c0a3a918c31b58b9e6",
        "IPY_MODEL_3fdd0c627faf40ac84250e7741c66815"
       ],
       "layout": "IPY_MODEL_b47dcb6f5b034b4085808f1dde08000b"
      }
     },
     "f5e26d888fd94602b6a0d597b1595400": {
      "model_module": "@jupyter-widgets/base",
      "model_module_version": "2.0.0",
      "model_name": "LayoutModel",
      "state": {}
     },
     "f67192875af94957aa3591133a62b94d": {
      "model_module": "@jupyter-widgets/controls",
      "model_module_version": "2.0.0",
      "model_name": "HTMLModel",
      "state": {
       "layout": "IPY_MODEL_ef2241ca53e94bfdaa7a5f46a7250521",
       "style": "IPY_MODEL_e9438da55dc846c5a38581de6583919a",
       "value": " 2/2 [00:05&lt;00:00,  2.65s/it]"
      }
     },
     "f6d55e596ff9435e914eee7eae9268f5": {
      "model_module": "@jupyter-widgets/base",
      "model_module_version": "2.0.0",
      "model_name": "LayoutModel",
      "state": {}
     },
     "f7e29c460efd49a4bfabe8f3d503e76c": {
      "model_module": "@jupyter-widgets/base",
      "model_module_version": "2.0.0",
      "model_name": "LayoutModel",
      "state": {}
     },
     "f83e48502bf242ceb13e40171767a2f1": {
      "model_module": "@jupyter-widgets/controls",
      "model_module_version": "2.0.0",
      "model_name": "HTMLStyleModel",
      "state": {
       "description_width": "",
       "font_size": null,
       "text_color": null
      }
     },
     "f92d56c71ed249ebbb3f7966dc1186b5": {
      "model_module": "@jupyter-widgets/controls",
      "model_module_version": "2.0.0",
      "model_name": "HTMLStyleModel",
      "state": {
       "description_width": "",
       "font_size": null,
       "text_color": null
      }
     },
     "f9b44973a0de4488a354bf1e4f3ea305": {
      "model_module": "@jupyter-widgets/base",
      "model_module_version": "2.0.0",
      "model_name": "LayoutModel",
      "state": {}
     },
     "fd0c42ffe27e4075966ac46d1d670772": {
      "model_module": "@jupyter-widgets/base",
      "model_module_version": "2.0.0",
      "model_name": "LayoutModel",
      "state": {}
     },
     "fd3ff2e6f63147bf99366fe146d73be6": {
      "model_module": "@jupyter-widgets/controls",
      "model_module_version": "2.0.0",
      "model_name": "ProgressStyleModel",
      "state": {
       "description_width": ""
      }
     },
     "fd906397160d49bf99fab7809ab908f4": {
      "model_module": "@jupyter-widgets/controls",
      "model_module_version": "2.0.0",
      "model_name": "VBoxModel",
      "state": {
       "children": [
        "IPY_MODEL_6b860ef6219e40d991662ea8ce8f19ec",
        "IPY_MODEL_0795264e58824c3698952d90afbdcf4c"
       ],
       "layout": "IPY_MODEL_f5e26d888fd94602b6a0d597b1595400"
      }
     }
    },
    "version_major": 2,
    "version_minor": 0
   }
  }
 },
 "nbformat": 4,
 "nbformat_minor": 5
}
