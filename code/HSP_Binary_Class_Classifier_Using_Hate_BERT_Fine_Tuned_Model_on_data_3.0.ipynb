{
 "cells": [
  {
   "cell_type": "markdown",
   "metadata": {},
   "source": [
    "## Set up Environment"
   ]
  },
  {
   "cell_type": "raw",
   "metadata": {},
   "source": [
    "Note: Before start the notebook pls execute below two coomand on terminal \n",
    "export CUDA_VISIBLE_DEVICES=0\n",
    "export CUDA_LAUNCH_BLOCKING=1"
   ]
  },
  {
   "cell_type": "raw",
   "metadata": {},
   "source": [
    "!pip install evaluate==0.4.0\n",
    "!pip install peft==0.5.0\n",
    "!pip install scikit-learn==1.3.1\n",
    "!pip install torch==2.1.0\n",
    "!pip install wandb==0.15.12\n",
    "!pip install git+https://github.com/huggingface/transformers.git@21dc5859421cf0d7d82d374b10f533611745a8c5"
   ]
  },
  {
   "cell_type": "raw",
   "metadata": {},
   "source": [
    "!pip install --upgrade huggingface_hub datasets transformers"
   ]
  },
  {
   "cell_type": "code",
   "execution_count": 1,
   "metadata": {},
   "outputs": [
    {
     "name": "stderr",
     "output_type": "stream",
     "text": [
      "\u001b[34m\u001b[1mwandb\u001b[0m: Currently logged in as: \u001b[33myadav-sunil531984\u001b[0m (\u001b[33mhsp_bits\u001b[0m). Use \u001b[1m`wandb login --relogin`\u001b[0m to force relogin\n"
     ]
    },
    {
     "data": {
      "text/html": [
       "wandb version 0.17.0 is available!  To upgrade, please run:\n",
       " $ pip install wandb --upgrade"
      ],
      "text/plain": [
       "<IPython.core.display.HTML object>"
      ]
     },
     "metadata": {},
     "output_type": "display_data"
    },
    {
     "data": {
      "text/html": [
       "Tracking run with wandb version 0.15.12"
      ],
      "text/plain": [
       "<IPython.core.display.HTML object>"
      ]
     },
     "metadata": {},
     "output_type": "display_data"
    },
    {
     "data": {
      "text/html": [
       "Run data is saved locally in <code>/home/sunil/Hate_Speech_Project/Hate_BERT/wandb/run-20240531_102404-pbnvyazv</code>"
      ],
      "text/plain": [
       "<IPython.core.display.HTML object>"
      ]
     },
     "metadata": {},
     "output_type": "display_data"
    },
    {
     "data": {
      "text/html": [
       "Syncing run <strong><a href='https://wandb.ai/hsp_bits/uncategorized/runs/pbnvyazv' target=\"_blank\">elated-shadow-159</a></strong> to <a href='https://wandb.ai/hsp_bits/uncategorized' target=\"_blank\">Weights & Biases</a> (<a href='https://wandb.me/run' target=\"_blank\">docs</a>)<br/>"
      ],
      "text/plain": [
       "<IPython.core.display.HTML object>"
      ]
     },
     "metadata": {},
     "output_type": "display_data"
    },
    {
     "data": {
      "text/html": [
       " View project at <a href='https://wandb.ai/hsp_bits/uncategorized' target=\"_blank\">https://wandb.ai/hsp_bits/uncategorized</a>"
      ],
      "text/plain": [
       "<IPython.core.display.HTML object>"
      ]
     },
     "metadata": {},
     "output_type": "display_data"
    },
    {
     "data": {
      "text/html": [
       " View run at <a href='https://wandb.ai/hsp_bits/uncategorized/runs/pbnvyazv' target=\"_blank\">https://wandb.ai/hsp_bits/uncategorized/runs/pbnvyazv</a>"
      ],
      "text/plain": [
       "<IPython.core.display.HTML object>"
      ]
     },
     "metadata": {},
     "output_type": "display_data"
    },
    {
     "name": "stderr",
     "output_type": "stream",
     "text": [
      "\u001b[34m\u001b[1mwandb\u001b[0m: \u001b[33mWARNING\u001b[0m Calling wandb.login() after wandb.init() has no effect.\n"
     ]
    },
    {
     "data": {
      "text/plain": [
       "True"
      ]
     },
     "execution_count": 1,
     "metadata": {},
     "output_type": "execute_result"
    }
   ],
   "source": [
    "import wandb\n",
    "wandb.init('19010c4e439d59bec411f7f9075c6e73ac7f5e13')    # Initialize wandb with your API key\n",
    "wandb.login() "
   ]
  },
  {
   "cell_type": "code",
   "execution_count": 2,
   "metadata": {},
   "outputs": [],
   "source": [
    "import os\n",
    "os.environ['WANDB_NOTEBOOK_NAME'] = 'HSP_Binary_Class_Classifier_Using_BERT_Fine_Tuned_Model_on_data_3.0_HF.ipynb'\n",
    "os.environ['CUDA_VISIBLE_DEVICES'] = '0'"
   ]
  },
  {
   "cell_type": "code",
   "execution_count": 3,
   "metadata": {},
   "outputs": [
    {
     "name": "stdout",
     "output_type": "stream",
     "text": [
      "Fri May 31 10:24:14 2024       \n",
      "+---------------------------------------------------------------------------------------+\n",
      "| NVIDIA-SMI 535.171.04             Driver Version: 535.171.04   CUDA Version: 12.2     |\n",
      "|-----------------------------------------+----------------------+----------------------+\n",
      "| GPU  Name                 Persistence-M | Bus-Id        Disp.A | Volatile Uncorr. ECC |\n",
      "| Fan  Temp   Perf          Pwr:Usage/Cap |         Memory-Usage | GPU-Util  Compute M. |\n",
      "|                                         |                      |               MIG M. |\n",
      "|=========================================+======================+======================|\n",
      "|   0  NVIDIA A100 80GB PCIe          Off | 00000000:21:00.0 Off |                    0 |\n",
      "| N/A   32C    P0              67W / 300W |   1184MiB / 81920MiB |      0%      Default |\n",
      "|                                         |                      |             Disabled |\n",
      "+-----------------------------------------+----------------------+----------------------+\n",
      "|   1  NVIDIA A100 80GB PCIe          Off | 00000000:81:00.0 Off |                    0 |\n",
      "| N/A   29C    P0              63W / 300W |      0MiB / 81920MiB |      0%      Default |\n",
      "|                                         |                      |             Disabled |\n",
      "+-----------------------------------------+----------------------+----------------------+\n",
      "                                                                                         \n",
      "+---------------------------------------------------------------------------------------+\n",
      "| Processes:                                                                            |\n",
      "|  GPU   GI   CI        PID   Type   Process name                            GPU Memory |\n",
      "|        ID   ID                                                             Usage      |\n",
      "|=======================================================================================|\n",
      "|    0   N/A  N/A   1530470      C   /usr/bin/python3                           1176MiB |\n",
      "+---------------------------------------------------------------------------------------+\n"
     ]
    }
   ],
   "source": [
    "!nvidia-smi"
   ]
  },
  {
   "cell_type": "markdown",
   "metadata": {},
   "source": [
    "## Import the Labraries"
   ]
  },
  {
   "cell_type": "code",
   "execution_count": 4,
   "metadata": {},
   "outputs": [
    {
     "name": "stderr",
     "output_type": "stream",
     "text": [
      "2024-05-31 10:24:19.583754: I tensorflow/core/platform/cpu_feature_guard.cc:182] This TensorFlow binary is optimized to use available CPU instructions in performance-critical operations.\n",
      "To enable the following instructions: AVX2 FMA, in other operations, rebuild TensorFlow with the appropriate compiler flags.\n",
      "2024-05-31 10:24:20.361199: W tensorflow/compiler/tf2tensorrt/utils/py_utils.cc:38] TF-TRT Warning: Could not find TensorRT\n"
     ]
    }
   ],
   "source": [
    "import pandas as pd\n",
    "import torch\n",
    "from transformers import AutoTokenizer\n",
    "from datasets import load_dataset\n",
    "from transformers import DataCollatorWithPadding\n",
    "from transformers import AutoModelForSequenceClassification \n",
    "import evaluate\n",
    "import numpy as np\n",
    "from transformers import Trainer\n",
    "from transformers import TrainingArguments\n",
    "from peft import get_peft_model, LoraConfig, TaskType\n",
    "from transformers import AutoModelForSequenceClassification, AutoTokenizer\n",
    "import matplotlib.pyplot as plt"
   ]
  },
  {
   "cell_type": "markdown",
   "metadata": {},
   "source": [
    "## Load Data sets"
   ]
  },
  {
   "cell_type": "code",
   "execution_count": 5,
   "metadata": {},
   "outputs": [
    {
     "name": "stdout",
     "output_type": "stream",
     "text": [
      "Total Count of Samples =  4374\n"
     ]
    },
    {
     "data": {
      "image/png": "[encoded data removed]",
      "text/plain": [
       "<Figure size 600x400 with 1 Axes>"
      ]
     },
     "metadata": {},
     "output_type": "display_data"
    }
   ],
   "source": [
    "# Visualization of Class Labels Taining data\n",
    "train_df=pd.read_csv('HSP_Train_Data_with_Encoded_Label_Bin_3.0.csv')\n",
    "\n",
    "print(\"Total Count of Samples = \", len(train_df))\n",
    "label_counts = train_df['Label'].value_counts()\n",
    "\n",
    "# Updated colors list to include 6 colors for 6 classes\n",
    "colors = ['green', 'red']\n",
    "\n",
    "plt.figure(figsize=(6, 4))\n",
    "ax = label_counts.plot(kind='bar', color=colors)\n",
    "for p in ax.patches:\n",
    "    ax.annotate(str(p.get_height()), (p.get_x() + p.get_width() / 2., p.get_height()),\n",
    "                ha='center', va='center', xytext=(0, 5), textcoords='offset points')\n",
    "\n",
    "plt.title('Distribution of Train set Label Categories')\n",
    "plt.xlabel('Labels')\n",
    "plt.ylabel('Count')\n",
    "plt.show()"
   ]
  },
  {
   "cell_type": "code",
   "execution_count": 6,
   "metadata": {},
   "outputs": [
    {
     "name": "stdout",
     "output_type": "stream",
     "text": [
      "Total Count of Samples =  938\n"
     ]
    },
    {
     "data": {
      "image/png": "[encoded data removed]",
      "text/plain": [
       "<Figure size 600x400 with 1 Axes>"
      ]
     },
     "metadata": {},
     "output_type": "display_data"
    }
   ],
   "source": [
    "# Visualization of Class Labels Validation data\n",
    "val_df=pd.read_csv('HSP_Val_Data_with_Encoded_Label_Bin_3.0.csv')\n",
    "\n",
    "print(\"Total Count of Samples = \", len(val_df))\n",
    "label_counts = val_df['Label'].value_counts()\n",
    "\n",
    "# Updated colors list to include 6 colors for 6 classes\n",
    "colors = ['green', 'red']\n",
    "\n",
    "plt.figure(figsize=(6, 4))\n",
    "ax = label_counts.plot(kind='bar', color=colors)\n",
    "for p in ax.patches:\n",
    "    ax.annotate(str(p.get_height()), (p.get_x() + p.get_width() / 2., p.get_height()),\n",
    "                ha='center', va='center', xytext=(0, 5), textcoords='offset points')\n",
    "\n",
    "plt.title('Distribution of Validation set Label Categories')\n",
    "plt.xlabel('Labels')\n",
    "plt.ylabel('Count')\n",
    "plt.show()"
   ]
  },
  {
   "cell_type": "code",
   "execution_count": 7,
   "metadata": {},
   "outputs": [
    {
     "name": "stdout",
     "output_type": "stream",
     "text": [
      "Total Count of Samples =  938\n"
     ]
    },
    {
     "data": {
      "image/png": "[encoded data removed]",
      "text/plain": [
       "<Figure size 600x400 with 1 Axes>"
      ]
     },
     "metadata": {},
     "output_type": "display_data"
    }
   ],
   "source": [
    "# Visualization of Class Labels Taining data\n",
    "test_df=pd.read_csv('HSP_Test_Data_with_Encoded_Label_Bin_3.0.csv')\n",
    "\n",
    "print(\"Total Count of Samples = \", len(test_df))\n",
    "label_counts = test_df['Label'].value_counts()\n",
    "\n",
    "# Updated colors list to include 6 colors for 6 classes\n",
    "colors = ['green', 'red']\n",
    "\n",
    "plt.figure(figsize=(6, 4))\n",
    "ax = label_counts.plot(kind='bar', color=colors)\n",
    "for p in ax.patches:\n",
    "    ax.annotate(str(p.get_height()), (p.get_x() + p.get_width() / 2., p.get_height()),\n",
    "                ha='center', va='center', xytext=(0, 5), textcoords='offset points')\n",
    "\n",
    "plt.title('Distribution of Train set Label Categories')\n",
    "plt.xlabel('Labels')\n",
    "plt.ylabel('Count')\n",
    "plt.show()"
   ]
  },
  {
   "cell_type": "code",
   "execution_count": 8,
   "metadata": {},
   "outputs": [
    {
     "name": "stdout",
     "output_type": "stream",
     "text": [
      "<class 'pandas.core.frame.DataFrame'>\n",
      "RangeIndex: 4374 entries, 0 to 4373\n",
      "Data columns (total 5 columns):\n",
      " #   Column     Non-Null Count  Dtype \n",
      "---  ------     --------------  ----- \n",
      " 0   id         4374 non-null   int64 \n",
      " 1   Text       4374 non-null   object\n",
      " 2   Label_Id   4374 non-null   int64 \n",
      " 3   Label      4374 non-null   object\n",
      " 4   Label_Rev  4374 non-null   int64 \n",
      "dtypes: int64(3), object(2)\n",
      "memory usage: 171.0+ KB\n"
     ]
    }
   ],
   "source": [
    "train_df=pd.read_csv('HSP_Train_Data_with_Encoded_Label_Bin_3.0.csv')\n",
    "train_df.info()"
   ]
  },
  {
   "cell_type": "code",
   "execution_count": 9,
   "metadata": {},
   "outputs": [
    {
     "data": {
      "text/plain": [
       "array([0, 1])"
      ]
     },
     "execution_count": 9,
     "metadata": {},
     "output_type": "execute_result"
    }
   ],
   "source": [
    "unique_values = train_df['Label_Rev'].unique()\n",
    "unique_values "
   ]
  },
  {
   "cell_type": "markdown",
   "metadata": {},
   "source": [
    "## Number of Characters"
   ]
  },
  {
   "cell_type": "code",
   "execution_count": 10,
   "metadata": {},
   "outputs": [
    {
     "name": "stdout",
     "output_type": "stream",
     "text": [
      "Maximum number of characters: 1116\n",
      "Maximum number of words: 97\n"
     ]
    }
   ],
   "source": [
    "# Number of Characters\n",
    "import pandas as pd\n",
    "\n",
    "# Load the training data from the CSV file\n",
    "train_df = pd.read_csv('HSP_Train_Data_with_Encoded_Label_Bin_3.0.csv')\n",
    "\n",
    "# Calculate the maximum number of characters in the 'text' column\n",
    "max_char = train_df['Text'].str.len().max()\n",
    "\n",
    "# Calculate the maximum number of words in the 'text' column\n",
    "max_words = train_df['Text'].str.split().str.len().max()\n",
    "\n",
    "print(f\"Maximum number of characters: {max_char}\")\n",
    "print(f\"Maximum number of words: {max_words}\")\n"
   ]
  },
  {
   "cell_type": "markdown",
   "metadata": {},
   "source": [
    "## Preprocess Data for Training"
   ]
  },
  {
   "cell_type": "code",
   "execution_count": 11,
   "metadata": {},
   "outputs": [],
   "source": [
    "MAX_LEN = 512 \n",
    "bert_checkpoint = \"GroNLP/hateBERT\""
   ]
  },
  {
   "cell_type": "code",
   "execution_count": 12,
   "metadata": {},
   "outputs": [],
   "source": [
    "# Load the tokenizer:\n",
    "bert_tokenizer = AutoTokenizer.from_pretrained(bert_checkpoint, add_prefix_space=True)"
   ]
  },
  {
   "cell_type": "code",
   "execution_count": 13,
   "metadata": {},
   "outputs": [
    {
     "data": {
      "application/vnd.jupyter.widget-view+json": {
       "model_id": "43507bdc555645eeaf32e957320a0140",
       "version_major": 2,
       "version_minor": 0
      },
      "text/plain": [
       "Map:   0%|          | 0/938 [00:00<?, ? examples/s]"
      ]
     },
     "metadata": {},
     "output_type": "display_data"
    },
    {
     "data": {
      "text/plain": [
       "{'label': tensor(0),\n",
       " 'input_ids': tensor([  101,  2074, 10587,  2404,  2023,  2041,  2045,  1012,  2748,  1045,\n",
       "          1005,  1049,  5637,  1010,  2748,  1045,  1005,  1049,  7098,  1010,\n",
       "          1998,  2748,  1045,  1005,  2310,  2196,  2042, 19366,  2007,  2870,\n",
       "          1024,  3377,  2192,  1024,  5396,  1011,  2422,  3096,  4309,  1024,\n",
       "           102]),\n",
       " 'token_type_ids': tensor([0, 0, 0, 0, 0, 0, 0, 0, 0, 0, 0, 0, 0, 0, 0, 0, 0, 0, 0, 0, 0, 0, 0, 0,\n",
       "         0, 0, 0, 0, 0, 0, 0, 0, 0, 0, 0, 0, 0, 0, 0, 0, 0]),\n",
       " 'attention_mask': tensor([1, 1, 1, 1, 1, 1, 1, 1, 1, 1, 1, 1, 1, 1, 1, 1, 1, 1, 1, 1, 1, 1, 1, 1,\n",
       "         1, 1, 1, 1, 1, 1, 1, 1, 1, 1, 1, 1, 1, 1, 1, 1, 1])}"
      ]
     },
     "execution_count": 13,
     "metadata": {},
     "output_type": "execute_result"
    }
   ],
   "source": [
    "from datasets import load_dataset\n",
    "from transformers import DataCollatorWithPadding\n",
    "\n",
    "# Assuming mistral_tokenizer and MAX_LEN are defined earlier\n",
    "def bert_preprocessing_function(examples):\n",
    "    return bert_tokenizer(examples['Text'], truncation=True, max_length=MAX_LEN)\n",
    "\n",
    "# Load each dataset file\n",
    "train_dataset = load_dataset('csv', data_files='HSP_Train_Data_with_Encoded_Label_Bin_3.0.csv')['train']\n",
    "val_dataset = load_dataset('csv', data_files='HSP_Val_Data_with_Encoded_Label_Bin_3.0.csv')['train']  # Assuming dev_data is for validation\n",
    "test_dataset = load_dataset('csv', data_files='HSP_Test_Data_with_Encoded_Label_Bin_3.0.csv')['train']\n",
    "\n",
    "# Define the columns to be removed\n",
    "col_to_delete = ['id', 'Text', 'Label_Id', 'Label']\n",
    "\n",
    "# Apply preprocessing to each dataset separately\n",
    "bert_tokenized_train_dataset = train_dataset.map(bert_preprocessing_function, batched=True, remove_columns=col_to_delete)\n",
    "bert_tokenized_val_dataset = val_dataset.map(bert_preprocessing_function, batched=True, remove_columns=col_to_delete)\n",
    "bert_tokenized_test_dataset = test_dataset.map(bert_preprocessing_function, batched=True, remove_columns=col_to_delete)\n",
    "\n",
    "# Rename the 'target' column to 'label' in each dataset\n",
    "bert_tokenized_train_dataset = bert_tokenized_train_dataset.rename_column(\"Label_Rev\", \"label\")\n",
    "bert_tokenized_val_dataset = bert_tokenized_val_dataset.rename_column(\"Label_Rev\", \"label\")\n",
    "bert_tokenized_test_dataset = bert_tokenized_test_dataset.rename_column(\"Label_Rev\", \"label\")\n",
    "\n",
    "# Set format to 'torch' for all datasets\n",
    "bert_tokenized_train_dataset.set_format(\"torch\")\n",
    "bert_tokenized_val_dataset.set_format(\"torch\")\n",
    "bert_tokenized_test_dataset.set_format(\"torch\")\n",
    "\n",
    "# Data collator for padding a batch of examples to the maximum length seen in the batch\n",
    "# Data collator for padding a batch of examples to the maximum length seen in the batch\n",
    "bert_data_collator = DataCollatorWithPadding(tokenizer=bert_tokenizer)\n",
    "bert_tokenized_train_dataset[0]"
   ]
  },
  {
   "cell_type": "markdown",
   "metadata": {},
   "source": [
    "## Load Pretrain Model"
   ]
  },
  {
   "cell_type": "code",
   "execution_count": 14,
   "metadata": {},
   "outputs": [
    {
     "name": "stderr",
     "output_type": "stream",
     "text": [
      "Some weights of BertForSequenceClassification were not initialized from the model checkpoint at GroNLP/hateBERT and are newly initialized: ['classifier.bias', 'classifier.weight']\n",
      "You should probably TRAIN this model on a down-stream task to be able to use it for predictions and inference.\n"
     ]
    }
   ],
   "source": [
    "from transformers import AutoModelForSequenceClassification \n",
    "bert_model = AutoModelForSequenceClassification.from_pretrained(bert_checkpoint, num_labels=2)"
   ]
  },
  {
   "cell_type": "markdown",
   "metadata": {},
   "source": [
    "## LoRa setup for RoBERta classifier"
   ]
  },
  {
   "cell_type": "code",
   "execution_count": 15,
   "metadata": {},
   "outputs": [
    {
     "name": "stdout",
     "output_type": "stream",
     "text": [
      "trainable params: 150,532 || all params: 109,632,772 || trainable%: 0.13730565893198432\n"
     ]
    }
   ],
   "source": [
    "from peft import get_peft_model, LoraConfig, TaskType\n",
    "\n",
    "bert_peft_config = LoraConfig(\n",
    "    task_type=TaskType.SEQ_CLS, r=4, lora_alpha=16, lora_dropout=0.1, bias=\"none\",\n",
    ")\n",
    "bert_model = get_peft_model(bert_model, bert_peft_config)\n",
    "bert_model.print_trainable_parameters()"
   ]
  },
  {
   "cell_type": "markdown",
   "metadata": {},
   "source": [
    "## Setup the trainer"
   ]
  },
  {
   "cell_type": "markdown",
   "metadata": {},
   "source": [
    "### Evaluation Metric"
   ]
  },
  {
   "cell_type": "code",
   "execution_count": 16,
   "metadata": {},
   "outputs": [],
   "source": [
    "from sklearn.metrics import precision_score, recall_score, f1_score, accuracy_score\n",
    "\n",
    "def compute_metrics(eval_pred):\n",
    "    logits, labels = eval_pred\n",
    "    predictions = np.argmax(logits, axis=-1)\n",
    "    \n",
    "    # Calculate metrics using 'weighted' average for multi-class classification\n",
    "    precision = precision_score(labels, predictions, average='weighted')\n",
    "    recall = recall_score(labels, predictions, average='weighted')\n",
    "    f1 = f1_score(labels, predictions, average='weighted')\n",
    "    accuracy = accuracy_score(labels, predictions)\n",
    "    \n",
    "    return {\n",
    "        \"precision\": precision,\n",
    "        \"recall\": recall,\n",
    "        \"f1-score\": f1,\n",
    "        \"accuracy\": accuracy\n",
    "    }\n"
   ]
  },
  {
   "cell_type": "markdown",
   "metadata": {},
   "source": [
    "### Custom Trainer for Loss"
   ]
  },
  {
   "cell_type": "code",
   "execution_count": 17,
   "metadata": {},
   "outputs": [],
   "source": [
    " #loss_fct = torch.nn.CrossEntropyLoss()"
   ]
  },
  {
   "cell_type": "code",
   "execution_count": 18,
   "metadata": {},
   "outputs": [],
   "source": [
    "class CELossTrainer(Trainer):\n",
    "    def compute_loss(self, model, inputs, return_outputs=False):\n",
    "        labels = inputs.pop(\"labels\")\n",
    "        # Get model's predictions\n",
    "        outputs = model(**inputs)\n",
    "        logits = outputs.get(\"logits\")\n",
    "        # Compute custom loss\n",
    "        #loss_fct = torch.nn.CrossEntropyLoss(weight=torch.tensor([very_pos_weights, pos_weights, neutral_weights, neg_weights, very_neg_weights, ambiguous_weights], device=model.device, dtype=logits.dtype))\n",
    "        loss_fct = torch.nn.CrossEntropyLoss()\n",
    "        loss = loss_fct(logits.view(-1, self.model.config.num_labels), labels.view(-1))\n",
    "        return (loss, outputs) if return_outputs else loss"
   ]
  },
  {
   "cell_type": "markdown",
   "metadata": {},
   "source": [
    "### Custom Trainer for Weighted Loss"
   ]
  },
  {
   "cell_type": "code",
   "execution_count": 19,
   "metadata": {},
   "outputs": [],
   "source": [
    "from transformers import TrainerCallback, TrainerState, TrainerControl\n",
    "\n",
    "class LossTrackerCallback(TrainerCallback):\n",
    "    def __init__(self):\n",
    "        self.training_losses = []\n",
    "        self.validation_losses = []\n",
    "        self.epoch = 0\n",
    "\n",
    "    def on_epoch_end(self, args, state: TrainerState, control: TrainerControl, **kwargs):\n",
    "        # Append the most recent training loss to the list\n",
    "        for log in reversed(state.log_history):\n",
    "            if 'loss' in log:\n",
    "                self.training_losses.append(log['loss'])\n",
    "                break  # Ensure we only add one training loss per epoch\n",
    "\n",
    "    def on_evaluate(self, args, state: TrainerState, control: TrainerControl, **kwargs):\n",
    "        if len(self.training_losses) > len(self.validation_losses):\n",
    "            # Append the most recent validation loss to the list\n",
    "            for log in reversed(state.log_history):\n",
    "                if 'eval_loss' in log:\n",
    "                    self.validation_losses.append(log['eval_loss'])\n",
    "                    break  # Ensure we only add one validation loss per epoch"
   ]
  },
  {
   "cell_type": "code",
   "execution_count": 20,
   "metadata": {},
   "outputs": [],
   "source": [
    "loss_tracker_callback = LossTrackerCallback()"
   ]
  },
  {
   "cell_type": "markdown",
   "metadata": {},
   "source": [
    "### Early Stopping Criteria"
   ]
  },
  {
   "cell_type": "code",
   "execution_count": 21,
   "metadata": {},
   "outputs": [],
   "source": [
    "from transformers import EarlyStoppingCallback\n",
    "early_stopping_callback = EarlyStoppingCallback(early_stopping_patience=3)"
   ]
  },
  {
   "cell_type": "markdown",
   "metadata": {},
   "source": [
    "### Trainer setup"
   ]
  },
  {
   "cell_type": "code",
   "execution_count": 24,
   "metadata": {},
   "outputs": [],
   "source": [
    "from transformers import TrainingArguments, Trainer\n",
    "\n",
    "lr = 1e-4\n",
    "batch_size = 8\n",
    "num_epochs = 25\n",
    "\n",
    "training_args = TrainingArguments(\n",
    "    output_dir=\"bert-large-lora-token-binary-classification\",\n",
    "    learning_rate=lr,\n",
    "    lr_scheduler_type= \"constant\",\n",
    "    warmup_ratio= 0.1,\n",
    "    max_grad_norm= 0.3,\n",
    "    per_device_train_batch_size=batch_size,\n",
    "    per_device_eval_batch_size=batch_size,\n",
    "    num_train_epochs=num_epochs,\n",
    "    weight_decay=0.001,\n",
    "    evaluation_strategy=\"epoch\",\n",
    "    save_strategy=\"epoch\",\n",
    "    load_best_model_at_end=True,\n",
    "    report_to=\"wandb\",\n",
    "    fp16=False,\n",
    "    gradient_checkpointing=True,\n",
    ")"
   ]
  },
  {
   "cell_type": "code",
   "execution_count": 25,
   "metadata": {},
   "outputs": [
    {
     "name": "stderr",
     "output_type": "stream",
     "text": [
      "Detected kernel version 5.4.0, which is below the recommended minimum of 5.5.0; this can cause the process to hang. It is recommended to upgrade the kernel to the minimum version or higher.\n"
     ]
    }
   ],
   "source": [
    "bert_trainer = CELossTrainer(\n",
    "    model=bert_model,\n",
    "    args=training_args,\n",
    "    train_dataset=bert_tokenized_train_dataset,\n",
    "    eval_dataset=bert_tokenized_val_dataset,\n",
    "    data_collator=bert_data_collator,\n",
    "    compute_metrics=compute_metrics,\n",
    "    callbacks=[loss_tracker_callback, early_stopping_callback]\n",
    ")"
   ]
  },
  {
   "cell_type": "markdown",
   "metadata": {},
   "source": [
    "## Training"
   ]
  },
  {
   "cell_type": "code",
   "execution_count": 26,
   "metadata": {},
   "outputs": [
    {
     "name": "stderr",
     "output_type": "stream",
     "text": [
      "/home/sunil/.local/lib/python3.8/site-packages/torch/utils/checkpoint.py:429: UserWarning: torch.utils.checkpoint: please pass in use_reentrant=True or use_reentrant=False explicitly. The default value of use_reentrant will be updated to be False in the future. To maintain current behavior, pass use_reentrant=True. It is recommended that you use use_reentrant=False. Refer to docs for more details on the differences between the two variants.\n",
      "  warnings.warn(\n",
      "/home/sunil/.local/lib/python3.8/site-packages/torch/utils/checkpoint.py:61: UserWarning: None of the inputs have requires_grad=True. Gradients will be None\n",
      "  warnings.warn(\n"
     ]
    },
    {
     "data": {
      "text/html": [
       "\n",
       "    <div>\n",
       "      \n",
       "      <progress value='4923' max='13675' style='width:300px; height:20px; vertical-align: middle;'></progress>\n",
       "      [ 4923/13675 01:42 < 03:03, 47.80 it/s, Epoch 9/25]\n",
       "    </div>\n",
       "    <table border=\"1\" class=\"dataframe\">\n",
       "  <thead>\n",
       " <tr style=\"text-align: left;\">\n",
       "      <th>Epoch</th>\n",
       "      <th>Training Loss</th>\n",
       "      <th>Validation Loss</th>\n",
       "      <th>Precision</th>\n",
       "      <th>Recall</th>\n",
       "      <th>F1-score</th>\n",
       "      <th>Accuracy</th>\n",
       "    </tr>\n",
       "  </thead>\n",
       "  <tbody>\n",
       "    <tr>\n",
       "      <td>1</td>\n",
       "      <td>0.424200</td>\n",
       "      <td>0.408539</td>\n",
       "      <td>0.731043</td>\n",
       "      <td>0.855011</td>\n",
       "      <td>0.788182</td>\n",
       "      <td>0.855011</td>\n",
       "    </tr>\n",
       "    <tr>\n",
       "      <td>2</td>\n",
       "      <td>0.407900</td>\n",
       "      <td>0.402996</td>\n",
       "      <td>0.731043</td>\n",
       "      <td>0.855011</td>\n",
       "      <td>0.788182</td>\n",
       "      <td>0.855011</td>\n",
       "    </tr>\n",
       "    <tr>\n",
       "      <td>3</td>\n",
       "      <td>0.395200</td>\n",
       "      <td>0.393841</td>\n",
       "      <td>0.731043</td>\n",
       "      <td>0.855011</td>\n",
       "      <td>0.788182</td>\n",
       "      <td>0.855011</td>\n",
       "    </tr>\n",
       "    <tr>\n",
       "      <td>4</td>\n",
       "      <td>0.388800</td>\n",
       "      <td>0.388229</td>\n",
       "      <td>0.731043</td>\n",
       "      <td>0.855011</td>\n",
       "      <td>0.788182</td>\n",
       "      <td>0.855011</td>\n",
       "    </tr>\n",
       "    <tr>\n",
       "      <td>5</td>\n",
       "      <td>0.395600</td>\n",
       "      <td>0.390893</td>\n",
       "      <td>0.731043</td>\n",
       "      <td>0.855011</td>\n",
       "      <td>0.788182</td>\n",
       "      <td>0.855011</td>\n",
       "    </tr>\n",
       "    <tr>\n",
       "      <td>6</td>\n",
       "      <td>0.389400</td>\n",
       "      <td>0.380450</td>\n",
       "      <td>0.731043</td>\n",
       "      <td>0.855011</td>\n",
       "      <td>0.788182</td>\n",
       "      <td>0.855011</td>\n",
       "    </tr>\n",
       "    <tr>\n",
       "      <td>7</td>\n",
       "      <td>0.386700</td>\n",
       "      <td>0.381726</td>\n",
       "      <td>0.731043</td>\n",
       "      <td>0.855011</td>\n",
       "      <td>0.788182</td>\n",
       "      <td>0.855011</td>\n",
       "    </tr>\n",
       "    <tr>\n",
       "      <td>8</td>\n",
       "      <td>0.379200</td>\n",
       "      <td>0.384350</td>\n",
       "      <td>0.731043</td>\n",
       "      <td>0.855011</td>\n",
       "      <td>0.788182</td>\n",
       "      <td>0.855011</td>\n",
       "    </tr>\n",
       "    <tr>\n",
       "      <td>9</td>\n",
       "      <td>0.383400</td>\n",
       "      <td>0.385789</td>\n",
       "      <td>0.731043</td>\n",
       "      <td>0.855011</td>\n",
       "      <td>0.788182</td>\n",
       "      <td>0.855011</td>\n",
       "    </tr>\n",
       "  </tbody>\n",
       "</table><p>"
      ],
      "text/plain": [
       "<IPython.core.display.HTML object>"
      ]
     },
     "metadata": {},
     "output_type": "display_data"
    },
    {
     "name": "stderr",
     "output_type": "stream",
     "text": [
      "/home/sunil/.local/lib/python3.8/site-packages/sklearn/metrics/_classification.py:1469: UndefinedMetricWarning: Precision is ill-defined and being set to 0.0 in labels with no predicted samples. Use `zero_division` parameter to control this behavior.\n",
      "  _warn_prf(average, modifier, msg_start, len(result))\n",
      "/home/sunil/.local/lib/python3.8/site-packages/torch/utils/checkpoint.py:429: UserWarning: torch.utils.checkpoint: please pass in use_reentrant=True or use_reentrant=False explicitly. The default value of use_reentrant will be updated to be False in the future. To maintain current behavior, pass use_reentrant=True. It is recommended that you use use_reentrant=False. Refer to docs for more details on the differences between the two variants.\n",
      "  warnings.warn(\n",
      "/home/sunil/.local/lib/python3.8/site-packages/torch/utils/checkpoint.py:61: UserWarning: None of the inputs have requires_grad=True. Gradients will be None\n",
      "  warnings.warn(\n",
      "/home/sunil/.local/lib/python3.8/site-packages/sklearn/metrics/_classification.py:1469: UndefinedMetricWarning: Precision is ill-defined and being set to 0.0 in labels with no predicted samples. Use `zero_division` parameter to control this behavior.\n",
      "  _warn_prf(average, modifier, msg_start, len(result))\n",
      "/home/sunil/.local/lib/python3.8/site-packages/torch/utils/checkpoint.py:429: UserWarning: torch.utils.checkpoint: please pass in use_reentrant=True or use_reentrant=False explicitly. The default value of use_reentrant will be updated to be False in the future. To maintain current behavior, pass use_reentrant=True. It is recommended that you use use_reentrant=False. Refer to docs for more details on the differences between the two variants.\n",
      "  warnings.warn(\n",
      "/home/sunil/.local/lib/python3.8/site-packages/torch/utils/checkpoint.py:61: UserWarning: None of the inputs have requires_grad=True. Gradients will be None\n",
      "  warnings.warn(\n",
      "/home/sunil/.local/lib/python3.8/site-packages/sklearn/metrics/_classification.py:1469: UndefinedMetricWarning: Precision is ill-defined and being set to 0.0 in labels with no predicted samples. Use `zero_division` parameter to control this behavior.\n",
      "  _warn_prf(average, modifier, msg_start, len(result))\n",
      "/home/sunil/.local/lib/python3.8/site-packages/torch/utils/checkpoint.py:429: UserWarning: torch.utils.checkpoint: please pass in use_reentrant=True or use_reentrant=False explicitly. The default value of use_reentrant will be updated to be False in the future. To maintain current behavior, pass use_reentrant=True. It is recommended that you use use_reentrant=False. Refer to docs for more details on the differences between the two variants.\n",
      "  warnings.warn(\n",
      "/home/sunil/.local/lib/python3.8/site-packages/torch/utils/checkpoint.py:61: UserWarning: None of the inputs have requires_grad=True. Gradients will be None\n",
      "  warnings.warn(\n",
      "/home/sunil/.local/lib/python3.8/site-packages/sklearn/metrics/_classification.py:1469: UndefinedMetricWarning: Precision is ill-defined and being set to 0.0 in labels with no predicted samples. Use `zero_division` parameter to control this behavior.\n",
      "  _warn_prf(average, modifier, msg_start, len(result))\n",
      "/home/sunil/.local/lib/python3.8/site-packages/torch/utils/checkpoint.py:429: UserWarning: torch.utils.checkpoint: please pass in use_reentrant=True or use_reentrant=False explicitly. The default value of use_reentrant will be updated to be False in the future. To maintain current behavior, pass use_reentrant=True. It is recommended that you use use_reentrant=False. Refer to docs for more details on the differences between the two variants.\n",
      "  warnings.warn(\n",
      "/home/sunil/.local/lib/python3.8/site-packages/torch/utils/checkpoint.py:61: UserWarning: None of the inputs have requires_grad=True. Gradients will be None\n",
      "  warnings.warn(\n",
      "/home/sunil/.local/lib/python3.8/site-packages/sklearn/metrics/_classification.py:1469: UndefinedMetricWarning: Precision is ill-defined and being set to 0.0 in labels with no predicted samples. Use `zero_division` parameter to control this behavior.\n",
      "  _warn_prf(average, modifier, msg_start, len(result))\n",
      "/home/sunil/.local/lib/python3.8/site-packages/torch/utils/checkpoint.py:429: UserWarning: torch.utils.checkpoint: please pass in use_reentrant=True or use_reentrant=False explicitly. The default value of use_reentrant will be updated to be False in the future. To maintain current behavior, pass use_reentrant=True. It is recommended that you use use_reentrant=False. Refer to docs for more details on the differences between the two variants.\n",
      "  warnings.warn(\n",
      "/home/sunil/.local/lib/python3.8/site-packages/torch/utils/checkpoint.py:61: UserWarning: None of the inputs have requires_grad=True. Gradients will be None\n",
      "  warnings.warn(\n",
      "/home/sunil/.local/lib/python3.8/site-packages/sklearn/metrics/_classification.py:1469: UndefinedMetricWarning: Precision is ill-defined and being set to 0.0 in labels with no predicted samples. Use `zero_division` parameter to control this behavior.\n",
      "  _warn_prf(average, modifier, msg_start, len(result))\n",
      "/home/sunil/.local/lib/python3.8/site-packages/torch/utils/checkpoint.py:429: UserWarning: torch.utils.checkpoint: please pass in use_reentrant=True or use_reentrant=False explicitly. The default value of use_reentrant will be updated to be False in the future. To maintain current behavior, pass use_reentrant=True. It is recommended that you use use_reentrant=False. Refer to docs for more details on the differences between the two variants.\n",
      "  warnings.warn(\n",
      "/home/sunil/.local/lib/python3.8/site-packages/torch/utils/checkpoint.py:61: UserWarning: None of the inputs have requires_grad=True. Gradients will be None\n",
      "  warnings.warn(\n",
      "/home/sunil/.local/lib/python3.8/site-packages/sklearn/metrics/_classification.py:1469: UndefinedMetricWarning: Precision is ill-defined and being set to 0.0 in labels with no predicted samples. Use `zero_division` parameter to control this behavior.\n",
      "  _warn_prf(average, modifier, msg_start, len(result))\n",
      "/home/sunil/.local/lib/python3.8/site-packages/torch/utils/checkpoint.py:429: UserWarning: torch.utils.checkpoint: please pass in use_reentrant=True or use_reentrant=False explicitly. The default value of use_reentrant will be updated to be False in the future. To maintain current behavior, pass use_reentrant=True. It is recommended that you use use_reentrant=False. Refer to docs for more details on the differences between the two variants.\n",
      "  warnings.warn(\n",
      "/home/sunil/.local/lib/python3.8/site-packages/torch/utils/checkpoint.py:61: UserWarning: None of the inputs have requires_grad=True. Gradients will be None\n",
      "  warnings.warn(\n",
      "/home/sunil/.local/lib/python3.8/site-packages/sklearn/metrics/_classification.py:1469: UndefinedMetricWarning: Precision is ill-defined and being set to 0.0 in labels with no predicted samples. Use `zero_division` parameter to control this behavior.\n",
      "  _warn_prf(average, modifier, msg_start, len(result))\n",
      "/home/sunil/.local/lib/python3.8/site-packages/torch/utils/checkpoint.py:429: UserWarning: torch.utils.checkpoint: please pass in use_reentrant=True or use_reentrant=False explicitly. The default value of use_reentrant will be updated to be False in the future. To maintain current behavior, pass use_reentrant=True. It is recommended that you use use_reentrant=False. Refer to docs for more details on the differences between the two variants.\n",
      "  warnings.warn(\n",
      "/home/sunil/.local/lib/python3.8/site-packages/torch/utils/checkpoint.py:61: UserWarning: None of the inputs have requires_grad=True. Gradients will be None\n",
      "  warnings.warn(\n",
      "/home/sunil/.local/lib/python3.8/site-packages/sklearn/metrics/_classification.py:1469: UndefinedMetricWarning: Precision is ill-defined and being set to 0.0 in labels with no predicted samples. Use `zero_division` parameter to control this behavior.\n",
      "  _warn_prf(average, modifier, msg_start, len(result))\n"
     ]
    }
   ],
   "source": [
    "# Start the training\n",
    "train_result = bert_trainer.train()"
   ]
  },
  {
   "cell_type": "code",
   "execution_count": 27,
   "metadata": {},
   "outputs": [
    {
     "name": "stdout",
     "output_type": "stream",
     "text": [
      "TrainOutput(global_step=4923, training_loss=0.39258061698992613, metrics={'train_runtime': 103.7285, 'train_samples_per_second': 1054.195, 'train_steps_per_second': 131.835, 'total_flos': 1271808862975056.0, 'train_loss': 0.39258061698992613, 'epoch': 9.0})\n"
     ]
    }
   ],
   "source": [
    "print(train_result)"
   ]
  },
  {
   "cell_type": "code",
   "execution_count": 28,
   "metadata": {},
   "outputs": [
    {
     "data": {
      "text/html": [
       "\n",
       "    <div>\n",
       "      \n",
       "      <progress value='118' max='118' style='width:300px; height:20px; vertical-align: middle;'></progress>\n",
       "      [118/118 00:01]\n",
       "    </div>\n",
       "    "
      ],
      "text/plain": [
       "<IPython.core.display.HTML object>"
      ]
     },
     "metadata": {},
     "output_type": "display_data"
    },
    {
     "name": "stdout",
     "output_type": "stream",
     "text": [
      "{'eval_loss': 0.3804498016834259, 'eval_precision': 0.731043230390842, 'eval_recall': 0.8550106609808102, 'eval_f1-score': 0.7881822415018503, 'eval_accuracy': 0.8550106609808102, 'eval_runtime': 1.3733, 'eval_samples_per_second': 683.014, 'eval_steps_per_second': 85.923, 'epoch': 9.0}\n"
     ]
    },
    {
     "name": "stderr",
     "output_type": "stream",
     "text": [
      "/home/sunil/.local/lib/python3.8/site-packages/sklearn/metrics/_classification.py:1469: UndefinedMetricWarning: Precision is ill-defined and being set to 0.0 in labels with no predicted samples. Use `zero_division` parameter to control this behavior.\n",
      "  _warn_prf(average, modifier, msg_start, len(result))\n"
     ]
    }
   ],
   "source": [
    "eval_result = bert_trainer.evaluate()\n",
    "print(eval_result)"
   ]
  },
  {
   "cell_type": "markdown",
   "metadata": {},
   "source": [
    "### Analysis of Loss function and Evaluation of Trained Model"
   ]
  },
  {
   "cell_type": "code",
   "execution_count": 29,
   "metadata": {},
   "outputs": [
    {
     "name": "stdout",
     "output_type": "stream",
     "text": [
      "Training Losses:  [0.4242, 0.4079, 0.3952, 0.3888, 0.3956, 0.3894, 0.3867, 0.3792, 0.3834]\n",
      "Validation Losses:  [0.40853938460350037, 0.40299639105796814, 0.39384058117866516, 0.38822945952415466, 0.39089295268058777, 0.3804498016834259, 0.38172635436058044, 0.3843500316143036, 0.38578933477401733]\n"
     ]
    }
   ],
   "source": [
    "# Access the losses\n",
    "training_losses = loss_tracker_callback.training_losses\n",
    "validation_losses = loss_tracker_callback.validation_losses\n",
    "\n",
    "print(\"Training Losses: \", training_losses)\n",
    "print(\"Validation Losses: \", validation_losses)"
   ]
  },
  {
   "cell_type": "code",
   "execution_count": 30,
   "metadata": {},
   "outputs": [
    {
     "name": "stdout",
     "output_type": "stream",
     "text": [
      "9\n",
      "9\n"
     ]
    }
   ],
   "source": [
    "print(len(training_losses ))\n",
    "print(len(validation_losses ))"
   ]
  },
  {
   "cell_type": "code",
   "execution_count": 31,
   "metadata": {},
   "outputs": [
    {
     "data": {
      "image/png": "[encoded data removed]",
      "text/plain": [
       "<Figure size 1000x600 with 1 Axes>"
      ]
     },
     "metadata": {},
     "output_type": "display_data"
    }
   ],
   "source": [
    "import matplotlib.pyplot as plt\n",
    "epochs = range(1, len(training_losses) + 1)\n",
    "plt.figure(figsize=(10, 6))\n",
    "plt.plot(epochs, training_losses, label='Training Loss')\n",
    "plt.plot(epochs, validation_losses, label='Validation Loss')\n",
    "plt.xlabel('Epochs')\n",
    "plt.ylabel('Loss')\n",
    "plt.title('Training and Validation Losses')\n",
    "plt.legend()\n",
    "plt.grid(True)\n",
    "plt.show()"
   ]
  },
  {
   "cell_type": "markdown",
   "metadata": {},
   "source": [
    "## Saving Model"
   ]
  },
  {
   "cell_type": "code",
   "execution_count": 32,
   "metadata": {},
   "outputs": [
    {
     "name": "stdout",
     "output_type": "stream",
     "text": [
      "/home/sunil/Hate_Speech_Project/Hate_BERT\n"
     ]
    },
    {
     "name": "stderr",
     "output_type": "stream",
     "text": [
      "huggingface/tokenizers: The current process just got forked, after parallelism has already been used. Disabling parallelism to avoid deadlocks...\n",
      "To disable this warning, you can either:\n",
      "\t- Avoid using `tokenizers` before the fork if possible\n",
      "\t- Explicitly set the environment variable TOKENIZERS_PARALLELISM=(true | false)\n"
     ]
    }
   ],
   "source": [
    "!pwd"
   ]
  },
  {
   "cell_type": "code",
   "execution_count": 33,
   "metadata": {},
   "outputs": [
    {
     "name": "stdout",
     "output_type": "stream",
     "text": [
      "Model, tokenizer, and configuration saved to /home/sunil/Hate_Speech_Project/Hate_BERT/BERT_finetuned_model_Binary\n"
     ]
    }
   ],
   "source": [
    "# Assuming `model_directory` is defined and points to where you want to save your model, tokenizer, and config\n",
    "from transformers import AutoConfig\n",
    "import os\n",
    "\n",
    "# Define the directory where you want to save your model and tokenizer\n",
    "model_directory = \"/home/sunil/Hate_Speech_Project/Hate_BERT/BERT_finetuned_model_Binary\"\n",
    "\n",
    "if not os.path.exists(model_directory):\n",
    "    os.makedirs(model_directory)\n",
    "\n",
    "# First, save your trained model and tokenizer\n",
    "bert_model.save_pretrained(model_directory)\n",
    "bert_tokenizer.save_pretrained(model_directory)\n",
    "\n",
    "# Then, save the configuration\n",
    "config = AutoConfig.from_pretrained(\"GroNLP/hateBERT\", num_labels=2) # Adjust as necessary\n",
    "config.save_pretrained(model_directory)\n",
    "\n",
    "print(f\"Model, tokenizer, and configuration saved to {model_directory}\")\n"
   ]
  },
  {
   "cell_type": "markdown",
   "metadata": {},
   "source": [
    "## Loading the Saved Model"
   ]
  },
  {
   "cell_type": "code",
   "execution_count": 34,
   "metadata": {},
   "outputs": [
    {
     "name": "stderr",
     "output_type": "stream",
     "text": [
      "Some weights of BertForSequenceClassification were not initialized from the model checkpoint at GroNLP/hateBERT and are newly initialized: ['classifier.bias', 'classifier.weight']\n",
      "You should probably TRAIN this model on a down-stream task to be able to use it for predictions and inference.\n"
     ]
    }
   ],
   "source": [
    "from transformers import AutoConfig, AutoModelForSequenceClassification\n",
    "from transformers import AutoModelForSequenceClassification, AutoTokenizer\n",
    "\n",
    "# Define the directory where your saved model and tokenizer are\n",
    "model_directory = \"/home/sunil/Hate_Speech_Project/Hate_BERT/BERT_finetuned_model_Binary\"\n",
    "\n",
    "# Load the configuration and set the number of labels\n",
    "config = AutoConfig.from_pretrained(model_directory, num_labels=2)\n",
    "\n",
    "# Now, load the model with the updated configuration\n",
    "model = AutoModelForSequenceClassification.from_pretrained(model_directory, config=config)\n",
    "\n",
    "# Load the tokenizer as usual\n",
    "tokenizer = AutoTokenizer.from_pretrained(model_directory)"
   ]
  },
  {
   "cell_type": "markdown",
   "metadata": {},
   "source": [
    "## Evaluation of Validation set"
   ]
  },
  {
   "cell_type": "code",
   "execution_count": 35,
   "metadata": {},
   "outputs": [
    {
     "name": "stdout",
     "output_type": "stream",
     "text": [
      "Predictions stored in new file: HSP_Val_Data_with_Encoded_Label_Bin_3.0_with_predictions.csv\n",
      "CPU times: user 47min 53s, sys: 20.4 s, total: 48min 13s\n",
      "Wall time: 45.3 s\n"
     ]
    }
   ],
   "source": [
    "%%time\n",
    "import pandas as pd\n",
    "import torch\n",
    "from torch.nn.functional import softmax\n",
    "\n",
    "# Assuming tokenizer and model are already defined and loaded\n",
    "def prepare_input(text):\n",
    "    inputs = tokenizer(text, return_tensors=\"pt\", padding=True, truncation=True, max_length=512)\n",
    "    return inputs\n",
    "\n",
    "def predict(text):\n",
    "    model.eval()  # Ensure the model is in evaluation mode\n",
    "    inputs = prepare_input(text)\n",
    "    with torch.no_grad():  # No need to track gradients for inference\n",
    "        outputs = model(**inputs)\n",
    "        predictions = softmax(outputs.logits, dim=-1)\n",
    "    return predictions\n",
    "\n",
    "# Function to predict and store results in a new CSV\n",
    "def predict_and_store(csv_file_path):\n",
    "    # Load the CSV file\n",
    "    df = pd.read_csv(csv_file_path)\n",
    "    \n",
    "    # Ensure there's a column for predicted labels\n",
    "    df['Predicted_Label'] = None\n",
    "    \n",
    "    # Iterate over each row in the DataFrame and make predictions\n",
    "    for index, row in df.iterrows():\n",
    "        text = row['Text']\n",
    "        predictions = predict(text)\n",
    "        predicted_class_index = predictions.argmax(dim=1).item()\n",
    "        # Store the predicted class index in the DataFrame\n",
    "        df.at[index, 'Predicted_Label'] = predicted_class_index\n",
    "    \n",
    "    # Define the name for the new CSV file that will contain the predictions\n",
    "    predicted_csv_file_path = csv_file_path.replace('.csv', '_with_predictions.csv')\n",
    "    \n",
    "    # Save the modified DataFrame to the new CSV file\n",
    "    df.to_csv(predicted_csv_file_path, index=False)\n",
    "    \n",
    "    # Log the creation of the new file with predictions\n",
    "    print(f\"Predictions stored in new file: {predicted_csv_file_path}\")\n",
    "\n",
    "# Example usage with your specific CSV file\n",
    "csv_file_path = 'HSP_Val_Data_with_Encoded_Label_Bin_3.0.csv'\n",
    "predict_and_store(csv_file_path)"
   ]
  },
  {
   "cell_type": "code",
   "execution_count": 36,
   "metadata": {},
   "outputs": [
    {
     "data": {
      "text/html": [
       "<div>\n",
       "<style scoped>\n",
       "    .dataframe tbody tr th:only-of-type {\n",
       "        vertical-align: middle;\n",
       "    }\n",
       "\n",
       "    .dataframe tbody tr th {\n",
       "        vertical-align: top;\n",
       "    }\n",
       "\n",
       "    .dataframe thead th {\n",
       "        text-align: right;\n",
       "    }\n",
       "</style>\n",
       "<table border=\"1\" class=\"dataframe\">\n",
       "  <thead>\n",
       "    <tr style=\"text-align: right;\">\n",
       "      <th></th>\n",
       "      <th>id</th>\n",
       "      <th>Text</th>\n",
       "      <th>Label_Id</th>\n",
       "      <th>Label</th>\n",
       "      <th>Label_Rev</th>\n",
       "      <th>Predicted_Label</th>\n",
       "    </tr>\n",
       "  </thead>\n",
       "  <tbody>\n",
       "    <tr>\n",
       "      <th>0</th>\n",
       "      <td>2441</td>\n",
       "      <td>it makes me really mad that everyone says Scor...</td>\n",
       "      <td>1</td>\n",
       "      <td>Non_Hate</td>\n",
       "      <td>0</td>\n",
       "      <td>0</td>\n",
       "    </tr>\n",
       "    <tr>\n",
       "      <th>1</th>\n",
       "      <td>2948</td>\n",
       "      <td>Imagine invalidating an entire shows main char...</td>\n",
       "      <td>1</td>\n",
       "      <td>Non_Hate</td>\n",
       "      <td>0</td>\n",
       "      <td>0</td>\n",
       "    </tr>\n",
       "    <tr>\n",
       "      <th>2</th>\n",
       "      <td>5486</td>\n",
       "      <td>What do you prefer?  #Longboard or #Surfboard ...</td>\n",
       "      <td>1</td>\n",
       "      <td>Non_Hate</td>\n",
       "      <td>0</td>\n",
       "      <td>0</td>\n",
       "    </tr>\n",
       "    <tr>\n",
       "      <th>3</th>\n",
       "      <td>6132</td>\n",
       "      <td>'s account is temporarily unavailable because ...</td>\n",
       "      <td>1</td>\n",
       "      <td>Non_Hate</td>\n",
       "      <td>0</td>\n",
       "      <td>0</td>\n",
       "    </tr>\n",
       "    <tr>\n",
       "      <th>4</th>\n",
       "      <td>1643</td>\n",
       "      <td>I mean id be a lesbian if I saw some of y'all ...</td>\n",
       "      <td>1</td>\n",
       "      <td>Non_Hate</td>\n",
       "      <td>0</td>\n",
       "      <td>0</td>\n",
       "    </tr>\n",
       "  </tbody>\n",
       "</table>\n",
       "</div>"
      ],
      "text/plain": [
       "     id                                               Text  Label_Id  \\\n",
       "0  2441  it makes me really mad that everyone says Scor...         1   \n",
       "1  2948  Imagine invalidating an entire shows main char...         1   \n",
       "2  5486  What do you prefer?  #Longboard or #Surfboard ...         1   \n",
       "3  6132  's account is temporarily unavailable because ...         1   \n",
       "4  1643  I mean id be a lesbian if I saw some of y'all ...         1   \n",
       "\n",
       "      Label  Label_Rev  Predicted_Label  \n",
       "0  Non_Hate          0                0  \n",
       "1  Non_Hate          0                0  \n",
       "2  Non_Hate          0                0  \n",
       "3  Non_Hate          0                0  \n",
       "4  Non_Hate          0                0  "
      ]
     },
     "execution_count": 36,
     "metadata": {},
     "output_type": "execute_result"
    }
   ],
   "source": [
    "df = pd.read_csv(\"HSP_Val_Data_with_Encoded_Label_Bin_3.0_with_predictions.csv\")\n",
    "df.head()"
   ]
  },
  {
   "cell_type": "code",
   "execution_count": 37,
   "metadata": {},
   "outputs": [
    {
     "data": {
      "image/png": "[encoded data removed]",
      "text/plain": [
       "<Figure size 600x400 with 2 Axes>"
      ]
     },
     "metadata": {},
     "output_type": "display_data"
    }
   ],
   "source": [
    "import pandas as pd\n",
    "import numpy as np\n",
    "import matplotlib.pyplot as plt\n",
    "import seaborn as sns\n",
    "from sklearn.metrics import confusion_matrix\n",
    "from sklearn.metrics import accuracy_score, classification_report\n",
    "\n",
    "# Load the CSV file containing text data\n",
    "df = pd.read_csv(\"HSP_Val_Data_with_Encoded_Label_Bin_3.0_with_predictions.csv\")\n",
    "\n",
    "label_mapping = {0: \"Non_Hate\", 1: \"Hate\"}\n",
    "\n",
    "# Generate the confusion matrix\n",
    "confusion = confusion_matrix(df[\"Label_Rev\"], df[\"Predicted_Label\"])\n",
    "\n",
    "# Create a heatmap of the confusion matrix with class labels\n",
    "plt.figure(figsize=(6, 4))\n",
    "sns.set(font_scale=1.2)\n",
    "ax = sns.heatmap(confusion, annot=True, fmt=\"d\", cmap=\"Blues\", xticklabels=label_mapping.values(), yticklabels=label_mapping.values(),\n",
    "                 linewidths=.5, linecolor='black', cbar_kws={'drawedges': True})  # Add cbar_kws parameter\n",
    "\n",
    "# Add explicit border lines\n",
    "ax.add_artist(plt.Line2D([0, len(label_mapping)], [len(label_mapping), len(label_mapping)], color='black', linewidth=2))\n",
    "ax.add_artist(plt.Line2D([len(label_mapping), len(label_mapping)], [0, len(label_mapping)], color='black', linewidth=2))\n",
    "\n",
    "plt.xlabel('Predicted Labels')\n",
    "plt.ylabel('True Labels')\n",
    "plt.title('Confusion Matrix')\n",
    "plt.show()"
   ]
  },
  {
   "cell_type": "code",
   "execution_count": 38,
   "metadata": {},
   "outputs": [
    {
     "name": "stdout",
     "output_type": "stream",
     "text": [
      "Classification Report:\n",
      "               precision    recall  f1-score   support\n",
      "\n",
      "    Non_Hate       0.86      1.00      0.92       802\n",
      "        Hate       0.00      0.00      0.00       136\n",
      "\n",
      "    accuracy                           0.86       938\n",
      "   macro avg       0.43      0.50      0.46       938\n",
      "weighted avg       0.73      0.86      0.79       938\n",
      "\n"
     ]
    },
    {
     "name": "stderr",
     "output_type": "stream",
     "text": [
      "/home/sunil/.local/lib/python3.8/site-packages/sklearn/metrics/_classification.py:1469: UndefinedMetricWarning: Precision and F-score are ill-defined and being set to 0.0 in labels with no predicted samples. Use `zero_division` parameter to control this behavior.\n",
      "  _warn_prf(average, modifier, msg_start, len(result))\n",
      "/home/sunil/.local/lib/python3.8/site-packages/sklearn/metrics/_classification.py:1469: UndefinedMetricWarning: Precision and F-score are ill-defined and being set to 0.0 in labels with no predicted samples. Use `zero_division` parameter to control this behavior.\n",
      "  _warn_prf(average, modifier, msg_start, len(result))\n",
      "/home/sunil/.local/lib/python3.8/site-packages/sklearn/metrics/_classification.py:1469: UndefinedMetricWarning: Precision and F-score are ill-defined and being set to 0.0 in labels with no predicted samples. Use `zero_division` parameter to control this behavior.\n",
      "  _warn_prf(average, modifier, msg_start, len(result))\n"
     ]
    }
   ],
   "source": [
    "# Generate the classification report\n",
    "classification_rep = classification_report(df[\"Label_Rev\"], df[\"Predicted_Label\"], target_names=list(label_mapping.values()))\n",
    "print(\"Classification Report:\\n\", classification_rep)"
   ]
  },
  {
   "cell_type": "markdown",
   "metadata": {},
   "source": [
    "## Evaluation of Test set"
   ]
  },
  {
   "cell_type": "code",
   "execution_count": 47,
   "metadata": {},
   "outputs": [
    {
     "name": "stdout",
     "output_type": "stream",
     "text": [
      "Predictions stored in new file: HSP_Test_Data_with_Encoded_Label_Bin_3.0_with_predictions.csv\n"
     ]
    }
   ],
   "source": [
    "import pandas as pd\n",
    "import torch\n",
    "from torch.nn.functional import softmax\n",
    "\n",
    "# Assuming tokenizer and model are already defined and loaded\n",
    "\n",
    "def prepare_input(text):\n",
    "    inputs = tokenizer(text, return_tensors=\"pt\", padding=True, truncation=True, max_length=512)\n",
    "    return inputs\n",
    "\n",
    "def predict(text):\n",
    "    model.eval()  # Ensure the model is in evaluation mode\n",
    "    inputs = prepare_input(text)\n",
    "    with torch.no_grad():  # No need to track gradients for inference\n",
    "        outputs = model(**inputs)\n",
    "        predictions = softmax(outputs.logits, dim=-1)\n",
    "    return predictions\n",
    "\n",
    "# Function to predict and store results in a new CSV\n",
    "def predict_and_store(csv_file_path):\n",
    "    # Load the CSV file\n",
    "    df = pd.read_csv(csv_file_path)\n",
    "    \n",
    "    # Ensure there's a column for predicted labels\n",
    "    df['Predicted_Label'] = None\n",
    "    \n",
    "    # Iterate over each row in the DataFrame and make predictions\n",
    "    for index, row in df.iterrows():\n",
    "        text = row['Text']\n",
    "        predictions = predict(text)\n",
    "        predicted_class_index = predictions.argmax(dim=1).item()\n",
    "        # Store the predicted class index in the DataFrame\n",
    "        df.at[index, 'Predicted_Label'] = predicted_class_index\n",
    "    \n",
    "    # Define the name for the new CSV file that will contain the predictions\n",
    "    predicted_csv_file_path = csv_file_path.replace('.csv', '_with_predictions.csv')\n",
    "    \n",
    "    # Save the modified DataFrame to the new CSV file\n",
    "    df.to_csv(predicted_csv_file_path, index=False)\n",
    "    \n",
    "    # Log the creation of the new file with predictions\n",
    "    print(f\"Predictions stored in new file: {predicted_csv_file_path}\")\n",
    "\n",
    "# Example usage with your specific CSV file\n",
    "csv_file_path = 'HSP_Test_Data_with_Encoded_Label_Bin_3.0.csv'\n",
    "predict_and_store(csv_file_path)"
   ]
  },
  {
   "cell_type": "code",
   "execution_count": 48,
   "metadata": {},
   "outputs": [
    {
     "data": {
      "image/png": "[encoded data removed]",
      "text/plain": [
       "<Figure size 600x400 with 2 Axes>"
      ]
     },
     "metadata": {},
     "output_type": "display_data"
    }
   ],
   "source": [
    "import pandas as pd\n",
    "import numpy as np\n",
    "import matplotlib.pyplot as plt\n",
    "import seaborn as sns\n",
    "from sklearn.metrics import confusion_matrix\n",
    "from sklearn.metrics import accuracy_score, classification_report\n",
    "\n",
    "# Load the CSV file containing text data\n",
    "df = pd.read_csv(\"HSP_Test_Data_with_Encoded_Label_Bin_3.0_with_predictions.csv\")\n",
    "\n",
    "label_mapping = {0: \"Non_Hate\", 1: \"Hate\"}\n",
    "\n",
    "# Generate the confusion matrix\n",
    "confusion = confusion_matrix(df[\"Label_Rev\"], df[\"Predicted_Label\"])\n",
    "\n",
    "# Create a heatmap of the confusion matrix with class labels\n",
    "plt.figure(figsize=(6, 4))\n",
    "sns.set(font_scale=1.2)\n",
    "ax = sns.heatmap(confusion, annot=True, fmt=\"d\", cmap=\"Blues\", xticklabels=label_mapping.values(), yticklabels=label_mapping.values(),\n",
    "                 linewidths=.5, linecolor='black', cbar_kws={'drawedges': True})  # Add cbar_kws parameter\n",
    "\n",
    "# Add explicit border lines\n",
    "ax.add_artist(plt.Line2D([0, len(label_mapping)], [len(label_mapping), len(label_mapping)], color='black', linewidth=2))\n",
    "ax.add_artist(plt.Line2D([len(label_mapping), len(label_mapping)], [0, len(label_mapping)], color='black', linewidth=2))\n",
    "\n",
    "plt.xlabel('Predicted Labels')\n",
    "plt.ylabel('True Labels')\n",
    "plt.title('Confusion Matrix')\n",
    "plt.show()"
   ]
  },
  {
   "cell_type": "code",
   "execution_count": 49,
   "metadata": {},
   "outputs": [
    {
     "name": "stdout",
     "output_type": "stream",
     "text": [
      "Classification Report:\n",
      "               precision    recall  f1-score   support\n",
      "\n",
      "    Non_Hate       0.86      1.00      0.92       802\n",
      "        Hate       0.00      0.00      0.00       136\n",
      "\n",
      "    accuracy                           0.86       938\n",
      "   macro avg       0.43      0.50      0.46       938\n",
      "weighted avg       0.73      0.86      0.79       938\n",
      "\n"
     ]
    },
    {
     "name": "stderr",
     "output_type": "stream",
     "text": [
      "/home/sunil/.local/lib/python3.8/site-packages/sklearn/metrics/_classification.py:1469: UndefinedMetricWarning: Precision and F-score are ill-defined and being set to 0.0 in labels with no predicted samples. Use `zero_division` parameter to control this behavior.\n",
      "  _warn_prf(average, modifier, msg_start, len(result))\n",
      "/home/sunil/.local/lib/python3.8/site-packages/sklearn/metrics/_classification.py:1469: UndefinedMetricWarning: Precision and F-score are ill-defined and being set to 0.0 in labels with no predicted samples. Use `zero_division` parameter to control this behavior.\n",
      "  _warn_prf(average, modifier, msg_start, len(result))\n",
      "/home/sunil/.local/lib/python3.8/site-packages/sklearn/metrics/_classification.py:1469: UndefinedMetricWarning: Precision and F-score are ill-defined and being set to 0.0 in labels with no predicted samples. Use `zero_division` parameter to control this behavior.\n",
      "  _warn_prf(average, modifier, msg_start, len(result))\n"
     ]
    }
   ],
   "source": [
    "# Generate the classification report\n",
    "classification_rep = classification_report(df[\"Label_Rev\"], df[\"Predicted_Label\"], target_names=list(label_mapping.values()))\n",
    "print(\"Classification Report:\\n\", classification_rep)"
   ]
  },
  {
   "cell_type": "markdown",
   "metadata": {},
   "source": [
    "### General Inferencing"
   ]
  },
  {
   "cell_type": "code",
   "execution_count": 50,
   "metadata": {},
   "outputs": [
    {
     "name": "stdout",
     "output_type": "stream",
     "text": [
      "Predicted class index: 0\n"
     ]
    }
   ],
   "source": [
    "import torch\n",
    "from torch.nn.functional import softmax\n",
    "\n",
    "def prepare_input(text):\n",
    "    inputs = tokenizer(text, return_tensors=\"pt\", padding=True, truncation=True, max_length=512)\n",
    "    return inputs\n",
    "\n",
    "def predict(text):\n",
    "    model.eval()  # Ensure the model is in evaluation mode\n",
    "    inputs = prepare_input(text)\n",
    "    with torch.no_grad():  # No need to track gradients for inference\n",
    "        outputs = model(**inputs)\n",
    "        predictions = softmax(outputs.logits, dim=-1)\n",
    "    return predictions\n",
    "\n",
    "# Example usage\n",
    "text = \"India is My Country\"\n",
    "predictions = predict(text)\n",
    "predicted_class_index = predictions.argmax(dim=1).item()\n",
    "print(f\"Predicted class index: {predicted_class_index}\")"
   ]
  },
  {
   "cell_type": "code",
   "execution_count": 51,
   "metadata": {},
   "outputs": [
    {
     "name": "stdout",
     "output_type": "stream",
     "text": [
      "Predicted class index: 0\n"
     ]
    }
   ],
   "source": [
    "import torch\n",
    "from torch.nn.functional import softmax\n",
    "\n",
    "def prepare_input(text):\n",
    "    inputs = tokenizer(text, return_tensors=\"pt\", padding=True, truncation=True, max_length=512)\n",
    "    return inputs\n",
    "\n",
    "def predict(text):\n",
    "    model.eval()  # Ensure the model is in evaluation mode\n",
    "    inputs = prepare_input(text)\n",
    "    with torch.no_grad():  # No need to track gradients for inference\n",
    "        outputs = model(**inputs)\n",
    "        predictions = softmax(outputs.logits, dim=-1)\n",
    "    return predictions\n",
    "\n",
    "# Example usage\n",
    "text = \"I hate you, You are worst gay.\"\n",
    "predictions = predict(text)\n",
    "predicted_class_index = predictions.argmax(dim=1).item()\n",
    "print(f\"Predicted class index: {predicted_class_index}\")"
   ]
  },
  {
   "cell_type": "code",
   "execution_count": 52,
   "metadata": {},
   "outputs": [
    {
     "name": "stdout",
     "output_type": "stream",
     "text": [
      "Predicted class index: 0\n"
     ]
    }
   ],
   "source": [
    "import torch\n",
    "from torch.nn.functional import softmax\n",
    "\n",
    "def prepare_input(text):\n",
    "    inputs = tokenizer(text, return_tensors=\"pt\", padding=True, truncation=True, max_length=512)\n",
    "    return inputs\n",
    "\n",
    "def predict(text):\n",
    "    model.eval()  # Ensure the model is in evaluation mode\n",
    "    inputs = prepare_input(text)\n",
    "    with torch.no_grad():  # No need to track gradients for inference\n",
    "        outputs = model(**inputs)\n",
    "        predictions = softmax(outputs.logits, dim=-1)\n",
    "    return predictions\n",
    "\n",
    "# Example usage\n",
    "text = \"LGBTQ+ people are also human, Give respect to save humanity.\"\n",
    "predictions = predict(text)\n",
    "predicted_class_index = predictions.argmax(dim=1).item()\n",
    "print(f\"Predicted class index: {predicted_class_index}\")"
   ]
  },
  {
   "cell_type": "code",
   "execution_count": 44,
   "metadata": {},
   "outputs": [
    {
     "name": "stdout",
     "output_type": "stream",
     "text": [
      "Sat May 25 04:01:26 2024       \n",
      "+---------------------------------------------------------------------------------------+\n",
      "| NVIDIA-SMI 535.171.04             Driver Version: 535.171.04   CUDA Version: 12.2     |\n",
      "|-----------------------------------------+----------------------+----------------------+\n",
      "| GPU  Name                 Persistence-M | Bus-Id        Disp.A | Volatile Uncorr. ECC |\n",
      "| Fan  Temp   Perf          Pwr:Usage/Cap |         Memory-Usage | GPU-Util  Compute M. |\n",
      "|                                         |                      |               MIG M. |\n",
      "|=========================================+======================+======================|\n",
      "|   0  NVIDIA A100 80GB PCIe          Off | 00000000:21:00.0 Off |                    0 |\n",
      "| N/A   49C    P0             227W / 300W |  35401MiB / 81920MiB |     71%      Default |\n",
      "|                                         |                      |             Disabled |\n",
      "+-----------------------------------------+----------------------+----------------------+\n",
      "|   1  NVIDIA A100 80GB PCIe          Off | 00000000:81:00.0 Off |                    0 |\n",
      "| N/A   63C    P0             300W / 300W |  60428MiB / 81920MiB |    100%      Default |\n",
      "|                                         |                      |             Disabled |\n",
      "+-----------------------------------------+----------------------+----------------------+\n",
      "                                                                                         \n",
      "+---------------------------------------------------------------------------------------+\n",
      "| Processes:                                                                            |\n",
      "|  GPU   GI   CI        PID   Type   Process name                            GPU Memory |\n",
      "|        ID   ID                                                             Usage      |\n",
      "|=======================================================================================|\n",
      "|    0   N/A  N/A   1284314      C   /usr/bin/python3                           2192MiB |\n",
      "|    0   N/A  N/A   2189667      C   /usr/bin/python3                           1242MiB |\n",
      "|    0   N/A  N/A   2207751      C   /usr/bin/python3                           2396MiB |\n",
      "|    0   N/A  N/A   3004886      C   /usr/bin/python3                          29546MiB |\n",
      "|    1   N/A  N/A   1862690      C   python                                    30204MiB |\n",
      "|    1   N/A  N/A   4181436      C   python                                    30210MiB |\n",
      "+---------------------------------------------------------------------------------------+\n"
     ]
    },
    {
     "name": "stderr",
     "output_type": "stream",
     "text": [
      "huggingface/tokenizers: The current process just got forked, after parallelism has already been used. Disabling parallelism to avoid deadlocks...\n",
      "To disable this warning, you can either:\n",
      "\t- Avoid using `tokenizers` before the fork if possible\n",
      "\t- Explicitly set the environment variable TOKENIZERS_PARALLELISM=(true | false)\n"
     ]
    }
   ],
   "source": [
    "!nvidia-smi"
   ]
  },
  {
   "cell_type": "code",
   "execution_count": null,
   "metadata": {},
   "outputs": [],
   "source": []
  }
 ],
 "metadata": {
  "kernelspec": {
   "display_name": "Python 3",
   "language": "python",
   "name": "python3"
  },
  "language_info": {
   "codemirror_mode": {
    "name": "ipython",
    "version": 3
   },
   "file_extension": ".py",
   "mimetype": "text/x-python",
   "name": "python",
   "nbconvert_exporter": "python",
   "pygments_lexer": "ipython3",
   "version": "3.8.5"
  },
  "widgets": {
   "application/vnd.jupyter.widget-state+json": {
    "state": {
     "0f982fa406f944059f0969571d195428": {
      "model_module": "@jupyter-widgets/base",
      "model_module_version": "2.0.0",
      "model_name": "LayoutModel",
      "state": {}
     },
     "2fa6ed8586ce4f0a91b5e15b72da40b7": {
      "model_module": "@jupyter-widgets/controls",
      "model_module_version": "2.0.0",
      "model_name": "LabelModel",
      "state": {
       "layout": "IPY_MODEL_f62159e541e04877806bff2c28169deb",
       "style": "IPY_MODEL_53e178a0bc1645189d664f5ebaf9801d"
      }
     },
     "354d5311a0a044968a0bd5556c716838": {
      "model_module": "@jupyter-widgets/base",
      "model_module_version": "2.0.0",
      "model_name": "LayoutModel",
      "state": {}
     },
     "4b2135692c0c4035b222ea127b7071aa": {
      "model_module": "@jupyter-widgets/controls",
      "model_module_version": "2.0.0",
      "model_name": "LabelStyleModel",
      "state": {
       "description_width": "",
       "font_family": null,
       "font_size": null,
       "font_style": null,
       "font_variant": null,
       "font_weight": null,
       "text_color": null,
       "text_decoration": null
      }
     },
     "53e178a0bc1645189d664f5ebaf9801d": {
      "model_module": "@jupyter-widgets/controls",
      "model_module_version": "2.0.0",
      "model_name": "LabelStyleModel",
      "state": {
       "description_width": "",
       "font_family": null,
       "font_size": null,
       "font_style": null,
       "font_variant": null,
       "font_weight": null,
       "text_color": null,
       "text_decoration": null
      }
     },
     "55f4568d48b845f78571b754c9c7fdf2": {
      "model_module": "@jupyter-widgets/controls",
      "model_module_version": "2.0.0",
      "model_name": "FloatProgressModel",
      "state": {
       "layout": "IPY_MODEL_354d5311a0a044968a0bd5556c716838",
       "max": 1,
       "style": "IPY_MODEL_69122b1342a04ed4928bdc1aa3b6144a"
      }
     },
     "58c63db4faa445a2a613370cea2a28f9": {
      "model_module": "@jupyter-widgets/controls",
      "model_module_version": "2.0.0",
      "model_name": "FloatProgressModel",
      "state": {
       "layout": "IPY_MODEL_6463641b105c41a285dcf93b6da3436a",
       "max": 1,
       "style": "IPY_MODEL_655a95a208d647d79c557782176e831e",
       "value": 1
      }
     },
     "6463641b105c41a285dcf93b6da3436a": {
      "model_module": "@jupyter-widgets/base",
      "model_module_version": "2.0.0",
      "model_name": "LayoutModel",
      "state": {}
     },
     "655a95a208d647d79c557782176e831e": {
      "model_module": "@jupyter-widgets/controls",
      "model_module_version": "2.0.0",
      "model_name": "ProgressStyleModel",
      "state": {
       "description_width": ""
      }
     },
     "69122b1342a04ed4928bdc1aa3b6144a": {
      "model_module": "@jupyter-widgets/controls",
      "model_module_version": "2.0.0",
      "model_name": "ProgressStyleModel",
      "state": {
       "description_width": ""
      }
     },
     "c85db055184f46b5a26d1245d65320d4": {
      "model_module": "@jupyter-widgets/controls",
      "model_module_version": "2.0.0",
      "model_name": "VBoxModel",
      "state": {
       "children": [
        "IPY_MODEL_2fa6ed8586ce4f0a91b5e15b72da40b7",
        "IPY_MODEL_55f4568d48b845f78571b754c9c7fdf2"
       ],
       "layout": "IPY_MODEL_c8c270a5a0cb4e12be201cd6c303dd99"
      }
     },
     "c8c270a5a0cb4e12be201cd6c303dd99": {
      "model_module": "@jupyter-widgets/base",
      "model_module_version": "2.0.0",
      "model_name": "LayoutModel",
      "state": {}
     },
     "c967c00c096140c0996c6ed79ba67f4e": {
      "model_module": "@jupyter-widgets/base",
      "model_module_version": "2.0.0",
      "model_name": "LayoutModel",
      "state": {}
     },
     "ccf46b545439443ab289cdf2ca75e8d5": {
      "model_module": "@jupyter-widgets/controls",
      "model_module_version": "2.0.0",
      "model_name": "LabelModel",
      "state": {
       "layout": "IPY_MODEL_0f982fa406f944059f0969571d195428",
       "style": "IPY_MODEL_4b2135692c0c4035b222ea127b7071aa",
       "value": "Waiting for wandb.init()...\r"
      }
     },
     "e83c2cd5dca346e1ac9ec7d62b662641": {
      "model_module": "@jupyter-widgets/controls",
      "model_module_version": "2.0.0",
      "model_name": "VBoxModel",
      "state": {
       "children": [
        "IPY_MODEL_ccf46b545439443ab289cdf2ca75e8d5",
        "IPY_MODEL_58c63db4faa445a2a613370cea2a28f9"
       ],
       "layout": "IPY_MODEL_c967c00c096140c0996c6ed79ba67f4e"
      }
     },
     "f62159e541e04877806bff2c28169deb": {
      "model_module": "@jupyter-widgets/base",
      "model_module_version": "2.0.0",
      "model_name": "LayoutModel",
      "state": {}
     }
    },
    "version_major": 2,
    "version_minor": 0
   }
  }
 },
 "nbformat": 4,
 "nbformat_minor": 5
}
