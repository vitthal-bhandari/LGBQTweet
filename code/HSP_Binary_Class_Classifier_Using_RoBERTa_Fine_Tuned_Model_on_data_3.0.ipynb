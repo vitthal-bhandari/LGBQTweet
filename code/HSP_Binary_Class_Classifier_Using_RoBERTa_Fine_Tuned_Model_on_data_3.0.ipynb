{
 "cells": [
  {
   "cell_type": "markdown",
   "id": "18a31106-32c5-454e-8771-62ee29b329f9",
   "metadata": {},
   "source": [
    "## Set up Environment"
   ]
  },
  {
   "cell_type": "raw",
   "id": "901fe262-956a-4c57-a07c-bbbf79f6f6d0",
   "metadata": {},
   "source": [
    "Note: Before start the notebook pls execute below two coomand on terminal \n",
    "export CUDA_VISIBLE_DEVICES=0\n",
    "export CUDA_LAUNCH_BLOCKING=1"
   ]
  },
  {
   "cell_type": "raw",
   "id": "ed1e7a18-3695-48a0-a4a5-c4aa5cd32a3b",
   "metadata": {},
   "source": [
    "!pip install evaluate==0.4.0\n",
    "!pip install peft==0.5.0\n",
    "!pip install scikit-learn==1.3.1\n",
    "!pip install torch==2.1.0\n",
    "!pip install wandb==0.15.12\n",
    "!pip install git+https://github.com/huggingface/transformers.git@21dc5859421cf0d7d82d374b10f533611745a8c5"
   ]
  },
  {
   "cell_type": "raw",
   "id": "99e865c1-7aff-42b0-a9f9-5abcdc947071",
   "metadata": {},
   "source": [
    "!pip install --upgrade huggingface_hub datasets transformers"
   ]
  },
  {
   "cell_type": "code",
   "execution_count": 1,
   "id": "e5194e6f-8f16-429c-a600-528e98308bf5",
   "metadata": {},
   "outputs": [
    {
     "name": "stderr",
     "output_type": "stream",
     "text": [
      "\u001b[34m\u001b[1mwandb\u001b[0m: Currently logged in as: \u001b[33myadav-sunil531984\u001b[0m (\u001b[33mhsp_bits\u001b[0m). Use \u001b[1m`wandb login --relogin`\u001b[0m to force relogin\n"
     ]
    },
    {
     "data": {
      "text/html": [
       "wandb version 0.17.0 is available!  To upgrade, please run:\n",
       " $ pip install wandb --upgrade"
      ],
      "text/plain": [
       "<IPython.core.display.HTML object>"
      ]
     },
     "metadata": {},
     "output_type": "display_data"
    },
    {
     "data": {
      "text/html": [
       "Tracking run with wandb version 0.15.12"
      ],
      "text/plain": [
       "<IPython.core.display.HTML object>"
      ]
     },
     "metadata": {},
     "output_type": "display_data"
    },
    {
     "data": {
      "text/html": [
       "Run data is saved locally in <code>/home/sunil/Hate_Speech_Project/RoBERTa/wandb/run-20240525_035931-n8ht4sb5</code>"
      ],
      "text/plain": [
       "<IPython.core.display.HTML object>"
      ]
     },
     "metadata": {},
     "output_type": "display_data"
    },
    {
     "data": {
      "text/html": [
       "Syncing run <strong><a href='https://wandb.ai/hsp_bits/uncategorized/runs/n8ht4sb5' target=\"_blank\">misty-mountain-142</a></strong> to <a href='https://wandb.ai/hsp_bits/uncategorized' target=\"_blank\">Weights & Biases</a> (<a href='https://wandb.me/run' target=\"_blank\">docs</a>)<br/>"
      ],
      "text/plain": [
       "<IPython.core.display.HTML object>"
      ]
     },
     "metadata": {},
     "output_type": "display_data"
    },
    {
     "data": {
      "text/html": [
       " View project at <a href='https://wandb.ai/hsp_bits/uncategorized' target=\"_blank\">https://wandb.ai/hsp_bits/uncategorized</a>"
      ],
      "text/plain": [
       "<IPython.core.display.HTML object>"
      ]
     },
     "metadata": {},
     "output_type": "display_data"
    },
    {
     "data": {
      "text/html": [
       " View run at <a href='https://wandb.ai/hsp_bits/uncategorized/runs/n8ht4sb5' target=\"_blank\">https://wandb.ai/hsp_bits/uncategorized/runs/n8ht4sb5</a>"
      ],
      "text/plain": [
       "<IPython.core.display.HTML object>"
      ]
     },
     "metadata": {},
     "output_type": "display_data"
    },
    {
     "name": "stderr",
     "output_type": "stream",
     "text": [
      "\u001b[34m\u001b[1mwandb\u001b[0m: \u001b[33mWARNING\u001b[0m Calling wandb.login() after wandb.init() has no effect.\n"
     ]
    },
    {
     "data": {
      "text/plain": [
       "True"
      ]
     },
     "execution_count": 1,
     "metadata": {},
     "output_type": "execute_result"
    }
   ],
   "source": [
    "import wandb\n",
    "wandb.init('19010c4e439d59bec411f7f9075c6e73ac7f5e13')    # Initialize wandb with your API key\n",
    "wandb.login() "
   ]
  },
  {
   "cell_type": "code",
   "execution_count": 2,
   "id": "a11860c0-2dd8-4ad9-8881-b11570ae88ca",
   "metadata": {},
   "outputs": [],
   "source": [
    "import os\n",
    "os.environ['WANDB_NOTEBOOK_NAME'] = 'HSP_Multi_Class_Classifier_Using_RoBERTa_Fine_Tuned_Model_on_data_3.0-Copy1.ipynb'\n",
    "os.environ['CUDA_VISIBLE_DEVICES'] = '0'"
   ]
  },
  {
   "cell_type": "code",
   "execution_count": 3,
   "id": "20715cbe-d403-4b5d-a26e-232ae79aa659",
   "metadata": {},
   "outputs": [
    {
     "name": "stdout",
     "output_type": "stream",
     "text": [
      "Sat May 25 03:59:34 2024       \n",
      "+---------------------------------------------------------------------------------------+\n",
      "| NVIDIA-SMI 535.171.04             Driver Version: 535.171.04   CUDA Version: 12.2     |\n",
      "|-----------------------------------------+----------------------+----------------------+\n",
      "| GPU  Name                 Persistence-M | Bus-Id        Disp.A | Volatile Uncorr. ECC |\n",
      "| Fan  Temp   Perf          Pwr:Usage/Cap |         Memory-Usage | GPU-Util  Compute M. |\n",
      "|                                         |                      |               MIG M. |\n",
      "|=========================================+======================+======================|\n",
      "|   0  NVIDIA A100 80GB PCIe          Off | 00000000:21:00.0 Off |                    0 |\n",
      "| N/A   32C    P0              67W / 300W |  33000MiB / 81920MiB |      0%      Default |\n",
      "|                                         |                      |             Disabled |\n",
      "+-----------------------------------------+----------------------+----------------------+\n",
      "|   1  NVIDIA A100 80GB PCIe          Off | 00000000:81:00.0 Off |                    0 |\n",
      "| N/A   63C    P0             268W / 300W |  60428MiB / 81920MiB |    100%      Default |\n",
      "|                                         |                      |             Disabled |\n",
      "+-----------------------------------------+----------------------+----------------------+\n",
      "                                                                                         \n",
      "+---------------------------------------------------------------------------------------+\n",
      "| Processes:                                                                            |\n",
      "|  GPU   GI   CI        PID   Type   Process name                            GPU Memory |\n",
      "|        ID   ID                                                             Usage      |\n",
      "|=======================================================================================|\n",
      "|    0   N/A  N/A   1284314      C   /usr/bin/python3                           2192MiB |\n",
      "|    0   N/A  N/A   2189667      C   /usr/bin/python3                           1242MiB |\n",
      "|    0   N/A  N/A   3004886      C   /usr/bin/python3                          29546MiB |\n",
      "|    1   N/A  N/A   1862690      C   python                                    30204MiB |\n",
      "|    1   N/A  N/A   4181436      C   python                                    30210MiB |\n",
      "+---------------------------------------------------------------------------------------+\n"
     ]
    }
   ],
   "source": [
    "!nvidia-smi"
   ]
  },
  {
   "cell_type": "markdown",
   "id": "55258412-b94f-466d-844a-db1555d0f08e",
   "metadata": {},
   "source": [
    "## Import the Labraries"
   ]
  },
  {
   "cell_type": "code",
   "execution_count": 4,
   "id": "728d59ad-d6b5-4f0e-b340-14d3008ea34d",
   "metadata": {},
   "outputs": [
    {
     "name": "stderr",
     "output_type": "stream",
     "text": [
      "2024-05-25 03:59:38.268631: I tensorflow/core/platform/cpu_feature_guard.cc:182] This TensorFlow binary is optimized to use available CPU instructions in performance-critical operations.\n",
      "To enable the following instructions: AVX2 FMA, in other operations, rebuild TensorFlow with the appropriate compiler flags.\n",
      "2024-05-25 03:59:39.050626: W tensorflow/compiler/tf2tensorrt/utils/py_utils.cc:38] TF-TRT Warning: Could not find TensorRT\n"
     ]
    }
   ],
   "source": [
    "import pandas as pd\n",
    "import torch\n",
    "from transformers import AutoTokenizer\n",
    "from datasets import load_dataset\n",
    "from transformers import DataCollatorWithPadding\n",
    "from transformers import AutoModelForSequenceClassification \n",
    "import evaluate\n",
    "import numpy as np\n",
    "from transformers import Trainer\n",
    "from transformers import TrainingArguments\n",
    "from peft import get_peft_model, LoraConfig, TaskType\n",
    "from transformers import AutoModelForSequenceClassification, AutoTokenizer\n",
    "import matplotlib.pyplot as plt"
   ]
  },
  {
   "cell_type": "markdown",
   "id": "24ce9d66-fd2e-4cac-abde-854c35a44a55",
   "metadata": {},
   "source": [
    "## Load Data sets"
   ]
  },
  {
   "cell_type": "code",
   "execution_count": 5,
   "id": "f052dacb-bd5e-4b9d-8781-512478841422",
   "metadata": {},
   "outputs": [
    {
     "name": "stdout",
     "output_type": "stream",
     "text": [
      "Total Count of Samples =  4374\n"
     ]
    },
    {
     "data": {
      "image/png": "[encoded data removed]",
      "text/plain": [
       "<Figure size 600x400 with 1 Axes>"
      ]
     },
     "metadata": {},
     "output_type": "display_data"
    }
   ],
   "source": [
    "# Visualization of Class Labels Taining data\n",
    "train_df=pd.read_csv('HSP_Train_Data_with_Encoded_Label_Bin_3.0.csv')\n",
    "\n",
    "print(\"Total Count of Samples = \", len(train_df))\n",
    "label_counts = train_df['Label'].value_counts()\n",
    "\n",
    "# Updated colors list to include 6 colors for 6 classes\n",
    "colors = ['green', 'red']\n",
    "\n",
    "plt.figure(figsize=(6, 4))\n",
    "ax = label_counts.plot(kind='bar', color=colors)\n",
    "for p in ax.patches:\n",
    "    ax.annotate(str(p.get_height()), (p.get_x() + p.get_width() / 2., p.get_height()),\n",
    "                ha='center', va='center', xytext=(0, 5), textcoords='offset points')\n",
    "\n",
    "plt.title('Distribution of Train set Label Categories')\n",
    "plt.xlabel('Labels')\n",
    "plt.ylabel('Count')\n",
    "plt.show()"
   ]
  },
  {
   "cell_type": "code",
   "execution_count": 6,
   "id": "698a91c1-3658-4264-bb71-2a6b7c2f4091",
   "metadata": {},
   "outputs": [
    {
     "name": "stdout",
     "output_type": "stream",
     "text": [
      "Total Count of Samples =  938\n"
     ]
    },
    {
     "data": {
      "image/png": "[encoded data removed]",
      "text/plain": [
       "<Figure size 600x400 with 1 Axes>"
      ]
     },
     "metadata": {},
     "output_type": "display_data"
    }
   ],
   "source": [
    "# Visualization of Class Labels Validation data\n",
    "val_df=pd.read_csv('HSP_Val_Data_with_Encoded_Label_Bin_3.0.csv')\n",
    "\n",
    "print(\"Total Count of Samples = \", len(val_df))\n",
    "label_counts = val_df['Label'].value_counts()\n",
    "\n",
    "# Updated colors list to include 6 colors for 6 classes\n",
    "colors = ['green', 'red']\n",
    "\n",
    "plt.figure(figsize=(6, 4))\n",
    "ax = label_counts.plot(kind='bar', color=colors)\n",
    "for p in ax.patches:\n",
    "    ax.annotate(str(p.get_height()), (p.get_x() + p.get_width() / 2., p.get_height()),\n",
    "                ha='center', va='center', xytext=(0, 5), textcoords='offset points')\n",
    "\n",
    "plt.title('Distribution of Train set Label Categories')\n",
    "plt.xlabel('Labels')\n",
    "plt.ylabel('Count')\n",
    "plt.show()"
   ]
  },
  {
   "cell_type": "code",
   "execution_count": 7,
   "id": "33687c92-add2-4a9f-b519-3ba60fb73bb3",
   "metadata": {},
   "outputs": [
    {
     "name": "stdout",
     "output_type": "stream",
     "text": [
      "Total Count of Samples =  938\n"
     ]
    },
    {
     "data": {
      "image/png": "[encoded data removed]",
      "text/plain": [
       "<Figure size 600x400 with 1 Axes>"
      ]
     },
     "metadata": {},
     "output_type": "display_data"
    }
   ],
   "source": [
    "# Visualization of Class Labels Taining data\n",
    "test_df=pd.read_csv('HSP_Test_Data_with_Encoded_Label_Bin_3.0.csv')\n",
    "\n",
    "print(\"Total Count of Samples = \", len(test_df))\n",
    "label_counts = test_df['Label'].value_counts()\n",
    "\n",
    "# Updated colors list to include 6 colors for 6 classes\n",
    "colors = ['green', 'red']\n",
    "\n",
    "plt.figure(figsize=(6, 4))\n",
    "ax = label_counts.plot(kind='bar', color=colors)\n",
    "for p in ax.patches:\n",
    "    ax.annotate(str(p.get_height()), (p.get_x() + p.get_width() / 2., p.get_height()),\n",
    "                ha='center', va='center', xytext=(0, 5), textcoords='offset points')\n",
    "\n",
    "plt.title('Distribution of Train set Label Categories')\n",
    "plt.xlabel('Labels')\n",
    "plt.ylabel('Count')\n",
    "plt.show()"
   ]
  },
  {
   "cell_type": "code",
   "execution_count": 8,
   "id": "fb9661bd-1425-48df-94f7-000ad641bf6f",
   "metadata": {},
   "outputs": [
    {
     "name": "stdout",
     "output_type": "stream",
     "text": [
      "<class 'pandas.core.frame.DataFrame'>\n",
      "RangeIndex: 4374 entries, 0 to 4373\n",
      "Data columns (total 5 columns):\n",
      " #   Column     Non-Null Count  Dtype \n",
      "---  ------     --------------  ----- \n",
      " 0   id         4374 non-null   int64 \n",
      " 1   Text       4374 non-null   object\n",
      " 2   Label_Id   4374 non-null   int64 \n",
      " 3   Label      4374 non-null   object\n",
      " 4   Label_Rev  4374 non-null   int64 \n",
      "dtypes: int64(3), object(2)\n",
      "memory usage: 171.0+ KB\n"
     ]
    }
   ],
   "source": [
    "train_df=pd.read_csv('HSP_Train_Data_with_Encoded_Label_Bin_3.0.csv')\n",
    "train_df.info()"
   ]
  },
  {
   "cell_type": "code",
   "execution_count": 9,
   "id": "53ca1c6d-219c-44de-afe2-b78b9c994c84",
   "metadata": {},
   "outputs": [
    {
     "data": {
      "text/plain": [
       "array([0, 1])"
      ]
     },
     "execution_count": 9,
     "metadata": {},
     "output_type": "execute_result"
    }
   ],
   "source": [
    "unique_values = train_df['Label_Rev'].unique()\n",
    "unique_values "
   ]
  },
  {
   "cell_type": "markdown",
   "id": "7727198c-2d2d-432b-8fea-c53b95dbc02a",
   "metadata": {},
   "source": [
    "## Number of Characters"
   ]
  },
  {
   "cell_type": "code",
   "execution_count": 10,
   "id": "2315c766-7d27-4f27-bab1-13d290417d92",
   "metadata": {},
   "outputs": [
    {
     "name": "stdout",
     "output_type": "stream",
     "text": [
      "Maximum number of characters: 1116\n",
      "Maximum number of words: 97\n"
     ]
    }
   ],
   "source": [
    "# Number of Characters\n",
    "import pandas as pd\n",
    "\n",
    "# Load the training data from the CSV file\n",
    "train_df = pd.read_csv('HSP_Train_Data_with_Encoded_Label_Bin_3.0.csv')\n",
    "\n",
    "# Calculate the maximum number of characters in the 'text' column\n",
    "max_char = train_df['Text'].str.len().max()\n",
    "\n",
    "# Calculate the maximum number of words in the 'text' column\n",
    "max_words = train_df['Text'].str.split().str.len().max()\n",
    "\n",
    "print(f\"Maximum number of characters: {max_char}\")\n",
    "print(f\"Maximum number of words: {max_words}\")\n"
   ]
  },
  {
   "cell_type": "markdown",
   "id": "dcdd6e70-eea3-4bef-9dcc-13da935db6c2",
   "metadata": {},
   "source": [
    "## Preprocess Data for Training"
   ]
  },
  {
   "cell_type": "code",
   "execution_count": 11,
   "id": "d1ba46d8-baf4-465d-a0f0-af29b259d338",
   "metadata": {},
   "outputs": [],
   "source": [
    "MAX_LEN = 512 \n",
    "roberta_checkpoint = \"roberta-large\""
   ]
  },
  {
   "cell_type": "code",
   "execution_count": 12,
   "id": "5634708f-bbc4-46ea-9033-0ddd33b396fd",
   "metadata": {},
   "outputs": [],
   "source": [
    "# Load the tokenizer:\n",
    "roberta_tokenizer = AutoTokenizer.from_pretrained(roberta_checkpoint, add_prefix_space=True)"
   ]
  },
  {
   "cell_type": "code",
   "execution_count": 13,
   "id": "b4452df6-cef4-4bd2-851a-61cbb8cc6fae",
   "metadata": {},
   "outputs": [
    {
     "data": {
      "application/vnd.jupyter.widget-view+json": {
       "model_id": "371e89ac39f14ccd8496cb562d19095e",
       "version_major": 2,
       "version_minor": 0
      },
      "text/plain": [
       "Map:   0%|          | 0/938 [00:00<?, ? examples/s]"
      ]
     },
     "metadata": {},
     "output_type": "display_data"
    },
    {
     "data": {
      "text/plain": [
       "{'label': tensor(0),\n",
       " 'input_ids': tensor([    0,  1801, 23126,   342,    42,    66,    89,     4,  3216,    38,\n",
       "           437,  5100,     6,  4420,    38,   437,  2602,     6,     8,  4420,\n",
       "            38,   348,   393,    57, 16265,    19,  2185,  4832, 28923,  4405,\n",
       "           865,    35,  4761,    12,  6991,  3024,  6328,    35, 12605,     2]),\n",
       " 'attention_mask': tensor([1, 1, 1, 1, 1, 1, 1, 1, 1, 1, 1, 1, 1, 1, 1, 1, 1, 1, 1, 1, 1, 1, 1, 1,\n",
       "         1, 1, 1, 1, 1, 1, 1, 1, 1, 1, 1, 1, 1, 1, 1, 1])}"
      ]
     },
     "execution_count": 13,
     "metadata": {},
     "output_type": "execute_result"
    }
   ],
   "source": [
    "from datasets import load_dataset\n",
    "from transformers import DataCollatorWithPadding\n",
    "\n",
    "# Assuming mistral_tokenizer and MAX_LEN are defined earlier\n",
    "def roberta_preprocessing_function(examples):\n",
    "    return roberta_tokenizer(examples['Text'], truncation=True, max_length=MAX_LEN)\n",
    "\n",
    "# Load each dataset file\n",
    "train_dataset = load_dataset('csv', data_files='HSP_Train_Data_with_Encoded_Label_Bin_3.0.csv')['train']\n",
    "val_dataset = load_dataset('csv', data_files='HSP_Val_Data_with_Encoded_Label_Bin_3.0.csv')['train']  # Assuming dev_data is for validation\n",
    "test_dataset = load_dataset('csv', data_files='HSP_Test_Data_with_Encoded_Label_Bin_3.0.csv')['train']\n",
    "\n",
    "# Define the columns to be removed\n",
    "col_to_delete = ['id', 'Text', 'Label_Id', 'Label']\n",
    "\n",
    "# Apply preprocessing to each dataset separately\n",
    "roberta_tokenized_train_dataset = train_dataset.map(roberta_preprocessing_function, batched=True, remove_columns=col_to_delete)\n",
    "roberta_tokenized_val_dataset = val_dataset.map(roberta_preprocessing_function, batched=True, remove_columns=col_to_delete)\n",
    "roberta_tokenized_test_dataset = test_dataset.map(roberta_preprocessing_function, batched=True, remove_columns=col_to_delete)\n",
    "\n",
    "# Rename the 'target' column to 'label' in each dataset\n",
    "roberta_tokenized_train_dataset = roberta_tokenized_train_dataset.rename_column(\"Label_Rev\", \"label\")\n",
    "roberta_tokenized_val_dataset = roberta_tokenized_val_dataset.rename_column(\"Label_Rev\", \"label\")\n",
    "roberta_tokenized_test_dataset = roberta_tokenized_test_dataset.rename_column(\"Label_Rev\", \"label\")\n",
    "\n",
    "# Set format to 'torch' for all datasets\n",
    "roberta_tokenized_train_dataset.set_format(\"torch\")\n",
    "roberta_tokenized_val_dataset.set_format(\"torch\")\n",
    "roberta_tokenized_test_dataset.set_format(\"torch\")\n",
    "\n",
    "# Data collator for padding a batch of examples to the maximum length seen in the batch\n",
    "# Data collator for padding a batch of examples to the maximum length seen in the batch\n",
    "roberta_data_collator = DataCollatorWithPadding(tokenizer=roberta_tokenizer)\n",
    "roberta_tokenized_train_dataset[0]"
   ]
  },
  {
   "cell_type": "markdown",
   "id": "9db8fe61-f064-4144-9c24-e7a2147077b0",
   "metadata": {},
   "source": [
    "## Load Pretrain Model"
   ]
  },
  {
   "cell_type": "code",
   "execution_count": 14,
   "id": "f17b9a90-9e53-4541-abf7-7c69946d80d2",
   "metadata": {},
   "outputs": [
    {
     "name": "stderr",
     "output_type": "stream",
     "text": [
      "Some weights of RobertaForSequenceClassification were not initialized from the model checkpoint at roberta-large and are newly initialized: ['classifier.dense.bias', 'classifier.dense.weight', 'classifier.out_proj.bias', 'classifier.out_proj.weight']\n",
      "You should probably TRAIN this model on a down-stream task to be able to use it for predictions and inference.\n"
     ]
    }
   ],
   "source": [
    "from transformers import AutoModelForSequenceClassification \n",
    "roberta_model = AutoModelForSequenceClassification.from_pretrained(roberta_checkpoint, num_labels=2)"
   ]
  },
  {
   "cell_type": "markdown",
   "id": "00330d47-a088-41e2-9787-2adde58d75ba",
   "metadata": {},
   "source": [
    "## LoRa setup for RoBERta classifier"
   ]
  },
  {
   "cell_type": "code",
   "execution_count": 15,
   "id": "26c0fc7e-169a-458f-98c5-de562b5293fb",
   "metadata": {},
   "outputs": [
    {
     "name": "stdout",
     "output_type": "stream",
     "text": [
      "trainable params: 2,496,516 || all params: 356,806,660 || trainable%: 0.6996831281120145\n"
     ]
    }
   ],
   "source": [
    "from peft import get_peft_model, LoraConfig, TaskType\n",
    "\n",
    "roberta_peft_config = LoraConfig(\n",
    "    task_type=TaskType.SEQ_CLS, r=4, lora_alpha=16, lora_dropout=0.1, bias=\"none\",\n",
    ")\n",
    "roberta_model = get_peft_model(roberta_model, roberta_peft_config)\n",
    "roberta_model.print_trainable_parameters()"
   ]
  },
  {
   "cell_type": "markdown",
   "id": "af477280-10fd-4f5a-bbe4-9b4a9da7aadf",
   "metadata": {},
   "source": [
    "## Setup the trainer"
   ]
  },
  {
   "cell_type": "markdown",
   "id": "56d9f4d2-1554-4092-bb31-25a68f1fa003",
   "metadata": {},
   "source": [
    "### Evaluation Metric"
   ]
  },
  {
   "cell_type": "code",
   "execution_count": 16,
   "id": "6abd4b26-d65a-4904-9bf1-974f01e8ee39",
   "metadata": {},
   "outputs": [],
   "source": [
    "from sklearn.metrics import precision_score, recall_score, f1_score, accuracy_score\n",
    "\n",
    "def compute_metrics(eval_pred):\n",
    "    logits, labels = eval_pred\n",
    "    predictions = np.argmax(logits, axis=-1)\n",
    "    \n",
    "    # Calculate metrics using 'weighted' average for multi-class classification\n",
    "    precision = precision_score(labels, predictions, average='weighted')\n",
    "    recall = recall_score(labels, predictions, average='weighted')\n",
    "    f1 = f1_score(labels, predictions, average='weighted')\n",
    "    accuracy = accuracy_score(labels, predictions)\n",
    "    \n",
    "    return {\n",
    "        \"precision\": precision,\n",
    "        \"recall\": recall,\n",
    "        \"f1-score\": f1,\n",
    "        \"accuracy\": accuracy\n",
    "    }\n"
   ]
  },
  {
   "cell_type": "markdown",
   "id": "db63934c-36af-4403-8f36-4c548303b1fc",
   "metadata": {},
   "source": [
    "### Custom Trainer for Loss"
   ]
  },
  {
   "cell_type": "code",
   "execution_count": 17,
   "id": "9ba4749d-3f3b-45ac-b917-08271d7f0aef",
   "metadata": {},
   "outputs": [],
   "source": [
    " #loss_fct = torch.nn.CrossEntropyLoss()"
   ]
  },
  {
   "cell_type": "code",
   "execution_count": 18,
   "id": "f0e5b827-b7e2-4428-a138-4aa8d23327c1",
   "metadata": {},
   "outputs": [],
   "source": [
    "class CELossTrainer(Trainer):\n",
    "    def compute_loss(self, model, inputs, return_outputs=False):\n",
    "        labels = inputs.pop(\"labels\")\n",
    "        # Get model's predictions\n",
    "        outputs = model(**inputs)\n",
    "        logits = outputs.get(\"logits\")\n",
    "        # Compute custom loss\n",
    "        #loss_fct = torch.nn.CrossEntropyLoss(weight=torch.tensor([very_pos_weights, pos_weights, neutral_weights, neg_weights, very_neg_weights, ambiguous_weights], device=model.device, dtype=logits.dtype))\n",
    "        loss_fct = torch.nn.CrossEntropyLoss()\n",
    "        loss = loss_fct(logits.view(-1, self.model.config.num_labels), labels.view(-1))\n",
    "        return (loss, outputs) if return_outputs else loss"
   ]
  },
  {
   "cell_type": "markdown",
   "id": "57493eb5-c9cb-44b5-9e62-5e39f615f27b",
   "metadata": {},
   "source": [
    "### Custom Callback to Store Losses Once per Epoch"
   ]
  },
  {
   "cell_type": "code",
   "execution_count": 19,
   "id": "c6e5c803-a277-481f-8a69-7d44e0efae2c",
   "metadata": {},
   "outputs": [],
   "source": [
    "from transformers import TrainerCallback, TrainerState, TrainerControl\n",
    "\n",
    "class LossTrackerCallback(TrainerCallback):\n",
    "    def __init__(self):\n",
    "        self.training_losses = []\n",
    "        self.validation_losses = []\n",
    "        self.epoch = 0\n",
    "\n",
    "    def on_epoch_end(self, args, state: TrainerState, control: TrainerControl, **kwargs):\n",
    "        # Append the most recent training loss to the list\n",
    "        for log in reversed(state.log_history):\n",
    "            if 'loss' in log:\n",
    "                self.training_losses.append(log['loss'])\n",
    "                break  # Ensure we only add one training loss per epoch\n",
    "\n",
    "    def on_evaluate(self, args, state: TrainerState, control: TrainerControl, **kwargs):\n",
    "        if len(self.training_losses) > len(self.validation_losses):\n",
    "            # Append the most recent validation loss to the list\n",
    "            for log in reversed(state.log_history):\n",
    "                if 'eval_loss' in log:\n",
    "                    self.validation_losses.append(log['eval_loss'])\n",
    "                    break  # Ensure we only add one validation loss per epoch"
   ]
  },
  {
   "cell_type": "code",
   "execution_count": 20,
   "id": "2ac832d8-0eff-4c93-8209-cd356b3b0888",
   "metadata": {},
   "outputs": [],
   "source": [
    "loss_tracker_callback = LossTrackerCallback()"
   ]
  },
  {
   "cell_type": "markdown",
   "id": "76204cf1-2a9a-416b-aa82-36b96a151f10",
   "metadata": {},
   "source": [
    "### Early Stopping Criteria"
   ]
  },
  {
   "cell_type": "code",
   "execution_count": 21,
   "id": "98efa53f-d6fc-4016-9fc7-97082d2e209d",
   "metadata": {},
   "outputs": [],
   "source": [
    "from transformers import EarlyStoppingCallback\n",
    "early_stopping_callback = EarlyStoppingCallback(early_stopping_patience=3)"
   ]
  },
  {
   "cell_type": "markdown",
   "id": "f23c3655-16d3-4981-80a7-3dc161767802",
   "metadata": {},
   "source": [
    "### Trainer setup"
   ]
  },
  {
   "cell_type": "code",
   "execution_count": 22,
   "id": "a1673707-6fad-4eec-a323-95dfac9bc5bf",
   "metadata": {},
   "outputs": [],
   "source": [
    "from transformers import TrainingArguments, Trainer\n",
    "\n",
    "lr = 1e-4\n",
    "batch_size = 8\n",
    "num_epochs = 20\n",
    "\n",
    "training_args = TrainingArguments(\n",
    "    output_dir=\"roberta-large-lora-token-classification-bin\",\n",
    "    learning_rate=lr,\n",
    "    lr_scheduler_type= \"constant\",\n",
    "    warmup_ratio= 0.1,\n",
    "    max_grad_norm= 0.3,\n",
    "    per_device_train_batch_size=batch_size,\n",
    "    per_device_eval_batch_size=batch_size,\n",
    "    num_train_epochs=num_epochs,\n",
    "    weight_decay=0.001,\n",
    "    evaluation_strategy=\"epoch\",\n",
    "    save_strategy=\"epoch\",\n",
    "    load_best_model_at_end=True,\n",
    "    report_to=\"wandb\",\n",
    "    fp16=False,\n",
    "    gradient_checkpointing=True,\n",
    ")"
   ]
  },
  {
   "cell_type": "code",
   "execution_count": 23,
   "id": "c0d86449-847c-4b09-ab22-16157ab7d4e0",
   "metadata": {},
   "outputs": [
    {
     "name": "stderr",
     "output_type": "stream",
     "text": [
      "Detected kernel version 5.4.0, which is below the recommended minimum of 5.5.0; this can cause the process to hang. It is recommended to upgrade the kernel to the minimum version or higher.\n"
     ]
    }
   ],
   "source": [
    "roberta_trainer = CELossTrainer(\n",
    "    model=roberta_model,\n",
    "    args=training_args,\n",
    "    train_dataset=roberta_tokenized_train_dataset,\n",
    "    eval_dataset=roberta_tokenized_val_dataset,\n",
    "    data_collator=roberta_data_collator,\n",
    "    compute_metrics=compute_metrics,\n",
    "    callbacks=[loss_tracker_callback, early_stopping_callback]\n",
    ")"
   ]
  },
  {
   "cell_type": "markdown",
   "id": "c1004686-4397-4a44-81d4-5179ec448a17",
   "metadata": {},
   "source": [
    "## Training"
   ]
  },
  {
   "cell_type": "code",
   "execution_count": 24,
   "id": "007ec32c-b673-450f-b0a6-1ad8f3a54a5c",
   "metadata": {},
   "outputs": [
    {
     "name": "stderr",
     "output_type": "stream",
     "text": [
      "/home/sunil/.local/lib/python3.8/site-packages/torch/utils/checkpoint.py:429: UserWarning: torch.utils.checkpoint: please pass in use_reentrant=True or use_reentrant=False explicitly. The default value of use_reentrant will be updated to be False in the future. To maintain current behavior, pass use_reentrant=True. It is recommended that you use use_reentrant=False. Refer to docs for more details on the differences between the two variants.\n",
      "  warnings.warn(\n",
      "/home/sunil/.local/lib/python3.8/site-packages/torch/utils/checkpoint.py:61: UserWarning: None of the inputs have requires_grad=True. Gradients will be None\n",
      "  warnings.warn(\n"
     ]
    },
    {
     "data": {
      "text/html": [
       "\n",
       "    <div>\n",
       "      \n",
       "      <progress value='4923' max='10940' style='width:300px; height:20px; vertical-align: middle;'></progress>\n",
       "      [ 4923/10940 03:51 < 04:42, 21.27 it/s, Epoch 9/20]\n",
       "    </div>\n",
       "    <table border=\"1\" class=\"dataframe\">\n",
       "  <thead>\n",
       " <tr style=\"text-align: left;\">\n",
       "      <th>Epoch</th>\n",
       "      <th>Training Loss</th>\n",
       "      <th>Validation Loss</th>\n",
       "      <th>Precision</th>\n",
       "      <th>Recall</th>\n",
       "      <th>F1-score</th>\n",
       "      <th>Accuracy</th>\n",
       "    </tr>\n",
       "  </thead>\n",
       "  <tbody>\n",
       "    <tr>\n",
       "      <td>1</td>\n",
       "      <td>0.425800</td>\n",
       "      <td>0.394570</td>\n",
       "      <td>0.731043</td>\n",
       "      <td>0.855011</td>\n",
       "      <td>0.788182</td>\n",
       "      <td>0.855011</td>\n",
       "    </tr>\n",
       "    <tr>\n",
       "      <td>2</td>\n",
       "      <td>0.410100</td>\n",
       "      <td>0.390561</td>\n",
       "      <td>0.731043</td>\n",
       "      <td>0.855011</td>\n",
       "      <td>0.788182</td>\n",
       "      <td>0.855011</td>\n",
       "    </tr>\n",
       "    <tr>\n",
       "      <td>3</td>\n",
       "      <td>0.394600</td>\n",
       "      <td>0.383746</td>\n",
       "      <td>0.731043</td>\n",
       "      <td>0.855011</td>\n",
       "      <td>0.788182</td>\n",
       "      <td>0.855011</td>\n",
       "    </tr>\n",
       "    <tr>\n",
       "      <td>4</td>\n",
       "      <td>0.382100</td>\n",
       "      <td>0.387609</td>\n",
       "      <td>0.731043</td>\n",
       "      <td>0.855011</td>\n",
       "      <td>0.788182</td>\n",
       "      <td>0.855011</td>\n",
       "    </tr>\n",
       "    <tr>\n",
       "      <td>5</td>\n",
       "      <td>0.389800</td>\n",
       "      <td>0.380068</td>\n",
       "      <td>0.731043</td>\n",
       "      <td>0.855011</td>\n",
       "      <td>0.788182</td>\n",
       "      <td>0.855011</td>\n",
       "    </tr>\n",
       "    <tr>\n",
       "      <td>6</td>\n",
       "      <td>0.390700</td>\n",
       "      <td>0.363497</td>\n",
       "      <td>0.878378</td>\n",
       "      <td>0.858209</td>\n",
       "      <td>0.795802</td>\n",
       "      <td>0.858209</td>\n",
       "    </tr>\n",
       "    <tr>\n",
       "      <td>7</td>\n",
       "      <td>0.392200</td>\n",
       "      <td>0.401680</td>\n",
       "      <td>0.731043</td>\n",
       "      <td>0.855011</td>\n",
       "      <td>0.788182</td>\n",
       "      <td>0.855011</td>\n",
       "    </tr>\n",
       "    <tr>\n",
       "      <td>8</td>\n",
       "      <td>0.379700</td>\n",
       "      <td>0.396936</td>\n",
       "      <td>0.731043</td>\n",
       "      <td>0.855011</td>\n",
       "      <td>0.788182</td>\n",
       "      <td>0.855011</td>\n",
       "    </tr>\n",
       "    <tr>\n",
       "      <td>9</td>\n",
       "      <td>0.392300</td>\n",
       "      <td>0.401966</td>\n",
       "      <td>0.730911</td>\n",
       "      <td>0.853945</td>\n",
       "      <td>0.787652</td>\n",
       "      <td>0.853945</td>\n",
       "    </tr>\n",
       "  </tbody>\n",
       "</table><p>"
      ],
      "text/plain": [
       "<IPython.core.display.HTML object>"
      ]
     },
     "metadata": {},
     "output_type": "display_data"
    },
    {
     "name": "stderr",
     "output_type": "stream",
     "text": [
      "/home/sunil/.local/lib/python3.8/site-packages/sklearn/metrics/_classification.py:1469: UndefinedMetricWarning: Precision is ill-defined and being set to 0.0 in labels with no predicted samples. Use `zero_division` parameter to control this behavior.\n",
      "  _warn_prf(average, modifier, msg_start, len(result))\n",
      "/home/sunil/.local/lib/python3.8/site-packages/torch/utils/checkpoint.py:429: UserWarning: torch.utils.checkpoint: please pass in use_reentrant=True or use_reentrant=False explicitly. The default value of use_reentrant will be updated to be False in the future. To maintain current behavior, pass use_reentrant=True. It is recommended that you use use_reentrant=False. Refer to docs for more details on the differences between the two variants.\n",
      "  warnings.warn(\n",
      "/home/sunil/.local/lib/python3.8/site-packages/torch/utils/checkpoint.py:61: UserWarning: None of the inputs have requires_grad=True. Gradients will be None\n",
      "  warnings.warn(\n",
      "/home/sunil/.local/lib/python3.8/site-packages/sklearn/metrics/_classification.py:1469: UndefinedMetricWarning: Precision is ill-defined and being set to 0.0 in labels with no predicted samples. Use `zero_division` parameter to control this behavior.\n",
      "  _warn_prf(average, modifier, msg_start, len(result))\n",
      "/home/sunil/.local/lib/python3.8/site-packages/torch/utils/checkpoint.py:429: UserWarning: torch.utils.checkpoint: please pass in use_reentrant=True or use_reentrant=False explicitly. The default value of use_reentrant will be updated to be False in the future. To maintain current behavior, pass use_reentrant=True. It is recommended that you use use_reentrant=False. Refer to docs for more details on the differences between the two variants.\n",
      "  warnings.warn(\n",
      "/home/sunil/.local/lib/python3.8/site-packages/torch/utils/checkpoint.py:61: UserWarning: None of the inputs have requires_grad=True. Gradients will be None\n",
      "  warnings.warn(\n",
      "/home/sunil/.local/lib/python3.8/site-packages/sklearn/metrics/_classification.py:1469: UndefinedMetricWarning: Precision is ill-defined and being set to 0.0 in labels with no predicted samples. Use `zero_division` parameter to control this behavior.\n",
      "  _warn_prf(average, modifier, msg_start, len(result))\n",
      "/home/sunil/.local/lib/python3.8/site-packages/torch/utils/checkpoint.py:429: UserWarning: torch.utils.checkpoint: please pass in use_reentrant=True or use_reentrant=False explicitly. The default value of use_reentrant will be updated to be False in the future. To maintain current behavior, pass use_reentrant=True. It is recommended that you use use_reentrant=False. Refer to docs for more details on the differences between the two variants.\n",
      "  warnings.warn(\n",
      "/home/sunil/.local/lib/python3.8/site-packages/torch/utils/checkpoint.py:61: UserWarning: None of the inputs have requires_grad=True. Gradients will be None\n",
      "  warnings.warn(\n",
      "/home/sunil/.local/lib/python3.8/site-packages/sklearn/metrics/_classification.py:1469: UndefinedMetricWarning: Precision is ill-defined and being set to 0.0 in labels with no predicted samples. Use `zero_division` parameter to control this behavior.\n",
      "  _warn_prf(average, modifier, msg_start, len(result))\n",
      "/home/sunil/.local/lib/python3.8/site-packages/torch/utils/checkpoint.py:429: UserWarning: torch.utils.checkpoint: please pass in use_reentrant=True or use_reentrant=False explicitly. The default value of use_reentrant will be updated to be False in the future. To maintain current behavior, pass use_reentrant=True. It is recommended that you use use_reentrant=False. Refer to docs for more details on the differences between the two variants.\n",
      "  warnings.warn(\n",
      "/home/sunil/.local/lib/python3.8/site-packages/torch/utils/checkpoint.py:61: UserWarning: None of the inputs have requires_grad=True. Gradients will be None\n",
      "  warnings.warn(\n",
      "/home/sunil/.local/lib/python3.8/site-packages/sklearn/metrics/_classification.py:1469: UndefinedMetricWarning: Precision is ill-defined and being set to 0.0 in labels with no predicted samples. Use `zero_division` parameter to control this behavior.\n",
      "  _warn_prf(average, modifier, msg_start, len(result))\n",
      "/home/sunil/.local/lib/python3.8/site-packages/torch/utils/checkpoint.py:429: UserWarning: torch.utils.checkpoint: please pass in use_reentrant=True or use_reentrant=False explicitly. The default value of use_reentrant will be updated to be False in the future. To maintain current behavior, pass use_reentrant=True. It is recommended that you use use_reentrant=False. Refer to docs for more details on the differences between the two variants.\n",
      "  warnings.warn(\n",
      "/home/sunil/.local/lib/python3.8/site-packages/torch/utils/checkpoint.py:61: UserWarning: None of the inputs have requires_grad=True. Gradients will be None\n",
      "  warnings.warn(\n",
      "/home/sunil/.local/lib/python3.8/site-packages/torch/utils/checkpoint.py:429: UserWarning: torch.utils.checkpoint: please pass in use_reentrant=True or use_reentrant=False explicitly. The default value of use_reentrant will be updated to be False in the future. To maintain current behavior, pass use_reentrant=True. It is recommended that you use use_reentrant=False. Refer to docs for more details on the differences between the two variants.\n",
      "  warnings.warn(\n",
      "/home/sunil/.local/lib/python3.8/site-packages/torch/utils/checkpoint.py:61: UserWarning: None of the inputs have requires_grad=True. Gradients will be None\n",
      "  warnings.warn(\n",
      "/home/sunil/.local/lib/python3.8/site-packages/sklearn/metrics/_classification.py:1469: UndefinedMetricWarning: Precision is ill-defined and being set to 0.0 in labels with no predicted samples. Use `zero_division` parameter to control this behavior.\n",
      "  _warn_prf(average, modifier, msg_start, len(result))\n",
      "/home/sunil/.local/lib/python3.8/site-packages/torch/utils/checkpoint.py:429: UserWarning: torch.utils.checkpoint: please pass in use_reentrant=True or use_reentrant=False explicitly. The default value of use_reentrant will be updated to be False in the future. To maintain current behavior, pass use_reentrant=True. It is recommended that you use use_reentrant=False. Refer to docs for more details on the differences between the two variants.\n",
      "  warnings.warn(\n",
      "/home/sunil/.local/lib/python3.8/site-packages/torch/utils/checkpoint.py:61: UserWarning: None of the inputs have requires_grad=True. Gradients will be None\n",
      "  warnings.warn(\n",
      "/home/sunil/.local/lib/python3.8/site-packages/sklearn/metrics/_classification.py:1469: UndefinedMetricWarning: Precision is ill-defined and being set to 0.0 in labels with no predicted samples. Use `zero_division` parameter to control this behavior.\n",
      "  _warn_prf(average, modifier, msg_start, len(result))\n",
      "/home/sunil/.local/lib/python3.8/site-packages/torch/utils/checkpoint.py:429: UserWarning: torch.utils.checkpoint: please pass in use_reentrant=True or use_reentrant=False explicitly. The default value of use_reentrant will be updated to be False in the future. To maintain current behavior, pass use_reentrant=True. It is recommended that you use use_reentrant=False. Refer to docs for more details on the differences between the two variants.\n",
      "  warnings.warn(\n",
      "/home/sunil/.local/lib/python3.8/site-packages/torch/utils/checkpoint.py:61: UserWarning: None of the inputs have requires_grad=True. Gradients will be None\n",
      "  warnings.warn(\n"
     ]
    }
   ],
   "source": [
    "# Start the training\n",
    "train_result = roberta_trainer.train()"
   ]
  },
  {
   "cell_type": "code",
   "execution_count": 25,
   "id": "263520f3-61c0-45a0-8b00-e05a43f90e49",
   "metadata": {},
   "outputs": [
    {
     "name": "stdout",
     "output_type": "stream",
     "text": [
      "TrainOutput(global_step=4923, training_loss=0.3933486768004615, metrics={'train_runtime': 232.0116, 'train_samples_per_second': 377.05, 'train_steps_per_second': 47.153, 'total_flos': 4650924144807600.0, 'train_loss': 0.3933486768004615, 'epoch': 9.0})\n"
     ]
    }
   ],
   "source": [
    "print(train_result)"
   ]
  },
  {
   "cell_type": "code",
   "execution_count": 27,
   "id": "d6f12c82-bfb7-4b9e-9406-856e95b8c75e",
   "metadata": {},
   "outputs": [
    {
     "data": {
      "text/html": [
       "\n",
       "    <div>\n",
       "      \n",
       "      <progress value='118' max='118' style='width:300px; height:20px; vertical-align: middle;'></progress>\n",
       "      [118/118 00:03]\n",
       "    </div>\n",
       "    "
      ],
      "text/plain": [
       "<IPython.core.display.HTML object>"
      ]
     },
     "metadata": {},
     "output_type": "display_data"
    },
    {
     "name": "stdout",
     "output_type": "stream",
     "text": [
      "{'eval_loss': 0.3634967803955078, 'eval_precision': 0.8783781626626228, 'eval_recall': 0.8582089552238806, 'eval_f1-score': 0.7958020560583471, 'eval_accuracy': 0.8582089552238806, 'eval_runtime': 3.6073, 'eval_samples_per_second': 260.025, 'eval_steps_per_second': 32.711, 'epoch': 9.0}\n"
     ]
    }
   ],
   "source": [
    "eval_result = roberta_trainer.evaluate()\n",
    "print(eval_result)"
   ]
  },
  {
   "cell_type": "markdown",
   "id": "01c1a655-d5dc-4dd4-80d7-82c40d79ba2e",
   "metadata": {},
   "source": [
    "### Analysis of Loss function and Evaluation of Trained Model"
   ]
  },
  {
   "cell_type": "code",
   "execution_count": 28,
   "id": "b194c4ad-69cb-4bda-b836-8c0f492b9222",
   "metadata": {},
   "outputs": [
    {
     "name": "stdout",
     "output_type": "stream",
     "text": [
      "Training Losses:  [0.4258, 0.4101, 0.3946, 0.3821, 0.3898, 0.3907, 0.3922, 0.3797, 0.3923]\n",
      "Validation Losses:  [0.3945699632167816, 0.39056098461151123, 0.38374555110931396, 0.38760942220687866, 0.38006845116615295, 0.3634967803955078, 0.40167951583862305, 0.3969360589981079, 0.4019661545753479]\n"
     ]
    }
   ],
   "source": [
    "# Access the losses\n",
    "training_losses = loss_tracker_callback.training_losses\n",
    "validation_losses = loss_tracker_callback.validation_losses\n",
    "\n",
    "print(\"Training Losses: \", training_losses)\n",
    "print(\"Validation Losses: \", validation_losses)"
   ]
  },
  {
   "cell_type": "code",
   "execution_count": 29,
   "id": "7a845402-a6b4-4b25-8c1e-f829f74f140a",
   "metadata": {},
   "outputs": [
    {
     "name": "stdout",
     "output_type": "stream",
     "text": [
      "9\n",
      "9\n"
     ]
    }
   ],
   "source": [
    "print(len(training_losses ))\n",
    "print(len(validation_losses ))"
   ]
  },
  {
   "cell_type": "code",
   "execution_count": 30,
   "id": "15119152-14e3-437d-98da-34c84d160044",
   "metadata": {},
   "outputs": [
    {
     "data": {
      "image/png": "[encoded data removed]",
      "text/plain": [
       "<Figure size 1000x600 with 1 Axes>"
      ]
     },
     "metadata": {},
     "output_type": "display_data"
    }
   ],
   "source": [
    "import matplotlib.pyplot as plt\n",
    "epochs = range(1, len(training_losses) + 1)\n",
    "plt.figure(figsize=(10, 6))\n",
    "plt.plot(epochs, training_losses, label='Training Loss')\n",
    "plt.plot(epochs, validation_losses, label='Validation Loss')\n",
    "plt.xlabel('Epochs')\n",
    "plt.ylabel('Loss')\n",
    "plt.title('Training and Validation Losses')\n",
    "plt.legend()\n",
    "plt.grid(True)\n",
    "plt.show()"
   ]
  },
  {
   "cell_type": "markdown",
   "id": "1e3e0625-2fcb-4091-b08c-10bad0d13441",
   "metadata": {},
   "source": [
    "## Saving Model"
   ]
  },
  {
   "cell_type": "code",
   "execution_count": 32,
   "id": "4657573c-bb53-42e7-b8ac-e2d10c7f3b48",
   "metadata": {},
   "outputs": [
    {
     "name": "stdout",
     "output_type": "stream",
     "text": [
      "/home/sunil/Hate_Speech_Project/RoBERTa\n"
     ]
    },
    {
     "name": "stderr",
     "output_type": "stream",
     "text": [
      "huggingface/tokenizers: The current process just got forked, after parallelism has already been used. Disabling parallelism to avoid deadlocks...\n",
      "To disable this warning, you can either:\n",
      "\t- Avoid using `tokenizers` before the fork if possible\n",
      "\t- Explicitly set the environment variable TOKENIZERS_PARALLELISM=(true | false)\n"
     ]
    }
   ],
   "source": [
    "!pwd"
   ]
  },
  {
   "cell_type": "code",
   "execution_count": 33,
   "id": "352d251c-a80a-4426-84f9-c50a57823a53",
   "metadata": {},
   "outputs": [
    {
     "name": "stdout",
     "output_type": "stream",
     "text": [
      "Model, tokenizer, and configuration saved to /home/sunil/Hate_Speech_Project/RoBERTa/RoBERTa_finetuned_model_Binary\n"
     ]
    }
   ],
   "source": [
    "# Assuming `model_directory` is defined and points to where you want to save your model, tokenizer, and config\n",
    "from transformers import AutoConfig\n",
    "import os\n",
    "\n",
    "# Define the directory where you want to save your model and tokenizer\n",
    "model_directory = \"/home/sunil/Hate_Speech_Project/RoBERTa/RoBERTa_finetuned_model_Binary\"\n",
    "\n",
    "if not os.path.exists(model_directory):\n",
    "    os.makedirs(model_directory)\n",
    "\n",
    "# First, save your trained model and tokenizer\n",
    "roberta_model.save_pretrained(model_directory)\n",
    "roberta_tokenizer.save_pretrained(model_directory)\n",
    "\n",
    "# Then, save the configuration\n",
    "config = AutoConfig.from_pretrained(\"roberta-large\", num_labels=2) # Adjust as necessary\n",
    "config.save_pretrained(model_directory)\n",
    "\n",
    "print(f\"Model, tokenizer, and configuration saved to {model_directory}\")\n"
   ]
  },
  {
   "cell_type": "markdown",
   "id": "c8bd5431-938b-49a5-8fa1-01ea00a3a854",
   "metadata": {},
   "source": [
    "## Loading the Saved Model"
   ]
  },
  {
   "cell_type": "code",
   "execution_count": 34,
   "id": "66a3de82-35d6-4e0f-a5dd-472f1e4d9fd5",
   "metadata": {},
   "outputs": [
    {
     "name": "stderr",
     "output_type": "stream",
     "text": [
      "Some weights of RobertaForSequenceClassification were not initialized from the model checkpoint at roberta-large and are newly initialized: ['classifier.dense.bias', 'classifier.dense.weight', 'classifier.out_proj.bias', 'classifier.out_proj.weight']\n",
      "You should probably TRAIN this model on a down-stream task to be able to use it for predictions and inference.\n"
     ]
    }
   ],
   "source": [
    "from transformers import AutoConfig, AutoModelForSequenceClassification\n",
    "from transformers import AutoModelForSequenceClassification, AutoTokenizer\n",
    "\n",
    "# Define the directory where your saved model and tokenizer are\n",
    "model_directory = \"/home/sunil/Hate_Speech_Project/RoBERTa/RoBERTa_finetuned_model_Binary\"\n",
    "\n",
    "# Load the configuration and set the number of labels\n",
    "config = AutoConfig.from_pretrained(model_directory, num_labels=2)\n",
    "\n",
    "# Now, load the model with the updated configuration\n",
    "model = AutoModelForSequenceClassification.from_pretrained(model_directory, config=config)\n",
    "\n",
    "# Load the tokenizer as usual\n",
    "tokenizer = AutoTokenizer.from_pretrained(model_directory)\n"
   ]
  },
  {
   "cell_type": "markdown",
   "id": "81ecd8be-1aba-4c7f-b608-f053b980618b",
   "metadata": {},
   "source": [
    "## Evaluation of Validation set"
   ]
  },
  {
   "cell_type": "code",
   "execution_count": 35,
   "id": "f1996302-7ceb-4177-bf9a-ee4e84502718",
   "metadata": {},
   "outputs": [
    {
     "name": "stdout",
     "output_type": "stream",
     "text": [
      "Predictions stored in new file: HSP_Val_Data_with_Encoded_Label_Bin_3.0_with_predictions.csv\n",
      "CPU times: user 2h 28min 4s, sys: 1min 7s, total: 2h 29min 11s\n",
      "Wall time: 2min 21s\n"
     ]
    }
   ],
   "source": [
    "%%time\n",
    "import pandas as pd\n",
    "import torch\n",
    "from torch.nn.functional import softmax\n",
    "\n",
    "# Assuming tokenizer and model are already defined and loaded\n",
    "\n",
    "def prepare_input(text):\n",
    "    inputs = tokenizer(text, return_tensors=\"pt\", padding=True, truncation=True, max_length=512)\n",
    "    return inputs\n",
    "\n",
    "def predict(text):\n",
    "    model.eval()  # Ensure the model is in evaluation mode\n",
    "    inputs = prepare_input(text)\n",
    "    with torch.no_grad():  # No need to track gradients for inference\n",
    "        outputs = model(**inputs)\n",
    "        predictions = softmax(outputs.logits, dim=-1)\n",
    "    return predictions\n",
    "\n",
    "# Function to predict and store results in a new CSV\n",
    "def predict_and_store(csv_file_path):\n",
    "    # Load the CSV file\n",
    "    df = pd.read_csv(csv_file_path)\n",
    "    \n",
    "    # Ensure there's a column for predicted labels\n",
    "    df['Predicted_Label'] = None\n",
    "    \n",
    "    # Iterate over each row in the DataFrame and make predictions\n",
    "    for index, row in df.iterrows():\n",
    "        text = row['Text']\n",
    "        predictions = predict(text)\n",
    "        predicted_class_index = predictions.argmax(dim=1).item()\n",
    "        # Store the predicted class index in the DataFrame\n",
    "        df.at[index, 'Predicted_Label'] = predicted_class_index\n",
    "    \n",
    "    # Define the name for the new CSV file that will contain the predictions\n",
    "    predicted_csv_file_path = csv_file_path.replace('.csv', '_with_predictions.csv')\n",
    "    \n",
    "    # Save the modified DataFrame to the new CSV file\n",
    "    df.to_csv(predicted_csv_file_path, index=False)\n",
    "    \n",
    "    # Log the creation of the new file with predictions\n",
    "    print(f\"Predictions stored in new file: {predicted_csv_file_path}\")\n",
    "\n",
    "# Example usage with your specific CSV file\n",
    "csv_file_path = 'HSP_Val_Data_with_Encoded_Label_Bin_3.0.csv'\n",
    "predict_and_store(csv_file_path)\n"
   ]
  },
  {
   "cell_type": "code",
   "execution_count": 36,
   "id": "b41c6497-1124-4202-be83-00387508bf1a",
   "metadata": {},
   "outputs": [
    {
     "data": {
      "text/html": [
       "<div>\n",
       "<style scoped>\n",
       "    .dataframe tbody tr th:only-of-type {\n",
       "        vertical-align: middle;\n",
       "    }\n",
       "\n",
       "    .dataframe tbody tr th {\n",
       "        vertical-align: top;\n",
       "    }\n",
       "\n",
       "    .dataframe thead th {\n",
       "        text-align: right;\n",
       "    }\n",
       "</style>\n",
       "<table border=\"1\" class=\"dataframe\">\n",
       "  <thead>\n",
       "    <tr style=\"text-align: right;\">\n",
       "      <th></th>\n",
       "      <th>id</th>\n",
       "      <th>Text</th>\n",
       "      <th>Label_Id</th>\n",
       "      <th>Label</th>\n",
       "      <th>Label_Rev</th>\n",
       "      <th>Predicted_Label</th>\n",
       "    </tr>\n",
       "  </thead>\n",
       "  <tbody>\n",
       "    <tr>\n",
       "      <th>0</th>\n",
       "      <td>2441</td>\n",
       "      <td>it makes me really mad that everyone says Scor...</td>\n",
       "      <td>1</td>\n",
       "      <td>Non_Hate</td>\n",
       "      <td>0</td>\n",
       "      <td>0</td>\n",
       "    </tr>\n",
       "    <tr>\n",
       "      <th>1</th>\n",
       "      <td>2948</td>\n",
       "      <td>Imagine invalidating an entire shows main char...</td>\n",
       "      <td>1</td>\n",
       "      <td>Non_Hate</td>\n",
       "      <td>0</td>\n",
       "      <td>0</td>\n",
       "    </tr>\n",
       "    <tr>\n",
       "      <th>2</th>\n",
       "      <td>5486</td>\n",
       "      <td>What do you prefer?  #Longboard or #Surfboard ...</td>\n",
       "      <td>1</td>\n",
       "      <td>Non_Hate</td>\n",
       "      <td>0</td>\n",
       "      <td>0</td>\n",
       "    </tr>\n",
       "    <tr>\n",
       "      <th>3</th>\n",
       "      <td>6132</td>\n",
       "      <td>'s account is temporarily unavailable because ...</td>\n",
       "      <td>1</td>\n",
       "      <td>Non_Hate</td>\n",
       "      <td>0</td>\n",
       "      <td>0</td>\n",
       "    </tr>\n",
       "    <tr>\n",
       "      <th>4</th>\n",
       "      <td>1643</td>\n",
       "      <td>I mean id be a lesbian if I saw some of y'all ...</td>\n",
       "      <td>1</td>\n",
       "      <td>Non_Hate</td>\n",
       "      <td>0</td>\n",
       "      <td>0</td>\n",
       "    </tr>\n",
       "  </tbody>\n",
       "</table>\n",
       "</div>"
      ],
      "text/plain": [
       "     id                                               Text  Label_Id  \\\n",
       "0  2441  it makes me really mad that everyone says Scor...         1   \n",
       "1  2948  Imagine invalidating an entire shows main char...         1   \n",
       "2  5486  What do you prefer?  #Longboard or #Surfboard ...         1   \n",
       "3  6132  's account is temporarily unavailable because ...         1   \n",
       "4  1643  I mean id be a lesbian if I saw some of y'all ...         1   \n",
       "\n",
       "      Label  Label_Rev  Predicted_Label  \n",
       "0  Non_Hate          0                0  \n",
       "1  Non_Hate          0                0  \n",
       "2  Non_Hate          0                0  \n",
       "3  Non_Hate          0                0  \n",
       "4  Non_Hate          0                0  "
      ]
     },
     "execution_count": 36,
     "metadata": {},
     "output_type": "execute_result"
    }
   ],
   "source": [
    "df = pd.read_csv(\"HSP_Val_Data_with_Encoded_Label_Bin_3.0_with_predictions.csv\")\n",
    "df.head()"
   ]
  },
  {
   "cell_type": "code",
   "execution_count": 37,
   "id": "d48e5a93-284d-4936-8d36-b2c1b0a7dfb6",
   "metadata": {},
   "outputs": [
    {
     "data": {
      "image/png": "[encoded data removed]",
      "text/plain": [
       "<Figure size 600x400 with 2 Axes>"
      ]
     },
     "metadata": {},
     "output_type": "display_data"
    }
   ],
   "source": [
    "import pandas as pd\n",
    "import numpy as np\n",
    "import matplotlib.pyplot as plt\n",
    "import seaborn as sns\n",
    "from sklearn.metrics import confusion_matrix\n",
    "from sklearn.metrics import accuracy_score, classification_report\n",
    "\n",
    "# Load the CSV file containing text data\n",
    "df = pd.read_csv(\"HSP_Val_Data_with_Encoded_Label_Bin_3.0_with_predictions.csv\")\n",
    "\n",
    "label_mapping = {0: \"Non_Hate\", 1: \"Hate\"}\n",
    "\n",
    "# Generate the confusion matrix\n",
    "confusion = confusion_matrix(df[\"Label_Rev\"], df[\"Predicted_Label\"])\n",
    "\n",
    "# Create a heatmap of the confusion matrix with class labels\n",
    "plt.figure(figsize=(6, 4))\n",
    "sns.set(font_scale=1.2)\n",
    "ax = sns.heatmap(confusion, annot=True, fmt=\"d\", cmap=\"Blues\", xticklabels=label_mapping.values(), yticklabels=label_mapping.values(),\n",
    "                 linewidths=.5, linecolor='black', cbar_kws={'drawedges': True})  # Add cbar_kws parameter\n",
    "\n",
    "# Add explicit border lines\n",
    "ax.add_artist(plt.Line2D([0, len(label_mapping)], [len(label_mapping), len(label_mapping)], color='black', linewidth=2))\n",
    "ax.add_artist(plt.Line2D([len(label_mapping), len(label_mapping)], [0, len(label_mapping)], color='black', linewidth=2))\n",
    "\n",
    "plt.xlabel('Predicted Labels')\n",
    "plt.ylabel('True Labels')\n",
    "plt.title('Confusion Matrix')\n",
    "plt.show()"
   ]
  },
  {
   "cell_type": "code",
   "execution_count": 38,
   "id": "427adba4-2b1a-4f90-afd5-a4695c77b9ee",
   "metadata": {},
   "outputs": [
    {
     "name": "stdout",
     "output_type": "stream",
     "text": [
      "Classification Report:\n",
      "               precision    recall  f1-score   support\n",
      "\n",
      "    Non_Hate       0.86      1.00      0.92       802\n",
      "        Hate       1.00      0.02      0.04       136\n",
      "\n",
      "    accuracy                           0.86       938\n",
      "   macro avg       0.93      0.51      0.48       938\n",
      "weighted avg       0.88      0.86      0.80       938\n",
      "\n"
     ]
    }
   ],
   "source": [
    "# Generate the classification report\n",
    "classification_rep = classification_report(df[\"Label_Rev\"], df[\"Predicted_Label\"], target_names=list(label_mapping.values()))\n",
    "print(\"Classification Report:\\n\", classification_rep)"
   ]
  },
  {
   "cell_type": "markdown",
   "id": "b343ca03-d93f-4758-9610-e18aaf667f1d",
   "metadata": {},
   "source": [
    "## Evaluation of Test set"
   ]
  },
  {
   "cell_type": "code",
   "execution_count": 39,
   "id": "62f433f6-a780-4c81-b9a8-c99b364a0409",
   "metadata": {},
   "outputs": [
    {
     "name": "stdout",
     "output_type": "stream",
     "text": [
      "Predictions stored in new file: HSP_Test_Data_with_Encoded_Label_Bin_3.0_with_predictions.csv\n"
     ]
    }
   ],
   "source": [
    "import pandas as pd\n",
    "import torch\n",
    "from torch.nn.functional import softmax\n",
    "\n",
    "# Assuming tokenizer and model are already defined and loaded\n",
    "\n",
    "def prepare_input(text):\n",
    "    inputs = tokenizer(text, return_tensors=\"pt\", padding=True, truncation=True, max_length=512)\n",
    "    return inputs\n",
    "\n",
    "def predict(text):\n",
    "    model.eval()  # Ensure the model is in evaluation mode\n",
    "    inputs = prepare_input(text)\n",
    "    with torch.no_grad():  # No need to track gradients for inference\n",
    "        outputs = model(**inputs)\n",
    "        predictions = softmax(outputs.logits, dim=-1)\n",
    "    return predictions\n",
    "\n",
    "# Function to predict and store results in a new CSV\n",
    "def predict_and_store(csv_file_path):\n",
    "    # Load the CSV file\n",
    "    df = pd.read_csv(csv_file_path)\n",
    "    \n",
    "    # Ensure there's a column for predicted labels\n",
    "    df['Predicted_Label'] = None\n",
    "    \n",
    "    # Iterate over each row in the DataFrame and make predictions\n",
    "    for index, row in df.iterrows():\n",
    "        text = row['Text']\n",
    "        predictions = predict(text)\n",
    "        predicted_class_index = predictions.argmax(dim=1).item()\n",
    "        # Store the predicted class index in the DataFrame\n",
    "        df.at[index, 'Predicted_Label'] = predicted_class_index\n",
    "    \n",
    "    # Define the name for the new CSV file that will contain the predictions\n",
    "    predicted_csv_file_path = csv_file_path.replace('.csv', '_with_predictions.csv')\n",
    "    \n",
    "    # Save the modified DataFrame to the new CSV file\n",
    "    df.to_csv(predicted_csv_file_path, index=False)\n",
    "    \n",
    "    # Log the creation of the new file with predictions\n",
    "    print(f\"Predictions stored in new file: {predicted_csv_file_path}\")\n",
    "\n",
    "# Example usage with your specific CSV file\n",
    "csv_file_path = 'HSP_Test_Data_with_Encoded_Label_Bin_3.0.csv'\n",
    "predict_and_store(csv_file_path)"
   ]
  },
  {
   "cell_type": "code",
   "execution_count": 40,
   "id": "64dc82ec-e93f-431f-9503-5d58b999712e",
   "metadata": {},
   "outputs": [
    {
     "data": {
      "image/png": "[encoded data removed]",
      "text/plain": [
       "<Figure size 600x400 with 2 Axes>"
      ]
     },
     "metadata": {},
     "output_type": "display_data"
    }
   ],
   "source": [
    "import pandas as pd\n",
    "import numpy as np\n",
    "import matplotlib.pyplot as plt\n",
    "import seaborn as sns\n",
    "from sklearn.metrics import confusion_matrix\n",
    "from sklearn.metrics import accuracy_score, classification_report\n",
    "\n",
    "# Load the CSV file containing text data\n",
    "df = pd.read_csv(\"HSP_Test_Data_with_Encoded_Label_Bin_3.0_with_predictions.csv\")\n",
    "\n",
    "label_mapping = {0: \"Non_Hate\", 1: \"Hate\"}\n",
    "\n",
    "# Generate the confusion matrix\n",
    "confusion = confusion_matrix(df[\"Label_Rev\"], df[\"Predicted_Label\"])\n",
    "\n",
    "# Create a heatmap of the confusion matrix with class labels\n",
    "plt.figure(figsize=(6, 4))\n",
    "sns.set(font_scale=1.2)\n",
    "ax = sns.heatmap(confusion, annot=True, fmt=\"d\", cmap=\"Blues\", xticklabels=label_mapping.values(), yticklabels=label_mapping.values(),\n",
    "                 linewidths=.5, linecolor='black', cbar_kws={'drawedges': True})  # Add cbar_kws parameter\n",
    "\n",
    "# Add explicit border lines\n",
    "ax.add_artist(plt.Line2D([0, len(label_mapping)], [len(label_mapping), len(label_mapping)], color='black', linewidth=2))\n",
    "ax.add_artist(plt.Line2D([len(label_mapping), len(label_mapping)], [0, len(label_mapping)], color='black', linewidth=2))\n",
    "\n",
    "plt.xlabel('Predicted Labels')\n",
    "plt.ylabel('True Labels')\n",
    "plt.title('Confusion Matrix')\n",
    "plt.show()"
   ]
  },
  {
   "cell_type": "code",
   "execution_count": 41,
   "id": "9d182038-f2cf-45cb-94d8-111af40c947f",
   "metadata": {},
   "outputs": [
    {
     "name": "stdout",
     "output_type": "stream",
     "text": [
      "Classification Report:\n",
      "               precision    recall  f1-score   support\n",
      "\n",
      "    Non_Hate       0.86      1.00      0.92       802\n",
      "        Hate       0.00      0.00      0.00       136\n",
      "\n",
      "    accuracy                           0.86       938\n",
      "   macro avg       0.43      0.50      0.46       938\n",
      "weighted avg       0.73      0.86      0.79       938\n",
      "\n"
     ]
    },
    {
     "name": "stderr",
     "output_type": "stream",
     "text": [
      "/home/sunil/.local/lib/python3.8/site-packages/sklearn/metrics/_classification.py:1469: UndefinedMetricWarning: Precision and F-score are ill-defined and being set to 0.0 in labels with no predicted samples. Use `zero_division` parameter to control this behavior.\n",
      "  _warn_prf(average, modifier, msg_start, len(result))\n",
      "/home/sunil/.local/lib/python3.8/site-packages/sklearn/metrics/_classification.py:1469: UndefinedMetricWarning: Precision and F-score are ill-defined and being set to 0.0 in labels with no predicted samples. Use `zero_division` parameter to control this behavior.\n",
      "  _warn_prf(average, modifier, msg_start, len(result))\n",
      "/home/sunil/.local/lib/python3.8/site-packages/sklearn/metrics/_classification.py:1469: UndefinedMetricWarning: Precision and F-score are ill-defined and being set to 0.0 in labels with no predicted samples. Use `zero_division` parameter to control this behavior.\n",
      "  _warn_prf(average, modifier, msg_start, len(result))\n"
     ]
    }
   ],
   "source": [
    "# Generate the classification report\n",
    "classification_rep = classification_report(df[\"Label_Rev\"], df[\"Predicted_Label\"], target_names=list(label_mapping.values()))\n",
    "print(\"Classification Report:\\n\", classification_rep)"
   ]
  },
  {
   "cell_type": "markdown",
   "id": "da420266-a77f-41be-a0b0-8ec21d51b03b",
   "metadata": {},
   "source": [
    "### General Inferencing"
   ]
  },
  {
   "cell_type": "code",
   "execution_count": 42,
   "id": "25b69073-b875-4697-9aa1-158d9389958d",
   "metadata": {},
   "outputs": [
    {
     "name": "stdout",
     "output_type": "stream",
     "text": [
      "Predicted class index: 0\n"
     ]
    }
   ],
   "source": [
    "import torch\n",
    "from torch.nn.functional import softmax\n",
    "\n",
    "def prepare_input(text):\n",
    "    inputs = tokenizer(text, return_tensors=\"pt\", padding=True, truncation=True, max_length=512)\n",
    "    return inputs\n",
    "\n",
    "def predict(text):\n",
    "    model.eval()  # Ensure the model is in evaluation mode\n",
    "    inputs = prepare_input(text)\n",
    "    with torch.no_grad():  # No need to track gradients for inference\n",
    "        outputs = model(**inputs)\n",
    "        predictions = softmax(outputs.logits, dim=-1)\n",
    "    return predictions\n",
    "\n",
    "# Example usage\n",
    "text = \"India is My Country\"\n",
    "predictions = predict(text)\n",
    "predicted_class_index = predictions.argmax(dim=1).item()\n",
    "print(f\"Predicted class index: {predicted_class_index}\")"
   ]
  },
  {
   "cell_type": "code",
   "execution_count": 43,
   "id": "0dd98bba-f236-43e5-a59c-6fe602bb372b",
   "metadata": {},
   "outputs": [
    {
     "name": "stdout",
     "output_type": "stream",
     "text": [
      "Predicted class index: 0\n"
     ]
    }
   ],
   "source": [
    "import torch\n",
    "from torch.nn.functional import softmax\n",
    "\n",
    "def prepare_input(text):\n",
    "    inputs = tokenizer(text, return_tensors=\"pt\", padding=True, truncation=True, max_length=512)\n",
    "    return inputs\n",
    "\n",
    "def predict(text):\n",
    "    model.eval()  # Ensure the model is in evaluation mode\n",
    "    inputs = prepare_input(text)\n",
    "    with torch.no_grad():  # No need to track gradients for inference\n",
    "        outputs = model(**inputs)\n",
    "        predictions = softmax(outputs.logits, dim=-1)\n",
    "    return predictions\n",
    "\n",
    "# Example usage\n",
    "text = \"I hate you, You are worst gay.\"\n",
    "predictions = predict(text)\n",
    "predicted_class_index = predictions.argmax(dim=1).item()\n",
    "print(f\"Predicted class index: {predicted_class_index}\")"
   ]
  },
  {
   "cell_type": "code",
   "execution_count": 44,
   "id": "0300d7a4-de5f-468f-a82f-4ee30896678f",
   "metadata": {},
   "outputs": [
    {
     "name": "stdout",
     "output_type": "stream",
     "text": [
      "Predicted class index: 0\n"
     ]
    }
   ],
   "source": [
    "import torch\n",
    "from torch.nn.functional import softmax\n",
    "\n",
    "def prepare_input(text):\n",
    "    inputs = tokenizer(text, return_tensors=\"pt\", padding=True, truncation=True, max_length=512)\n",
    "    return inputs\n",
    "\n",
    "def predict(text):\n",
    "    model.eval()  # Ensure the model is in evaluation mode\n",
    "    inputs = prepare_input(text)\n",
    "    with torch.no_grad():  # No need to track gradients for inference\n",
    "        outputs = model(**inputs)\n",
    "        predictions = softmax(outputs.logits, dim=-1)\n",
    "    return predictions\n",
    "\n",
    "# Example usage\n",
    "text = \"LGBTQ+ people are also human, Give respect to save humanity.\"\n",
    "predictions = predict(text)\n",
    "predicted_class_index = predictions.argmax(dim=1).item()\n",
    "print(f\"Predicted class index: {predicted_class_index}\")"
   ]
  },
  {
   "cell_type": "code",
   "execution_count": 45,
   "id": "0c02074a-7644-483b-92fb-b2323131230e",
   "metadata": {},
   "outputs": [
    {
     "name": "stdout",
     "output_type": "stream",
     "text": [
      "Sat May 25 05:04:31 2024       \n",
      "+---------------------------------------------------------------------------------------+\n",
      "| NVIDIA-SMI 535.171.04             Driver Version: 535.171.04   CUDA Version: 12.2     |\n",
      "|-----------------------------------------+----------------------+----------------------+\n",
      "| GPU  Name                 Persistence-M | Bus-Id        Disp.A | Volatile Uncorr. ECC |\n",
      "| Fan  Temp   Perf          Pwr:Usage/Cap |         Memory-Usage | GPU-Util  Compute M. |\n",
      "|                                         |                      |               MIG M. |\n",
      "|=========================================+======================+======================|\n",
      "|   0  NVIDIA A100 80GB PCIe          Off | 00000000:21:00.0 Off |                    0 |\n",
      "| N/A   32C    P0              67W / 300W |  35401MiB / 81920MiB |      0%      Default |\n",
      "|                                         |                      |             Disabled |\n",
      "+-----------------------------------------+----------------------+----------------------+\n"
     ]
    },
    {
     "name": "stderr",
     "output_type": "stream",
     "text": [
      "huggingface/tokenizers: The current process just got forked, after parallelism has already been used. Disabling parallelism to avoid deadlocks...\n",
      "To disable this warning, you can either:\n",
      "\t- Avoid using `tokenizers` before the fork if possible\n",
      "\t- Explicitly set the environment variable TOKENIZERS_PARALLELISM=(true | false)\n"
     ]
    },
    {
     "name": "stdout",
     "output_type": "stream",
     "text": [
      "|   1  NVIDIA A100 80GB PCIe          Off | 00000000:81:00.0 Off |                    0 |\n",
      "| N/A   63C    P0             287W / 300W |  60428MiB / 81920MiB |    100%      Default |\n",
      "|                                         |                      |             Disabled |\n",
      "+-----------------------------------------+----------------------+----------------------+\n",
      "                                                                                         \n",
      "+---------------------------------------------------------------------------------------+\n",
      "| Processes:                                                                            |\n",
      "|  GPU   GI   CI        PID   Type   Process name                            GPU Memory |\n",
      "|        ID   ID                                                             Usage      |\n",
      "|=======================================================================================|\n",
      "|    0   N/A  N/A   1284314      C   /usr/bin/python3                           2192MiB |\n",
      "|    0   N/A  N/A   2189667      C   /usr/bin/python3                           1242MiB |\n",
      "|    0   N/A  N/A   2207751      C   /usr/bin/python3                           2396MiB |\n",
      "|    0   N/A  N/A   3004886      C   /usr/bin/python3                          29546MiB |\n",
      "|    1   N/A  N/A   1862690      C   python                                    30204MiB |\n",
      "|    1   N/A  N/A   4181436      C   python                                    30210MiB |\n",
      "+---------------------------------------------------------------------------------------+\n"
     ]
    }
   ],
   "source": [
    "!nvidia-smi"
   ]
  },
  {
   "cell_type": "code",
   "execution_count": null,
   "id": "35225dfd-aef6-42f9-b1a1-51029e750da8",
   "metadata": {},
   "outputs": [],
   "source": []
  }
 ],
 "metadata": {
  "kernelspec": {
   "display_name": "Python 3 (ipykernel)",
   "language": "python",
   "name": "python3"
  },
  "language_info": {
   "codemirror_mode": {
    "name": "ipython",
    "version": 3
   },
   "file_extension": ".py",
   "mimetype": "text/x-python",
   "name": "python",
   "nbconvert_exporter": "python",
   "pygments_lexer": "ipython3",
   "version": "3.8.10"
  },
  "widgets": {
   "application/vnd.jupyter.widget-state+json": {
    "state": {
     "0f982fa406f944059f0969571d195428": {
      "model_module": "@jupyter-widgets/base",
      "model_module_version": "2.0.0",
      "model_name": "LayoutModel",
      "state": {}
     },
     "2fa6ed8586ce4f0a91b5e15b72da40b7": {
      "model_module": "@jupyter-widgets/controls",
      "model_module_version": "2.0.0",
      "model_name": "LabelModel",
      "state": {
       "layout": "IPY_MODEL_f62159e541e04877806bff2c28169deb",
       "style": "IPY_MODEL_53e178a0bc1645189d664f5ebaf9801d"
      }
     },
     "354d5311a0a044968a0bd5556c716838": {
      "model_module": "@jupyter-widgets/base",
      "model_module_version": "2.0.0",
      "model_name": "LayoutModel",
      "state": {}
     },
     "4b2135692c0c4035b222ea127b7071aa": {
      "model_module": "@jupyter-widgets/controls",
      "model_module_version": "2.0.0",
      "model_name": "LabelStyleModel",
      "state": {
       "description_width": "",
       "font_family": null,
       "font_size": null,
       "font_style": null,
       "font_variant": null,
       "font_weight": null,
       "text_color": null,
       "text_decoration": null
      }
     },
     "53e178a0bc1645189d664f5ebaf9801d": {
      "model_module": "@jupyter-widgets/controls",
      "model_module_version": "2.0.0",
      "model_name": "LabelStyleModel",
      "state": {
       "description_width": "",
       "font_family": null,
       "font_size": null,
       "font_style": null,
       "font_variant": null,
       "font_weight": null,
       "text_color": null,
       "text_decoration": null
      }
     },
     "55f4568d48b845f78571b754c9c7fdf2": {
      "model_module": "@jupyter-widgets/controls",
      "model_module_version": "2.0.0",
      "model_name": "FloatProgressModel",
      "state": {
       "layout": "IPY_MODEL_354d5311a0a044968a0bd5556c716838",
       "max": 1,
       "style": "IPY_MODEL_69122b1342a04ed4928bdc1aa3b6144a"
      }
     },
     "58c63db4faa445a2a613370cea2a28f9": {
      "model_module": "@jupyter-widgets/controls",
      "model_module_version": "2.0.0",
      "model_name": "FloatProgressModel",
      "state": {
       "layout": "IPY_MODEL_6463641b105c41a285dcf93b6da3436a",
       "max": 1,
       "style": "IPY_MODEL_655a95a208d647d79c557782176e831e",
       "value": 1
      }
     },
     "6463641b105c41a285dcf93b6da3436a": {
      "model_module": "@jupyter-widgets/base",
      "model_module_version": "2.0.0",
      "model_name": "LayoutModel",
      "state": {}
     },
     "655a95a208d647d79c557782176e831e": {
      "model_module": "@jupyter-widgets/controls",
      "model_module_version": "2.0.0",
      "model_name": "ProgressStyleModel",
      "state": {
       "description_width": ""
      }
     },
     "69122b1342a04ed4928bdc1aa3b6144a": {
      "model_module": "@jupyter-widgets/controls",
      "model_module_version": "2.0.0",
      "model_name": "ProgressStyleModel",
      "state": {
       "description_width": ""
      }
     },
     "c85db055184f46b5a26d1245d65320d4": {
      "model_module": "@jupyter-widgets/controls",
      "model_module_version": "2.0.0",
      "model_name": "VBoxModel",
      "state": {
       "children": [
        "IPY_MODEL_2fa6ed8586ce4f0a91b5e15b72da40b7",
        "IPY_MODEL_55f4568d48b845f78571b754c9c7fdf2"
       ],
       "layout": "IPY_MODEL_c8c270a5a0cb4e12be201cd6c303dd99"
      }
     },
     "c8c270a5a0cb4e12be201cd6c303dd99": {
      "model_module": "@jupyter-widgets/base",
      "model_module_version": "2.0.0",
      "model_name": "LayoutModel",
      "state": {}
     },
     "c967c00c096140c0996c6ed79ba67f4e": {
      "model_module": "@jupyter-widgets/base",
      "model_module_version": "2.0.0",
      "model_name": "LayoutModel",
      "state": {}
     },
     "ccf46b545439443ab289cdf2ca75e8d5": {
      "model_module": "@jupyter-widgets/controls",
      "model_module_version": "2.0.0",
      "model_name": "LabelModel",
      "state": {
       "layout": "IPY_MODEL_0f982fa406f944059f0969571d195428",
       "style": "IPY_MODEL_4b2135692c0c4035b222ea127b7071aa",
       "value": "Waiting for wandb.init()...\r"
      }
     },
     "e83c2cd5dca346e1ac9ec7d62b662641": {
      "model_module": "@jupyter-widgets/controls",
      "model_module_version": "2.0.0",
      "model_name": "VBoxModel",
      "state": {
       "children": [
        "IPY_MODEL_ccf46b545439443ab289cdf2ca75e8d5",
        "IPY_MODEL_58c63db4faa445a2a613370cea2a28f9"
       ],
       "layout": "IPY_MODEL_c967c00c096140c0996c6ed79ba67f4e"
      }
     },
     "f62159e541e04877806bff2c28169deb": {
      "model_module": "@jupyter-widgets/base",
      "model_module_version": "2.0.0",
      "model_name": "LayoutModel",
      "state": {}
     }
    },
    "version_major": 2,
    "version_minor": 0
   }
  }
 },
 "nbformat": 4,
 "nbformat_minor": 5
}
