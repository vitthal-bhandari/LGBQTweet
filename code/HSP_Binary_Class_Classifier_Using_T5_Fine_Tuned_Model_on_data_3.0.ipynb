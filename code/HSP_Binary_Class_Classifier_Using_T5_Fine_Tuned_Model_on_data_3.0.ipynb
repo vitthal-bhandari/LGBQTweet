{
 "cells": [
  {
   "cell_type": "raw",
   "id": "5a71cb88-457c-4e73-9945-ac0dbaf280c5",
   "metadata": {},
   "source": [
    "Note: Before start the notebook pls execute below two coomand on terminal \n",
    "export CUDA_VISIBLE_DEVICES=0\n",
    "export CUDA_LAUNCH_BLOCKING=1"
   ]
  },
  {
   "cell_type": "code",
   "execution_count": 1,
   "id": "cfdfbcb8-1ded-4373-b429-476ab577cfa1",
   "metadata": {},
   "outputs": [],
   "source": [
    "import os\n",
    "os.environ['WANDB_NOTEBOOK_NAME'] = 'HSP_Binary_Class_Classifier_Using_T5_Fine_Tuned_Model_on_data_3.0-Copy1.ipynb'\n",
    "os.environ['CUDA_VISIBLE_DEVICES'] = '0'"
   ]
  },
  {
   "cell_type": "code",
   "execution_count": 2,
   "id": "b978a4fc-b0d2-40b8-bd8b-a87ff8897d46",
   "metadata": {},
   "outputs": [
    {
     "name": "stdout",
     "output_type": "stream",
     "text": [
      "Sun May 26 10:33:34 2024       \n",
      "+---------------------------------------------------------------------------------------+\n",
      "| NVIDIA-SMI 535.171.04             Driver Version: 535.171.04   CUDA Version: 12.2     |\n",
      "|-----------------------------------------+----------------------+----------------------+\n",
      "| GPU  Name                 Persistence-M | Bus-Id        Disp.A | Volatile Uncorr. ECC |\n",
      "| Fan  Temp   Perf          Pwr:Usage/Cap |         Memory-Usage | GPU-Util  Compute M. |\n",
      "|                                         |                      |               MIG M. |\n",
      "|=========================================+======================+======================|\n",
      "|   0  NVIDIA A100 80GB PCIe          Off | 00000000:21:00.0 Off |                    0 |\n",
      "| N/A   49C    P0             179W / 300W |  28962MiB / 81920MiB |     76%      Default |\n",
      "|                                         |                      |             Disabled |\n",
      "+-----------------------------------------+----------------------+----------------------+\n",
      "|   1  NVIDIA A100 80GB PCIe          Off | 00000000:81:00.0 Off |                    0 |\n",
      "| N/A   63C    P0             288W / 300W |  60434MiB / 81920MiB |    100%      Default |\n",
      "|                                         |                      |             Disabled |\n",
      "+-----------------------------------------+----------------------+----------------------+\n",
      "                                                                                         \n",
      "+---------------------------------------------------------------------------------------+\n",
      "| Processes:                                                                            |\n",
      "|  GPU   GI   CI        PID   Type   Process name                            GPU Memory |\n",
      "|        ID   ID                                                             Usage      |\n",
      "|=======================================================================================|\n",
      "|    0   N/A  N/A    294866      C   /usr/bin/python3                          28954MiB |\n",
      "|    1   N/A  N/A   1862690      C   python                                    30210MiB |\n",
      "|    1   N/A  N/A   4181436      C   python                                    30210MiB |\n",
      "+---------------------------------------------------------------------------------------+\n"
     ]
    }
   ],
   "source": [
    "!nvidia-smi"
   ]
  },
  {
   "cell_type": "code",
   "execution_count": 3,
   "id": "2ade6ad9-3c66-47c1-ad8f-4f74ba51365d",
   "metadata": {},
   "outputs": [
    {
     "name": "stderr",
     "output_type": "stream",
     "text": [
      "\u001b[34m\u001b[1mwandb\u001b[0m: Currently logged in as: \u001b[33myadav-sunil531984\u001b[0m (\u001b[33mhsp_bits\u001b[0m). Use \u001b[1m`wandb login --relogin`\u001b[0m to force relogin\n"
     ]
    },
    {
     "data": {
      "text/html": [
       "wandb version 0.17.0 is available!  To upgrade, please run:\n",
       " $ pip install wandb --upgrade"
      ],
      "text/plain": [
       "<IPython.core.display.HTML object>"
      ]
     },
     "metadata": {},
     "output_type": "display_data"
    },
    {
     "data": {
      "text/html": [
       "Tracking run with wandb version 0.15.12"
      ],
      "text/plain": [
       "<IPython.core.display.HTML object>"
      ]
     },
     "metadata": {},
     "output_type": "display_data"
    },
    {
     "data": {
      "text/html": [
       "Run data is saved locally in <code>/home/sunil/Hate_Speech_Project/T5_Encoder_Model/wandb/run-20240526_103337-0ia4comn</code>"
      ],
      "text/plain": [
       "<IPython.core.display.HTML object>"
      ]
     },
     "metadata": {},
     "output_type": "display_data"
    },
    {
     "data": {
      "text/html": [
       "Syncing run <strong><a href='https://wandb.ai/hsp_bits/uncategorized/runs/0ia4comn' target=\"_blank\">dainty-shadow-153</a></strong> to <a href='https://wandb.ai/hsp_bits/uncategorized' target=\"_blank\">Weights & Biases</a> (<a href='https://wandb.me/run' target=\"_blank\">docs</a>)<br/>"
      ],
      "text/plain": [
       "<IPython.core.display.HTML object>"
      ]
     },
     "metadata": {},
     "output_type": "display_data"
    },
    {
     "data": {
      "text/html": [
       " View project at <a href='https://wandb.ai/hsp_bits/uncategorized' target=\"_blank\">https://wandb.ai/hsp_bits/uncategorized</a>"
      ],
      "text/plain": [
       "<IPython.core.display.HTML object>"
      ]
     },
     "metadata": {},
     "output_type": "display_data"
    },
    {
     "data": {
      "text/html": [
       " View run at <a href='https://wandb.ai/hsp_bits/uncategorized/runs/0ia4comn' target=\"_blank\">https://wandb.ai/hsp_bits/uncategorized/runs/0ia4comn</a>"
      ],
      "text/plain": [
       "<IPython.core.display.HTML object>"
      ]
     },
     "metadata": {},
     "output_type": "display_data"
    },
    {
     "name": "stderr",
     "output_type": "stream",
     "text": [
      "\u001b[34m\u001b[1mwandb\u001b[0m: \u001b[33mWARNING\u001b[0m Calling wandb.login() after wandb.init() has no effect.\n"
     ]
    },
    {
     "data": {
      "text/plain": [
       "True"
      ]
     },
     "execution_count": 3,
     "metadata": {},
     "output_type": "execute_result"
    }
   ],
   "source": [
    "import wandb\n",
    "wandb.init('19010c4e439d59bec411f7f9075c6e73ac7f5e13')    # Initialize wandb with your API key\n",
    "wandb.login()   # Authenticate with wandb.ai"
   ]
  },
  {
   "cell_type": "markdown",
   "id": "ca5fbf99-94eb-4623-aabe-e5ca513aef05",
   "metadata": {},
   "source": [
    "## Import the Libraries"
   ]
  },
  {
   "cell_type": "code",
   "execution_count": 4,
   "id": "11e3c104-fb49-4f51-8981-99a1817d6c53",
   "metadata": {},
   "outputs": [
    {
     "name": "stderr",
     "output_type": "stream",
     "text": [
      "2024-05-26 10:33:43.665084: I tensorflow/core/platform/cpu_feature_guard.cc:182] This TensorFlow binary is optimized to use available CPU instructions in performance-critical operations.\n",
      "To enable the following instructions: AVX2 FMA, in other operations, rebuild TensorFlow with the appropriate compiler flags.\n",
      "2024-05-26 10:33:44.325923: W tensorflow/compiler/tf2tensorrt/utils/py_utils.cc:38] TF-TRT Warning: Could not find TensorRT\n"
     ]
    }
   ],
   "source": [
    "import pandas as pd\n",
    "import torch\n",
    "from transformers import AutoTokenizer, AutoModelForSequenceClassification, TrainingArguments, Trainer\n",
    "from datasets import load_dataset\n",
    "from transformers import DataCollatorWithPadding\n",
    "import numpy as np\n",
    "from peft import get_peft_model, LoraConfig, TaskType\n",
    "import matplotlib.pyplot as plt"
   ]
  },
  {
   "cell_type": "markdown",
   "id": "3b69f7b4-5ef8-4586-80c8-d4510eac82a8",
   "metadata": {},
   "source": [
    "## Load Datasets"
   ]
  },
  {
   "cell_type": "code",
   "execution_count": 5,
   "id": "908183f0-c0eb-485b-b7a7-5cb5ebbf4fd6",
   "metadata": {},
   "outputs": [
    {
     "name": "stdout",
     "output_type": "stream",
     "text": [
      "Total Count of Samples =  4374\n"
     ]
    },
    {
     "data": {
      "image/png": "[encoded data removed]",
      "text/plain": [
       "<Figure size 600x400 with 1 Axes>"
      ]
     },
     "metadata": {},
     "output_type": "display_data"
    }
   ],
   "source": [
    "# Visualization of Class Labels Taining data\n",
    "train_df=pd.read_csv('HSP_Train_Data_with_Encoded_Label_Bin_3.0.csv')\n",
    "\n",
    "print(\"Total Count of Samples = \", len(train_df))\n",
    "label_counts = train_df['Label'].value_counts()\n",
    "\n",
    "# Updated colors list to include 6 colors for 6 classes\n",
    "colors = ['red', 'green']\n",
    "\n",
    "plt.figure(figsize=(6, 4))\n",
    "ax = label_counts.plot(kind='bar', color=colors)\n",
    "for p in ax.patches:\n",
    "    ax.annotate(str(p.get_height()), (p.get_x() + p.get_width() / 2., p.get_height()),\n",
    "                ha='center', va='center', xytext=(0, 5), textcoords='offset points')\n",
    "\n",
    "plt.title('Distribution of Train set Label Categories')\n",
    "plt.xlabel('Labels')\n",
    "plt.ylabel('Count')\n",
    "plt.show()"
   ]
  },
  {
   "cell_type": "code",
   "execution_count": 6,
   "id": "f8f05597-2202-4b4f-9657-964a38dc9c52",
   "metadata": {},
   "outputs": [
    {
     "name": "stdout",
     "output_type": "stream",
     "text": [
      "Total Count of Samples =  938\n"
     ]
    },
    {
     "data": {
      "image/png": "[encoded data removed]",
      "text/plain": [
       "<Figure size 600x400 with 1 Axes>"
      ]
     },
     "metadata": {},
     "output_type": "display_data"
    }
   ],
   "source": [
    "# Visualization of Class Labels Validation data\n",
    "val_df = pd.read_csv('HSP_Val_Data_with_Encoded_Label_Bin_3.0.csv')\n",
    "\n",
    "print(\"Total Count of Samples = \", len(val_df))\n",
    "label_counts = val_df['Label'].value_counts()\n",
    "\n",
    "# Updated colors list to include 6 colors for 6 classes\n",
    "colors = ['red', 'green']\n",
    "\n",
    "plt.figure(figsize=(6, 4))\n",
    "ax = label_counts.plot(kind='bar', color=colors)\n",
    "for p in ax.patches:\n",
    "    ax.annotate(str(p.get_height()), (p.get_x() + p.get_width() / 2., p.get_height()),\n",
    "                ha='center', va='center', xytext=(0, 5), textcoords='offset points')\n",
    "\n",
    "plt.title('Distribution of Validation set Label Categories')\n",
    "plt.xlabel('Labels')\n",
    "plt.ylabel('Count')\n",
    "plt.show()"
   ]
  },
  {
   "cell_type": "code",
   "execution_count": 7,
   "id": "3ae01590-2d3f-4455-ba5f-5add3b58c588",
   "metadata": {},
   "outputs": [
    {
     "name": "stdout",
     "output_type": "stream",
     "text": [
      "Total Count of Samples =  938\n"
     ]
    },
    {
     "data": {
      "image/png": "[encoded data removed]",
      "text/plain": [
       "<Figure size 600x400 with 1 Axes>"
      ]
     },
     "metadata": {},
     "output_type": "display_data"
    }
   ],
   "source": [
    "# Visualization of Class Labels Taining data\n",
    "test_df=pd.read_csv('HSP_Test_Data_with_Encoded_Label_Bin_3.0.csv')\n",
    "\n",
    "print(\"Total Count of Samples = \", len(test_df))\n",
    "label_counts = test_df['Label'].value_counts()\n",
    "\n",
    "# Updated colors list to include 6 colors for 6 classes\n",
    "colors = ['red', 'green']\n",
    "\n",
    "plt.figure(figsize=(6, 4))\n",
    "ax = label_counts.plot(kind='bar', color=colors)\n",
    "for p in ax.patches:\n",
    "    ax.annotate(str(p.get_height()), (p.get_x() + p.get_width() / 2., p.get_height()),\n",
    "                ha='center', va='center', xytext=(0, 5), textcoords='offset points')\n",
    "\n",
    "plt.title('Distribution of Test set Label Categories')\n",
    "plt.xlabel('Labels')\n",
    "plt.ylabel('Count')\n",
    "plt.show()"
   ]
  },
  {
   "cell_type": "code",
   "execution_count": 8,
   "id": "92fde885-443f-4f8b-9fe2-63ec899306d7",
   "metadata": {},
   "outputs": [
    {
     "name": "stdout",
     "output_type": "stream",
     "text": [
      "<class 'pandas.core.frame.DataFrame'>\n",
      "RangeIndex: 4374 entries, 0 to 4373\n",
      "Data columns (total 5 columns):\n",
      " #   Column     Non-Null Count  Dtype \n",
      "---  ------     --------------  ----- \n",
      " 0   id         4374 non-null   int64 \n",
      " 1   Text       4374 non-null   object\n",
      " 2   Label_Id   4374 non-null   int64 \n",
      " 3   Label      4374 non-null   object\n",
      " 4   Label_Rev  4374 non-null   int64 \n",
      "dtypes: int64(3), object(2)\n",
      "memory usage: 171.0+ KB\n"
     ]
    }
   ],
   "source": [
    "train_df=pd.read_csv('HSP_Train_Data_with_Encoded_Label_Bin_3.0.csv')\n",
    "train_df.info()"
   ]
  },
  {
   "cell_type": "code",
   "execution_count": 9,
   "id": "362f9349-05b6-4492-bf57-1b8d91ff2f34",
   "metadata": {},
   "outputs": [
    {
     "data": {
      "text/plain": [
       "array([0, 1])"
      ]
     },
     "execution_count": 9,
     "metadata": {},
     "output_type": "execute_result"
    }
   ],
   "source": [
    "unique_values = train_df['Label_Rev'].unique()\n",
    "unique_values "
   ]
  },
  {
   "cell_type": "markdown",
   "id": "0646493d-80db-4f57-8d65-b01df693806e",
   "metadata": {},
   "source": [
    "## Number of Characters"
   ]
  },
  {
   "cell_type": "code",
   "execution_count": 10,
   "id": "c1f680f5-7e0e-4f53-9402-19985aed978b",
   "metadata": {},
   "outputs": [
    {
     "name": "stdout",
     "output_type": "stream",
     "text": [
      "Maximum number of characters: 1116\n",
      "Maximum number of words: 97\n"
     ]
    }
   ],
   "source": [
    "# Number of Characters\n",
    "import pandas as pd\n",
    "\n",
    "# Load the training data from the CSV file\n",
    "train_df = pd.read_csv('HSP_Train_Data_with_Encoded_Label_Bin_3.0.csv')\n",
    "\n",
    "# Calculate the maximum number of characters in the 'text' column\n",
    "max_char = train_df['Text'].str.len().max()\n",
    "\n",
    "# Calculate the maximum number of words in the 'text' column\n",
    "max_words = train_df['Text'].str.split().str.len().max()\n",
    "\n",
    "print(f\"Maximum number of characters: {max_char}\")\n",
    "print(f\"Maximum number of words: {max_words}\")"
   ]
  },
  {
   "cell_type": "markdown",
   "id": "8687e682-4fa7-4904-a658-d37b78d45894",
   "metadata": {},
   "source": [
    "## Define Tokenizer and checkpoints"
   ]
  },
  {
   "cell_type": "code",
   "execution_count": 11,
   "id": "be28df21-b076-4b3b-836f-5b00cbe83b78",
   "metadata": {},
   "outputs": [],
   "source": [
    "# Define constants\n",
    "MAX_LEN = 512\n",
    "flant5_checkpoint = \"google/flan-t5-base\""
   ]
  },
  {
   "cell_type": "code",
   "execution_count": 12,
   "id": "4d806db8-7b73-4d60-97b8-644db959b2e4",
   "metadata": {},
   "outputs": [
    {
     "name": "stderr",
     "output_type": "stream",
     "text": [
      "You set `add_prefix_space`. The tokenizer needs to be converted from the slow tokenizers\n",
      "You are using the default legacy behaviour of the <class 'transformers.models.t5.tokenization_t5.T5Tokenizer'>. This is expected, and simply means that the `legacy` (previous) behavior will be used so nothing changes for you. If you want to use the new behaviour, set `legacy=False`. This should only be set if you understand what it means, and thoroughly read the reason why this was added as explained in https://github.com/huggingface/transformers/pull/24565\n"
     ]
    }
   ],
   "source": [
    "# Load the tokenizer\n",
    "flant5_tokenizer = AutoTokenizer.from_pretrained(flant5_checkpoint, add_prefix_space=True)"
   ]
  },
  {
   "cell_type": "markdown",
   "id": "48e89dfe-3ba9-438c-a18f-5de4768d7afd",
   "metadata": {},
   "source": [
    "## Preprocessing Data"
   ]
  },
  {
   "cell_type": "code",
   "execution_count": 13,
   "id": "1cc5d18f-737a-4745-9764-fa08ff89fcb2",
   "metadata": {},
   "outputs": [
    {
     "data": {
      "application/vnd.jupyter.widget-view+json": {
       "model_id": "0e76528e6c0d471c8c57ba1ea59e5ed9",
       "version_major": 2,
       "version_minor": 0
      },
      "text/plain": [
       "Map:   0%|          | 0/938 [00:00<?, ? examples/s]"
      ]
     },
     "metadata": {},
     "output_type": "display_data"
    },
    {
     "name": "stderr",
     "output_type": "stream",
     "text": [
      "Some weights of T5ForSequenceClassification were not initialized from the model checkpoint at google/flan-t5-base and are newly initialized: ['classification_head.dense.bias', 'classification_head.dense.weight', 'classification_head.out_proj.bias', 'classification_head.out_proj.weight']\n",
      "You should probably TRAIN this model on a down-stream task to be able to use it for predictions and inference.\n"
     ]
    }
   ],
   "source": [
    "# Preprocessing function\n",
    "def flant5_preprocessing_function(examples):\n",
    "    return flant5_tokenizer(examples['Text'], truncation=True, max_length=MAX_LEN)\n",
    "\n",
    "# Load each dataset file\n",
    "train_dataset = load_dataset('csv', data_files='HSP_Train_Data_with_Encoded_Label_Bin_3.0.csv')['train']\n",
    "val_dataset = load_dataset('csv', data_files='HSP_Val_Data_with_Encoded_Label_Bin_3.0.csv')['train']\n",
    "test_dataset = load_dataset('csv', data_files='HSP_Test_Data_with_Encoded_Label_Bin_3.0.csv')['train']\n",
    "\n",
    "# Define the columns to be removed\n",
    "col_to_delete = ['id', 'Label_Id', 'Label']\n",
    "\n",
    "# Apply preprocessing to each dataset separately\n",
    "flant5_tokenized_train_dataset = train_dataset.map(flant5_preprocessing_function, batched=True, remove_columns=col_to_delete)\n",
    "flant5_tokenized_val_dataset = val_dataset.map(flant5_preprocessing_function, batched=True, remove_columns=col_to_delete)\n",
    "flant5_tokenized_test_dataset = test_dataset.map(flant5_preprocessing_function, batched=True, remove_columns=col_to_delete)\n",
    "\n",
    "# Rename the 'Label_Rev' column to 'label' in each dataset\n",
    "flant5_tokenized_train_dataset = flant5_tokenized_train_dataset.rename_column(\"Label_Rev\", \"label\")\n",
    "flant5_tokenized_val_dataset = flant5_tokenized_val_dataset.rename_column(\"Label_Rev\", \"label\")\n",
    "flant5_tokenized_test_dataset = flant5_tokenized_test_dataset.rename_column(\"Label_Rev\", \"label\")\n",
    "\n",
    "# Set format to 'torch' for all datasets\n",
    "flant5_tokenized_train_dataset.set_format(\"torch\")\n",
    "flant5_tokenized_val_dataset.set_format(\"torch\")\n",
    "flant5_tokenized_test_dataset.set_format(\"torch\")\n",
    "\n",
    "# Data collator for padding a batch of examples to the maximum length seen in the batch\n",
    "flant5_data_collator = DataCollatorWithPadding(tokenizer=flant5_tokenizer)\n",
    "\n",
    "# Load Pretrained Model for Sequence Classification\n",
    "flant5_model = AutoModelForSequenceClassification.from_pretrained(flant5_checkpoint, num_labels=2)"
   ]
  },
  {
   "cell_type": "markdown",
   "id": "7c2bd1d3-1b4d-4115-8215-3a17a62bfe23",
   "metadata": {},
   "source": [
    "## LoRa setup "
   ]
  },
  {
   "cell_type": "code",
   "execution_count": 14,
   "id": "a87e99ec-9667-45ad-a1d8-967682aed048",
   "metadata": {},
   "outputs": [
    {
     "name": "stdout",
     "output_type": "stream",
     "text": [
      "trainable params: 442,368 || all params: 223,938,050 || trainable%: 0.19754034653780364\n"
     ]
    }
   ],
   "source": [
    "# LoRa setup for Flan T5 classifier\n",
    "flant5_peft_config = LoraConfig(\n",
    "    task_type=TaskType.SEQ_CLS, r=4, lora_alpha=16, lora_dropout=0.1, bias=\"none\"\n",
    ")\n",
    "flant5_model = get_peft_model(flant5_model, flant5_peft_config)\n",
    "flant5_model.print_trainable_parameters()\n",
    "\n",
    "# Ensure all model parameters require gradients\n",
    "for param in flant5_model.parameters():\n",
    "    param.requires_grad = True"
   ]
  },
  {
   "cell_type": "markdown",
   "id": "c860a550-09dd-4e8a-85e0-dbf58241514e",
   "metadata": {},
   "source": [
    "## Setup the trainer"
   ]
  },
  {
   "cell_type": "markdown",
   "id": "a2febd80-c9cb-4d2b-84fc-f2128c6e64fe",
   "metadata": {},
   "source": [
    "### Evaluation Metric"
   ]
  },
  {
   "cell_type": "code",
   "execution_count": 15,
   "id": "c04653e1-e191-4d6b-a89a-628d6053cf98",
   "metadata": {},
   "outputs": [],
   "source": [
    "# Evaluation Metric\n",
    "from sklearn.metrics import precision_score, recall_score, f1_score, accuracy_score\n",
    "def compute_metrics(eval_pred):\n",
    "    logits, labels = eval_pred\n",
    "    # Ensure logits is a 2D numpy array\n",
    "    if isinstance(logits, tuple):\n",
    "        logits = logits[0]  # Extract the logits from a tuple if necessary\n",
    "    # Reshape logits if needed\n",
    "    if len(logits.shape) > 2:\n",
    "        logits = logits.reshape(-1, logits.shape[-1])\n",
    "    # Compute predictions\n",
    "    predictions = np.argmax(logits, axis=-1)\n",
    "    # Calculate metrics\n",
    "    precision = precision_score(labels, predictions, average='weighted')\n",
    "    recall = recall_score(labels, predictions, average='weighted')\n",
    "    f1 = f1_score(labels, predictions, average='weighted')\n",
    "    accuracy = accuracy_score(labels, predictions)\n",
    "    \n",
    "    return {\n",
    "        \"precision\": precision,\n",
    "        \"recall\": recall,\n",
    "        \"f1-score\": f1,\n",
    "        \"accuracy\": accuracy\n",
    "    }"
   ]
  },
  {
   "cell_type": "markdown",
   "id": "71ddef51-5919-400f-9c83-b62972a6032b",
   "metadata": {},
   "source": [
    "### Custom Trainer for Weighted Loss"
   ]
  },
  {
   "cell_type": "code",
   "execution_count": 16,
   "id": "567fda53-6b86-4923-a67d-d2eb6c6517f1",
   "metadata": {},
   "outputs": [],
   "source": [
    "# Custom Trainer for Loss\n",
    "class CELossTrainer(Trainer):\n",
    "    def compute_loss(self, model, inputs, return_outputs=False):\n",
    "        labels = inputs.pop(\"labels\")\n",
    "        # Ensure the model is in training mode\n",
    "        model.train()\n",
    "        # Get model's predictions\n",
    "        outputs = model(**inputs)\n",
    "        logits = outputs.get(\"logits\")\n",
    "        # Compute custom loss\n",
    "        loss_fct = torch.nn.CrossEntropyLoss()\n",
    "        loss = loss_fct(logits.view(-1, self.model.config.num_labels), labels.view(-1))\n",
    "        return (loss, outputs) if return_outputs else loss\n"
   ]
  },
  {
   "cell_type": "markdown",
   "id": "9b052d90-53e7-400f-88b6-7d859bc2794f",
   "metadata": {},
   "source": [
    "### Custom Callback to Store Losses Once per Epoch"
   ]
  },
  {
   "cell_type": "code",
   "execution_count": 21,
   "id": "28104f6f-7684-4d43-b8c0-a06636db2530",
   "metadata": {},
   "outputs": [],
   "source": [
    "from transformers import TrainerCallback, TrainerState, TrainerControl\n",
    "\n",
    "class LossTrackerCallback(TrainerCallback):\n",
    "    def __init__(self):\n",
    "        self.training_losses = []\n",
    "        self.validation_losses = []\n",
    "        self.epoch = 0\n",
    "\n",
    "    def on_epoch_end(self, args, state: TrainerState, control: TrainerControl, **kwargs):\n",
    "        # Append the most recent training loss to the list\n",
    "        for log in reversed(state.log_history):\n",
    "            if 'loss' in log:\n",
    "                self.training_losses.append(log['loss'])\n",
    "                break  # Ensure we only add one training loss per epoch\n",
    "\n",
    "    def on_evaluate(self, args, state: TrainerState, control: TrainerControl, **kwargs):\n",
    "        if len(self.training_losses) > len(self.validation_losses):\n",
    "            # Append the most recent validation loss to the list\n",
    "            for log in reversed(state.log_history):\n",
    "                if 'eval_loss' in log:\n",
    "                    self.validation_losses.append(log['eval_loss'])\n",
    "                    break  # Ensure we only add one validation loss per epoch"
   ]
  },
  {
   "cell_type": "code",
   "execution_count": 22,
   "id": "b309e4b3-7599-48d5-b35e-437d14671b54",
   "metadata": {},
   "outputs": [],
   "source": [
    "loss_tracker_callback = LossTrackerCallback()"
   ]
  },
  {
   "cell_type": "markdown",
   "id": "d673e956-4daa-4b49-88b1-042649978aaf",
   "metadata": {},
   "source": [
    "### Early Stopping Criteria"
   ]
  },
  {
   "cell_type": "code",
   "execution_count": 23,
   "id": "24fa74fc-3507-46ff-876f-6cecf4974bc3",
   "metadata": {},
   "outputs": [],
   "source": [
    "from transformers import EarlyStoppingCallback\n",
    "early_stopping_callback = EarlyStoppingCallback(early_stopping_patience=3)"
   ]
  },
  {
   "cell_type": "markdown",
   "id": "f11eeb76-10ed-4c8b-9862-d25be132d09f",
   "metadata": {},
   "source": [
    "### Trainer setup"
   ]
  },
  {
   "cell_type": "code",
   "execution_count": 24,
   "id": "604637d8-b893-4bc0-9094-9a85ea4315f4",
   "metadata": {},
   "outputs": [],
   "source": [
    "# Trainer setup\n",
    "training_args = TrainingArguments(\n",
    "    output_dir=\"flant5-large-lora-token-classification-hf\",\n",
    "    learning_rate=1e-4,\n",
    "    per_device_train_batch_size=8,\n",
    "    per_device_eval_batch_size=8,\n",
    "    num_train_epochs=20,\n",
    "    weight_decay=0.001,\n",
    "    evaluation_strategy=\"epoch\",\n",
    "    save_strategy=\"epoch\",\n",
    "    load_best_model_at_end=True,\n",
    "    report_to=\"wandb\",\n",
    "    fp16=False,\n",
    "    gradient_checkpointing=True,\n",
    ")\n"
   ]
  },
  {
   "cell_type": "code",
   "execution_count": 25,
   "id": "131256db-3dc3-4562-920e-35ba1a63ca17",
   "metadata": {},
   "outputs": [
    {
     "name": "stderr",
     "output_type": "stream",
     "text": [
      "Detected kernel version 5.4.0, which is below the recommended minimum of 5.5.0; this can cause the process to hang. It is recommended to upgrade the kernel to the minimum version or higher.\n"
     ]
    }
   ],
   "source": [
    "flant5_trainer = CELossTrainer(\n",
    "    model=flant5_model,\n",
    "    args=training_args,\n",
    "    train_dataset=flant5_tokenized_train_dataset,\n",
    "    eval_dataset=flant5_tokenized_val_dataset,\n",
    "    data_collator=flant5_data_collator,\n",
    "    compute_metrics=compute_metrics,\n",
    "    callbacks=[loss_tracker_callback, early_stopping_callback]\n",
    ")\n"
   ]
  },
  {
   "cell_type": "markdown",
   "id": "d0f361e6-ebc0-4eb6-b20e-b6c253cd2c3f",
   "metadata": {},
   "source": [
    "## Model Training"
   ]
  },
  {
   "cell_type": "code",
   "execution_count": 26,
   "id": "0098d8d6-04a2-412d-a817-026915fda9a4",
   "metadata": {},
   "outputs": [
    {
     "name": "stderr",
     "output_type": "stream",
     "text": [
      "/home/sunil/.local/lib/python3.8/site-packages/torch/utils/checkpoint.py:429: UserWarning: torch.utils.checkpoint: please pass in use_reentrant=True or use_reentrant=False explicitly. The default value of use_reentrant will be updated to be False in the future. To maintain current behavior, pass use_reentrant=True. It is recommended that you use use_reentrant=False. Refer to docs for more details on the differences between the two variants.\n",
      "  warnings.warn(\n",
      "`use_cache=True` is incompatible with gradient checkpointing. Setting `use_cache=False`...\n"
     ]
    },
    {
     "data": {
      "text/html": [
       "\n",
       "    <div>\n",
       "      \n",
       "      <progress value='2188' max='10940' style='width:300px; height:20px; vertical-align: middle;'></progress>\n",
       "      [ 2188/10940 10:28 < 41:55, 3.48 it/s, Epoch 4/20]\n",
       "    </div>\n",
       "    <table border=\"1\" class=\"dataframe\">\n",
       "  <thead>\n",
       " <tr style=\"text-align: left;\">\n",
       "      <th>Epoch</th>\n",
       "      <th>Training Loss</th>\n",
       "      <th>Validation Loss</th>\n",
       "      <th>Precision</th>\n",
       "      <th>Recall</th>\n",
       "      <th>F1-score</th>\n",
       "      <th>Accuracy</th>\n",
       "    </tr>\n",
       "  </thead>\n",
       "  <tbody>\n",
       "    <tr>\n",
       "      <td>1</td>\n",
       "      <td>0.405700</td>\n",
       "      <td>0.374074</td>\n",
       "      <td>0.817527</td>\n",
       "      <td>0.853945</td>\n",
       "      <td>0.822267</td>\n",
       "      <td>0.853945</td>\n",
       "    </tr>\n",
       "    <tr>\n",
       "      <td>2</td>\n",
       "      <td>0.329100</td>\n",
       "      <td>0.392237</td>\n",
       "      <td>0.836547</td>\n",
       "      <td>0.855011</td>\n",
       "      <td>0.842956</td>\n",
       "      <td>0.855011</td>\n",
       "    </tr>\n",
       "    <tr>\n",
       "      <td>3</td>\n",
       "      <td>0.222700</td>\n",
       "      <td>0.502042</td>\n",
       "      <td>0.821231</td>\n",
       "      <td>0.841151</td>\n",
       "      <td>0.829034</td>\n",
       "      <td>0.841151</td>\n",
       "    </tr>\n",
       "    <tr>\n",
       "      <td>4</td>\n",
       "      <td>0.161300</td>\n",
       "      <td>0.940440</td>\n",
       "      <td>0.836698</td>\n",
       "      <td>0.829424</td>\n",
       "      <td>0.832848</td>\n",
       "      <td>0.829424</td>\n",
       "    </tr>\n",
       "  </tbody>\n",
       "</table><p>"
      ],
      "text/plain": [
       "<IPython.core.display.HTML object>"
      ]
     },
     "metadata": {},
     "output_type": "display_data"
    },
    {
     "name": "stderr",
     "output_type": "stream",
     "text": [
      "/home/sunil/.local/lib/python3.8/site-packages/torch/utils/checkpoint.py:61: UserWarning: None of the inputs have requires_grad=True. Gradients will be None\n",
      "  warnings.warn(\n",
      "/home/sunil/.local/lib/python3.8/site-packages/torch/utils/checkpoint.py:429: UserWarning: torch.utils.checkpoint: please pass in use_reentrant=True or use_reentrant=False explicitly. The default value of use_reentrant will be updated to be False in the future. To maintain current behavior, pass use_reentrant=True. It is recommended that you use use_reentrant=False. Refer to docs for more details on the differences between the two variants.\n",
      "  warnings.warn(\n",
      "/home/sunil/.local/lib/python3.8/site-packages/torch/utils/checkpoint.py:61: UserWarning: None of the inputs have requires_grad=True. Gradients will be None\n",
      "  warnings.warn(\n",
      "/home/sunil/.local/lib/python3.8/site-packages/torch/utils/checkpoint.py:429: UserWarning: torch.utils.checkpoint: please pass in use_reentrant=True or use_reentrant=False explicitly. The default value of use_reentrant will be updated to be False in the future. To maintain current behavior, pass use_reentrant=True. It is recommended that you use use_reentrant=False. Refer to docs for more details on the differences between the two variants.\n",
      "  warnings.warn(\n",
      "/home/sunil/.local/lib/python3.8/site-packages/torch/utils/checkpoint.py:61: UserWarning: None of the inputs have requires_grad=True. Gradients will be None\n",
      "  warnings.warn(\n",
      "/home/sunil/.local/lib/python3.8/site-packages/torch/utils/checkpoint.py:429: UserWarning: torch.utils.checkpoint: please pass in use_reentrant=True or use_reentrant=False explicitly. The default value of use_reentrant will be updated to be False in the future. To maintain current behavior, pass use_reentrant=True. It is recommended that you use use_reentrant=False. Refer to docs for more details on the differences between the two variants.\n",
      "  warnings.warn(\n",
      "/home/sunil/.local/lib/python3.8/site-packages/torch/utils/checkpoint.py:61: UserWarning: None of the inputs have requires_grad=True. Gradients will be None\n",
      "  warnings.warn(\n"
     ]
    }
   ],
   "source": [
    "# Start the training\n",
    "train_result = flant5_trainer.train()"
   ]
  },
  {
   "cell_type": "code",
   "execution_count": 27,
   "id": "91d2ba0c-409a-4edc-b89b-2f77cb1efef8",
   "metadata": {},
   "outputs": [
    {
     "name": "stdout",
     "output_type": "stream",
     "text": [
      "TrainOutput(global_step=2188, training_loss=0.2658248671230058, metrics={'train_runtime': 629.1803, 'train_samples_per_second': 139.038, 'train_steps_per_second': 17.388, 'total_flos': 1535734118380416.0, 'train_loss': 0.2658248671230058, 'epoch': 4.0})\n"
     ]
    }
   ],
   "source": [
    "print(train_result)"
   ]
  },
  {
   "cell_type": "code",
   "execution_count": 28,
   "id": "940abedb-f0ff-4724-b947-480bc61661f0",
   "metadata": {},
   "outputs": [
    {
     "name": "stderr",
     "output_type": "stream",
     "text": [
      "/home/sunil/.local/lib/python3.8/site-packages/torch/utils/checkpoint.py:429: UserWarning: torch.utils.checkpoint: please pass in use_reentrant=True or use_reentrant=False explicitly. The default value of use_reentrant will be updated to be False in the future. To maintain current behavior, pass use_reentrant=True. It is recommended that you use use_reentrant=False. Refer to docs for more details on the differences between the two variants.\n",
      "  warnings.warn(\n",
      "/home/sunil/.local/lib/python3.8/site-packages/torch/utils/checkpoint.py:61: UserWarning: None of the inputs have requires_grad=True. Gradients will be None\n",
      "  warnings.warn(\n"
     ]
    },
    {
     "data": {
      "text/html": [],
      "text/plain": [
       "<IPython.core.display.HTML object>"
      ]
     },
     "metadata": {},
     "output_type": "display_data"
    },
    {
     "name": "stdout",
     "output_type": "stream",
     "text": [
      "{'eval_loss': 0.9662527441978455, 'eval_precision': 0.8336122823049095, 'eval_recall': 0.8315565031982942, 'eval_f1-score': 0.83256655387658, 'eval_accuracy': 0.8315565031982942, 'eval_runtime': 5.4353, 'eval_samples_per_second': 172.577, 'eval_steps_per_second': 21.71, 'epoch': 4.0}\n"
     ]
    }
   ],
   "source": [
    "eval_result = flant5_trainer.evaluate()\n",
    "print(eval_result)"
   ]
  },
  {
   "cell_type": "markdown",
   "id": "6c289e7f-23e1-4627-b065-8804b250a8ab",
   "metadata": {},
   "source": [
    "## Analysis of Loss function and Evaluation of Trained Model"
   ]
  },
  {
   "cell_type": "code",
   "execution_count": 29,
   "id": "37e8def1-0702-4735-96f5-55b224f76fcf",
   "metadata": {},
   "outputs": [
    {
     "name": "stdout",
     "output_type": "stream",
     "text": [
      "Training Losses:  [0.4057, 0.3291, 0.2227, 0.1613]\n",
      "Validation Losses:  [0.37407374382019043, 0.3922366499900818, 0.5020418763160706, 0.9404398202896118]\n"
     ]
    }
   ],
   "source": [
    "# Access the losses\n",
    "training_losses = loss_tracker_callback.training_losses\n",
    "validation_losses = loss_tracker_callback.validation_losses\n",
    "\n",
    "print(\"Training Losses: \", training_losses)\n",
    "print(\"Validation Losses: \", validation_losses)"
   ]
  },
  {
   "cell_type": "code",
   "execution_count": 30,
   "id": "59be4e71-d278-4afa-88a7-625f2ad392e5",
   "metadata": {},
   "outputs": [
    {
     "name": "stdout",
     "output_type": "stream",
     "text": [
      "4\n",
      "4\n"
     ]
    }
   ],
   "source": [
    "print(len(training_losses ))\n",
    "print(len(validation_losses ))"
   ]
  },
  {
   "cell_type": "code",
   "execution_count": 31,
   "id": "b6424dac-82aa-43c9-8836-443628826a47",
   "metadata": {},
   "outputs": [
    {
     "data": {
      "image/png": "[encoded data removed]",
      "text/plain": [
       "<Figure size 1000x600 with 1 Axes>"
      ]
     },
     "metadata": {},
     "output_type": "display_data"
    }
   ],
   "source": [
    "import matplotlib.pyplot as plt\n",
    "epochs = range(1, len(training_losses) + 1)\n",
    "plt.figure(figsize=(10, 6))\n",
    "plt.plot(epochs, training_losses, label='Training Loss')\n",
    "plt.plot(epochs, validation_losses, label='Validation Loss')\n",
    "plt.xlabel('Epochs')\n",
    "plt.ylabel('Loss')\n",
    "plt.title('Training and Validation Losses')\n",
    "plt.legend()\n",
    "plt.grid(True)\n",
    "plt.show()"
   ]
  },
  {
   "cell_type": "markdown",
   "id": "a44f862a-415e-4001-9b2b-7037511aa851",
   "metadata": {},
   "source": [
    "## Model Evaluation on Validation Datasets"
   ]
  },
  {
   "cell_type": "code",
   "execution_count": 32,
   "id": "46b1be67-94f2-4286-aa77-3131d04691af",
   "metadata": {},
   "outputs": [
    {
     "name": "stderr",
     "output_type": "stream",
     "text": [
      "/home/sunil/.local/lib/python3.8/site-packages/torch/utils/checkpoint.py:429: UserWarning: torch.utils.checkpoint: please pass in use_reentrant=True or use_reentrant=False explicitly. The default value of use_reentrant will be updated to be False in the future. To maintain current behavior, pass use_reentrant=True. It is recommended that you use use_reentrant=False. Refer to docs for more details on the differences between the two variants.\n",
      "  warnings.warn(\n",
      "/home/sunil/.local/lib/python3.8/site-packages/torch/utils/checkpoint.py:61: UserWarning: None of the inputs have requires_grad=True. Gradients will be None\n",
      "  warnings.warn(\n"
     ]
    }
   ],
   "source": [
    "# Perform prediction on the test dataset\n",
    "predictions = flant5_trainer.predict(flant5_tokenized_val_dataset)\n",
    "\n",
    "# Check the format of predictions\n",
    "#print(predictions)\n",
    "\n",
    "# Extract predicted labels\n",
    "predicted_labels = np.argmax(predictions.predictions[0], axis=1)\n",
    "\n",
    "# Extract original test data\n",
    "test_data = pd.read_csv('HSP_Val_Data_with_Encoded_Label_Bin_3.0.csv')\n",
    "\n",
    "# Add predicted labels to the test data\n",
    "test_data['Predicted_Label'] = predicted_labels\n",
    "\n",
    "# Save the dataframe to a new CSV file\n",
    "test_data.to_csv('HSP_Val_Data_with_Encoded_Label_Bin_3.0_with_predictions.csv', index=False)"
   ]
  },
  {
   "cell_type": "code",
   "execution_count": 33,
   "id": "211dedb4-3f0a-4c7d-9038-7dcd7822e12d",
   "metadata": {},
   "outputs": [
    {
     "data": {
      "text/html": [
       "<div>\n",
       "<style scoped>\n",
       "    .dataframe tbody tr th:only-of-type {\n",
       "        vertical-align: middle;\n",
       "    }\n",
       "\n",
       "    .dataframe tbody tr th {\n",
       "        vertical-align: top;\n",
       "    }\n",
       "\n",
       "    .dataframe thead th {\n",
       "        text-align: right;\n",
       "    }\n",
       "</style>\n",
       "<table border=\"1\" class=\"dataframe\">\n",
       "  <thead>\n",
       "    <tr style=\"text-align: right;\">\n",
       "      <th></th>\n",
       "      <th>id</th>\n",
       "      <th>Text</th>\n",
       "      <th>Label_Id</th>\n",
       "      <th>Label</th>\n",
       "      <th>Label_Rev</th>\n",
       "      <th>Predicted_Label</th>\n",
       "    </tr>\n",
       "  </thead>\n",
       "  <tbody>\n",
       "    <tr>\n",
       "      <th>0</th>\n",
       "      <td>2441</td>\n",
       "      <td>it makes me really mad that everyone says Scor...</td>\n",
       "      <td>1</td>\n",
       "      <td>Non_Hate</td>\n",
       "      <td>0</td>\n",
       "      <td>0</td>\n",
       "    </tr>\n",
       "    <tr>\n",
       "      <th>1</th>\n",
       "      <td>2948</td>\n",
       "      <td>Imagine invalidating an entire shows main char...</td>\n",
       "      <td>1</td>\n",
       "      <td>Non_Hate</td>\n",
       "      <td>0</td>\n",
       "      <td>0</td>\n",
       "    </tr>\n",
       "    <tr>\n",
       "      <th>2</th>\n",
       "      <td>5486</td>\n",
       "      <td>What do you prefer?  #Longboard or #Surfboard ...</td>\n",
       "      <td>1</td>\n",
       "      <td>Non_Hate</td>\n",
       "      <td>0</td>\n",
       "      <td>0</td>\n",
       "    </tr>\n",
       "    <tr>\n",
       "      <th>3</th>\n",
       "      <td>6132</td>\n",
       "      <td>'s account is temporarily unavailable because ...</td>\n",
       "      <td>1</td>\n",
       "      <td>Non_Hate</td>\n",
       "      <td>0</td>\n",
       "      <td>0</td>\n",
       "    </tr>\n",
       "    <tr>\n",
       "      <th>4</th>\n",
       "      <td>1643</td>\n",
       "      <td>I mean id be a lesbian if I saw some of y'all ...</td>\n",
       "      <td>1</td>\n",
       "      <td>Non_Hate</td>\n",
       "      <td>0</td>\n",
       "      <td>0</td>\n",
       "    </tr>\n",
       "  </tbody>\n",
       "</table>\n",
       "</div>"
      ],
      "text/plain": [
       "     id                                               Text  Label_Id  \\\n",
       "0  2441  it makes me really mad that everyone says Scor...         1   \n",
       "1  2948  Imagine invalidating an entire shows main char...         1   \n",
       "2  5486  What do you prefer?  #Longboard or #Surfboard ...         1   \n",
       "3  6132  's account is temporarily unavailable because ...         1   \n",
       "4  1643  I mean id be a lesbian if I saw some of y'all ...         1   \n",
       "\n",
       "      Label  Label_Rev  Predicted_Label  \n",
       "0  Non_Hate          0                0  \n",
       "1  Non_Hate          0                0  \n",
       "2  Non_Hate          0                0  \n",
       "3  Non_Hate          0                0  \n",
       "4  Non_Hate          0                0  "
      ]
     },
     "execution_count": 33,
     "metadata": {},
     "output_type": "execute_result"
    }
   ],
   "source": [
    "df = pd.read_csv('HSP_Val_Data_with_Encoded_Label_Bin_3.0_with_predictions.csv')\n",
    "df.head()"
   ]
  },
  {
   "cell_type": "code",
   "execution_count": 35,
   "id": "d1964741-0e5e-4bcd-89f6-6bd4b872c990",
   "metadata": {},
   "outputs": [
    {
     "data": {
      "image/png": "[encoded data removed]",
      "text/plain": [
       "<Figure size 600x400 with 2 Axes>"
      ]
     },
     "metadata": {},
     "output_type": "display_data"
    }
   ],
   "source": [
    "import pandas as pd\n",
    "import numpy as np\n",
    "import matplotlib.pyplot as plt\n",
    "import seaborn as sns\n",
    "from sklearn.metrics import confusion_matrix\n",
    "from sklearn.metrics import accuracy_score, classification_report\n",
    "\n",
    "# Load the CSV file containing text data\n",
    "df = pd.read_csv(\"HSP_Val_Data_with_Encoded_Label_Bin_3.0_with_predictions.csv\")\n",
    "\n",
    "label_mapping = {0: \"Non_Hate\", 1: \"Hate\"}\n",
    "\n",
    "# Generate the confusion matrix\n",
    "confusion = confusion_matrix(df[\"Label_Rev\"], df[\"Predicted_Label\"])\n",
    "\n",
    "# Create a heatmap of the confusion matrix with class labels\n",
    "plt.figure(figsize=(6, 4))\n",
    "sns.set(font_scale=1.2)\n",
    "ax = sns.heatmap(confusion, annot=True, fmt=\"d\", cmap=\"Blues\", xticklabels=label_mapping.values(), yticklabels=label_mapping.values(),\n",
    "                 linewidths=.5, linecolor='black', cbar_kws={'drawedges': True})  # Add cbar_kws parameter\n",
    "\n",
    "# Add explicit border lines\n",
    "ax.add_artist(plt.Line2D([0, len(label_mapping)], [len(label_mapping), len(label_mapping)], color='black', linewidth=2))\n",
    "ax.add_artist(plt.Line2D([len(label_mapping), len(label_mapping)], [0, len(label_mapping)], color='black', linewidth=2))\n",
    "\n",
    "plt.xlabel('Predicted Labels')\n",
    "plt.ylabel('True Labels')\n",
    "plt.title('Confusion Matrix')\n",
    "plt.show()"
   ]
  },
  {
   "cell_type": "code",
   "execution_count": 36,
   "id": "b4b9e116-f2eb-471c-bedb-d708eb1986a1",
   "metadata": {},
   "outputs": [
    {
     "name": "stdout",
     "output_type": "stream",
     "text": [
      "Classification Report:\n",
      "               precision    recall  f1-score   support\n",
      "\n",
      "    Non_Hate       0.90      0.89      0.90       802\n",
      "        Hate       0.39      0.40      0.39       136\n",
      "\n",
      "    accuracy                           0.82       938\n",
      "   macro avg       0.64      0.65      0.64       938\n",
      "weighted avg       0.82      0.82      0.82       938\n",
      "\n"
     ]
    }
   ],
   "source": [
    "# Generate the classification report\n",
    "classification_rep = classification_report(df[\"Label_Rev\"], df[\"Predicted_Label\"], target_names=list(label_mapping.values()))\n",
    "print(\"Classification Report:\\n\", classification_rep)"
   ]
  },
  {
   "cell_type": "markdown",
   "id": "1982d017-c2cb-455d-a468-a8923dc05667",
   "metadata": {},
   "source": [
    "## Model Evaluation on Test Datasets"
   ]
  },
  {
   "cell_type": "code",
   "execution_count": 37,
   "id": "35944ad2-70fd-4f76-a092-1a731441e6fe",
   "metadata": {},
   "outputs": [
    {
     "name": "stderr",
     "output_type": "stream",
     "text": [
      "/home/sunil/.local/lib/python3.8/site-packages/torch/utils/checkpoint.py:429: UserWarning: torch.utils.checkpoint: please pass in use_reentrant=True or use_reentrant=False explicitly. The default value of use_reentrant will be updated to be False in the future. To maintain current behavior, pass use_reentrant=True. It is recommended that you use use_reentrant=False. Refer to docs for more details on the differences between the two variants.\n",
      "  warnings.warn(\n",
      "/home/sunil/.local/lib/python3.8/site-packages/torch/utils/checkpoint.py:61: UserWarning: None of the inputs have requires_grad=True. Gradients will be None\n",
      "  warnings.warn(\n"
     ]
    },
    {
     "data": {
      "text/html": [],
      "text/plain": [
       "<IPython.core.display.HTML object>"
      ]
     },
     "metadata": {},
     "output_type": "display_data"
    }
   ],
   "source": [
    "# Perform prediction on the test dataset\n",
    "predictions = flant5_trainer.predict(flant5_tokenized_test_dataset)\n",
    "\n",
    "# Check the format of predictions\n",
    "#print(predictions)\n",
    "\n",
    "# Extract predicted labels\n",
    "predicted_labels = np.argmax(predictions.predictions[0], axis=1)\n",
    "\n",
    "# Extract original test data\n",
    "test_data = pd.read_csv('HSP_Test_Data_with_Encoded_Label_Bin_3.0.csv')\n",
    "\n",
    "# Add predicted labels to the test data\n",
    "test_data['Predicted_Label'] = predicted_labels\n",
    "\n",
    "# Save the dataframe to a new CSV file\n",
    "test_data.to_csv('HSP_Test_Data_with_Encoded_Label_Bin_3.0_with_predictions.csv', index=False)"
   ]
  },
  {
   "cell_type": "code",
   "execution_count": 38,
   "id": "6185f021-b71d-42a0-b467-6dd58d37253b",
   "metadata": {},
   "outputs": [
    {
     "data": {
      "text/html": [
       "<div>\n",
       "<style scoped>\n",
       "    .dataframe tbody tr th:only-of-type {\n",
       "        vertical-align: middle;\n",
       "    }\n",
       "\n",
       "    .dataframe tbody tr th {\n",
       "        vertical-align: top;\n",
       "    }\n",
       "\n",
       "    .dataframe thead th {\n",
       "        text-align: right;\n",
       "    }\n",
       "</style>\n",
       "<table border=\"1\" class=\"dataframe\">\n",
       "  <thead>\n",
       "    <tr style=\"text-align: right;\">\n",
       "      <th></th>\n",
       "      <th>id</th>\n",
       "      <th>Text</th>\n",
       "      <th>Label_Id</th>\n",
       "      <th>Label</th>\n",
       "      <th>Label_Rev</th>\n",
       "      <th>Predicted_Label</th>\n",
       "    </tr>\n",
       "  </thead>\n",
       "  <tbody>\n",
       "    <tr>\n",
       "      <th>0</th>\n",
       "      <td>5256</td>\n",
       "      <td>when I was like 15 my group of friends called ...</td>\n",
       "      <td>2</td>\n",
       "      <td>Hate</td>\n",
       "      <td>1</td>\n",
       "      <td>0</td>\n",
       "    </tr>\n",
       "    <tr>\n",
       "      <th>1</th>\n",
       "      <td>1214</td>\n",
       "      <td>idk sometimes the shitty identity policing com...</td>\n",
       "      <td>1</td>\n",
       "      <td>Non_Hate</td>\n",
       "      <td>0</td>\n",
       "      <td>0</td>\n",
       "    </tr>\n",
       "    <tr>\n",
       "      <th>2</th>\n",
       "      <td>3417</td>\n",
       "      <td>9-11 means shit to me. If that bothers you, un...</td>\n",
       "      <td>1</td>\n",
       "      <td>Non_Hate</td>\n",
       "      <td>0</td>\n",
       "      <td>0</td>\n",
       "    </tr>\n",
       "    <tr>\n",
       "      <th>3</th>\n",
       "      <td>361</td>\n",
       "      <td>last night the dude at the security desk asked...</td>\n",
       "      <td>1</td>\n",
       "      <td>Non_Hate</td>\n",
       "      <td>0</td>\n",
       "      <td>0</td>\n",
       "    </tr>\n",
       "    <tr>\n",
       "      <th>4</th>\n",
       "      <td>150</td>\n",
       "      <td>it’s snowing rn.. wow gaylord that is so on brand</td>\n",
       "      <td>1</td>\n",
       "      <td>Non_Hate</td>\n",
       "      <td>0</td>\n",
       "      <td>0</td>\n",
       "    </tr>\n",
       "  </tbody>\n",
       "</table>\n",
       "</div>"
      ],
      "text/plain": [
       "     id                                               Text  Label_Id  \\\n",
       "0  5256  when I was like 15 my group of friends called ...         2   \n",
       "1  1214  idk sometimes the shitty identity policing com...         1   \n",
       "2  3417  9-11 means shit to me. If that bothers you, un...         1   \n",
       "3   361  last night the dude at the security desk asked...         1   \n",
       "4   150  it’s snowing rn.. wow gaylord that is so on brand         1   \n",
       "\n",
       "      Label  Label_Rev  Predicted_Label  \n",
       "0      Hate          1                0  \n",
       "1  Non_Hate          0                0  \n",
       "2  Non_Hate          0                0  \n",
       "3  Non_Hate          0                0  \n",
       "4  Non_Hate          0                0  "
      ]
     },
     "execution_count": 38,
     "metadata": {},
     "output_type": "execute_result"
    }
   ],
   "source": [
    "df = pd.read_csv('HSP_Test_Data_with_Encoded_Label_Bin_3.0_with_predictions.csv')\n",
    "df.head()"
   ]
  },
  {
   "cell_type": "code",
   "execution_count": 40,
   "id": "f19a892c-76b8-448c-8d4d-11aef3693587",
   "metadata": {},
   "outputs": [
    {
     "data": {
      "image/png": "[encoded data removed]",
      "text/plain": [
       "<Figure size 600x400 with 2 Axes>"
      ]
     },
     "metadata": {},
     "output_type": "display_data"
    }
   ],
   "source": [
    "import pandas as pd\n",
    "import numpy as np\n",
    "import matplotlib.pyplot as plt\n",
    "import seaborn as sns\n",
    "from sklearn.metrics import confusion_matrix\n",
    "from sklearn.metrics import accuracy_score, classification_report\n",
    "\n",
    "# Load the CSV file containing text data\n",
    "df = pd.read_csv(\"HSP_Test_Data_with_Encoded_Label_Bin_3.0_with_predictions.csv\")\n",
    "\n",
    "label_mapping = {0: \"Non_Hate\", 1: \"Hate\"}\n",
    "\n",
    "# Generate the confusion matrix\n",
    "confusion = confusion_matrix(df[\"Label_Rev\"], df[\"Predicted_Label\"])\n",
    "\n",
    "# Create a heatmap of the confusion matrix with class labels\n",
    "plt.figure(figsize=(6, 4))\n",
    "sns.set(font_scale=1.2)\n",
    "ax = sns.heatmap(confusion, annot=True, fmt=\"d\", cmap=\"Blues\", xticklabels=label_mapping.values(), yticklabels=label_mapping.values(),\n",
    "                 linewidths=.5, linecolor='black', cbar_kws={'drawedges': True})  # Add cbar_kws parameter\n",
    "\n",
    "# Add explicit border lines\n",
    "ax.add_artist(plt.Line2D([0, len(label_mapping)], [len(label_mapping), len(label_mapping)], color='black', linewidth=2))\n",
    "ax.add_artist(plt.Line2D([len(label_mapping), len(label_mapping)], [0, len(label_mapping)], color='black', linewidth=2))\n",
    "\n",
    "plt.xlabel('Predicted Labels')\n",
    "plt.ylabel('True Labels')\n",
    "plt.title('Confusion Matrix')\n",
    "plt.show()"
   ]
  },
  {
   "cell_type": "code",
   "execution_count": 41,
   "id": "0a7218e4-1bdb-4e28-b392-be7c3aaa9529",
   "metadata": {},
   "outputs": [
    {
     "name": "stdout",
     "output_type": "stream",
     "text": [
      "Classification Report:\n",
      "               precision    recall  f1-score   support\n",
      "\n",
      "    Non_Hate       0.90      0.91      0.91       802\n",
      "        Hate       0.45      0.43      0.44       136\n",
      "\n",
      "    accuracy                           0.84       938\n",
      "   macro avg       0.68      0.67      0.67       938\n",
      "weighted avg       0.84      0.84      0.84       938\n",
      "\n"
     ]
    }
   ],
   "source": [
    "# Generate the classification report\n",
    "classification_rep = classification_report(df[\"Label_Rev\"], df[\"Predicted_Label\"], target_names=list(label_mapping.values()))\n",
    "print(\"Classification Report:\\n\", classification_rep)"
   ]
  },
  {
   "cell_type": "markdown",
   "id": "5d6f24c7-8c43-4f83-b835-677d542d8763",
   "metadata": {},
   "source": [
    "## General Inferencing"
   ]
  },
  {
   "cell_type": "code",
   "execution_count": 42,
   "id": "5923935c-3a3a-4d6b-b998-7540e4df9895",
   "metadata": {},
   "outputs": [],
   "source": [
    "import torch\n",
    "from torch.nn.functional import softmax\n",
    "\n",
    "def prepare_input(text):\n",
    "    inputs = flant5_tokenizer(text, return_tensors=\"pt\", padding=True, truncation=True, max_length=512)\n",
    "    return {key: tensor.to(flant5_model.device) for key, tensor in inputs.items()}\n",
    "\n",
    "def predict(text):\n",
    "    flant5_model.eval()  # Ensure the model is in evaluation mode\n",
    "    inputs = prepare_input(text)\n",
    "    with torch.no_grad():  # No need to track gradients for inference\n",
    "        outputs = flant5_model(**inputs)\n",
    "        predictions = softmax(outputs.logits, dim=-1)\n",
    "    return predictions\n"
   ]
  },
  {
   "cell_type": "code",
   "execution_count": 43,
   "id": "1d3866ff-25e9-4e68-bfec-fcc03765735d",
   "metadata": {},
   "outputs": [
    {
     "name": "stdout",
     "output_type": "stream",
     "text": [
      "Predicted class index: 0\n"
     ]
    }
   ],
   "source": [
    "# Example usage\n",
    "text = \"India is My Country\"\n",
    "predictions = predict(text)\n",
    "predicted_class_index = predictions.argmax(dim=1).item()\n",
    "print(f\"Predicted class index: {predicted_class_index}\")"
   ]
  },
  {
   "cell_type": "code",
   "execution_count": 44,
   "id": "5500a05f-a7f3-4c60-bda9-0e67d608e717",
   "metadata": {},
   "outputs": [
    {
     "name": "stdout",
     "output_type": "stream",
     "text": [
      "Predicted class index: 1\n"
     ]
    }
   ],
   "source": [
    "# Example usage\n",
    "text = \"I hate you, You are worst gay.\"\n",
    "predictions = predict(text)\n",
    "predicted_class_index = predictions.argmax(dim=1).item()\n",
    "print(f\"Predicted class index: {predicted_class_index}\")"
   ]
  },
  {
   "cell_type": "code",
   "execution_count": 45,
   "id": "36735b25-c8d4-4973-81dc-488f690971a8",
   "metadata": {},
   "outputs": [
    {
     "name": "stdout",
     "output_type": "stream",
     "text": [
      "Predicted class index: 0\n"
     ]
    }
   ],
   "source": [
    "# Example usage\n",
    "text = \"LGBTQ+ people are also human, Give respect to save humanity.\"\n",
    "predictions = predict(text)\n",
    "predicted_class_index = predictions.argmax(dim=1).item()\n",
    "print(f\"Predicted class index: {predicted_class_index}\")"
   ]
  },
  {
   "cell_type": "code",
   "execution_count": null,
   "id": "1963b4ff-01c7-403d-aaed-11cce79d1c28",
   "metadata": {},
   "outputs": [],
   "source": []
  }
 ],
 "metadata": {
  "kernelspec": {
   "display_name": "Python 3 (ipykernel)",
   "language": "python",
   "name": "python3"
  },
  "language_info": {
   "codemirror_mode": {
    "name": "ipython",
    "version": 3
   },
   "file_extension": ".py",
   "mimetype": "text/x-python",
   "name": "python",
   "nbconvert_exporter": "python",
   "pygments_lexer": "ipython3",
   "version": "3.8.10"
  }
 },
 "nbformat": 4,
 "nbformat_minor": 5
}
