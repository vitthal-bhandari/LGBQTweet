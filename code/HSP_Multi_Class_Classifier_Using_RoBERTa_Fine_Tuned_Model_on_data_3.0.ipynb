{
 "cells": [
  {
   "cell_type": "markdown",
   "id": "18a31106-32c5-454e-8771-62ee29b329f9",
   "metadata": {},
   "source": [
    "## Set up Environment"
   ]
  },
  {
   "cell_type": "raw",
   "id": "901fe262-956a-4c57-a07c-bbbf79f6f6d0",
   "metadata": {},
   "source": [
    "Note: Before start the notebook pls execute below two coomand on terminal \n",
    "export CUDA_VISIBLE_DEVICES=0\n",
    "export CUDA_LAUNCH_BLOCKING=1"
   ]
  },
  {
   "cell_type": "raw",
   "id": "ed1e7a18-3695-48a0-a4a5-c4aa5cd32a3b",
   "metadata": {},
   "source": [
    "!pip install evaluate==0.4.0\n",
    "!pip install peft==0.5.0\n",
    "!pip install scikit-learn==1.3.1\n",
    "!pip install torch==2.1.0\n",
    "!pip install wandb==0.15.12\n",
    "!pip install git+https://github.com/huggingface/transformers.git@21dc5859421cf0d7d82d374b10f533611745a8c5"
   ]
  },
  {
   "cell_type": "raw",
   "id": "99e865c1-7aff-42b0-a9f9-5abcdc947071",
   "metadata": {},
   "source": [
    "!pip install --upgrade huggingface_hub datasets transformers"
   ]
  },
  {
   "cell_type": "code",
   "execution_count": 1,
   "id": "e5194e6f-8f16-429c-a600-528e98308bf5",
   "metadata": {},
   "outputs": [
    {
     "name": "stderr",
     "output_type": "stream",
     "text": [
      "\u001b[34m\u001b[1mwandb\u001b[0m: Currently logged in as: \u001b[33myadav-sunil531984\u001b[0m (\u001b[33mhsp_bits\u001b[0m). Use \u001b[1m`wandb login --relogin`\u001b[0m to force relogin\n"
     ]
    },
    {
     "data": {
      "text/html": [
       "wandb version 0.17.0 is available!  To upgrade, please run:\n",
       " $ pip install wandb --upgrade"
      ],
      "text/plain": [
       "<IPython.core.display.HTML object>"
      ]
     },
     "metadata": {},
     "output_type": "display_data"
    },
    {
     "data": {
      "text/html": [
       "Tracking run with wandb version 0.15.12"
      ],
      "text/plain": [
       "<IPython.core.display.HTML object>"
      ]
     },
     "metadata": {},
     "output_type": "display_data"
    },
    {
     "data": {
      "text/html": [
       "Run data is saved locally in <code>/home/sunil/Hate_Speech_Project/RoBERTa/wandb/run-20240524_161928-372n6nli</code>"
      ],
      "text/plain": [
       "<IPython.core.display.HTML object>"
      ]
     },
     "metadata": {},
     "output_type": "display_data"
    },
    {
     "data": {
      "text/html": [
       "Syncing run <strong><a href='https://wandb.ai/hsp_bits/uncategorized/runs/372n6nli' target=\"_blank\">golden-wave-135</a></strong> to <a href='https://wandb.ai/hsp_bits/uncategorized' target=\"_blank\">Weights & Biases</a> (<a href='https://wandb.me/run' target=\"_blank\">docs</a>)<br/>"
      ],
      "text/plain": [
       "<IPython.core.display.HTML object>"
      ]
     },
     "metadata": {},
     "output_type": "display_data"
    },
    {
     "data": {
      "text/html": [
       " View project at <a href='https://wandb.ai/hsp_bits/uncategorized' target=\"_blank\">https://wandb.ai/hsp_bits/uncategorized</a>"
      ],
      "text/plain": [
       "<IPython.core.display.HTML object>"
      ]
     },
     "metadata": {},
     "output_type": "display_data"
    },
    {
     "data": {
      "text/html": [
       " View run at <a href='https://wandb.ai/hsp_bits/uncategorized/runs/372n6nli' target=\"_blank\">https://wandb.ai/hsp_bits/uncategorized/runs/372n6nli</a>"
      ],
      "text/plain": [
       "<IPython.core.display.HTML object>"
      ]
     },
     "metadata": {},
     "output_type": "display_data"
    },
    {
     "name": "stderr",
     "output_type": "stream",
     "text": [
      "\u001b[34m\u001b[1mwandb\u001b[0m: \u001b[33mWARNING\u001b[0m Calling wandb.login() after wandb.init() has no effect.\n"
     ]
    },
    {
     "data": {
      "text/plain": [
       "True"
      ]
     },
     "execution_count": 1,
     "metadata": {},
     "output_type": "execute_result"
    }
   ],
   "source": [
    "import wandb\n",
    "wandb.init('19010c4e439d59bec411f7f9075c6e73ac7f5e13')    # Initialize wandb with your API key\n",
    "wandb.login() "
   ]
  },
  {
   "cell_type": "code",
   "execution_count": 2,
   "id": "a11860c0-2dd8-4ad9-8881-b11570ae88ca",
   "metadata": {},
   "outputs": [],
   "source": [
    "import os\n",
    "os.environ['WANDB_NOTEBOOK_NAME'] = 'HSP_Multi_Class_Classifier_Using_RoBERTa_Fine_Tuned_Model_on_data_3.0-Copy1.ipynb'\n",
    "os.environ['CUDA_VISIBLE_DEVICES'] = '0'"
   ]
  },
  {
   "cell_type": "code",
   "execution_count": 3,
   "id": "20715cbe-d403-4b5d-a26e-232ae79aa659",
   "metadata": {},
   "outputs": [
    {
     "name": "stdout",
     "output_type": "stream",
     "text": [
      "Fri May 24 16:19:32 2024       \n",
      "+---------------------------------------------------------------------------------------+\n",
      "| NVIDIA-SMI 535.171.04             Driver Version: 535.171.04   CUDA Version: 12.2     |\n",
      "|-----------------------------------------+----------------------+----------------------+\n",
      "| GPU  Name                 Persistence-M | Bus-Id        Disp.A | Volatile Uncorr. ECC |\n",
      "| Fan  Temp   Perf          Pwr:Usage/Cap |         Memory-Usage | GPU-Util  Compute M. |\n",
      "|                                         |                      |               MIG M. |\n",
      "|=========================================+======================+======================|\n",
      "|   0  NVIDIA A100 80GB PCIe          Off | 00000000:21:00.0 Off |                    0 |\n",
      "| N/A   63C    P0             310W / 300W |  59190MiB / 81920MiB |     96%      Default |\n",
      "|                                         |                      |             Disabled |\n",
      "+-----------------------------------------+----------------------+----------------------+\n",
      "|   1  NVIDIA A100 80GB PCIe          Off | 00000000:81:00.0 Off |                    0 |\n",
      "| N/A   64C    P0             296W / 300W |  60434MiB / 81920MiB |    100%      Default |\n",
      "|                                         |                      |             Disabled |\n",
      "+-----------------------------------------+----------------------+----------------------+\n",
      "                                                                                         \n",
      "+---------------------------------------------------------------------------------------+\n",
      "| Processes:                                                                            |\n",
      "|  GPU   GI   CI        PID   Type   Process name                            GPU Memory |\n",
      "|        ID   ID                                                             Usage      |\n",
      "|=======================================================================================|\n",
      "|    0   N/A  N/A   1269395      C   /usr/bin/python3                          29630MiB |\n",
      "|    0   N/A  N/A   3004886      C   /usr/bin/python3                          29546MiB |\n",
      "|    1   N/A  N/A   4181436      C   python                                    30210MiB |\n",
      "|    1   N/A  N/A   4185003      C   python                                    30210MiB |\n",
      "+---------------------------------------------------------------------------------------+\n"
     ]
    }
   ],
   "source": [
    "!nvidia-smi"
   ]
  },
  {
   "cell_type": "markdown",
   "id": "55258412-b94f-466d-844a-db1555d0f08e",
   "metadata": {},
   "source": [
    "## Import the Labraries"
   ]
  },
  {
   "cell_type": "code",
   "execution_count": 4,
   "id": "728d59ad-d6b5-4f0e-b340-14d3008ea34d",
   "metadata": {},
   "outputs": [
    {
     "name": "stderr",
     "output_type": "stream",
     "text": [
      "2024-05-24 16:19:36.208928: I tensorflow/core/platform/cpu_feature_guard.cc:182] This TensorFlow binary is optimized to use available CPU instructions in performance-critical operations.\n",
      "To enable the following instructions: AVX2 FMA, in other operations, rebuild TensorFlow with the appropriate compiler flags.\n",
      "2024-05-24 16:19:37.091416: W tensorflow/compiler/tf2tensorrt/utils/py_utils.cc:38] TF-TRT Warning: Could not find TensorRT\n"
     ]
    }
   ],
   "source": [
    "import pandas as pd\n",
    "import torch\n",
    "from transformers import AutoTokenizer\n",
    "from datasets import load_dataset\n",
    "from transformers import DataCollatorWithPadding\n",
    "from transformers import AutoModelForSequenceClassification \n",
    "import evaluate\n",
    "import numpy as np\n",
    "from transformers import Trainer\n",
    "from transformers import TrainingArguments\n",
    "from peft import get_peft_model, LoraConfig, TaskType\n",
    "from transformers import AutoModelForSequenceClassification, AutoTokenizer\n",
    "import matplotlib.pyplot as plt"
   ]
  },
  {
   "cell_type": "markdown",
   "id": "24ce9d66-fd2e-4cac-abde-854c35a44a55",
   "metadata": {},
   "source": [
    "## Load Data sets"
   ]
  },
  {
   "cell_type": "code",
   "execution_count": 5,
   "id": "f052dacb-bd5e-4b9d-8781-512478841422",
   "metadata": {},
   "outputs": [
    {
     "name": "stdout",
     "output_type": "stream",
     "text": [
      "Total Count of Samples =  4374\n"
     ]
    },
    {
     "data": {
      "image/png": "[encoded data removed]",
      "text/plain": [
       "<Figure size 600x400 with 1 Axes>"
      ]
     },
     "metadata": {},
     "output_type": "display_data"
    }
   ],
   "source": [
    "# Visualization of Class Labels Taining data\n",
    "train_df=pd.read_csv('HSP_Train_Data_with_Encoded_Label_Multi_3.0.csv')\n",
    "\n",
    "print(\"Total Count of Samples = \", len(train_df))\n",
    "label_counts = train_df['Label'].value_counts()\n",
    "\n",
    "# Updated colors list to include 6 colors for 6 classes\n",
    "colors = ['red', 'maroon', 'blue', 'green', 'orange', 'purple']\n",
    "\n",
    "plt.figure(figsize=(6, 4))\n",
    "ax = label_counts.plot(kind='bar', color=colors)\n",
    "for p in ax.patches:\n",
    "    ax.annotate(str(p.get_height()), (p.get_x() + p.get_width() / 2., p.get_height()),\n",
    "                ha='center', va='center', xytext=(0, 5), textcoords='offset points')\n",
    "\n",
    "plt.title('Distribution of Train set Label Categories')\n",
    "plt.xlabel('Labels')\n",
    "plt.ylabel('Count')\n",
    "plt.show()"
   ]
  },
  {
   "cell_type": "code",
   "execution_count": 6,
   "id": "698a91c1-3658-4264-bb71-2a6b7c2f4091",
   "metadata": {},
   "outputs": [
    {
     "name": "stdout",
     "output_type": "stream",
     "text": [
      "Total Count of Samples =  938\n"
     ]
    },
    {
     "data": {
      "image/png": "[encoded data removed]",
      "text/plain": [
       "<Figure size 600x400 with 1 Axes>"
      ]
     },
     "metadata": {},
     "output_type": "display_data"
    }
   ],
   "source": [
    "# Visualization of Class Labels Validation data\n",
    "val_df=pd.read_csv('HSP_Val_Data_with_Encoded_Label_Multi_3.0.csv')\n",
    "\n",
    "print(\"Total Count of Samples = \", len(val_df))\n",
    "label_counts = val_df['Label'].value_counts()\n",
    "\n",
    "# Updated colors list to include 6 colors for 6 classes\n",
    "colors = ['red', 'maroon', 'blue', 'green', 'orange', 'purple']\n",
    "\n",
    "plt.figure(figsize=(6, 4))\n",
    "ax = label_counts.plot(kind='bar', color=colors)\n",
    "for p in ax.patches:\n",
    "    ax.annotate(str(p.get_height()), (p.get_x() + p.get_width() / 2., p.get_height()),\n",
    "                ha='center', va='center', xytext=(0, 5), textcoords='offset points')\n",
    "\n",
    "plt.title('Distribution of Train set Label Categories')\n",
    "plt.xlabel('Labels')\n",
    "plt.ylabel('Count')\n",
    "plt.show()"
   ]
  },
  {
   "cell_type": "code",
   "execution_count": 7,
   "id": "33687c92-add2-4a9f-b519-3ba60fb73bb3",
   "metadata": {},
   "outputs": [
    {
     "name": "stdout",
     "output_type": "stream",
     "text": [
      "Total Count of Samples =  938\n"
     ]
    },
    {
     "data": {
      "image/png": "[encoded data removed]",
      "text/plain": [
       "<Figure size 600x400 with 1 Axes>"
      ]
     },
     "metadata": {},
     "output_type": "display_data"
    }
   ],
   "source": [
    "# Visualization of Class Labels Taining data\n",
    "test_df=pd.read_csv('HSP_Test_Data_with_Encoded_Label_Multi_3.0.csv')\n",
    "\n",
    "print(\"Total Count of Samples = \", len(test_df))\n",
    "label_counts = test_df['Label'].value_counts()\n",
    "\n",
    "# Updated colors list to include 6 colors for 6 classes\n",
    "colors = ['red', 'maroon', 'blue', 'green', 'orange', 'purple']\n",
    "\n",
    "plt.figure(figsize=(6, 4))\n",
    "ax = label_counts.plot(kind='bar', color=colors)\n",
    "for p in ax.patches:\n",
    "    ax.annotate(str(p.get_height()), (p.get_x() + p.get_width() / 2., p.get_height()),\n",
    "                ha='center', va='center', xytext=(0, 5), textcoords='offset points')\n",
    "\n",
    "plt.title('Distribution of Train set Label Categories')\n",
    "plt.xlabel('Labels')\n",
    "plt.ylabel('Count')\n",
    "plt.show()"
   ]
  },
  {
   "cell_type": "code",
   "execution_count": 8,
   "id": "fb9661bd-1425-48df-94f7-000ad641bf6f",
   "metadata": {},
   "outputs": [
    {
     "name": "stdout",
     "output_type": "stream",
     "text": [
      "<class 'pandas.core.frame.DataFrame'>\n",
      "RangeIndex: 4374 entries, 0 to 4373\n",
      "Data columns (total 5 columns):\n",
      " #   Column     Non-Null Count  Dtype \n",
      "---  ------     --------------  ----- \n",
      " 0   id         4374 non-null   int64 \n",
      " 1   Text       4374 non-null   object\n",
      " 2   Label_Id   4374 non-null   int64 \n",
      " 3   Label      4374 non-null   object\n",
      " 4   Label_Rev  4374 non-null   int64 \n",
      "dtypes: int64(3), object(2)\n",
      "memory usage: 171.0+ KB\n"
     ]
    }
   ],
   "source": [
    "train_df=pd.read_csv('HSP_Train_Data_with_Encoded_Label_Multi_3.0.csv')\n",
    "train_df.info()"
   ]
  },
  {
   "cell_type": "code",
   "execution_count": 9,
   "id": "53ca1c6d-219c-44de-afe2-b78b9c994c84",
   "metadata": {},
   "outputs": [
    {
     "data": {
      "text/plain": [
       "array([0, 2, 1, 3, 4])"
      ]
     },
     "execution_count": 9,
     "metadata": {},
     "output_type": "execute_result"
    }
   ],
   "source": [
    "unique_values = train_df['Label_Rev'].unique()\n",
    "unique_values "
   ]
  },
  {
   "cell_type": "markdown",
   "id": "7727198c-2d2d-432b-8fea-c53b95dbc02a",
   "metadata": {},
   "source": [
    "## Number of Characters"
   ]
  },
  {
   "cell_type": "code",
   "execution_count": 10,
   "id": "2315c766-7d27-4f27-bab1-13d290417d92",
   "metadata": {},
   "outputs": [
    {
     "name": "stdout",
     "output_type": "stream",
     "text": [
      "Maximum number of characters: 1116\n",
      "Maximum number of words: 97\n"
     ]
    }
   ],
   "source": [
    "# Number of Characters\n",
    "import pandas as pd\n",
    "\n",
    "# Load the training data from the CSV file\n",
    "train_df = pd.read_csv('HSP_Train_Data_with_Encoded_Label_Multi_3.0.csv')\n",
    "\n",
    "# Calculate the maximum number of characters in the 'text' column\n",
    "max_char = train_df['Text'].str.len().max()\n",
    "\n",
    "# Calculate the maximum number of words in the 'text' column\n",
    "max_words = train_df['Text'].str.split().str.len().max()\n",
    "\n",
    "print(f\"Maximum number of characters: {max_char}\")\n",
    "print(f\"Maximum number of words: {max_words}\")\n"
   ]
  },
  {
   "cell_type": "markdown",
   "id": "dcdd6e70-eea3-4bef-9dcc-13da935db6c2",
   "metadata": {},
   "source": [
    "## Preprocess Data for Training"
   ]
  },
  {
   "cell_type": "code",
   "execution_count": 11,
   "id": "d1ba46d8-baf4-465d-a0f0-af29b259d338",
   "metadata": {},
   "outputs": [],
   "source": [
    "MAX_LEN = 512 \n",
    "roberta_checkpoint = \"roberta-large\""
   ]
  },
  {
   "cell_type": "code",
   "execution_count": 12,
   "id": "5634708f-bbc4-46ea-9033-0ddd33b396fd",
   "metadata": {},
   "outputs": [],
   "source": [
    "# Load the tokenizer:\n",
    "roberta_tokenizer = AutoTokenizer.from_pretrained(roberta_checkpoint, add_prefix_space=True)"
   ]
  },
  {
   "cell_type": "code",
   "execution_count": 13,
   "id": "b4452df6-cef4-4bd2-851a-61cbb8cc6fae",
   "metadata": {},
   "outputs": [
    {
     "data": {
      "text/plain": [
       "{'label': tensor(0),\n",
       " 'input_ids': tensor([    0,    38,   323,     5, 22240,   435,     4,     2]),\n",
       " 'attention_mask': tensor([1, 1, 1, 1, 1, 1, 1, 1])}"
      ]
     },
     "execution_count": 13,
     "metadata": {},
     "output_type": "execute_result"
    }
   ],
   "source": [
    "from datasets import load_dataset\n",
    "from transformers import DataCollatorWithPadding\n",
    "\n",
    "# Assuming mistral_tokenizer and MAX_LEN are defined earlier\n",
    "def roberta_preprocessing_function(examples):\n",
    "    return roberta_tokenizer(examples['Text'], truncation=True, max_length=MAX_LEN)\n",
    "\n",
    "# Load each dataset file\n",
    "train_dataset = load_dataset('csv', data_files='HSP_Train_Data_with_Encoded_Label_Multi_3.0.csv')['train']\n",
    "val_dataset = load_dataset('csv', data_files='HSP_Val_Data_with_Encoded_Label_Multi_3.0.csv')['train']  # Assuming dev_data is for validation\n",
    "test_dataset = load_dataset('csv', data_files='HSP_Test_Data_with_Encoded_Label_Multi_3.0.csv')['train']\n",
    "\n",
    "# Define the columns to be removed\n",
    "col_to_delete = ['id', 'Text', 'Label_Id', 'Label']\n",
    "\n",
    "# Apply preprocessing to each dataset separately\n",
    "roberta_tokenized_train_dataset = train_dataset.map(roberta_preprocessing_function, batched=True, remove_columns=col_to_delete)\n",
    "roberta_tokenized_val_dataset = val_dataset.map(roberta_preprocessing_function, batched=True, remove_columns=col_to_delete)\n",
    "roberta_tokenized_test_dataset = test_dataset.map(roberta_preprocessing_function, batched=True, remove_columns=col_to_delete)\n",
    "\n",
    "# Rename the 'target' column to 'label' in each dataset\n",
    "roberta_tokenized_train_dataset = roberta_tokenized_train_dataset.rename_column(\"Label_Rev\", \"label\")\n",
    "roberta_tokenized_val_dataset = roberta_tokenized_val_dataset.rename_column(\"Label_Rev\", \"label\")\n",
    "roberta_tokenized_test_dataset = roberta_tokenized_test_dataset.rename_column(\"Label_Rev\", \"label\")\n",
    "\n",
    "# Set format to 'torch' for all datasets\n",
    "roberta_tokenized_train_dataset.set_format(\"torch\")\n",
    "roberta_tokenized_val_dataset.set_format(\"torch\")\n",
    "roberta_tokenized_test_dataset.set_format(\"torch\")\n",
    "\n",
    "# Data collator for padding a batch of examples to the maximum length seen in the batch\n",
    "# Data collator for padding a batch of examples to the maximum length seen in the batch\n",
    "roberta_data_collator = DataCollatorWithPadding(tokenizer=roberta_tokenizer)\n",
    "roberta_tokenized_train_dataset[0]"
   ]
  },
  {
   "cell_type": "markdown",
   "id": "9db8fe61-f064-4144-9c24-e7a2147077b0",
   "metadata": {},
   "source": [
    "## Load Pretrain Model"
   ]
  },
  {
   "cell_type": "code",
   "execution_count": 14,
   "id": "f17b9a90-9e53-4541-abf7-7c69946d80d2",
   "metadata": {},
   "outputs": [
    {
     "name": "stderr",
     "output_type": "stream",
     "text": [
      "Some weights of RobertaForSequenceClassification were not initialized from the model checkpoint at roberta-large and are newly initialized: ['classifier.dense.bias', 'classifier.dense.weight', 'classifier.out_proj.bias', 'classifier.out_proj.weight']\n",
      "You should probably TRAIN this model on a down-stream task to be able to use it for predictions and inference.\n"
     ]
    }
   ],
   "source": [
    "from transformers import AutoModelForSequenceClassification \n",
    "roberta_model = AutoModelForSequenceClassification.from_pretrained(roberta_checkpoint, num_labels=5)"
   ]
  },
  {
   "cell_type": "markdown",
   "id": "00330d47-a088-41e2-9787-2adde58d75ba",
   "metadata": {},
   "source": [
    "## LoRa setup for RoBERta classifier"
   ]
  },
  {
   "cell_type": "code",
   "execution_count": 15,
   "id": "26c0fc7e-169a-458f-98c5-de562b5293fb",
   "metadata": {},
   "outputs": [
    {
     "name": "stdout",
     "output_type": "stream",
     "text": [
      "trainable params: 2,502,666 || all params: 356,812,810 || trainable%: 0.7013946612510913\n"
     ]
    }
   ],
   "source": [
    "from peft import get_peft_model, LoraConfig, TaskType\n",
    "\n",
    "roberta_peft_config = LoraConfig(\n",
    "    task_type=TaskType.SEQ_CLS, r=4, lora_alpha=16, lora_dropout=0.1, bias=\"none\",\n",
    ")\n",
    "roberta_model = get_peft_model(roberta_model, roberta_peft_config)\n",
    "roberta_model.print_trainable_parameters()"
   ]
  },
  {
   "cell_type": "markdown",
   "id": "af477280-10fd-4f5a-bbe4-9b4a9da7aadf",
   "metadata": {},
   "source": [
    "## Setup the trainer"
   ]
  },
  {
   "cell_type": "markdown",
   "id": "56d9f4d2-1554-4092-bb31-25a68f1fa003",
   "metadata": {},
   "source": [
    "### Evaluation Metric"
   ]
  },
  {
   "cell_type": "code",
   "execution_count": 16,
   "id": "6abd4b26-d65a-4904-9bf1-974f01e8ee39",
   "metadata": {},
   "outputs": [],
   "source": [
    "from sklearn.metrics import precision_score, recall_score, f1_score, accuracy_score\n",
    "\n",
    "def compute_metrics(eval_pred):\n",
    "    logits, labels = eval_pred\n",
    "    predictions = np.argmax(logits, axis=-1)\n",
    "    \n",
    "    # Calculate metrics using 'weighted' average for multi-class classification\n",
    "    precision = precision_score(labels, predictions, average='weighted')\n",
    "    recall = recall_score(labels, predictions, average='weighted')\n",
    "    f1 = f1_score(labels, predictions, average='weighted')\n",
    "    accuracy = accuracy_score(labels, predictions)\n",
    "    \n",
    "    return {\n",
    "        \"precision\": precision,\n",
    "        \"recall\": recall,\n",
    "        \"f1-score\": f1,\n",
    "        \"accuracy\": accuracy\n",
    "    }\n"
   ]
  },
  {
   "cell_type": "markdown",
   "id": "db63934c-36af-4403-8f36-4c548303b1fc",
   "metadata": {},
   "source": [
    "### Custom Trainer for Loss"
   ]
  },
  {
   "cell_type": "code",
   "execution_count": 17,
   "id": "9ba4749d-3f3b-45ac-b917-08271d7f0aef",
   "metadata": {},
   "outputs": [],
   "source": [
    " #loss_fct = torch.nn.CrossEntropyLoss()"
   ]
  },
  {
   "cell_type": "code",
   "execution_count": 18,
   "id": "f0e5b827-b7e2-4428-a138-4aa8d23327c1",
   "metadata": {},
   "outputs": [],
   "source": [
    "class CELossTrainer(Trainer):\n",
    "    def compute_loss(self, model, inputs, return_outputs=False):\n",
    "        labels = inputs.pop(\"labels\")\n",
    "        # Get model's predictions\n",
    "        outputs = model(**inputs)\n",
    "        logits = outputs.get(\"logits\")\n",
    "        # Compute custom loss\n",
    "        #loss_fct = torch.nn.CrossEntropyLoss(weight=torch.tensor([very_pos_weights, pos_weights, neutral_weights, neg_weights, very_neg_weights, ambiguous_weights], device=model.device, dtype=logits.dtype))\n",
    "        loss_fct = torch.nn.CrossEntropyLoss()\n",
    "        loss = loss_fct(logits.view(-1, self.model.config.num_labels), labels.view(-1))\n",
    "        return (loss, outputs) if return_outputs else loss"
   ]
  },
  {
   "cell_type": "markdown",
   "id": "835930ea-c840-4bd7-9b49-58f86794da20",
   "metadata": {},
   "source": [
    "### Custom Callback to Store Losses Once per Epoch"
   ]
  },
  {
   "cell_type": "code",
   "execution_count": 19,
   "id": "c8b0f529-040c-4b12-96b2-ddc00302a969",
   "metadata": {},
   "outputs": [],
   "source": [
    "from transformers import TrainerCallback, TrainerState, TrainerControl\n",
    "\n",
    "class LossTrackerCallback(TrainerCallback):\n",
    "    def __init__(self):\n",
    "        self.training_losses = []\n",
    "        self.validation_losses = []\n",
    "        self.epoch = 0\n",
    "\n",
    "    def on_epoch_end(self, args, state: TrainerState, control: TrainerControl, **kwargs):\n",
    "        # Append the most recent training loss to the list\n",
    "        for log in reversed(state.log_history):\n",
    "            if 'loss' in log:\n",
    "                self.training_losses.append(log['loss'])\n",
    "                break  # Ensure we only add one training loss per epoch\n",
    "\n",
    "    def on_evaluate(self, args, state: TrainerState, control: TrainerControl, **kwargs):\n",
    "        if len(self.training_losses) > len(self.validation_losses):\n",
    "            # Append the most recent validation loss to the list\n",
    "            for log in reversed(state.log_history):\n",
    "                if 'eval_loss' in log:\n",
    "                    self.validation_losses.append(log['eval_loss'])\n",
    "                    break  # Ensure we only add one validation loss per epoch"
   ]
  },
  {
   "cell_type": "code",
   "execution_count": 20,
   "id": "38312789-ab8a-45ff-957e-b319b78a1227",
   "metadata": {},
   "outputs": [],
   "source": [
    "loss_tracker_callback = LossTrackerCallback()"
   ]
  },
  {
   "cell_type": "markdown",
   "id": "aa002ee2-a265-4577-a1a2-a9fcddec427d",
   "metadata": {},
   "source": [
    "### Early Stopping Criteria"
   ]
  },
  {
   "cell_type": "code",
   "execution_count": 21,
   "id": "74ff82b1-dad8-4b50-91fd-1ef75a099265",
   "metadata": {},
   "outputs": [],
   "source": [
    "from transformers import EarlyStoppingCallback\n",
    "early_stopping_callback = EarlyStoppingCallback(early_stopping_patience=3)"
   ]
  },
  {
   "cell_type": "markdown",
   "id": "f23c3655-16d3-4981-80a7-3dc161767802",
   "metadata": {},
   "source": [
    "### Trainer setup"
   ]
  },
  {
   "cell_type": "code",
   "execution_count": 22,
   "id": "a1673707-6fad-4eec-a323-95dfac9bc5bf",
   "metadata": {},
   "outputs": [],
   "source": [
    "from transformers import TrainingArguments, Trainer\n",
    "\n",
    "lr = 1e-4\n",
    "batch_size = 8\n",
    "num_epochs = 15\n",
    "\n",
    "training_args = TrainingArguments(\n",
    "    output_dir=\"roberta-large-lora-token-classification\",\n",
    "    learning_rate=lr,\n",
    "    lr_scheduler_type= \"constant\",\n",
    "    warmup_ratio= 0.1,\n",
    "    max_grad_norm= 0.3,\n",
    "    per_device_train_batch_size=batch_size,\n",
    "    per_device_eval_batch_size=batch_size,\n",
    "    num_train_epochs=num_epochs,\n",
    "    weight_decay=0.001,\n",
    "    evaluation_strategy=\"epoch\",\n",
    "    save_strategy=\"epoch\",\n",
    "    load_best_model_at_end=True,\n",
    "    report_to=\"wandb\",\n",
    "    fp16=False,\n",
    "    gradient_checkpointing=True,\n",
    ")"
   ]
  },
  {
   "cell_type": "code",
   "execution_count": 23,
   "id": "c0d86449-847c-4b09-ab22-16157ab7d4e0",
   "metadata": {},
   "outputs": [
    {
     "name": "stderr",
     "output_type": "stream",
     "text": [
      "Detected kernel version 5.4.0, which is below the recommended minimum of 5.5.0; this can cause the process to hang. It is recommended to upgrade the kernel to the minimum version or higher.\n"
     ]
    }
   ],
   "source": [
    "roberta_trainer = CELossTrainer(\n",
    "    model=roberta_model,\n",
    "    args=training_args,\n",
    "    train_dataset=roberta_tokenized_train_dataset,\n",
    "    eval_dataset=roberta_tokenized_val_dataset,\n",
    "    data_collator=roberta_data_collator,\n",
    "    compute_metrics=compute_metrics,\n",
    "    callbacks=[loss_tracker_callback, early_stopping_callback]\n",
    ")"
   ]
  },
  {
   "cell_type": "markdown",
   "id": "c1004686-4397-4a44-81d4-5179ec448a17",
   "metadata": {},
   "source": [
    "## Training"
   ]
  },
  {
   "cell_type": "code",
   "execution_count": 24,
   "id": "007ec32c-b673-450f-b0a6-1ad8f3a54a5c",
   "metadata": {},
   "outputs": [
    {
     "name": "stderr",
     "output_type": "stream",
     "text": [
      "/home/sunil/.local/lib/python3.8/site-packages/torch/utils/checkpoint.py:429: UserWarning: torch.utils.checkpoint: please pass in use_reentrant=True or use_reentrant=False explicitly. The default value of use_reentrant will be updated to be False in the future. To maintain current behavior, pass use_reentrant=True. It is recommended that you use use_reentrant=False. Refer to docs for more details on the differences between the two variants.\n",
      "  warnings.warn(\n",
      "/home/sunil/.local/lib/python3.8/site-packages/torch/utils/checkpoint.py:61: UserWarning: None of the inputs have requires_grad=True. Gradients will be None\n",
      "  warnings.warn(\n"
     ]
    },
    {
     "data": {
      "text/html": [
       "\n",
       "    <div>\n",
       "      \n",
       "      <progress value='8205' max='8205' style='width:300px; height:20px; vertical-align: middle;'></progress>\n",
       "      [8205/8205 14:26, Epoch 15/15]\n",
       "    </div>\n",
       "    <table border=\"1\" class=\"dataframe\">\n",
       "  <thead>\n",
       " <tr style=\"text-align: left;\">\n",
       "      <th>Epoch</th>\n",
       "      <th>Training Loss</th>\n",
       "      <th>Validation Loss</th>\n",
       "      <th>Precision</th>\n",
       "      <th>Recall</th>\n",
       "      <th>F1-score</th>\n",
       "      <th>Accuracy</th>\n",
       "    </tr>\n",
       "  </thead>\n",
       "  <tbody>\n",
       "    <tr>\n",
       "      <td>1</td>\n",
       "      <td>1.204700</td>\n",
       "      <td>1.164975</td>\n",
       "      <td>0.421489</td>\n",
       "      <td>0.503198</td>\n",
       "      <td>0.351046</td>\n",
       "      <td>0.503198</td>\n",
       "    </tr>\n",
       "    <tr>\n",
       "      <td>2</td>\n",
       "      <td>1.161300</td>\n",
       "      <td>1.133265</td>\n",
       "      <td>0.402154</td>\n",
       "      <td>0.511727</td>\n",
       "      <td>0.435972</td>\n",
       "      <td>0.511727</td>\n",
       "    </tr>\n",
       "    <tr>\n",
       "      <td>3</td>\n",
       "      <td>1.136500</td>\n",
       "      <td>1.130763</td>\n",
       "      <td>0.421139</td>\n",
       "      <td>0.527719</td>\n",
       "      <td>0.465780</td>\n",
       "      <td>0.527719</td>\n",
       "    </tr>\n",
       "    <tr>\n",
       "      <td>4</td>\n",
       "      <td>1.137400</td>\n",
       "      <td>1.127035</td>\n",
       "      <td>0.418525</td>\n",
       "      <td>0.526652</td>\n",
       "      <td>0.444076</td>\n",
       "      <td>0.526652</td>\n",
       "    </tr>\n",
       "    <tr>\n",
       "      <td>5</td>\n",
       "      <td>1.114600</td>\n",
       "      <td>1.115148</td>\n",
       "      <td>0.421734</td>\n",
       "      <td>0.527719</td>\n",
       "      <td>0.466126</td>\n",
       "      <td>0.527719</td>\n",
       "    </tr>\n",
       "    <tr>\n",
       "      <td>6</td>\n",
       "      <td>1.112500</td>\n",
       "      <td>1.085066</td>\n",
       "      <td>0.424181</td>\n",
       "      <td>0.530917</td>\n",
       "      <td>0.439546</td>\n",
       "      <td>0.530917</td>\n",
       "    </tr>\n",
       "    <tr>\n",
       "      <td>7</td>\n",
       "      <td>1.083400</td>\n",
       "      <td>1.120713</td>\n",
       "      <td>0.416671</td>\n",
       "      <td>0.500000</td>\n",
       "      <td>0.450614</td>\n",
       "      <td>0.500000</td>\n",
       "    </tr>\n",
       "    <tr>\n",
       "      <td>8</td>\n",
       "      <td>1.081400</td>\n",
       "      <td>1.072201</td>\n",
       "      <td>0.418494</td>\n",
       "      <td>0.525586</td>\n",
       "      <td>0.430699</td>\n",
       "      <td>0.525586</td>\n",
       "    </tr>\n",
       "    <tr>\n",
       "      <td>9</td>\n",
       "      <td>1.073400</td>\n",
       "      <td>1.061237</td>\n",
       "      <td>0.476171</td>\n",
       "      <td>0.540512</td>\n",
       "      <td>0.469373</td>\n",
       "      <td>0.540512</td>\n",
       "    </tr>\n",
       "    <tr>\n",
       "      <td>10</td>\n",
       "      <td>1.082900</td>\n",
       "      <td>1.054900</td>\n",
       "      <td>0.549702</td>\n",
       "      <td>0.549041</td>\n",
       "      <td>0.481942</td>\n",
       "      <td>0.549041</td>\n",
       "    </tr>\n",
       "    <tr>\n",
       "      <td>11</td>\n",
       "      <td>1.076300</td>\n",
       "      <td>1.059400</td>\n",
       "      <td>0.453025</td>\n",
       "      <td>0.514925</td>\n",
       "      <td>0.397427</td>\n",
       "      <td>0.514925</td>\n",
       "    </tr>\n",
       "    <tr>\n",
       "      <td>12</td>\n",
       "      <td>1.068200</td>\n",
       "      <td>1.061166</td>\n",
       "      <td>0.432175</td>\n",
       "      <td>0.537313</td>\n",
       "      <td>0.449428</td>\n",
       "      <td>0.537313</td>\n",
       "    </tr>\n",
       "    <tr>\n",
       "      <td>13</td>\n",
       "      <td>1.056400</td>\n",
       "      <td>1.048522</td>\n",
       "      <td>0.488058</td>\n",
       "      <td>0.552239</td>\n",
       "      <td>0.480750</td>\n",
       "      <td>0.552239</td>\n",
       "    </tr>\n",
       "    <tr>\n",
       "      <td>14</td>\n",
       "      <td>1.056300</td>\n",
       "      <td>1.068557</td>\n",
       "      <td>0.531798</td>\n",
       "      <td>0.524520</td>\n",
       "      <td>0.476606</td>\n",
       "      <td>0.524520</td>\n",
       "    </tr>\n",
       "    <tr>\n",
       "      <td>15</td>\n",
       "      <td>1.045100</td>\n",
       "      <td>1.054864</td>\n",
       "      <td>0.421085</td>\n",
       "      <td>0.529851</td>\n",
       "      <td>0.439819</td>\n",
       "      <td>0.529851</td>\n",
       "    </tr>\n",
       "  </tbody>\n",
       "</table><p>"
      ],
      "text/plain": [
       "<IPython.core.display.HTML object>"
      ]
     },
     "metadata": {},
     "output_type": "display_data"
    },
    {
     "name": "stderr",
     "output_type": "stream",
     "text": [
      "/home/sunil/.local/lib/python3.8/site-packages/sklearn/metrics/_classification.py:1469: UndefinedMetricWarning: Precision is ill-defined and being set to 0.0 in labels with no predicted samples. Use `zero_division` parameter to control this behavior.\n",
      "  _warn_prf(average, modifier, msg_start, len(result))\n",
      "/home/sunil/.local/lib/python3.8/site-packages/torch/utils/checkpoint.py:429: UserWarning: torch.utils.checkpoint: please pass in use_reentrant=True or use_reentrant=False explicitly. The default value of use_reentrant will be updated to be False in the future. To maintain current behavior, pass use_reentrant=True. It is recommended that you use use_reentrant=False. Refer to docs for more details on the differences between the two variants.\n",
      "  warnings.warn(\n",
      "/home/sunil/.local/lib/python3.8/site-packages/torch/utils/checkpoint.py:61: UserWarning: None of the inputs have requires_grad=True. Gradients will be None\n",
      "  warnings.warn(\n",
      "/home/sunil/.local/lib/python3.8/site-packages/sklearn/metrics/_classification.py:1469: UndefinedMetricWarning: Precision is ill-defined and being set to 0.0 in labels with no predicted samples. Use `zero_division` parameter to control this behavior.\n",
      "  _warn_prf(average, modifier, msg_start, len(result))\n",
      "/home/sunil/.local/lib/python3.8/site-packages/torch/utils/checkpoint.py:429: UserWarning: torch.utils.checkpoint: please pass in use_reentrant=True or use_reentrant=False explicitly. The default value of use_reentrant will be updated to be False in the future. To maintain current behavior, pass use_reentrant=True. It is recommended that you use use_reentrant=False. Refer to docs for more details on the differences between the two variants.\n",
      "  warnings.warn(\n",
      "/home/sunil/.local/lib/python3.8/site-packages/torch/utils/checkpoint.py:61: UserWarning: None of the inputs have requires_grad=True. Gradients will be None\n",
      "  warnings.warn(\n",
      "/home/sunil/.local/lib/python3.8/site-packages/sklearn/metrics/_classification.py:1469: UndefinedMetricWarning: Precision is ill-defined and being set to 0.0 in labels with no predicted samples. Use `zero_division` parameter to control this behavior.\n",
      "  _warn_prf(average, modifier, msg_start, len(result))\n",
      "/home/sunil/.local/lib/python3.8/site-packages/torch/utils/checkpoint.py:429: UserWarning: torch.utils.checkpoint: please pass in use_reentrant=True or use_reentrant=False explicitly. The default value of use_reentrant will be updated to be False in the future. To maintain current behavior, pass use_reentrant=True. It is recommended that you use use_reentrant=False. Refer to docs for more details on the differences between the two variants.\n",
      "  warnings.warn(\n",
      "/home/sunil/.local/lib/python3.8/site-packages/torch/utils/checkpoint.py:61: UserWarning: None of the inputs have requires_grad=True. Gradients will be None\n",
      "  warnings.warn(\n",
      "/home/sunil/.local/lib/python3.8/site-packages/sklearn/metrics/_classification.py:1469: UndefinedMetricWarning: Precision is ill-defined and being set to 0.0 in labels with no predicted samples. Use `zero_division` parameter to control this behavior.\n",
      "  _warn_prf(average, modifier, msg_start, len(result))\n",
      "/home/sunil/.local/lib/python3.8/site-packages/torch/utils/checkpoint.py:429: UserWarning: torch.utils.checkpoint: please pass in use_reentrant=True or use_reentrant=False explicitly. The default value of use_reentrant will be updated to be False in the future. To maintain current behavior, pass use_reentrant=True. It is recommended that you use use_reentrant=False. Refer to docs for more details on the differences between the two variants.\n",
      "  warnings.warn(\n",
      "/home/sunil/.local/lib/python3.8/site-packages/torch/utils/checkpoint.py:61: UserWarning: None of the inputs have requires_grad=True. Gradients will be None\n",
      "  warnings.warn(\n",
      "/home/sunil/.local/lib/python3.8/site-packages/sklearn/metrics/_classification.py:1469: UndefinedMetricWarning: Precision is ill-defined and being set to 0.0 in labels with no predicted samples. Use `zero_division` parameter to control this behavior.\n",
      "  _warn_prf(average, modifier, msg_start, len(result))\n",
      "/home/sunil/.local/lib/python3.8/site-packages/torch/utils/checkpoint.py:429: UserWarning: torch.utils.checkpoint: please pass in use_reentrant=True or use_reentrant=False explicitly. The default value of use_reentrant will be updated to be False in the future. To maintain current behavior, pass use_reentrant=True. It is recommended that you use use_reentrant=False. Refer to docs for more details on the differences between the two variants.\n",
      "  warnings.warn(\n",
      "/home/sunil/.local/lib/python3.8/site-packages/torch/utils/checkpoint.py:61: UserWarning: None of the inputs have requires_grad=True. Gradients will be None\n",
      "  warnings.warn(\n",
      "/home/sunil/.local/lib/python3.8/site-packages/sklearn/metrics/_classification.py:1469: UndefinedMetricWarning: Precision is ill-defined and being set to 0.0 in labels with no predicted samples. Use `zero_division` parameter to control this behavior.\n",
      "  _warn_prf(average, modifier, msg_start, len(result))\n",
      "/home/sunil/.local/lib/python3.8/site-packages/torch/utils/checkpoint.py:429: UserWarning: torch.utils.checkpoint: please pass in use_reentrant=True or use_reentrant=False explicitly. The default value of use_reentrant will be updated to be False in the future. To maintain current behavior, pass use_reentrant=True. It is recommended that you use use_reentrant=False. Refer to docs for more details on the differences between the two variants.\n",
      "  warnings.warn(\n",
      "/home/sunil/.local/lib/python3.8/site-packages/torch/utils/checkpoint.py:61: UserWarning: None of the inputs have requires_grad=True. Gradients will be None\n",
      "  warnings.warn(\n",
      "/home/sunil/.local/lib/python3.8/site-packages/sklearn/metrics/_classification.py:1469: UndefinedMetricWarning: Precision is ill-defined and being set to 0.0 in labels with no predicted samples. Use `zero_division` parameter to control this behavior.\n",
      "  _warn_prf(average, modifier, msg_start, len(result))\n",
      "/home/sunil/.local/lib/python3.8/site-packages/torch/utils/checkpoint.py:429: UserWarning: torch.utils.checkpoint: please pass in use_reentrant=True or use_reentrant=False explicitly. The default value of use_reentrant will be updated to be False in the future. To maintain current behavior, pass use_reentrant=True. It is recommended that you use use_reentrant=False. Refer to docs for more details on the differences between the two variants.\n",
      "  warnings.warn(\n",
      "/home/sunil/.local/lib/python3.8/site-packages/torch/utils/checkpoint.py:61: UserWarning: None of the inputs have requires_grad=True. Gradients will be None\n",
      "  warnings.warn(\n",
      "/home/sunil/.local/lib/python3.8/site-packages/sklearn/metrics/_classification.py:1469: UndefinedMetricWarning: Precision is ill-defined and being set to 0.0 in labels with no predicted samples. Use `zero_division` parameter to control this behavior.\n",
      "  _warn_prf(average, modifier, msg_start, len(result))\n",
      "/home/sunil/.local/lib/python3.8/site-packages/torch/utils/checkpoint.py:429: UserWarning: torch.utils.checkpoint: please pass in use_reentrant=True or use_reentrant=False explicitly. The default value of use_reentrant will be updated to be False in the future. To maintain current behavior, pass use_reentrant=True. It is recommended that you use use_reentrant=False. Refer to docs for more details on the differences between the two variants.\n",
      "  warnings.warn(\n",
      "/home/sunil/.local/lib/python3.8/site-packages/torch/utils/checkpoint.py:61: UserWarning: None of the inputs have requires_grad=True. Gradients will be None\n",
      "  warnings.warn(\n",
      "/home/sunil/.local/lib/python3.8/site-packages/sklearn/metrics/_classification.py:1469: UndefinedMetricWarning: Precision is ill-defined and being set to 0.0 in labels with no predicted samples. Use `zero_division` parameter to control this behavior.\n",
      "  _warn_prf(average, modifier, msg_start, len(result))\n",
      "/home/sunil/.local/lib/python3.8/site-packages/torch/utils/checkpoint.py:429: UserWarning: torch.utils.checkpoint: please pass in use_reentrant=True or use_reentrant=False explicitly. The default value of use_reentrant will be updated to be False in the future. To maintain current behavior, pass use_reentrant=True. It is recommended that you use use_reentrant=False. Refer to docs for more details on the differences between the two variants.\n",
      "  warnings.warn(\n",
      "/home/sunil/.local/lib/python3.8/site-packages/torch/utils/checkpoint.py:61: UserWarning: None of the inputs have requires_grad=True. Gradients will be None\n",
      "  warnings.warn(\n",
      "/home/sunil/.local/lib/python3.8/site-packages/sklearn/metrics/_classification.py:1469: UndefinedMetricWarning: Precision is ill-defined and being set to 0.0 in labels with no predicted samples. Use `zero_division` parameter to control this behavior.\n",
      "  _warn_prf(average, modifier, msg_start, len(result))\n",
      "/home/sunil/.local/lib/python3.8/site-packages/torch/utils/checkpoint.py:429: UserWarning: torch.utils.checkpoint: please pass in use_reentrant=True or use_reentrant=False explicitly. The default value of use_reentrant will be updated to be False in the future. To maintain current behavior, pass use_reentrant=True. It is recommended that you use use_reentrant=False. Refer to docs for more details on the differences between the two variants.\n",
      "  warnings.warn(\n",
      "/home/sunil/.local/lib/python3.8/site-packages/torch/utils/checkpoint.py:61: UserWarning: None of the inputs have requires_grad=True. Gradients will be None\n",
      "  warnings.warn(\n",
      "/home/sunil/.local/lib/python3.8/site-packages/sklearn/metrics/_classification.py:1469: UndefinedMetricWarning: Precision is ill-defined and being set to 0.0 in labels with no predicted samples. Use `zero_division` parameter to control this behavior.\n",
      "  _warn_prf(average, modifier, msg_start, len(result))\n",
      "/home/sunil/.local/lib/python3.8/site-packages/torch/utils/checkpoint.py:429: UserWarning: torch.utils.checkpoint: please pass in use_reentrant=True or use_reentrant=False explicitly. The default value of use_reentrant will be updated to be False in the future. To maintain current behavior, pass use_reentrant=True. It is recommended that you use use_reentrant=False. Refer to docs for more details on the differences between the two variants.\n",
      "  warnings.warn(\n",
      "/home/sunil/.local/lib/python3.8/site-packages/torch/utils/checkpoint.py:61: UserWarning: None of the inputs have requires_grad=True. Gradients will be None\n",
      "  warnings.warn(\n",
      "/home/sunil/.local/lib/python3.8/site-packages/sklearn/metrics/_classification.py:1469: UndefinedMetricWarning: Precision is ill-defined and being set to 0.0 in labels with no predicted samples. Use `zero_division` parameter to control this behavior.\n",
      "  _warn_prf(average, modifier, msg_start, len(result))\n",
      "/home/sunil/.local/lib/python3.8/site-packages/torch/utils/checkpoint.py:429: UserWarning: torch.utils.checkpoint: please pass in use_reentrant=True or use_reentrant=False explicitly. The default value of use_reentrant will be updated to be False in the future. To maintain current behavior, pass use_reentrant=True. It is recommended that you use use_reentrant=False. Refer to docs for more details on the differences between the two variants.\n",
      "  warnings.warn(\n",
      "/home/sunil/.local/lib/python3.8/site-packages/torch/utils/checkpoint.py:61: UserWarning: None of the inputs have requires_grad=True. Gradients will be None\n",
      "  warnings.warn(\n",
      "/home/sunil/.local/lib/python3.8/site-packages/sklearn/metrics/_classification.py:1469: UndefinedMetricWarning: Precision is ill-defined and being set to 0.0 in labels with no predicted samples. Use `zero_division` parameter to control this behavior.\n",
      "  _warn_prf(average, modifier, msg_start, len(result))\n",
      "/home/sunil/.local/lib/python3.8/site-packages/torch/utils/checkpoint.py:429: UserWarning: torch.utils.checkpoint: please pass in use_reentrant=True or use_reentrant=False explicitly. The default value of use_reentrant will be updated to be False in the future. To maintain current behavior, pass use_reentrant=True. It is recommended that you use use_reentrant=False. Refer to docs for more details on the differences between the two variants.\n",
      "  warnings.warn(\n",
      "/home/sunil/.local/lib/python3.8/site-packages/torch/utils/checkpoint.py:61: UserWarning: None of the inputs have requires_grad=True. Gradients will be None\n",
      "  warnings.warn(\n",
      "/home/sunil/.local/lib/python3.8/site-packages/sklearn/metrics/_classification.py:1469: UndefinedMetricWarning: Precision is ill-defined and being set to 0.0 in labels with no predicted samples. Use `zero_division` parameter to control this behavior.\n",
      "  _warn_prf(average, modifier, msg_start, len(result))\n",
      "/home/sunil/.local/lib/python3.8/site-packages/torch/utils/checkpoint.py:429: UserWarning: torch.utils.checkpoint: please pass in use_reentrant=True or use_reentrant=False explicitly. The default value of use_reentrant will be updated to be False in the future. To maintain current behavior, pass use_reentrant=True. It is recommended that you use use_reentrant=False. Refer to docs for more details on the differences between the two variants.\n",
      "  warnings.warn(\n",
      "/home/sunil/.local/lib/python3.8/site-packages/torch/utils/checkpoint.py:61: UserWarning: None of the inputs have requires_grad=True. Gradients will be None\n",
      "  warnings.warn(\n",
      "/home/sunil/.local/lib/python3.8/site-packages/sklearn/metrics/_classification.py:1469: UndefinedMetricWarning: Precision is ill-defined and being set to 0.0 in labels with no predicted samples. Use `zero_division` parameter to control this behavior.\n",
      "  _warn_prf(average, modifier, msg_start, len(result))\n"
     ]
    }
   ],
   "source": [
    "# Start the training\n",
    "train_result = roberta_trainer.train()"
   ]
  },
  {
   "cell_type": "code",
   "execution_count": 25,
   "id": "5083faf8-044c-4e0c-b146-3983038c9d6b",
   "metadata": {},
   "outputs": [
    {
     "name": "stdout",
     "output_type": "stream",
     "text": [
      "TrainOutput(global_step=8205, training_loss=1.0961623931643005, metrics={'train_runtime': 866.9465, 'train_samples_per_second': 75.679, 'train_steps_per_second': 9.464, 'total_flos': 7864364463839520.0, 'train_loss': 1.0961623931643005, 'epoch': 15.0})\n",
      "The history saving thread hit an unexpected error (OperationalError('attempt to write a readonly database')).History will not be written to the database.\n"
     ]
    }
   ],
   "source": [
    "print(train_result)"
   ]
  },
  {
   "cell_type": "code",
   "execution_count": 27,
   "id": "0eebd542-b1d1-4ff1-b1da-80fc7d667470",
   "metadata": {},
   "outputs": [
    {
     "data": {
      "text/html": [
       "\n",
       "    <div>\n",
       "      \n",
       "      <progress value='118' max='118' style='width:300px; height:20px; vertical-align: middle;'></progress>\n",
       "      [118/118 00:04]\n",
       "    </div>\n",
       "    "
      ],
      "text/plain": [
       "<IPython.core.display.HTML object>"
      ]
     },
     "metadata": {},
     "output_type": "display_data"
    },
    {
     "name": "stdout",
     "output_type": "stream",
     "text": [
      "{'eval_loss': 1.0485223531723022, 'eval_precision': 0.4880584619887015, 'eval_recall': 0.5522388059701493, 'eval_f1-score': 0.48074992892433815, 'eval_accuracy': 0.5522388059701493, 'eval_runtime': 4.1874, 'eval_samples_per_second': 224.005, 'eval_steps_per_second': 28.18, 'epoch': 15.0}\n"
     ]
    },
    {
     "name": "stderr",
     "output_type": "stream",
     "text": [
      "/home/sunil/.local/lib/python3.8/site-packages/sklearn/metrics/_classification.py:1469: UndefinedMetricWarning: Precision is ill-defined and being set to 0.0 in labels with no predicted samples. Use `zero_division` parameter to control this behavior.\n",
      "  _warn_prf(average, modifier, msg_start, len(result))\n"
     ]
    }
   ],
   "source": [
    "eval_result = roberta_trainer.evaluate()\n",
    "print(eval_result)"
   ]
  },
  {
   "cell_type": "markdown",
   "id": "f55dd79f-8563-4bdb-92bc-0bbc22080023",
   "metadata": {},
   "source": [
    "### Analysis of Loss function and Evaluation of Trained Model"
   ]
  },
  {
   "cell_type": "code",
   "execution_count": 28,
   "id": "db619cd9-a754-487f-8360-ac5a2526db7d",
   "metadata": {},
   "outputs": [
    {
     "name": "stdout",
     "output_type": "stream",
     "text": [
      "Training Losses:  [1.2047, 1.1613, 1.1365, 1.1374, 1.1146, 1.1125, 1.0834, 1.0814, 1.0734, 1.0829, 1.0763, 1.0682, 1.0564, 1.0563, 1.0451]\n",
      "Validation Losses:  [1.164974570274353, 1.1332647800445557, 1.1307634115219116, 1.12703537940979, 1.1151484251022339, 1.0850657224655151, 1.1207133531570435, 1.072200894355774, 1.0612366199493408, 1.0549002885818481, 1.0594000816345215, 1.0611660480499268, 1.0485223531723022, 1.0685569047927856, 1.0548639297485352]\n"
     ]
    }
   ],
   "source": [
    "# Access the losses\n",
    "training_losses = loss_tracker_callback.training_losses\n",
    "validation_losses = loss_tracker_callback.validation_losses\n",
    "\n",
    "print(\"Training Losses: \", training_losses)\n",
    "print(\"Validation Losses: \", validation_losses)"
   ]
  },
  {
   "cell_type": "code",
   "execution_count": 29,
   "id": "5acd6f0f-2416-4fd5-8204-96cf4df9d131",
   "metadata": {},
   "outputs": [
    {
     "name": "stdout",
     "output_type": "stream",
     "text": [
      "15\n",
      "15\n"
     ]
    }
   ],
   "source": [
    "print(len(training_losses ))\n",
    "print(len(validation_losses ))"
   ]
  },
  {
   "cell_type": "code",
   "execution_count": 30,
   "id": "c336d364-986a-4fb4-bd04-c5cff3e61b36",
   "metadata": {},
   "outputs": [
    {
     "data": {
      "image/png": "[encoded data removed]",
      "text/plain": [
       "<Figure size 1000x600 with 1 Axes>"
      ]
     },
     "metadata": {},
     "output_type": "display_data"
    }
   ],
   "source": [
    "import matplotlib.pyplot as plt\n",
    "epochs = range(1, len(training_losses) + 1)\n",
    "plt.figure(figsize=(10, 6))\n",
    "plt.plot(epochs, training_losses, label='Training Loss')\n",
    "plt.plot(epochs, validation_losses, label='Validation Loss')\n",
    "plt.xlabel('Epochs')\n",
    "plt.ylabel('Loss')\n",
    "plt.title('Training and Validation Losses')\n",
    "plt.legend()\n",
    "plt.grid(True)\n",
    "plt.show()"
   ]
  },
  {
   "cell_type": "markdown",
   "id": "1e3e0625-2fcb-4091-b08c-10bad0d13441",
   "metadata": {},
   "source": [
    "## Saving Model"
   ]
  },
  {
   "cell_type": "code",
   "execution_count": 31,
   "id": "4657573c-bb53-42e7-b8ac-e2d10c7f3b48",
   "metadata": {},
   "outputs": [
    {
     "name": "stdout",
     "output_type": "stream",
     "text": [
      "/home/sunil/Hate_Speech_Project/RoBERTa\n"
     ]
    }
   ],
   "source": [
    "!pwd"
   ]
  },
  {
   "cell_type": "code",
   "execution_count": 34,
   "id": "352d251c-a80a-4426-84f9-c50a57823a53",
   "metadata": {},
   "outputs": [
    {
     "name": "stdout",
     "output_type": "stream",
     "text": [
      "Model, tokenizer, and configuration saved to /home/sunil/Hate_Speech_Project/RoBERTa/RoBERTa_multi_class_finetuned_model\n"
     ]
    }
   ],
   "source": [
    "# Assuming `model_directory` is defined and points to where you want to save your model, tokenizer, and config\n",
    "from transformers import AutoConfig\n",
    "import os\n",
    "\n",
    "# Define the directory where you want to save your model and tokenizer\n",
    "model_directory = \"/home/sunil/Hate_Speech_Project/RoBERTa/RoBERTa_multi_class_finetuned_model\"\n",
    "\n",
    "if not os.path.exists(model_directory):\n",
    "    os.makedirs(model_directory)\n",
    "\n",
    "# First, save your trained model and tokenizer\n",
    "roberta_model.save_pretrained(model_directory)\n",
    "roberta_tokenizer.save_pretrained(model_directory)\n",
    "\n",
    "# Then, save the configuration\n",
    "config = AutoConfig.from_pretrained(\"roberta-large\", num_labels=5) # Adjust as necessary\n",
    "config.save_pretrained(model_directory)\n",
    "\n",
    "print(f\"Model, tokenizer, and configuration saved to {model_directory}\")\n"
   ]
  },
  {
   "cell_type": "markdown",
   "id": "c8bd5431-938b-49a5-8fa1-01ea00a3a854",
   "metadata": {},
   "source": [
    "## Loading the Saved Model"
   ]
  },
  {
   "cell_type": "code",
   "execution_count": 35,
   "id": "66a3de82-35d6-4e0f-a5dd-472f1e4d9fd5",
   "metadata": {},
   "outputs": [
    {
     "name": "stderr",
     "output_type": "stream",
     "text": [
      "Some weights of RobertaForSequenceClassification were not initialized from the model checkpoint at roberta-large and are newly initialized: ['classifier.dense.bias', 'classifier.dense.weight', 'classifier.out_proj.bias', 'classifier.out_proj.weight']\n",
      "You should probably TRAIN this model on a down-stream task to be able to use it for predictions and inference.\n"
     ]
    }
   ],
   "source": [
    "from transformers import AutoConfig, AutoModelForSequenceClassification\n",
    "from transformers import AutoModelForSequenceClassification, AutoTokenizer\n",
    "\n",
    "# Define the directory where your saved model and tokenizer are\n",
    "model_directory = \"/home/sunil/Hate_Speech_Project/RoBERTa/RoBERTa_multi_class_finetuned_model\"\n",
    "\n",
    "# Load the configuration and set the number of labels\n",
    "config = AutoConfig.from_pretrained(model_directory, num_labels=5)\n",
    "\n",
    "# Now, load the model with the updated configuration\n",
    "model = AutoModelForSequenceClassification.from_pretrained(model_directory, config=config)\n",
    "\n",
    "# Load the tokenizer as usual\n",
    "tokenizer = AutoTokenizer.from_pretrained(model_directory)\n"
   ]
  },
  {
   "cell_type": "markdown",
   "id": "81ecd8be-1aba-4c7f-b608-f053b980618b",
   "metadata": {},
   "source": [
    "## Evaluation of Validation set"
   ]
  },
  {
   "cell_type": "code",
   "execution_count": 36,
   "id": "f1996302-7ceb-4177-bf9a-ee4e84502718",
   "metadata": {},
   "outputs": [
    {
     "name": "stdout",
     "output_type": "stream",
     "text": [
      "Predictions stored in new file: HSP_Val_Data_with_Encoded_Label_Multi_3.0_with_predictions.csv\n",
      "CPU times: user 11h 7min 23s, sys: 3min 31s, total: 11h 10min 54s\n",
      "Wall time: 14min 46s\n"
     ]
    }
   ],
   "source": [
    "%%time\n",
    "import pandas as pd\n",
    "import torch\n",
    "from torch.nn.functional import softmax\n",
    "\n",
    "# Assuming tokenizer and model are already defined and loaded\n",
    "\n",
    "def prepare_input(text):\n",
    "    inputs = tokenizer(text, return_tensors=\"pt\", padding=True, truncation=True, max_length=512)\n",
    "    return inputs\n",
    "\n",
    "def predict(text):\n",
    "    model.eval()  # Ensure the model is in evaluation mode\n",
    "    inputs = prepare_input(text)\n",
    "    with torch.no_grad():  # No need to track gradients for inference\n",
    "        outputs = model(**inputs)\n",
    "        predictions = softmax(outputs.logits, dim=-1)\n",
    "    return predictions\n",
    "\n",
    "# Function to predict and store results in a new CSV\n",
    "def predict_and_store(csv_file_path):\n",
    "    # Load the CSV file\n",
    "    df = pd.read_csv(csv_file_path)\n",
    "    \n",
    "    # Ensure there's a column for predicted labels\n",
    "    df['Predicted_Label'] = None\n",
    "    \n",
    "    # Iterate over each row in the DataFrame and make predictions\n",
    "    for index, row in df.iterrows():\n",
    "        text = row['Text']\n",
    "        predictions = predict(text)\n",
    "        predicted_class_index = predictions.argmax(dim=1).item()\n",
    "        # Store the predicted class index in the DataFrame\n",
    "        df.at[index, 'Predicted_Label'] = predicted_class_index\n",
    "    \n",
    "    # Define the name for the new CSV file that will contain the predictions\n",
    "    predicted_csv_file_path = csv_file_path.replace('.csv', '_with_predictions.csv')\n",
    "    \n",
    "    # Save the modified DataFrame to the new CSV file\n",
    "    df.to_csv(predicted_csv_file_path, index=False)\n",
    "    \n",
    "    # Log the creation of the new file with predictions\n",
    "    print(f\"Predictions stored in new file: {predicted_csv_file_path}\")\n",
    "\n",
    "# Example usage with your specific CSV file\n",
    "csv_file_path = 'HSP_Val_Data_with_Encoded_Label_Multi_3.0.csv'\n",
    "predict_and_store(csv_file_path)\n"
   ]
  },
  {
   "cell_type": "code",
   "execution_count": 37,
   "id": "b41c6497-1124-4202-be83-00387508bf1a",
   "metadata": {},
   "outputs": [
    {
     "data": {
      "text/html": [
       "<div>\n",
       "<style scoped>\n",
       "    .dataframe tbody tr th:only-of-type {\n",
       "        vertical-align: middle;\n",
       "    }\n",
       "\n",
       "    .dataframe tbody tr th {\n",
       "        vertical-align: top;\n",
       "    }\n",
       "\n",
       "    .dataframe thead th {\n",
       "        text-align: right;\n",
       "    }\n",
       "</style>\n",
       "<table border=\"1\" class=\"dataframe\">\n",
       "  <thead>\n",
       "    <tr style=\"text-align: right;\">\n",
       "      <th></th>\n",
       "      <th>id</th>\n",
       "      <th>Text</th>\n",
       "      <th>Label_Id</th>\n",
       "      <th>Label</th>\n",
       "      <th>Label_Rev</th>\n",
       "      <th>Predicted_Label</th>\n",
       "    </tr>\n",
       "  </thead>\n",
       "  <tbody>\n",
       "    <tr>\n",
       "      <th>0</th>\n",
       "      <td>3370</td>\n",
       "      <td>Zakhme dill dikhaye gey\\nHaal e gham sunaye ge...</td>\n",
       "      <td>3</td>\n",
       "      <td>Neutral</td>\n",
       "      <td>2</td>\n",
       "      <td>1</td>\n",
       "    </tr>\n",
       "    <tr>\n",
       "      <th>1</th>\n",
       "      <td>4731</td>\n",
       "      <td>Always reassuring to know that as an ace perso...</td>\n",
       "      <td>3</td>\n",
       "      <td>Neutral</td>\n",
       "      <td>2</td>\n",
       "      <td>1</td>\n",
       "    </tr>\n",
       "    <tr>\n",
       "      <th>2</th>\n",
       "      <td>3283</td>\n",
       "      <td>happy birthday to Rin Natsume, she’s a trans l...</td>\n",
       "      <td>1</td>\n",
       "      <td>Very_Positive</td>\n",
       "      <td>0</td>\n",
       "      <td>2</td>\n",
       "    </tr>\n",
       "    <tr>\n",
       "      <th>3</th>\n",
       "      <td>4991</td>\n",
       "      <td>William Gay in at free safety with the first-t...</td>\n",
       "      <td>3</td>\n",
       "      <td>Neutral</td>\n",
       "      <td>2</td>\n",
       "      <td>2</td>\n",
       "    </tr>\n",
       "    <tr>\n",
       "      <th>4</th>\n",
       "      <td>2146</td>\n",
       "      <td>seeing people say that being bi isn't real/doe...</td>\n",
       "      <td>3</td>\n",
       "      <td>Neutral</td>\n",
       "      <td>2</td>\n",
       "      <td>1</td>\n",
       "    </tr>\n",
       "  </tbody>\n",
       "</table>\n",
       "</div>"
      ],
      "text/plain": [
       "     id                                               Text  Label_Id  \\\n",
       "0  3370  Zakhme dill dikhaye gey\\nHaal e gham sunaye ge...         3   \n",
       "1  4731  Always reassuring to know that as an ace perso...         3   \n",
       "2  3283  happy birthday to Rin Natsume, she’s a trans l...         1   \n",
       "3  4991  William Gay in at free safety with the first-t...         3   \n",
       "4  2146  seeing people say that being bi isn't real/doe...         3   \n",
       "\n",
       "           Label  Label_Rev  Predicted_Label  \n",
       "0        Neutral          2                1  \n",
       "1        Neutral          2                1  \n",
       "2  Very_Positive          0                2  \n",
       "3        Neutral          2                2  \n",
       "4        Neutral          2                1  "
      ]
     },
     "execution_count": 37,
     "metadata": {},
     "output_type": "execute_result"
    }
   ],
   "source": [
    "df = pd.read_csv(\"HSP_Val_Data_with_Encoded_Label_Multi_3.0_with_predictions.csv\")\n",
    "df.head()"
   ]
  },
  {
   "cell_type": "code",
   "execution_count": 38,
   "id": "d48e5a93-284d-4936-8d36-b2c1b0a7dfb6",
   "metadata": {},
   "outputs": [
    {
     "data": {
      "image/png": "[encoded data removed]",
      "text/plain": [
       "<Figure size 600x400 with 2 Axes>"
      ]
     },
     "metadata": {},
     "output_type": "display_data"
    }
   ],
   "source": [
    "import pandas as pd\n",
    "import numpy as np\n",
    "import matplotlib.pyplot as plt\n",
    "import seaborn as sns\n",
    "from sklearn.metrics import confusion_matrix\n",
    "from sklearn.metrics import accuracy_score, classification_report\n",
    "\n",
    "# Load the CSV file containing text data\n",
    "df = pd.read_csv(\"HSP_Val_Data_with_Encoded_Label_Multi_3.0_with_predictions.csv\")\n",
    "\n",
    "label_mapping = {0: \"Very_Positive\", 1: \"Positive\", 2: \"Neutral\", 3: \"Negative\", 4: \"Very_Negative\"}\n",
    "\n",
    "# Generate the confusion matrix\n",
    "confusion = confusion_matrix(df[\"Label_Rev\"], df[\"Predicted_Label\"])\n",
    "\n",
    "# Create a heatmap of the confusion matrix with class labels\n",
    "plt.figure(figsize=(6, 4))\n",
    "sns.set(font_scale=1.2)\n",
    "ax = sns.heatmap(confusion, annot=True, fmt=\"d\", cmap=\"Blues\", xticklabels=label_mapping.values(), yticklabels=label_mapping.values(),\n",
    "                 linewidths=.5, linecolor='black', cbar_kws={'drawedges': True})  # Add cbar_kws parameter\n",
    "\n",
    "# Add explicit border lines\n",
    "ax.add_artist(plt.Line2D([0, len(label_mapping)], [len(label_mapping), len(label_mapping)], color='black', linewidth=2))\n",
    "ax.add_artist(plt.Line2D([len(label_mapping), len(label_mapping)], [0, len(label_mapping)], color='black', linewidth=2))\n",
    "\n",
    "plt.xlabel('Predicted Labels')\n",
    "plt.ylabel('True Labels')\n",
    "plt.title('Confusion Matrix')\n",
    "plt.show()"
   ]
  },
  {
   "cell_type": "code",
   "execution_count": 39,
   "id": "427adba4-2b1a-4f90-afd5-a4695c77b9ee",
   "metadata": {},
   "outputs": [
    {
     "name": "stdout",
     "output_type": "stream",
     "text": [
      "Classification Report:\n",
      "                precision    recall  f1-score   support\n",
      "\n",
      "Very_Positive       1.00      0.07      0.13        43\n",
      "     Positive       0.53      0.38      0.44       297\n",
      "      Neutral       0.56      0.87      0.68       462\n",
      "     Negative       0.00      0.00      0.00       123\n",
      "Very_Negative       0.00      0.00      0.00        13\n",
      "\n",
      "     accuracy                           0.55       938\n",
      "    macro avg       0.42      0.26      0.25       938\n",
      " weighted avg       0.49      0.55      0.48       938\n",
      "\n"
     ]
    },
    {
     "name": "stderr",
     "output_type": "stream",
     "text": [
      "/home/sunil/.local/lib/python3.8/site-packages/sklearn/metrics/_classification.py:1469: UndefinedMetricWarning: Precision and F-score are ill-defined and being set to 0.0 in labels with no predicted samples. Use `zero_division` parameter to control this behavior.\n",
      "  _warn_prf(average, modifier, msg_start, len(result))\n",
      "/home/sunil/.local/lib/python3.8/site-packages/sklearn/metrics/_classification.py:1469: UndefinedMetricWarning: Precision and F-score are ill-defined and being set to 0.0 in labels with no predicted samples. Use `zero_division` parameter to control this behavior.\n",
      "  _warn_prf(average, modifier, msg_start, len(result))\n",
      "/home/sunil/.local/lib/python3.8/site-packages/sklearn/metrics/_classification.py:1469: UndefinedMetricWarning: Precision and F-score are ill-defined and being set to 0.0 in labels with no predicted samples. Use `zero_division` parameter to control this behavior.\n",
      "  _warn_prf(average, modifier, msg_start, len(result))\n"
     ]
    }
   ],
   "source": [
    "# Generate the classification report\n",
    "classification_rep = classification_report(df[\"Label_Rev\"], df[\"Predicted_Label\"], target_names=list(label_mapping.values()))\n",
    "print(\"Classification Report:\\n\", classification_rep)"
   ]
  },
  {
   "cell_type": "markdown",
   "id": "b343ca03-d93f-4758-9610-e18aaf667f1d",
   "metadata": {},
   "source": [
    "## Evaluation of Test set"
   ]
  },
  {
   "cell_type": "code",
   "execution_count": 40,
   "id": "62f433f6-a780-4c81-b9a8-c99b364a0409",
   "metadata": {},
   "outputs": [
    {
     "name": "stdout",
     "output_type": "stream",
     "text": [
      "Predictions stored in new file: HSP_Test_Data_with_Encoded_Label_Multi_3.0_with_predictions.csv\n"
     ]
    }
   ],
   "source": [
    "import pandas as pd\n",
    "import torch\n",
    "from torch.nn.functional import softmax\n",
    "\n",
    "# Assuming tokenizer and model are already defined and loaded\n",
    "\n",
    "def prepare_input(text):\n",
    "    inputs = tokenizer(text, return_tensors=\"pt\", padding=True, truncation=True, max_length=512)\n",
    "    return inputs\n",
    "\n",
    "def predict(text):\n",
    "    model.eval()  # Ensure the model is in evaluation mode\n",
    "    inputs = prepare_input(text)\n",
    "    with torch.no_grad():  # No need to track gradients for inference\n",
    "        outputs = model(**inputs)\n",
    "        predictions = softmax(outputs.logits, dim=-1)\n",
    "    return predictions\n",
    "\n",
    "# Function to predict and store results in a new CSV\n",
    "def predict_and_store(csv_file_path):\n",
    "    # Load the CSV file\n",
    "    df = pd.read_csv(csv_file_path)\n",
    "    \n",
    "    # Ensure there's a column for predicted labels\n",
    "    df['Predicted_Label'] = None\n",
    "    \n",
    "    # Iterate over each row in the DataFrame and make predictions\n",
    "    for index, row in df.iterrows():\n",
    "        text = row['Text']\n",
    "        predictions = predict(text)\n",
    "        predicted_class_index = predictions.argmax(dim=1).item()\n",
    "        # Store the predicted class index in the DataFrame\n",
    "        df.at[index, 'Predicted_Label'] = predicted_class_index\n",
    "    \n",
    "    # Define the name for the new CSV file that will contain the predictions\n",
    "    predicted_csv_file_path = csv_file_path.replace('.csv', '_with_predictions.csv')\n",
    "    \n",
    "    # Save the modified DataFrame to the new CSV file\n",
    "    df.to_csv(predicted_csv_file_path, index=False)\n",
    "    \n",
    "    # Log the creation of the new file with predictions\n",
    "    print(f\"Predictions stored in new file: {predicted_csv_file_path}\")\n",
    "\n",
    "# Example usage with your specific CSV file\n",
    "csv_file_path = 'HSP_Test_Data_with_Encoded_Label_Multi_3.0.csv'\n",
    "predict_and_store(csv_file_path)"
   ]
  },
  {
   "cell_type": "code",
   "execution_count": 41,
   "id": "64dc82ec-e93f-431f-9503-5d58b999712e",
   "metadata": {},
   "outputs": [
    {
     "data": {
      "image/png": "[encoded data removed]",
      "text/plain": [
       "<Figure size 600x400 with 2 Axes>"
      ]
     },
     "metadata": {},
     "output_type": "display_data"
    }
   ],
   "source": [
    "import pandas as pd\n",
    "import numpy as np\n",
    "import matplotlib.pyplot as plt\n",
    "import seaborn as sns\n",
    "from sklearn.metrics import confusion_matrix\n",
    "from sklearn.metrics import accuracy_score, classification_report\n",
    "\n",
    "# Load the CSV file containing text data\n",
    "df = pd.read_csv(\"HSP_Test_Data_with_Encoded_Label_Multi_3.0_with_predictions.csv\")\n",
    "\n",
    "label_mapping = {0: \"Very_Positive\", 1: \"Positive\", 2: \"Neutral\", 3: \"Negative\", 4: \"Very_Negative\"}\n",
    "\n",
    "# Generate the confusion matrix\n",
    "confusion = confusion_matrix(df[\"Label_Rev\"], df[\"Predicted_Label\"])\n",
    "\n",
    "# Create a heatmap of the confusion matrix with class labels\n",
    "plt.figure(figsize=(6, 4))\n",
    "sns.set(font_scale=1.2)\n",
    "ax = sns.heatmap(confusion, annot=True, fmt=\"d\", cmap=\"Blues\", xticklabels=label_mapping.values(), yticklabels=label_mapping.values(),\n",
    "                 linewidths=.5, linecolor='black', cbar_kws={'drawedges': True})  # Add cbar_kws parameter\n",
    "\n",
    "# Add explicit border lines\n",
    "ax.add_artist(plt.Line2D([0, len(label_mapping)], [len(label_mapping), len(label_mapping)], color='black', linewidth=2))\n",
    "ax.add_artist(plt.Line2D([len(label_mapping), len(label_mapping)], [0, len(label_mapping)], color='black', linewidth=2))\n",
    "\n",
    "plt.xlabel('Predicted Labels')\n",
    "plt.ylabel('True Labels')\n",
    "plt.title('Confusion Matrix')\n",
    "plt.show()"
   ]
  },
  {
   "cell_type": "code",
   "execution_count": 42,
   "id": "9d182038-f2cf-45cb-94d8-111af40c947f",
   "metadata": {},
   "outputs": [
    {
     "name": "stdout",
     "output_type": "stream",
     "text": [
      "Classification Report:\n",
      "                precision    recall  f1-score   support\n",
      "\n",
      "Very_Positive       1.00      0.05      0.09        43\n",
      "     Positive       0.56      0.37      0.44       297\n",
      "      Neutral       0.55      0.88      0.67       462\n",
      "     Negative       0.00      0.00      0.00       122\n",
      "Very_Negative       0.00      0.00      0.00        14\n",
      "\n",
      "     accuracy                           0.55       938\n",
      "    macro avg       0.42      0.26      0.24       938\n",
      " weighted avg       0.49      0.55      0.48       938\n",
      "\n"
     ]
    },
    {
     "name": "stderr",
     "output_type": "stream",
     "text": [
      "/home/sunil/.local/lib/python3.8/site-packages/sklearn/metrics/_classification.py:1469: UndefinedMetricWarning: Precision and F-score are ill-defined and being set to 0.0 in labels with no predicted samples. Use `zero_division` parameter to control this behavior.\n",
      "  _warn_prf(average, modifier, msg_start, len(result))\n",
      "/home/sunil/.local/lib/python3.8/site-packages/sklearn/metrics/_classification.py:1469: UndefinedMetricWarning: Precision and F-score are ill-defined and being set to 0.0 in labels with no predicted samples. Use `zero_division` parameter to control this behavior.\n",
      "  _warn_prf(average, modifier, msg_start, len(result))\n",
      "/home/sunil/.local/lib/python3.8/site-packages/sklearn/metrics/_classification.py:1469: UndefinedMetricWarning: Precision and F-score are ill-defined and being set to 0.0 in labels with no predicted samples. Use `zero_division` parameter to control this behavior.\n",
      "  _warn_prf(average, modifier, msg_start, len(result))\n"
     ]
    }
   ],
   "source": [
    "# Generate the classification report\n",
    "classification_rep = classification_report(df[\"Label_Rev\"], df[\"Predicted_Label\"], target_names=list(label_mapping.values()))\n",
    "print(\"Classification Report:\\n\", classification_rep)"
   ]
  },
  {
   "cell_type": "markdown",
   "id": "da420266-a77f-41be-a0b0-8ec21d51b03b",
   "metadata": {},
   "source": [
    "### General Inferencing"
   ]
  },
  {
   "cell_type": "code",
   "execution_count": 43,
   "id": "25b69073-b875-4697-9aa1-158d9389958d",
   "metadata": {},
   "outputs": [
    {
     "name": "stdout",
     "output_type": "stream",
     "text": [
      "Predicted class index: 2\n"
     ]
    }
   ],
   "source": [
    "import torch\n",
    "from torch.nn.functional import softmax\n",
    "\n",
    "def prepare_input(text):\n",
    "    inputs = tokenizer(text, return_tensors=\"pt\", padding=True, truncation=True, max_length=512)\n",
    "    return inputs\n",
    "\n",
    "def predict(text):\n",
    "    model.eval()  # Ensure the model is in evaluation mode\n",
    "    inputs = prepare_input(text)\n",
    "    with torch.no_grad():  # No need to track gradients for inference\n",
    "        outputs = model(**inputs)\n",
    "        predictions = softmax(outputs.logits, dim=-1)\n",
    "    return predictions\n",
    "\n",
    "# Example usage\n",
    "text = \"India is My Country\"\n",
    "predictions = predict(text)\n",
    "predicted_class_index = predictions.argmax(dim=1).item()\n",
    "print(f\"Predicted class index: {predicted_class_index}\")"
   ]
  },
  {
   "cell_type": "code",
   "execution_count": 44,
   "id": "0dd98bba-f236-43e5-a59c-6fe602bb372b",
   "metadata": {},
   "outputs": [
    {
     "name": "stdout",
     "output_type": "stream",
     "text": [
      "Predicted class index: 2\n"
     ]
    }
   ],
   "source": [
    "import torch\n",
    "from torch.nn.functional import softmax\n",
    "\n",
    "def prepare_input(text):\n",
    "    inputs = tokenizer(text, return_tensors=\"pt\", padding=True, truncation=True, max_length=512)\n",
    "    return inputs\n",
    "\n",
    "def predict(text):\n",
    "    model.eval()  # Ensure the model is in evaluation mode\n",
    "    inputs = prepare_input(text)\n",
    "    with torch.no_grad():  # No need to track gradients for inference\n",
    "        outputs = model(**inputs)\n",
    "        predictions = softmax(outputs.logits, dim=-1)\n",
    "    return predictions\n",
    "\n",
    "# Example usage\n",
    "text = \"I hate you, You are worst gay.\"\n",
    "predictions = predict(text)\n",
    "predicted_class_index = predictions.argmax(dim=1).item()\n",
    "print(f\"Predicted class index: {predicted_class_index}\")"
   ]
  },
  {
   "cell_type": "code",
   "execution_count": 45,
   "id": "0300d7a4-de5f-468f-a82f-4ee30896678f",
   "metadata": {},
   "outputs": [
    {
     "name": "stdout",
     "output_type": "stream",
     "text": [
      "Predicted class index: 1\n"
     ]
    }
   ],
   "source": [
    "import torch\n",
    "from torch.nn.functional import softmax\n",
    "\n",
    "def prepare_input(text):\n",
    "    inputs = tokenizer(text, return_tensors=\"pt\", padding=True, truncation=True, max_length=512)\n",
    "    return inputs\n",
    "\n",
    "def predict(text):\n",
    "    model.eval()  # Ensure the model is in evaluation mode\n",
    "    inputs = prepare_input(text)\n",
    "    with torch.no_grad():  # No need to track gradients for inference\n",
    "        outputs = model(**inputs)\n",
    "        predictions = softmax(outputs.logits, dim=-1)\n",
    "    return predictions\n",
    "\n",
    "# Example usage\n",
    "text = \"LGBTQ+ people are also human, Give respect to save humanity.\"\n",
    "predictions = predict(text)\n",
    "predicted_class_index = predictions.argmax(dim=1).item()\n",
    "print(f\"Predicted class index: {predicted_class_index}\")"
   ]
  },
  {
   "cell_type": "code",
   "execution_count": 46,
   "id": "0c02074a-7644-483b-92fb-b2323131230e",
   "metadata": {},
   "outputs": [
    {
     "name": "stderr",
     "output_type": "stream",
     "text": [
      "huggingface/tokenizers: The current process just got forked, after parallelism has already been used. Disabling parallelism to avoid deadlocks...\n",
      "To disable this warning, you can either:\n",
      "\t- Avoid using `tokenizers` before the fork if possible\n",
      "\t- Explicitly set the environment variable TOKENIZERS_PARALLELISM=(true | false)\n"
     ]
    },
    {
     "name": "stdout",
     "output_type": "stream",
     "text": [
      "Sat May 25 02:34:27 2024       \n",
      "+---------------------------------------------------------------------------------------+\n",
      "| NVIDIA-SMI 535.171.04             Driver Version: 535.171.04   CUDA Version: 12.2     |\n",
      "|-----------------------------------------+----------------------+----------------------+\n",
      "| GPU  Name                 Persistence-M | Bus-Id        Disp.A | Volatile Uncorr. ECC |\n",
      "| Fan  Temp   Perf          Pwr:Usage/Cap |         Memory-Usage | GPU-Util  Compute M. |\n",
      "|                                         |                      |               MIG M. |\n",
      "|=========================================+======================+======================|\n",
      "|   0  NVIDIA A100 80GB PCIe          Off | 00000000:21:00.0 Off |                    0 |\n",
      "| N/A   38C    P0              69W / 300W |  61388MiB / 81920MiB |      0%      Default |\n",
      "|                                         |                      |             Disabled |\n",
      "+-----------------------------------------+----------------------+----------------------+\n",
      "|   1  NVIDIA A100 80GB PCIe          Off | 00000000:81:00.0 Off |                    0 |\n",
      "| N/A   64C    P0             280W / 300W |  60428MiB / 81920MiB |    100%      Default |\n",
      "|                                         |                      |             Disabled |\n",
      "+-----------------------------------------+----------------------+----------------------+\n",
      "                                                                                         \n",
      "+---------------------------------------------------------------------------------------+\n",
      "| Processes:                                                                            |\n",
      "|  GPU   GI   CI        PID   Type   Process name                            GPU Memory |\n",
      "|        ID   ID                                                             Usage      |\n",
      "|=======================================================================================|\n",
      "|    0   N/A  N/A   1269395      C   /usr/bin/python3                          29630MiB |\n",
      "|    0   N/A  N/A   1284314      C   /usr/bin/python3                           2192MiB |\n",
      "|    0   N/A  N/A   3004886      C   /usr/bin/python3                          29546MiB |\n",
      "|    1   N/A  N/A   1862690      C   python                                    30204MiB |\n",
      "|    1   N/A  N/A   4181436      C   python                                    30210MiB |\n",
      "+---------------------------------------------------------------------------------------+\n"
     ]
    }
   ],
   "source": [
    "!nvidia-smi"
   ]
  },
  {
   "cell_type": "code",
   "execution_count": null,
   "id": "35225dfd-aef6-42f9-b1a1-51029e750da8",
   "metadata": {},
   "outputs": [],
   "source": []
  }
 ],
 "metadata": {
  "kernelspec": {
   "display_name": "Python 3 (ipykernel)",
   "language": "python",
   "name": "python3"
  },
  "language_info": {
   "codemirror_mode": {
    "name": "ipython",
    "version": 3
   },
   "file_extension": ".py",
   "mimetype": "text/x-python",
   "name": "python",
   "nbconvert_exporter": "python",
   "pygments_lexer": "ipython3",
   "version": "3.8.10"
  },
  "widgets": {
   "application/vnd.jupyter.widget-state+json": {
    "state": {
     "0f982fa406f944059f0969571d195428": {
      "model_module": "@jupyter-widgets/base",
      "model_module_version": "2.0.0",
      "model_name": "LayoutModel",
      "state": {}
     },
     "2fa6ed8586ce4f0a91b5e15b72da40b7": {
      "model_module": "@jupyter-widgets/controls",
      "model_module_version": "2.0.0",
      "model_name": "LabelModel",
      "state": {
       "layout": "IPY_MODEL_f62159e541e04877806bff2c28169deb",
       "style": "IPY_MODEL_53e178a0bc1645189d664f5ebaf9801d"
      }
     },
     "354d5311a0a044968a0bd5556c716838": {
      "model_module": "@jupyter-widgets/base",
      "model_module_version": "2.0.0",
      "model_name": "LayoutModel",
      "state": {}
     },
     "4b2135692c0c4035b222ea127b7071aa": {
      "model_module": "@jupyter-widgets/controls",
      "model_module_version": "2.0.0",
      "model_name": "LabelStyleModel",
      "state": {
       "description_width": "",
       "font_family": null,
       "font_size": null,
       "font_style": null,
       "font_variant": null,
       "font_weight": null,
       "text_color": null,
       "text_decoration": null
      }
     },
     "53e178a0bc1645189d664f5ebaf9801d": {
      "model_module": "@jupyter-widgets/controls",
      "model_module_version": "2.0.0",
      "model_name": "LabelStyleModel",
      "state": {
       "description_width": "",
       "font_family": null,
       "font_size": null,
       "font_style": null,
       "font_variant": null,
       "font_weight": null,
       "text_color": null,
       "text_decoration": null
      }
     },
     "55f4568d48b845f78571b754c9c7fdf2": {
      "model_module": "@jupyter-widgets/controls",
      "model_module_version": "2.0.0",
      "model_name": "FloatProgressModel",
      "state": {
       "layout": "IPY_MODEL_354d5311a0a044968a0bd5556c716838",
       "max": 1,
       "style": "IPY_MODEL_69122b1342a04ed4928bdc1aa3b6144a"
      }
     },
     "58c63db4faa445a2a613370cea2a28f9": {
      "model_module": "@jupyter-widgets/controls",
      "model_module_version": "2.0.0",
      "model_name": "FloatProgressModel",
      "state": {
       "layout": "IPY_MODEL_6463641b105c41a285dcf93b6da3436a",
       "max": 1,
       "style": "IPY_MODEL_655a95a208d647d79c557782176e831e",
       "value": 1
      }
     },
     "6463641b105c41a285dcf93b6da3436a": {
      "model_module": "@jupyter-widgets/base",
      "model_module_version": "2.0.0",
      "model_name": "LayoutModel",
      "state": {}
     },
     "655a95a208d647d79c557782176e831e": {
      "model_module": "@jupyter-widgets/controls",
      "model_module_version": "2.0.0",
      "model_name": "ProgressStyleModel",
      "state": {
       "description_width": ""
      }
     },
     "69122b1342a04ed4928bdc1aa3b6144a": {
      "model_module": "@jupyter-widgets/controls",
      "model_module_version": "2.0.0",
      "model_name": "ProgressStyleModel",
      "state": {
       "description_width": ""
      }
     },
     "c85db055184f46b5a26d1245d65320d4": {
      "model_module": "@jupyter-widgets/controls",
      "model_module_version": "2.0.0",
      "model_name": "VBoxModel",
      "state": {
       "children": [
        "IPY_MODEL_2fa6ed8586ce4f0a91b5e15b72da40b7",
        "IPY_MODEL_55f4568d48b845f78571b754c9c7fdf2"
       ],
       "layout": "IPY_MODEL_c8c270a5a0cb4e12be201cd6c303dd99"
      }
     },
     "c8c270a5a0cb4e12be201cd6c303dd99": {
      "model_module": "@jupyter-widgets/base",
      "model_module_version": "2.0.0",
      "model_name": "LayoutModel",
      "state": {}
     },
     "c967c00c096140c0996c6ed79ba67f4e": {
      "model_module": "@jupyter-widgets/base",
      "model_module_version": "2.0.0",
      "model_name": "LayoutModel",
      "state": {}
     },
     "ccf46b545439443ab289cdf2ca75e8d5": {
      "model_module": "@jupyter-widgets/controls",
      "model_module_version": "2.0.0",
      "model_name": "LabelModel",
      "state": {
       "layout": "IPY_MODEL_0f982fa406f944059f0969571d195428",
       "style": "IPY_MODEL_4b2135692c0c4035b222ea127b7071aa",
       "value": "Waiting for wandb.init()...\r"
      }
     },
     "e83c2cd5dca346e1ac9ec7d62b662641": {
      "model_module": "@jupyter-widgets/controls",
      "model_module_version": "2.0.0",
      "model_name": "VBoxModel",
      "state": {
       "children": [
        "IPY_MODEL_ccf46b545439443ab289cdf2ca75e8d5",
        "IPY_MODEL_58c63db4faa445a2a613370cea2a28f9"
       ],
       "layout": "IPY_MODEL_c967c00c096140c0996c6ed79ba67f4e"
      }
     },
     "f62159e541e04877806bff2c28169deb": {
      "model_module": "@jupyter-widgets/base",
      "model_module_version": "2.0.0",
      "model_name": "LayoutModel",
      "state": {}
     }
    },
    "version_major": 2,
    "version_minor": 0
   }
  }
 },
 "nbformat": 4,
 "nbformat_minor": 5
}
